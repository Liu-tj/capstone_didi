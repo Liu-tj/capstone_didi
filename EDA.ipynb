{
 "cells": [
  {
   "cell_type": "code",
   "execution_count": 1,
   "metadata": {},
   "outputs": [],
   "source": [
    "from loader1 import *\n",
    "from utils import *\n",
    "\n",
    "import warnings\n",
    "warnings.filterwarnings('ignore')"
   ]
  },
  {
   "cell_type": "code",
   "execution_count": 3,
   "metadata": {},
   "outputs": [
    {
     "name": "stdout",
     "output_type": "stream",
     "text": [
      "Some files already exist in your CACHE_DIR. If you still want to run this function,              run with override=True\n"
     ]
    }
   ],
   "source": [
    "_ = load_all()"
   ]
  },
  {
   "cell_type": "code",
   "execution_count": 4,
   "metadata": {
    "scrolled": false
   },
   "outputs": [],
   "source": [
    "gps = read_data('gps')\n",
    "orders = read_data('order')"
   ]
  },
  {
   "cell_type": "code",
   "execution_count": 5,
   "metadata": {
    "scrolled": true
   },
   "outputs": [
    {
     "data": {
      "text/plain": [
       "((32155517, 5), (209423, 7))"
      ]
     },
     "execution_count": 5,
     "metadata": {},
     "output_type": "execute_result"
    }
   ],
   "source": [
    "gps.shape, orders.shape"
   ]
  },
  {
   "cell_type": "code",
   "execution_count": 6,
   "metadata": {},
   "outputs": [],
   "source": [
    "# Run util functions\n",
    "orders = convert_unix_ts(orders, timecols=['ride_start_timestamp', 'ride_stop_timestamp'])\n",
    "orders = ride_duration(orders)"
   ]
  },
  {
   "cell_type": "code",
   "execution_count": 10,
   "metadata": {
    "scrolled": true
   },
   "outputs": [],
   "source": [
    "# Add driverid in orders column\n",
    "drivers = gps[['driver_id', 'order_id']].drop_duplicates()\n",
    "orders = orders.merge(drivers, on='order_id', how='left')"
   ]
  },
  {
   "cell_type": "code",
   "execution_count": 11,
   "metadata": {},
   "outputs": [
    {
     "data": {
      "text/plain": [
       "(209423, 9)"
      ]
     },
     "execution_count": 11,
     "metadata": {},
     "output_type": "execute_result"
    }
   ],
   "source": [
    "orders.shape"
   ]
  },
  {
   "cell_type": "code",
   "execution_count": 26,
   "metadata": {},
   "outputs": [
    {
     "data": {
      "text/html": [
       "<div>\n",
       "<style scoped>\n",
       "    .dataframe tbody tr th:only-of-type {\n",
       "        vertical-align: middle;\n",
       "    }\n",
       "\n",
       "    .dataframe tbody tr th {\n",
       "        vertical-align: top;\n",
       "    }\n",
       "\n",
       "    .dataframe thead th {\n",
       "        text-align: right;\n",
       "    }\n",
       "</style>\n",
       "<table border=\"1\" class=\"dataframe\">\n",
       "  <thead>\n",
       "    <tr style=\"text-align: right;\">\n",
       "      <th></th>\n",
       "      <th>order_id</th>\n",
       "      <th>ride_start_timestamp</th>\n",
       "      <th>ride_stop_timestamp</th>\n",
       "      <th>pickup_longitude</th>\n",
       "      <th>pickup_latitude</th>\n",
       "      <th>dropoff_longitude</th>\n",
       "      <th>dropoff_latitude</th>\n",
       "      <th>ride_duration</th>\n",
       "      <th>driver_id</th>\n",
       "    </tr>\n",
       "  </thead>\n",
       "  <tbody>\n",
       "    <tr>\n",
       "      <td>0</td>\n",
       "      <td>eb9dd4095d9850e6287cefd813775a6c</td>\n",
       "      <td>2016-11-01 01:46:37</td>\n",
       "      <td>2016-11-01 02:15:07</td>\n",
       "      <td>104.094640</td>\n",
       "      <td>30.703971</td>\n",
       "      <td>104.089270</td>\n",
       "      <td>30.650850</td>\n",
       "      <td>28.500000</td>\n",
       "      <td>0373c98625e6d8e1fc56a4d61318138c</td>\n",
       "    </tr>\n",
       "    <tr>\n",
       "      <td>1</td>\n",
       "      <td>387a742fa5a3fbe4a1f215ac58ea33a8</td>\n",
       "      <td>2016-11-01 07:33:05</td>\n",
       "      <td>2016-11-01 08:07:55</td>\n",
       "      <td>104.076509</td>\n",
       "      <td>30.767430</td>\n",
       "      <td>104.063700</td>\n",
       "      <td>30.589510</td>\n",
       "      <td>34.833333</td>\n",
       "      <td>0373c98625e6d8e1fc56a4d61318138c</td>\n",
       "    </tr>\n",
       "    <tr>\n",
       "      <td>2</td>\n",
       "      <td>9cf55f8e6e02a1e0f792df06e5d85011</td>\n",
       "      <td>2016-11-01 12:55:52</td>\n",
       "      <td>2016-11-01 13:16:57</td>\n",
       "      <td>104.019699</td>\n",
       "      <td>30.689007</td>\n",
       "      <td>104.105324</td>\n",
       "      <td>30.663950</td>\n",
       "      <td>21.083333</td>\n",
       "      <td>0373c98625e6d8e1fc56a4d61318138c</td>\n",
       "    </tr>\n",
       "    <tr>\n",
       "      <td>3</td>\n",
       "      <td>5feeae0307e15203484b9ffceef89855</td>\n",
       "      <td>2016-11-01 08:44:00</td>\n",
       "      <td>2016-11-01 09:04:25</td>\n",
       "      <td>104.036090</td>\n",
       "      <td>30.622690</td>\n",
       "      <td>104.043860</td>\n",
       "      <td>30.682320</td>\n",
       "      <td>20.416667</td>\n",
       "      <td>0373c98625e6d8e1fc56a4d61318138c</td>\n",
       "    </tr>\n",
       "    <tr>\n",
       "      <td>4</td>\n",
       "      <td>ad4b52cb15b90c44c8f20a8b1e57a622</td>\n",
       "      <td>2016-10-31 23:53:25</td>\n",
       "      <td>2016-11-01 00:02:57</td>\n",
       "      <td>104.115997</td>\n",
       "      <td>30.652313</td>\n",
       "      <td>104.104421</td>\n",
       "      <td>30.695113</td>\n",
       "      <td>9.533333</td>\n",
       "      <td>0373c98625e6d8e1fc56a4d61318138c</td>\n",
       "    </tr>\n",
       "  </tbody>\n",
       "</table>\n",
       "</div>"
      ],
      "text/plain": [
       "                           order_id ride_start_timestamp ride_stop_timestamp  \\\n",
       "0  eb9dd4095d9850e6287cefd813775a6c  2016-11-01 01:46:37 2016-11-01 02:15:07   \n",
       "1  387a742fa5a3fbe4a1f215ac58ea33a8  2016-11-01 07:33:05 2016-11-01 08:07:55   \n",
       "2  9cf55f8e6e02a1e0f792df06e5d85011  2016-11-01 12:55:52 2016-11-01 13:16:57   \n",
       "3  5feeae0307e15203484b9ffceef89855  2016-11-01 08:44:00 2016-11-01 09:04:25   \n",
       "4  ad4b52cb15b90c44c8f20a8b1e57a622  2016-10-31 23:53:25 2016-11-01 00:02:57   \n",
       "\n",
       "   pickup_longitude  pickup_latitude  dropoff_longitude  dropoff_latitude  \\\n",
       "0        104.094640        30.703971         104.089270         30.650850   \n",
       "1        104.076509        30.767430         104.063700         30.589510   \n",
       "2        104.019699        30.689007         104.105324         30.663950   \n",
       "3        104.036090        30.622690         104.043860         30.682320   \n",
       "4        104.115997        30.652313         104.104421         30.695113   \n",
       "\n",
       "   ride_duration                         driver_id  \n",
       "0      28.500000  0373c98625e6d8e1fc56a4d61318138c  \n",
       "1      34.833333  0373c98625e6d8e1fc56a4d61318138c  \n",
       "2      21.083333  0373c98625e6d8e1fc56a4d61318138c  \n",
       "3      20.416667  0373c98625e6d8e1fc56a4d61318138c  \n",
       "4       9.533333  0373c98625e6d8e1fc56a4d61318138c  "
      ]
     },
     "execution_count": 26,
     "metadata": {},
     "output_type": "execute_result"
    }
   ],
   "source": [
    "orders.head()"
   ]
  },
  {
   "cell_type": "code",
   "execution_count": 15,
   "metadata": {
    "scrolled": true
   },
   "outputs": [
    {
     "data": {
      "text/html": [
       "<div>\n",
       "<style scoped>\n",
       "    .dataframe tbody tr th:only-of-type {\n",
       "        vertical-align: middle;\n",
       "    }\n",
       "\n",
       "    .dataframe tbody tr th {\n",
       "        vertical-align: top;\n",
       "    }\n",
       "\n",
       "    .dataframe thead th {\n",
       "        text-align: right;\n",
       "    }\n",
       "</style>\n",
       "<table border=\"1\" class=\"dataframe\">\n",
       "  <thead>\n",
       "    <tr style=\"text-align: right;\">\n",
       "      <th></th>\n",
       "      <th>driver_id</th>\n",
       "      <th>ride_duration</th>\n",
       "    </tr>\n",
       "  </thead>\n",
       "  <tbody>\n",
       "    <tr>\n",
       "      <td>0</td>\n",
       "      <td>0000131d486b69eb77ab6e9e7cca9f4c</td>\n",
       "      <td>118.966667</td>\n",
       "    </tr>\n",
       "    <tr>\n",
       "      <td>1</td>\n",
       "      <td>000211a97ba2b768ef941593bf1ae1a5</td>\n",
       "      <td>214.900000</td>\n",
       "    </tr>\n",
       "    <tr>\n",
       "      <td>2</td>\n",
       "      <td>000770ada4aa5d856b5a766fb6bf7cf1</td>\n",
       "      <td>87.900000</td>\n",
       "    </tr>\n",
       "    <tr>\n",
       "      <td>3</td>\n",
       "      <td>0007a380800445346fff19afc4071ce3</td>\n",
       "      <td>23.650000</td>\n",
       "    </tr>\n",
       "    <tr>\n",
       "      <td>4</td>\n",
       "      <td>0008c9d2ac91c00ef8b3ef80eba02a06</td>\n",
       "      <td>155.566667</td>\n",
       "    </tr>\n",
       "    <tr>\n",
       "      <td>...</td>\n",
       "      <td>...</td>\n",
       "      <td>...</td>\n",
       "    </tr>\n",
       "    <tr>\n",
       "      <td>35444</td>\n",
       "      <td>fffae1d5a2ca206c5e2c014287c63960</td>\n",
       "      <td>168.800000</td>\n",
       "    </tr>\n",
       "    <tr>\n",
       "      <td>35445</td>\n",
       "      <td>fffb1afe11b2cfd5336b222cdee022eb</td>\n",
       "      <td>122.416667</td>\n",
       "    </tr>\n",
       "    <tr>\n",
       "      <td>35446</td>\n",
       "      <td>fffc3f877cce16e491f68d69a2163998</td>\n",
       "      <td>30.483333</td>\n",
       "    </tr>\n",
       "    <tr>\n",
       "      <td>35447</td>\n",
       "      <td>fffd264654f1acaa393d36d8fb4d9795</td>\n",
       "      <td>447.000000</td>\n",
       "    </tr>\n",
       "    <tr>\n",
       "      <td>35448</td>\n",
       "      <td>ffffcac4300c1b86283d1f96054e070d</td>\n",
       "      <td>291.750000</td>\n",
       "    </tr>\n",
       "  </tbody>\n",
       "</table>\n",
       "<p>35449 rows × 2 columns</p>\n",
       "</div>"
      ],
      "text/plain": [
       "                              driver_id  ride_duration\n",
       "0      0000131d486b69eb77ab6e9e7cca9f4c     118.966667\n",
       "1      000211a97ba2b768ef941593bf1ae1a5     214.900000\n",
       "2      000770ada4aa5d856b5a766fb6bf7cf1      87.900000\n",
       "3      0007a380800445346fff19afc4071ce3      23.650000\n",
       "4      0008c9d2ac91c00ef8b3ef80eba02a06     155.566667\n",
       "...                                 ...            ...\n",
       "35444  fffae1d5a2ca206c5e2c014287c63960     168.800000\n",
       "35445  fffb1afe11b2cfd5336b222cdee022eb     122.416667\n",
       "35446  fffc3f877cce16e491f68d69a2163998      30.483333\n",
       "35447  fffd264654f1acaa393d36d8fb4d9795     447.000000\n",
       "35448  ffffcac4300c1b86283d1f96054e070d     291.750000\n",
       "\n",
       "[35449 rows x 2 columns]"
      ]
     },
     "execution_count": 15,
     "metadata": {},
     "output_type": "execute_result"
    }
   ],
   "source": [
    "orders.groupby('driver_id')[['ride_duration']].sum().reset_index()"
   ]
  },
  {
   "cell_type": "code",
   "execution_count": 24,
   "metadata": {},
   "outputs": [
    {
     "data": {
      "text/plain": [
       "44"
      ]
     },
     "execution_count": 24,
     "metadata": {},
     "output_type": "execute_result"
    }
   ],
   "source": [
    "orders.ride_start_timestamp[4].week"
   ]
  },
  {
   "cell_type": "code",
   "execution_count": null,
   "metadata": {},
   "outputs": [],
   "source": []
  }
 ],
 "metadata": {
  "kernelspec": {
   "display_name": "Python 3",
   "language": "python",
   "name": "python3"
  },
  "language_info": {
   "codemirror_mode": {
    "name": "ipython",
    "version": 3
   },
   "file_extension": ".py",
   "mimetype": "text/x-python",
   "name": "python",
   "nbconvert_exporter": "python",
   "pygments_lexer": "ipython3",
   "version": "3.6.8"
  }
 },
 "nbformat": 4,
 "nbformat_minor": 2
}
