{
 "cells": [
  {
   "cell_type": "code",
   "execution_count": 229,
   "metadata": {},
   "outputs": [],
   "source": [
    "from loader1 import *\n",
    "from utils import *\n",
    "import numpy as np\n",
    "import warnings\n",
    "warnings.filterwarnings('ignore')"
   ]
  },
  {
   "cell_type": "code",
   "execution_count": 2,
   "metadata": {},
   "outputs": [
    {
     "name": "stdout",
     "output_type": "stream",
     "text": [
      "Some files already exist in your CACHE_DIR. If you still want to run this function,              run with override=True\n"
     ]
    }
   ],
   "source": [
    "_ = load_all()"
   ]
  },
  {
   "cell_type": "code",
   "execution_count": 115,
   "metadata": {
    "scrolled": false
   },
   "outputs": [],
   "source": [
    "gps = read_data('gps')\n",
    "orders = read_data('order')"
   ]
  },
  {
   "cell_type": "code",
   "execution_count": 116,
   "metadata": {
    "scrolled": true
   },
   "outputs": [
    {
     "data": {
      "text/plain": [
       "((32155517, 5), (209423, 7))"
      ]
     },
     "execution_count": 116,
     "metadata": {},
     "output_type": "execute_result"
    }
   ],
   "source": [
    "gps.shape, orders.shape"
   ]
  },
  {
   "cell_type": "code",
   "execution_count": 117,
   "metadata": {},
   "outputs": [],
   "source": [
    "# dropping duplicates\n",
    "orders = orders.drop_duplicates()\n",
    "gps = gps.drop_duplicates()"
   ]
  },
  {
   "cell_type": "code",
   "execution_count": 220,
   "metadata": {},
   "outputs": [
    {
     "data": {
      "text/plain": [
       "(181172, 9)"
      ]
     },
     "execution_count": 220,
     "metadata": {},
     "output_type": "execute_result"
    }
   ],
   "source": [
    "orders.shape"
   ]
  },
  {
   "cell_type": "code",
   "execution_count": 118,
   "metadata": {
    "scrolled": true
   },
   "outputs": [],
   "source": [
    "# Run util functions\n",
    "gps = convert_unix_ts(gps, timecols=['timestamp'])\n",
    "orders = convert_unix_ts(orders, timecols=['ride_start_timestamp', 'ride_stop_timestamp'])\n",
    "orders = ride_duration(orders)"
   ]
  },
  {
   "cell_type": "code",
   "execution_count": 119,
   "metadata": {
    "scrolled": true
   },
   "outputs": [],
   "source": [
    "# Add driverid in orders column\n",
    "drivers = gps[['driver_id', 'order_id']].drop_duplicates()\n",
    "orders = orders.merge(drivers, on='order_id', how='left')"
   ]
  },
  {
   "cell_type": "code",
   "execution_count": 120,
   "metadata": {},
   "outputs": [],
   "source": [
    "driver_start_times = orders.loc[:, ['driver_id', 'ride_start_timestamp', 'ride_stop_timestamp', 'order_id']].drop_duplicates()"
   ]
  },
  {
   "cell_type": "code",
   "execution_count": 121,
   "metadata": {},
   "outputs": [],
   "source": [
    "driver_start_times.sort_values(['driver_id', 'ride_start_timestamp'], inplace=True)"
   ]
  },
  {
   "cell_type": "code",
   "execution_count": 122,
   "metadata": {},
   "outputs": [],
   "source": [
    "driver_start_times['stop_time_shifted'] = driver_start_times.groupby('driver_id')['ride_stop_timestamp'].shift(1)"
   ]
  },
  {
   "cell_type": "code",
   "execution_count": 123,
   "metadata": {},
   "outputs": [],
   "source": [
    "driver_start_times['diff'] = driver_start_times['ride_start_timestamp'] - driver_start_times['stop_time_shifted']"
   ]
  },
  {
   "cell_type": "code",
   "execution_count": 124,
   "metadata": {},
   "outputs": [],
   "source": [
    "# Rows where difference is negative indicating that there is an overlap \n",
    "\n",
    "negative_difference_rows = driver_start_times[driver_start_times['stop_time_shifted'] > driver_start_times['ride_start_timestamp']].dropna()"
   ]
  },
  {
   "cell_type": "code",
   "execution_count": 125,
   "metadata": {},
   "outputs": [
    {
     "data": {
      "text/plain": [
       "(6047, 6)"
      ]
     },
     "execution_count": 125,
     "metadata": {},
     "output_type": "execute_result"
    }
   ],
   "source": [
    "negative_difference_rows.shape"
   ]
  },
  {
   "cell_type": "code",
   "execution_count": 126,
   "metadata": {},
   "outputs": [
    {
     "data": {
      "text/html": [
       "<div>\n",
       "<style scoped>\n",
       "    .dataframe tbody tr th:only-of-type {\n",
       "        vertical-align: middle;\n",
       "    }\n",
       "\n",
       "    .dataframe tbody tr th {\n",
       "        vertical-align: top;\n",
       "    }\n",
       "\n",
       "    .dataframe thead th {\n",
       "        text-align: right;\n",
       "    }\n",
       "</style>\n",
       "<table border=\"1\" class=\"dataframe\">\n",
       "  <thead>\n",
       "    <tr style=\"text-align: right;\">\n",
       "      <th></th>\n",
       "      <th>driver_id</th>\n",
       "      <th>ride_start_timestamp</th>\n",
       "      <th>ride_stop_timestamp</th>\n",
       "      <th>order_id</th>\n",
       "      <th>stop_time_shifted</th>\n",
       "      <th>diff</th>\n",
       "    </tr>\n",
       "  </thead>\n",
       "  <tbody>\n",
       "    <tr>\n",
       "      <td>63464</td>\n",
       "      <td>000211a97ba2b768ef941593bf1ae1a5</td>\n",
       "      <td>2016-11-01 12:49:50</td>\n",
       "      <td>2016-11-01 13:10:00</td>\n",
       "      <td>0bb417e0e260876d3c7b6d7afc7e0c7f</td>\n",
       "      <td>2016-11-01 13:24:56</td>\n",
       "      <td>-1 days +23:24:54</td>\n",
       "    </tr>\n",
       "    <tr>\n",
       "      <td>63465</td>\n",
       "      <td>000211a97ba2b768ef941593bf1ae1a5</td>\n",
       "      <td>2016-11-01 12:53:13</td>\n",
       "      <td>2016-11-01 13:51:06</td>\n",
       "      <td>dc90a199ba3767ee64c7b24c0835811d</td>\n",
       "      <td>2016-11-01 13:10:00</td>\n",
       "      <td>-1 days +23:43:13</td>\n",
       "    </tr>\n",
       "  </tbody>\n",
       "</table>\n",
       "</div>"
      ],
      "text/plain": [
       "                              driver_id ride_start_timestamp  \\\n",
       "63464  000211a97ba2b768ef941593bf1ae1a5  2016-11-01 12:49:50   \n",
       "63465  000211a97ba2b768ef941593bf1ae1a5  2016-11-01 12:53:13   \n",
       "\n",
       "      ride_stop_timestamp                          order_id  \\\n",
       "63464 2016-11-01 13:10:00  0bb417e0e260876d3c7b6d7afc7e0c7f   \n",
       "63465 2016-11-01 13:51:06  dc90a199ba3767ee64c7b24c0835811d   \n",
       "\n",
       "        stop_time_shifted              diff  \n",
       "63464 2016-11-01 13:24:56 -1 days +23:24:54  \n",
       "63465 2016-11-01 13:10:00 -1 days +23:43:13  "
      ]
     },
     "execution_count": 126,
     "metadata": {},
     "output_type": "execute_result"
    }
   ],
   "source": [
    "negative_difference_rows.head(2)"
   ]
  },
  {
   "cell_type": "code",
   "execution_count": 127,
   "metadata": {},
   "outputs": [],
   "source": [
    "list_of_drivers = set(negative_difference_rows['driver_id'].drop_duplicates())"
   ]
  },
  {
   "cell_type": "code",
   "execution_count": 128,
   "metadata": {},
   "outputs": [
    {
     "data": {
      "text/plain": [
       "4873"
      ]
     },
     "execution_count": 128,
     "metadata": {},
     "output_type": "execute_result"
    }
   ],
   "source": [
    "len(list_of_drivers)"
   ]
  },
  {
   "cell_type": "code",
   "execution_count": 129,
   "metadata": {},
   "outputs": [
    {
     "data": {
      "text/html": [
       "<div>\n",
       "<style scoped>\n",
       "    .dataframe tbody tr th:only-of-type {\n",
       "        vertical-align: middle;\n",
       "    }\n",
       "\n",
       "    .dataframe tbody tr th {\n",
       "        vertical-align: top;\n",
       "    }\n",
       "\n",
       "    .dataframe thead th {\n",
       "        text-align: right;\n",
       "    }\n",
       "</style>\n",
       "<table border=\"1\" class=\"dataframe\">\n",
       "  <thead>\n",
       "    <tr style=\"text-align: right;\">\n",
       "      <th></th>\n",
       "      <th>driver_id</th>\n",
       "      <th>ride_start_timestamp</th>\n",
       "      <th>ride_stop_timestamp</th>\n",
       "      <th>order_id</th>\n",
       "      <th>stop_time_shifted</th>\n",
       "      <th>diff</th>\n",
       "    </tr>\n",
       "  </thead>\n",
       "  <tbody>\n",
       "    <tr>\n",
       "      <td>80898</td>\n",
       "      <td>0000131d486b69eb77ab6e9e7cca9f4c</td>\n",
       "      <td>2016-11-01 03:57:05</td>\n",
       "      <td>2016-11-01 04:13:18</td>\n",
       "      <td>f727597b61fc2f0141aadecf2a3b5ee0</td>\n",
       "      <td>NaT</td>\n",
       "      <td>NaT</td>\n",
       "    </tr>\n",
       "    <tr>\n",
       "      <td>80899</td>\n",
       "      <td>0000131d486b69eb77ab6e9e7cca9f4c</td>\n",
       "      <td>2016-11-01 04:33:05</td>\n",
       "      <td>2016-11-01 04:49:04</td>\n",
       "      <td>804a1a47f2b10dc36b7e909d9b977f02</td>\n",
       "      <td>2016-11-01 04:13:18</td>\n",
       "      <td>00:19:47</td>\n",
       "    </tr>\n",
       "    <tr>\n",
       "      <td>80897</td>\n",
       "      <td>0000131d486b69eb77ab6e9e7cca9f4c</td>\n",
       "      <td>2016-11-01 04:58:45</td>\n",
       "      <td>2016-11-01 05:42:08</td>\n",
       "      <td>dd9b252638479fb784b705492bdf1a65</td>\n",
       "      <td>2016-11-01 04:49:04</td>\n",
       "      <td>00:09:41</td>\n",
       "    </tr>\n",
       "    <tr>\n",
       "      <td>63461</td>\n",
       "      <td>000211a97ba2b768ef941593bf1ae1a5</td>\n",
       "      <td>2016-11-01 01:29:41</td>\n",
       "      <td>2016-11-01 01:45:47</td>\n",
       "      <td>7a4833b8e39db563365e485f3c16feb5</td>\n",
       "      <td>NaT</td>\n",
       "      <td>NaT</td>\n",
       "    </tr>\n",
       "    <tr>\n",
       "      <td>63462</td>\n",
       "      <td>000211a97ba2b768ef941593bf1ae1a5</td>\n",
       "      <td>2016-11-01 12:06:55</td>\n",
       "      <td>2016-11-01 12:28:25</td>\n",
       "      <td>32eb295835b821f4b01c9eb9292bd534</td>\n",
       "      <td>2016-11-01 01:45:47</td>\n",
       "      <td>10:21:08</td>\n",
       "    </tr>\n",
       "    <tr>\n",
       "      <td>63463</td>\n",
       "      <td>000211a97ba2b768ef941593bf1ae1a5</td>\n",
       "      <td>2016-11-01 12:43:34</td>\n",
       "      <td>2016-11-01 13:24:56</td>\n",
       "      <td>1bd834f316b12c5f76848a7382c554e9</td>\n",
       "      <td>2016-11-01 12:28:25</td>\n",
       "      <td>00:15:09</td>\n",
       "    </tr>\n",
       "    <tr>\n",
       "      <td>63464</td>\n",
       "      <td>000211a97ba2b768ef941593bf1ae1a5</td>\n",
       "      <td>2016-11-01 12:49:50</td>\n",
       "      <td>2016-11-01 13:10:00</td>\n",
       "      <td>0bb417e0e260876d3c7b6d7afc7e0c7f</td>\n",
       "      <td>2016-11-01 13:24:56</td>\n",
       "      <td>-1 days +23:24:54</td>\n",
       "    </tr>\n",
       "    <tr>\n",
       "      <td>63465</td>\n",
       "      <td>000211a97ba2b768ef941593bf1ae1a5</td>\n",
       "      <td>2016-11-01 12:53:13</td>\n",
       "      <td>2016-11-01 13:51:06</td>\n",
       "      <td>dc90a199ba3767ee64c7b24c0835811d</td>\n",
       "      <td>2016-11-01 13:10:00</td>\n",
       "      <td>-1 days +23:43:13</td>\n",
       "    </tr>\n",
       "    <tr>\n",
       "      <td>135691</td>\n",
       "      <td>000770ada4aa5d856b5a766fb6bf7cf1</td>\n",
       "      <td>2016-11-01 01:04:52</td>\n",
       "      <td>2016-11-01 01:39:51</td>\n",
       "      <td>7f543d0715adc066cd7b9126ed3f5551</td>\n",
       "      <td>NaT</td>\n",
       "      <td>NaT</td>\n",
       "    </tr>\n",
       "    <tr>\n",
       "      <td>135692</td>\n",
       "      <td>000770ada4aa5d856b5a766fb6bf7cf1</td>\n",
       "      <td>2016-11-01 02:54:03</td>\n",
       "      <td>2016-11-01 03:12:19</td>\n",
       "      <td>1855095fcf3128788ebe05c47f9e6932</td>\n",
       "      <td>2016-11-01 01:39:51</td>\n",
       "      <td>01:14:12</td>\n",
       "    </tr>\n",
       "    <tr>\n",
       "      <td>135693</td>\n",
       "      <td>000770ada4aa5d856b5a766fb6bf7cf1</td>\n",
       "      <td>2016-11-01 03:25:11</td>\n",
       "      <td>2016-11-01 03:34:07</td>\n",
       "      <td>384c107e352f2b9263a05023f17df259</td>\n",
       "      <td>2016-11-01 03:12:19</td>\n",
       "      <td>00:12:52</td>\n",
       "    </tr>\n",
       "    <tr>\n",
       "      <td>135694</td>\n",
       "      <td>000770ada4aa5d856b5a766fb6bf7cf1</td>\n",
       "      <td>2016-11-01 03:44:12</td>\n",
       "      <td>2016-11-01 03:54:00</td>\n",
       "      <td>a8a40a5bbd2a5fc1f10b89e1611a191a</td>\n",
       "      <td>2016-11-01 03:34:07</td>\n",
       "      <td>00:10:05</td>\n",
       "    </tr>\n",
       "    <tr>\n",
       "      <td>135695</td>\n",
       "      <td>000770ada4aa5d856b5a766fb6bf7cf1</td>\n",
       "      <td>2016-11-01 04:03:06</td>\n",
       "      <td>2016-11-01 04:19:01</td>\n",
       "      <td>0f4c1441c5f4a519696f4cd801c9c4bd</td>\n",
       "      <td>2016-11-01 03:54:00</td>\n",
       "      <td>00:09:06</td>\n",
       "    </tr>\n",
       "    <tr>\n",
       "      <td>39201</td>\n",
       "      <td>0007a380800445346fff19afc4071ce3</td>\n",
       "      <td>2016-11-01 01:30:40</td>\n",
       "      <td>2016-11-01 01:54:19</td>\n",
       "      <td>7464574cde2350f47134cc5108417eef</td>\n",
       "      <td>NaT</td>\n",
       "      <td>NaT</td>\n",
       "    </tr>\n",
       "    <tr>\n",
       "      <td>160897</td>\n",
       "      <td>0008c9d2ac91c00ef8b3ef80eba02a06</td>\n",
       "      <td>2016-11-01 02:23:26</td>\n",
       "      <td>2016-11-01 02:41:56</td>\n",
       "      <td>dd83b6f28e50bfec026bc20cac2dcccb</td>\n",
       "      <td>NaT</td>\n",
       "      <td>NaT</td>\n",
       "    </tr>\n",
       "  </tbody>\n",
       "</table>\n",
       "</div>"
      ],
      "text/plain": [
       "                               driver_id ride_start_timestamp  \\\n",
       "80898   0000131d486b69eb77ab6e9e7cca9f4c  2016-11-01 03:57:05   \n",
       "80899   0000131d486b69eb77ab6e9e7cca9f4c  2016-11-01 04:33:05   \n",
       "80897   0000131d486b69eb77ab6e9e7cca9f4c  2016-11-01 04:58:45   \n",
       "63461   000211a97ba2b768ef941593bf1ae1a5  2016-11-01 01:29:41   \n",
       "63462   000211a97ba2b768ef941593bf1ae1a5  2016-11-01 12:06:55   \n",
       "63463   000211a97ba2b768ef941593bf1ae1a5  2016-11-01 12:43:34   \n",
       "63464   000211a97ba2b768ef941593bf1ae1a5  2016-11-01 12:49:50   \n",
       "63465   000211a97ba2b768ef941593bf1ae1a5  2016-11-01 12:53:13   \n",
       "135691  000770ada4aa5d856b5a766fb6bf7cf1  2016-11-01 01:04:52   \n",
       "135692  000770ada4aa5d856b5a766fb6bf7cf1  2016-11-01 02:54:03   \n",
       "135693  000770ada4aa5d856b5a766fb6bf7cf1  2016-11-01 03:25:11   \n",
       "135694  000770ada4aa5d856b5a766fb6bf7cf1  2016-11-01 03:44:12   \n",
       "135695  000770ada4aa5d856b5a766fb6bf7cf1  2016-11-01 04:03:06   \n",
       "39201   0007a380800445346fff19afc4071ce3  2016-11-01 01:30:40   \n",
       "160897  0008c9d2ac91c00ef8b3ef80eba02a06  2016-11-01 02:23:26   \n",
       "\n",
       "       ride_stop_timestamp                          order_id  \\\n",
       "80898  2016-11-01 04:13:18  f727597b61fc2f0141aadecf2a3b5ee0   \n",
       "80899  2016-11-01 04:49:04  804a1a47f2b10dc36b7e909d9b977f02   \n",
       "80897  2016-11-01 05:42:08  dd9b252638479fb784b705492bdf1a65   \n",
       "63461  2016-11-01 01:45:47  7a4833b8e39db563365e485f3c16feb5   \n",
       "63462  2016-11-01 12:28:25  32eb295835b821f4b01c9eb9292bd534   \n",
       "63463  2016-11-01 13:24:56  1bd834f316b12c5f76848a7382c554e9   \n",
       "63464  2016-11-01 13:10:00  0bb417e0e260876d3c7b6d7afc7e0c7f   \n",
       "63465  2016-11-01 13:51:06  dc90a199ba3767ee64c7b24c0835811d   \n",
       "135691 2016-11-01 01:39:51  7f543d0715adc066cd7b9126ed3f5551   \n",
       "135692 2016-11-01 03:12:19  1855095fcf3128788ebe05c47f9e6932   \n",
       "135693 2016-11-01 03:34:07  384c107e352f2b9263a05023f17df259   \n",
       "135694 2016-11-01 03:54:00  a8a40a5bbd2a5fc1f10b89e1611a191a   \n",
       "135695 2016-11-01 04:19:01  0f4c1441c5f4a519696f4cd801c9c4bd   \n",
       "39201  2016-11-01 01:54:19  7464574cde2350f47134cc5108417eef   \n",
       "160897 2016-11-01 02:41:56  dd83b6f28e50bfec026bc20cac2dcccb   \n",
       "\n",
       "         stop_time_shifted              diff  \n",
       "80898                  NaT               NaT  \n",
       "80899  2016-11-01 04:13:18          00:19:47  \n",
       "80897  2016-11-01 04:49:04          00:09:41  \n",
       "63461                  NaT               NaT  \n",
       "63462  2016-11-01 01:45:47          10:21:08  \n",
       "63463  2016-11-01 12:28:25          00:15:09  \n",
       "63464  2016-11-01 13:24:56 -1 days +23:24:54  \n",
       "63465  2016-11-01 13:10:00 -1 days +23:43:13  \n",
       "135691                 NaT               NaT  \n",
       "135692 2016-11-01 01:39:51          01:14:12  \n",
       "135693 2016-11-01 03:12:19          00:12:52  \n",
       "135694 2016-11-01 03:34:07          00:10:05  \n",
       "135695 2016-11-01 03:54:00          00:09:06  \n",
       "39201                  NaT               NaT  \n",
       "160897                 NaT               NaT  "
      ]
     },
     "execution_count": 129,
     "metadata": {},
     "output_type": "execute_result"
    }
   ],
   "source": [
    "driver_start_times.head(15)"
   ]
  },
  {
   "cell_type": "code",
   "execution_count": 130,
   "metadata": {},
   "outputs": [
    {
     "data": {
      "text/html": [
       "<div>\n",
       "<style scoped>\n",
       "    .dataframe tbody tr th:only-of-type {\n",
       "        vertical-align: middle;\n",
       "    }\n",
       "\n",
       "    .dataframe tbody tr th {\n",
       "        vertical-align: top;\n",
       "    }\n",
       "\n",
       "    .dataframe thead th {\n",
       "        text-align: right;\n",
       "    }\n",
       "</style>\n",
       "<table border=\"1\" class=\"dataframe\">\n",
       "  <thead>\n",
       "    <tr style=\"text-align: right;\">\n",
       "      <th></th>\n",
       "      <th>driver_id</th>\n",
       "      <th>ride_start_timestamp</th>\n",
       "      <th>ride_stop_timestamp</th>\n",
       "      <th>order_id</th>\n",
       "      <th>stop_time_shifted</th>\n",
       "      <th>diff</th>\n",
       "    </tr>\n",
       "  </thead>\n",
       "  <tbody>\n",
       "    <tr>\n",
       "      <td>80898</td>\n",
       "      <td>0000131d486b69eb77ab6e9e7cca9f4c</td>\n",
       "      <td>2016-11-01 03:57:05</td>\n",
       "      <td>2016-11-01 04:13:18</td>\n",
       "      <td>f727597b61fc2f0141aadecf2a3b5ee0</td>\n",
       "      <td>NaT</td>\n",
       "      <td>NaT</td>\n",
       "    </tr>\n",
       "    <tr>\n",
       "      <td>80899</td>\n",
       "      <td>0000131d486b69eb77ab6e9e7cca9f4c</td>\n",
       "      <td>2016-11-01 04:33:05</td>\n",
       "      <td>2016-11-01 04:49:04</td>\n",
       "      <td>804a1a47f2b10dc36b7e909d9b977f02</td>\n",
       "      <td>2016-11-01 04:13:18</td>\n",
       "      <td>00:19:47</td>\n",
       "    </tr>\n",
       "  </tbody>\n",
       "</table>\n",
       "</div>"
      ],
      "text/plain": [
       "                              driver_id ride_start_timestamp  \\\n",
       "80898  0000131d486b69eb77ab6e9e7cca9f4c  2016-11-01 03:57:05   \n",
       "80899  0000131d486b69eb77ab6e9e7cca9f4c  2016-11-01 04:33:05   \n",
       "\n",
       "      ride_stop_timestamp                          order_id  \\\n",
       "80898 2016-11-01 04:13:18  f727597b61fc2f0141aadecf2a3b5ee0   \n",
       "80899 2016-11-01 04:49:04  804a1a47f2b10dc36b7e909d9b977f02   \n",
       "\n",
       "        stop_time_shifted     diff  \n",
       "80898                 NaT      NaT  \n",
       "80899 2016-11-01 04:13:18 00:19:47  "
      ]
     },
     "execution_count": 130,
     "metadata": {},
     "output_type": "execute_result"
    }
   ],
   "source": [
    "driver_start_times.head(2)"
   ]
  },
  {
   "cell_type": "code",
   "execution_count": 131,
   "metadata": {},
   "outputs": [
    {
     "data": {
      "text/html": [
       "<div>\n",
       "<style scoped>\n",
       "    .dataframe tbody tr th:only-of-type {\n",
       "        vertical-align: middle;\n",
       "    }\n",
       "\n",
       "    .dataframe tbody tr th {\n",
       "        vertical-align: top;\n",
       "    }\n",
       "\n",
       "    .dataframe thead th {\n",
       "        text-align: right;\n",
       "    }\n",
       "</style>\n",
       "<table border=\"1\" class=\"dataframe\">\n",
       "  <thead>\n",
       "    <tr style=\"text-align: right;\">\n",
       "      <th></th>\n",
       "      <th>order_id</th>\n",
       "      <th>ride_start_timestamp</th>\n",
       "      <th>ride_stop_timestamp</th>\n",
       "      <th>pickup_longitude</th>\n",
       "      <th>pickup_latitude</th>\n",
       "      <th>dropoff_longitude</th>\n",
       "      <th>dropoff_latitude</th>\n",
       "      <th>ride_duration</th>\n",
       "      <th>driver_id</th>\n",
       "    </tr>\n",
       "  </thead>\n",
       "  <tbody>\n",
       "    <tr>\n",
       "      <td>0</td>\n",
       "      <td>eb9dd4095d9850e6287cefd813775a6c</td>\n",
       "      <td>2016-11-01 01:46:37</td>\n",
       "      <td>2016-11-01 02:15:07</td>\n",
       "      <td>104.094640</td>\n",
       "      <td>30.703971</td>\n",
       "      <td>104.089270</td>\n",
       "      <td>30.650850</td>\n",
       "      <td>28.500000</td>\n",
       "      <td>0373c98625e6d8e1fc56a4d61318138c</td>\n",
       "    </tr>\n",
       "    <tr>\n",
       "      <td>1</td>\n",
       "      <td>387a742fa5a3fbe4a1f215ac58ea33a8</td>\n",
       "      <td>2016-11-01 07:33:05</td>\n",
       "      <td>2016-11-01 08:07:55</td>\n",
       "      <td>104.076509</td>\n",
       "      <td>30.767430</td>\n",
       "      <td>104.063700</td>\n",
       "      <td>30.589510</td>\n",
       "      <td>34.833333</td>\n",
       "      <td>0373c98625e6d8e1fc56a4d61318138c</td>\n",
       "    </tr>\n",
       "    <tr>\n",
       "      <td>2</td>\n",
       "      <td>9cf55f8e6e02a1e0f792df06e5d85011</td>\n",
       "      <td>2016-11-01 12:55:52</td>\n",
       "      <td>2016-11-01 13:16:57</td>\n",
       "      <td>104.019699</td>\n",
       "      <td>30.689007</td>\n",
       "      <td>104.105324</td>\n",
       "      <td>30.663950</td>\n",
       "      <td>21.083333</td>\n",
       "      <td>0373c98625e6d8e1fc56a4d61318138c</td>\n",
       "    </tr>\n",
       "    <tr>\n",
       "      <td>3</td>\n",
       "      <td>5feeae0307e15203484b9ffceef89855</td>\n",
       "      <td>2016-11-01 08:44:00</td>\n",
       "      <td>2016-11-01 09:04:25</td>\n",
       "      <td>104.036090</td>\n",
       "      <td>30.622690</td>\n",
       "      <td>104.043860</td>\n",
       "      <td>30.682320</td>\n",
       "      <td>20.416667</td>\n",
       "      <td>0373c98625e6d8e1fc56a4d61318138c</td>\n",
       "    </tr>\n",
       "    <tr>\n",
       "      <td>4</td>\n",
       "      <td>ad4b52cb15b90c44c8f20a8b1e57a622</td>\n",
       "      <td>2016-10-31 23:53:25</td>\n",
       "      <td>2016-11-01 00:02:57</td>\n",
       "      <td>104.115997</td>\n",
       "      <td>30.652313</td>\n",
       "      <td>104.104421</td>\n",
       "      <td>30.695113</td>\n",
       "      <td>9.533333</td>\n",
       "      <td>0373c98625e6d8e1fc56a4d61318138c</td>\n",
       "    </tr>\n",
       "  </tbody>\n",
       "</table>\n",
       "</div>"
      ],
      "text/plain": [
       "                           order_id ride_start_timestamp ride_stop_timestamp  \\\n",
       "0  eb9dd4095d9850e6287cefd813775a6c  2016-11-01 01:46:37 2016-11-01 02:15:07   \n",
       "1  387a742fa5a3fbe4a1f215ac58ea33a8  2016-11-01 07:33:05 2016-11-01 08:07:55   \n",
       "2  9cf55f8e6e02a1e0f792df06e5d85011  2016-11-01 12:55:52 2016-11-01 13:16:57   \n",
       "3  5feeae0307e15203484b9ffceef89855  2016-11-01 08:44:00 2016-11-01 09:04:25   \n",
       "4  ad4b52cb15b90c44c8f20a8b1e57a622  2016-10-31 23:53:25 2016-11-01 00:02:57   \n",
       "\n",
       "   pickup_longitude  pickup_latitude  dropoff_longitude  dropoff_latitude  \\\n",
       "0        104.094640        30.703971         104.089270         30.650850   \n",
       "1        104.076509        30.767430         104.063700         30.589510   \n",
       "2        104.019699        30.689007         104.105324         30.663950   \n",
       "3        104.036090        30.622690         104.043860         30.682320   \n",
       "4        104.115997        30.652313         104.104421         30.695113   \n",
       "\n",
       "   ride_duration                         driver_id  \n",
       "0      28.500000  0373c98625e6d8e1fc56a4d61318138c  \n",
       "1      34.833333  0373c98625e6d8e1fc56a4d61318138c  \n",
       "2      21.083333  0373c98625e6d8e1fc56a4d61318138c  \n",
       "3      20.416667  0373c98625e6d8e1fc56a4d61318138c  \n",
       "4       9.533333  0373c98625e6d8e1fc56a4d61318138c  "
      ]
     },
     "execution_count": 131,
     "metadata": {},
     "output_type": "execute_result"
    }
   ],
   "source": [
    "orders.head()"
   ]
  },
  {
   "cell_type": "code",
   "execution_count": 132,
   "metadata": {
    "scrolled": true
   },
   "outputs": [],
   "source": [
    "driver_ride_durations = orders.groupby('driver_id')[['ride_duration']].sum().reset_index()"
   ]
  },
  {
   "cell_type": "markdown",
   "metadata": {},
   "source": [
    "### Single day total active time"
   ]
  },
  {
   "cell_type": "code",
   "execution_count": 134,
   "metadata": {},
   "outputs": [
    {
     "data": {
      "text/html": [
       "<div>\n",
       "<style scoped>\n",
       "    .dataframe tbody tr th:only-of-type {\n",
       "        vertical-align: middle;\n",
       "    }\n",
       "\n",
       "    .dataframe tbody tr th {\n",
       "        vertical-align: top;\n",
       "    }\n",
       "\n",
       "    .dataframe thead th {\n",
       "        text-align: right;\n",
       "    }\n",
       "</style>\n",
       "<table border=\"1\" class=\"dataframe\">\n",
       "  <thead>\n",
       "    <tr style=\"text-align: right;\">\n",
       "      <th></th>\n",
       "      <th>driver_id</th>\n",
       "      <th>ride_start_timestamp</th>\n",
       "      <th>ride_stop_timestamp</th>\n",
       "      <th>active_time</th>\n",
       "    </tr>\n",
       "  </thead>\n",
       "  <tbody>\n",
       "    <tr>\n",
       "      <td>0</td>\n",
       "      <td>0000131d486b69eb77ab6e9e7cca9f4c</td>\n",
       "      <td>2016-11-01 03:57:05</td>\n",
       "      <td>2016-11-01 05:42:08</td>\n",
       "      <td>105.050000</td>\n",
       "    </tr>\n",
       "    <tr>\n",
       "      <td>1</td>\n",
       "      <td>000211a97ba2b768ef941593bf1ae1a5</td>\n",
       "      <td>2016-11-01 01:29:41</td>\n",
       "      <td>2016-11-01 13:51:06</td>\n",
       "      <td>741.416667</td>\n",
       "    </tr>\n",
       "    <tr>\n",
       "      <td>2</td>\n",
       "      <td>000770ada4aa5d856b5a766fb6bf7cf1</td>\n",
       "      <td>2016-11-01 01:04:52</td>\n",
       "      <td>2016-11-01 04:19:01</td>\n",
       "      <td>194.150000</td>\n",
       "    </tr>\n",
       "    <tr>\n",
       "      <td>3</td>\n",
       "      <td>0007a380800445346fff19afc4071ce3</td>\n",
       "      <td>2016-11-01 01:30:40</td>\n",
       "      <td>2016-11-01 01:54:19</td>\n",
       "      <td>23.650000</td>\n",
       "    </tr>\n",
       "    <tr>\n",
       "      <td>4</td>\n",
       "      <td>0008c9d2ac91c00ef8b3ef80eba02a06</td>\n",
       "      <td>2016-11-01 02:23:26</td>\n",
       "      <td>2016-11-01 16:07:35</td>\n",
       "      <td>824.150000</td>\n",
       "    </tr>\n",
       "  </tbody>\n",
       "</table>\n",
       "</div>"
      ],
      "text/plain": [
       "                          driver_id ride_start_timestamp ride_stop_timestamp  \\\n",
       "0  0000131d486b69eb77ab6e9e7cca9f4c  2016-11-01 03:57:05 2016-11-01 05:42:08   \n",
       "1  000211a97ba2b768ef941593bf1ae1a5  2016-11-01 01:29:41 2016-11-01 13:51:06   \n",
       "2  000770ada4aa5d856b5a766fb6bf7cf1  2016-11-01 01:04:52 2016-11-01 04:19:01   \n",
       "3  0007a380800445346fff19afc4071ce3  2016-11-01 01:30:40 2016-11-01 01:54:19   \n",
       "4  0008c9d2ac91c00ef8b3ef80eba02a06  2016-11-01 02:23:26 2016-11-01 16:07:35   \n",
       "\n",
       "   active_time  \n",
       "0   105.050000  \n",
       "1   741.416667  \n",
       "2   194.150000  \n",
       "3    23.650000  \n",
       "4   824.150000  "
      ]
     },
     "execution_count": 134,
     "metadata": {},
     "output_type": "execute_result"
    }
   ],
   "source": [
    "driver_day_min = pd.DataFrame(orders.groupby('driver_id')['ride_start_timestamp'].min()).reset_index()\n",
    "driver_day_max = pd.DataFrame(orders.groupby('driver_id')['ride_stop_timestamp'].max()).reset_index()\n",
    "driver_active_time = driver_day_min.merge(driver_day_max, on='driver_id', how='left')\n",
    "driver_active_time['active_time'] = (driver_active_time['ride_stop_timestamp'] - driver_active_time['ride_start_timestamp']).dt.total_seconds() / 60\n",
    "driver_active_time.head()"
   ]
  },
  {
   "cell_type": "markdown",
   "metadata": {},
   "source": [
    "### Comparing total driver active time vs ride time"
   ]
  },
  {
   "cell_type": "code",
   "execution_count": 185,
   "metadata": {},
   "outputs": [
    {
     "data": {
      "text/html": [
       "<div>\n",
       "<style scoped>\n",
       "    .dataframe tbody tr th:only-of-type {\n",
       "        vertical-align: middle;\n",
       "    }\n",
       "\n",
       "    .dataframe tbody tr th {\n",
       "        vertical-align: top;\n",
       "    }\n",
       "\n",
       "    .dataframe thead th {\n",
       "        text-align: right;\n",
       "    }\n",
       "</style>\n",
       "<table border=\"1\" class=\"dataframe\">\n",
       "  <thead>\n",
       "    <tr style=\"text-align: right;\">\n",
       "      <th></th>\n",
       "      <th>active_time</th>\n",
       "      <th>ride_duration</th>\n",
       "    </tr>\n",
       "  </thead>\n",
       "  <tbody>\n",
       "    <tr>\n",
       "      <td>count</td>\n",
       "      <td>489.000000</td>\n",
       "      <td>489.000000</td>\n",
       "    </tr>\n",
       "    <tr>\n",
       "      <td>mean</td>\n",
       "      <td>83.387355</td>\n",
       "      <td>100.011350</td>\n",
       "    </tr>\n",
       "    <tr>\n",
       "      <td>std</td>\n",
       "      <td>47.657819</td>\n",
       "      <td>50.247266</td>\n",
       "    </tr>\n",
       "    <tr>\n",
       "      <td>min</td>\n",
       "      <td>11.850000</td>\n",
       "      <td>20.800000</td>\n",
       "    </tr>\n",
       "    <tr>\n",
       "      <td>25%</td>\n",
       "      <td>53.416667</td>\n",
       "      <td>68.466667</td>\n",
       "    </tr>\n",
       "    <tr>\n",
       "      <td>50%</td>\n",
       "      <td>73.783333</td>\n",
       "      <td>92.233333</td>\n",
       "    </tr>\n",
       "    <tr>\n",
       "      <td>75%</td>\n",
       "      <td>100.300000</td>\n",
       "      <td>117.283333</td>\n",
       "    </tr>\n",
       "    <tr>\n",
       "      <td>max</td>\n",
       "      <td>448.683333</td>\n",
       "      <td>477.183333</td>\n",
       "    </tr>\n",
       "  </tbody>\n",
       "</table>\n",
       "</div>"
      ],
      "text/plain": [
       "       active_time  ride_duration\n",
       "count   489.000000     489.000000\n",
       "mean     83.387355     100.011350\n",
       "std      47.657819      50.247266\n",
       "min      11.850000      20.800000\n",
       "25%      53.416667      68.466667\n",
       "50%      73.783333      92.233333\n",
       "75%     100.300000     117.283333\n",
       "max     448.683333     477.183333"
      ]
     },
     "execution_count": 185,
     "metadata": {},
     "output_type": "execute_result"
    }
   ],
   "source": [
    "# total driver active time\n",
    "driver_stats = driver_active_time[['driver_id', 'active_time']].merge(driver_ride_durations, on='driver_id', how='left') \n",
    "\n",
    "# Filtering possible bad rows\n",
    "driver_stats[driver_stats.active_time < driver_stats.ride_duration].describe()"
   ]
  },
  {
   "cell_type": "code",
   "execution_count": 142,
   "metadata": {},
   "outputs": [],
   "source": [
    "list_of_drivers_with_less_active_time = set(driver_stats[driver_stats.active_time < driver_stats.ride_duration]['driver_id'].drop_duplicates())"
   ]
  },
  {
   "cell_type": "code",
   "execution_count": 143,
   "metadata": {},
   "outputs": [
    {
     "data": {
      "text/plain": [
       "489"
      ]
     },
     "execution_count": 143,
     "metadata": {},
     "output_type": "execute_result"
    }
   ],
   "source": [
    "len(list_of_drivers_with_less_active_time)"
   ]
  },
  {
   "cell_type": "code",
   "execution_count": 144,
   "metadata": {},
   "outputs": [
    {
     "data": {
      "text/plain": [
       "489"
      ]
     },
     "execution_count": 144,
     "metadata": {},
     "output_type": "execute_result"
    }
   ],
   "source": [
    "len(list_of_drivers.intersection(list_of_drivers_with_less_active_time))"
   ]
  },
  {
   "cell_type": "markdown",
   "metadata": {},
   "source": [
    "The above indicates that every driver with this issue had an overlap in his ride. There were roughly 4400 other drives who had this issue as well but their active time was less than their ride duration"
   ]
  },
  {
   "cell_type": "code",
   "execution_count": 145,
   "metadata": {},
   "outputs": [],
   "source": [
    "other_drivers = list_of_drivers_with_less_active_time.difference(list_of_drivers)"
   ]
  },
  {
   "cell_type": "code",
   "execution_count": 146,
   "metadata": {},
   "outputs": [
    {
     "data": {
      "text/plain": [
       "set()"
      ]
     },
     "execution_count": 146,
     "metadata": {},
     "output_type": "execute_result"
    }
   ],
   "source": [
    "other_drivers"
   ]
  },
  {
   "cell_type": "code",
   "execution_count": 147,
   "metadata": {},
   "outputs": [
    {
     "data": {
      "text/html": [
       "<div>\n",
       "<style scoped>\n",
       "    .dataframe tbody tr th:only-of-type {\n",
       "        vertical-align: middle;\n",
       "    }\n",
       "\n",
       "    .dataframe tbody tr th {\n",
       "        vertical-align: top;\n",
       "    }\n",
       "\n",
       "    .dataframe thead th {\n",
       "        text-align: right;\n",
       "    }\n",
       "</style>\n",
       "<table border=\"1\" class=\"dataframe\">\n",
       "  <thead>\n",
       "    <tr style=\"text-align: right;\">\n",
       "      <th></th>\n",
       "      <th>driver_id</th>\n",
       "      <th>active_time</th>\n",
       "      <th>ride_duration</th>\n",
       "    </tr>\n",
       "  </thead>\n",
       "  <tbody>\n",
       "    <tr>\n",
       "      <td>0</td>\n",
       "      <td>0000131d486b69eb77ab6e9e7cca9f4c</td>\n",
       "      <td>105.050000</td>\n",
       "      <td>75.583333</td>\n",
       "    </tr>\n",
       "    <tr>\n",
       "      <td>1</td>\n",
       "      <td>000211a97ba2b768ef941593bf1ae1a5</td>\n",
       "      <td>741.416667</td>\n",
       "      <td>157.016667</td>\n",
       "    </tr>\n",
       "  </tbody>\n",
       "</table>\n",
       "</div>"
      ],
      "text/plain": [
       "                          driver_id  active_time  ride_duration\n",
       "0  0000131d486b69eb77ab6e9e7cca9f4c   105.050000      75.583333\n",
       "1  000211a97ba2b768ef941593bf1ae1a5   741.416667     157.016667"
      ]
     },
     "execution_count": 147,
     "metadata": {},
     "output_type": "execute_result"
    }
   ],
   "source": [
    "driver_stats.head(2)"
   ]
  },
  {
   "cell_type": "markdown",
   "metadata": {},
   "source": [
    "Now using the difference, we will see whether there are drivers with gaps fo more than 1 hour between their rides. If so we will further reduce their active time since it might be that they would have taken breaks for lunch during the day"
   ]
  },
  {
   "cell_type": "code",
   "execution_count": 168,
   "metadata": {},
   "outputs": [],
   "source": [
    "drivers_with_greater_than_an_hour_break = driver_start_times[driver_start_times['diff'].dt.total_seconds() > 3600]"
   ]
  },
  {
   "cell_type": "code",
   "execution_count": 171,
   "metadata": {},
   "outputs": [
    {
     "data": {
      "text/html": [
       "<div>\n",
       "<style scoped>\n",
       "    .dataframe tbody tr th:only-of-type {\n",
       "        vertical-align: middle;\n",
       "    }\n",
       "\n",
       "    .dataframe tbody tr th {\n",
       "        vertical-align: top;\n",
       "    }\n",
       "\n",
       "    .dataframe thead th {\n",
       "        text-align: right;\n",
       "    }\n",
       "</style>\n",
       "<table border=\"1\" class=\"dataframe\">\n",
       "  <thead>\n",
       "    <tr style=\"text-align: right;\">\n",
       "      <th></th>\n",
       "      <th>driver_id</th>\n",
       "      <th>ride_start_timestamp</th>\n",
       "      <th>ride_stop_timestamp</th>\n",
       "      <th>order_id</th>\n",
       "      <th>stop_time_shifted</th>\n",
       "      <th>diff</th>\n",
       "    </tr>\n",
       "  </thead>\n",
       "  <tbody>\n",
       "    <tr>\n",
       "      <td>63462</td>\n",
       "      <td>000211a97ba2b768ef941593bf1ae1a5</td>\n",
       "      <td>2016-11-01 12:06:55</td>\n",
       "      <td>2016-11-01 12:28:25</td>\n",
       "      <td>32eb295835b821f4b01c9eb9292bd534</td>\n",
       "      <td>2016-11-01 01:45:47</td>\n",
       "      <td>10:21:08</td>\n",
       "    </tr>\n",
       "    <tr>\n",
       "      <td>135692</td>\n",
       "      <td>000770ada4aa5d856b5a766fb6bf7cf1</td>\n",
       "      <td>2016-11-01 02:54:03</td>\n",
       "      <td>2016-11-01 03:12:19</td>\n",
       "      <td>1855095fcf3128788ebe05c47f9e6932</td>\n",
       "      <td>2016-11-01 01:39:51</td>\n",
       "      <td>01:14:12</td>\n",
       "    </tr>\n",
       "    <tr>\n",
       "      <td>160893</td>\n",
       "      <td>0008c9d2ac91c00ef8b3ef80eba02a06</td>\n",
       "      <td>2016-11-01 07:12:44</td>\n",
       "      <td>2016-11-01 07:17:45</td>\n",
       "      <td>1becf86f0a4dbb32ecbbb522d3e1e64b</td>\n",
       "      <td>2016-11-01 03:31:20</td>\n",
       "      <td>03:41:24</td>\n",
       "    </tr>\n",
       "  </tbody>\n",
       "</table>\n",
       "</div>"
      ],
      "text/plain": [
       "                               driver_id ride_start_timestamp  \\\n",
       "63462   000211a97ba2b768ef941593bf1ae1a5  2016-11-01 12:06:55   \n",
       "135692  000770ada4aa5d856b5a766fb6bf7cf1  2016-11-01 02:54:03   \n",
       "160893  0008c9d2ac91c00ef8b3ef80eba02a06  2016-11-01 07:12:44   \n",
       "\n",
       "       ride_stop_timestamp                          order_id  \\\n",
       "63462  2016-11-01 12:28:25  32eb295835b821f4b01c9eb9292bd534   \n",
       "135692 2016-11-01 03:12:19  1855095fcf3128788ebe05c47f9e6932   \n",
       "160893 2016-11-01 07:17:45  1becf86f0a4dbb32ecbbb522d3e1e64b   \n",
       "\n",
       "         stop_time_shifted     diff  \n",
       "63462  2016-11-01 01:45:47 10:21:08  \n",
       "135692 2016-11-01 01:39:51 01:14:12  \n",
       "160893 2016-11-01 03:31:20 03:41:24  "
      ]
     },
     "execution_count": 171,
     "metadata": {},
     "output_type": "execute_result"
    }
   ],
   "source": [
    "drivers_with_greater_than_an_hour_break.head(3)"
   ]
  },
  {
   "cell_type": "code",
   "execution_count": 169,
   "metadata": {},
   "outputs": [
    {
     "data": {
      "text/plain": [
       "(27614, 6)"
      ]
     },
     "execution_count": 169,
     "metadata": {},
     "output_type": "execute_result"
    }
   ],
   "source": [
    "drivers_with_greater_than_an_hour_break.shape"
   ]
  },
  {
   "cell_type": "code",
   "execution_count": 195,
   "metadata": {},
   "outputs": [],
   "source": [
    "total_inactive_time = drivers_with_greater_than_an_hour_break.groupby('driver_id')['diff'].sum().reset_index()\n",
    "total_inactive_time['inactive_time'] = total_inactive_time['diff'].dt.total_seconds()/60"
   ]
  },
  {
   "cell_type": "code",
   "execution_count": 196,
   "metadata": {},
   "outputs": [
    {
     "data": {
      "text/plain": [
       "(18122, 3)"
      ]
     },
     "execution_count": 196,
     "metadata": {},
     "output_type": "execute_result"
    }
   ],
   "source": [
    "total_inactive_time.shape"
   ]
  },
  {
   "cell_type": "code",
   "execution_count": 197,
   "metadata": {},
   "outputs": [
    {
     "data": {
      "text/html": [
       "<div>\n",
       "<style scoped>\n",
       "    .dataframe tbody tr th:only-of-type {\n",
       "        vertical-align: middle;\n",
       "    }\n",
       "\n",
       "    .dataframe tbody tr th {\n",
       "        vertical-align: top;\n",
       "    }\n",
       "\n",
       "    .dataframe thead th {\n",
       "        text-align: right;\n",
       "    }\n",
       "</style>\n",
       "<table border=\"1\" class=\"dataframe\">\n",
       "  <thead>\n",
       "    <tr style=\"text-align: right;\">\n",
       "      <th></th>\n",
       "      <th>driver_id</th>\n",
       "      <th>diff</th>\n",
       "      <th>inactive_time</th>\n",
       "    </tr>\n",
       "  </thead>\n",
       "  <tbody>\n",
       "    <tr>\n",
       "      <td>0</td>\n",
       "      <td>000211a97ba2b768ef941593bf1ae1a5</td>\n",
       "      <td>10:21:08</td>\n",
       "      <td>621.133333</td>\n",
       "    </tr>\n",
       "    <tr>\n",
       "      <td>1</td>\n",
       "      <td>000770ada4aa5d856b5a766fb6bf7cf1</td>\n",
       "      <td>01:14:12</td>\n",
       "      <td>74.200000</td>\n",
       "    </tr>\n",
       "    <tr>\n",
       "      <td>2</td>\n",
       "      <td>0008c9d2ac91c00ef8b3ef80eba02a06</td>\n",
       "      <td>10:14:32</td>\n",
       "      <td>614.533333</td>\n",
       "    </tr>\n",
       "    <tr>\n",
       "      <td>3</td>\n",
       "      <td>000d0e4bd461b1f964daeb6d21868757</td>\n",
       "      <td>15:58:53</td>\n",
       "      <td>958.883333</td>\n",
       "    </tr>\n",
       "    <tr>\n",
       "      <td>4</td>\n",
       "      <td>000d7d7fe559c61e98d0a51e23e69bf7</td>\n",
       "      <td>03:14:44</td>\n",
       "      <td>194.733333</td>\n",
       "    </tr>\n",
       "  </tbody>\n",
       "</table>\n",
       "</div>"
      ],
      "text/plain": [
       "                          driver_id     diff  inactive_time\n",
       "0  000211a97ba2b768ef941593bf1ae1a5 10:21:08     621.133333\n",
       "1  000770ada4aa5d856b5a766fb6bf7cf1 01:14:12      74.200000\n",
       "2  0008c9d2ac91c00ef8b3ef80eba02a06 10:14:32     614.533333\n",
       "3  000d0e4bd461b1f964daeb6d21868757 15:58:53     958.883333\n",
       "4  000d7d7fe559c61e98d0a51e23e69bf7 03:14:44     194.733333"
      ]
     },
     "execution_count": 197,
     "metadata": {},
     "output_type": "execute_result"
    }
   ],
   "source": [
    "total_inactive_time.head(5)"
   ]
  },
  {
   "cell_type": "code",
   "execution_count": 266,
   "metadata": {},
   "outputs": [
    {
     "data": {
      "text/html": [
       "<div>\n",
       "<style scoped>\n",
       "    .dataframe tbody tr th:only-of-type {\n",
       "        vertical-align: middle;\n",
       "    }\n",
       "\n",
       "    .dataframe tbody tr th {\n",
       "        vertical-align: top;\n",
       "    }\n",
       "\n",
       "    .dataframe thead th {\n",
       "        text-align: right;\n",
       "    }\n",
       "</style>\n",
       "<table border=\"1\" class=\"dataframe\">\n",
       "  <thead>\n",
       "    <tr style=\"text-align: right;\">\n",
       "      <th></th>\n",
       "      <th>driver_id</th>\n",
       "      <th>active_time</th>\n",
       "      <th>ride_duration</th>\n",
       "      <th>inactive_time</th>\n",
       "      <th>modified_active_time</th>\n",
       "      <th>modified_active_time_with_rules</th>\n",
       "    </tr>\n",
       "  </thead>\n",
       "  <tbody>\n",
       "    <tr>\n",
       "      <td>0</td>\n",
       "      <td>0000131d486b69eb77ab6e9e7cca9f4c</td>\n",
       "      <td>105.050000</td>\n",
       "      <td>75.583333</td>\n",
       "      <td>0.000000</td>\n",
       "      <td>105.050000</td>\n",
       "      <td>105.050000</td>\n",
       "    </tr>\n",
       "    <tr>\n",
       "      <td>1</td>\n",
       "      <td>000211a97ba2b768ef941593bf1ae1a5</td>\n",
       "      <td>741.416667</td>\n",
       "      <td>157.016667</td>\n",
       "      <td>621.133333</td>\n",
       "      <td>120.283333</td>\n",
       "      <td>120.283333</td>\n",
       "    </tr>\n",
       "    <tr>\n",
       "      <td>2</td>\n",
       "      <td>000770ada4aa5d856b5a766fb6bf7cf1</td>\n",
       "      <td>194.150000</td>\n",
       "      <td>87.900000</td>\n",
       "      <td>74.200000</td>\n",
       "      <td>119.950000</td>\n",
       "      <td>134.150000</td>\n",
       "    </tr>\n",
       "    <tr>\n",
       "      <td>3</td>\n",
       "      <td>0007a380800445346fff19afc4071ce3</td>\n",
       "      <td>23.650000</td>\n",
       "      <td>23.650000</td>\n",
       "      <td>0.000000</td>\n",
       "      <td>23.650000</td>\n",
       "      <td>23.650000</td>\n",
       "    </tr>\n",
       "    <tr>\n",
       "      <td>4</td>\n",
       "      <td>0008c9d2ac91c00ef8b3ef80eba02a06</td>\n",
       "      <td>824.150000</td>\n",
       "      <td>142.766667</td>\n",
       "      <td>614.533333</td>\n",
       "      <td>209.616667</td>\n",
       "      <td>209.616667</td>\n",
       "    </tr>\n",
       "    <tr>\n",
       "      <td>5</td>\n",
       "      <td>00095da02ea38d4d8eaa120201e38ae9</td>\n",
       "      <td>25.366667</td>\n",
       "      <td>25.366667</td>\n",
       "      <td>0.000000</td>\n",
       "      <td>25.366667</td>\n",
       "      <td>25.366667</td>\n",
       "    </tr>\n",
       "    <tr>\n",
       "      <td>6</td>\n",
       "      <td>000d0e4bd461b1f964daeb6d21868757</td>\n",
       "      <td>1114.050000</td>\n",
       "      <td>130.500000</td>\n",
       "      <td>958.883333</td>\n",
       "      <td>155.166667</td>\n",
       "      <td>155.166667</td>\n",
       "    </tr>\n",
       "    <tr>\n",
       "      <td>7</td>\n",
       "      <td>000d7d7fe559c61e98d0a51e23e69bf7</td>\n",
       "      <td>578.250000</td>\n",
       "      <td>272.883333</td>\n",
       "      <td>194.733333</td>\n",
       "      <td>383.516667</td>\n",
       "      <td>518.250000</td>\n",
       "    </tr>\n",
       "    <tr>\n",
       "      <td>8</td>\n",
       "      <td>000db06fb2f4a700c4105348643f593e</td>\n",
       "      <td>19.350000</td>\n",
       "      <td>19.350000</td>\n",
       "      <td>0.000000</td>\n",
       "      <td>19.350000</td>\n",
       "      <td>19.350000</td>\n",
       "    </tr>\n",
       "    <tr>\n",
       "      <td>9</td>\n",
       "      <td>000f63bea1c5b36b439d6fa60ee6cac7</td>\n",
       "      <td>564.366667</td>\n",
       "      <td>183.166667</td>\n",
       "      <td>338.916667</td>\n",
       "      <td>225.450000</td>\n",
       "      <td>225.450000</td>\n",
       "    </tr>\n",
       "  </tbody>\n",
       "</table>\n",
       "</div>"
      ],
      "text/plain": [
       "                          driver_id  active_time  ride_duration  \\\n",
       "0  0000131d486b69eb77ab6e9e7cca9f4c   105.050000      75.583333   \n",
       "1  000211a97ba2b768ef941593bf1ae1a5   741.416667     157.016667   \n",
       "2  000770ada4aa5d856b5a766fb6bf7cf1   194.150000      87.900000   \n",
       "3  0007a380800445346fff19afc4071ce3    23.650000      23.650000   \n",
       "4  0008c9d2ac91c00ef8b3ef80eba02a06   824.150000     142.766667   \n",
       "5  00095da02ea38d4d8eaa120201e38ae9    25.366667      25.366667   \n",
       "6  000d0e4bd461b1f964daeb6d21868757  1114.050000     130.500000   \n",
       "7  000d7d7fe559c61e98d0a51e23e69bf7   578.250000     272.883333   \n",
       "8  000db06fb2f4a700c4105348643f593e    19.350000      19.350000   \n",
       "9  000f63bea1c5b36b439d6fa60ee6cac7   564.366667     183.166667   \n",
       "\n",
       "   inactive_time  modified_active_time  modified_active_time_with_rules  \n",
       "0       0.000000            105.050000                       105.050000  \n",
       "1     621.133333            120.283333                       120.283333  \n",
       "2      74.200000            119.950000                       134.150000  \n",
       "3       0.000000             23.650000                        23.650000  \n",
       "4     614.533333            209.616667                       209.616667  \n",
       "5       0.000000             25.366667                        25.366667  \n",
       "6     958.883333            155.166667                       155.166667  \n",
       "7     194.733333            383.516667                       518.250000  \n",
       "8       0.000000             19.350000                        19.350000  \n",
       "9     338.916667            225.450000                       225.450000  "
      ]
     },
     "execution_count": 266,
     "metadata": {},
     "output_type": "execute_result"
    }
   ],
   "source": [
    "driver_stats_updated = driver_stats.merge(total_inactive_time[['driver_id', 'inactive_time']], on='driver_id', how='left').fillna(0)\n",
    "driver_stats_updated['modified_active_time'] = driver_stats_updated['active_time'] - driver_stats_updated['inactive_time']\n",
    "driver_stats_updated['modified_active_time_with_rules'] = driver_stats_updated['active_time'] - np.where((driver_stats_updated['inactive_time'] > 240) | (driver_stats_updated['inactive_time'] == 0 ), driver_stats_updated['inactive_time'], 60)\n",
    "driver_stats_updated.head(10)"
   ]
  },
  {
   "cell_type": "code",
   "execution_count": 260,
   "metadata": {},
   "outputs": [
    {
     "data": {
      "text/html": [
       "<div>\n",
       "<style scoped>\n",
       "    .dataframe tbody tr th:only-of-type {\n",
       "        vertical-align: middle;\n",
       "    }\n",
       "\n",
       "    .dataframe tbody tr th {\n",
       "        vertical-align: top;\n",
       "    }\n",
       "\n",
       "    .dataframe thead th {\n",
       "        text-align: right;\n",
       "    }\n",
       "</style>\n",
       "<table border=\"1\" class=\"dataframe\">\n",
       "  <thead>\n",
       "    <tr style=\"text-align: right;\">\n",
       "      <th></th>\n",
       "      <th>active_time</th>\n",
       "      <th>ride_duration</th>\n",
       "      <th>inactive_time</th>\n",
       "      <th>modified_active_time</th>\n",
       "    </tr>\n",
       "  </thead>\n",
       "  <tbody>\n",
       "    <tr>\n",
       "      <td>count</td>\n",
       "      <td>35449.000000</td>\n",
       "      <td>35449.000000</td>\n",
       "      <td>35449.000000</td>\n",
       "      <td>35449.000000</td>\n",
       "    </tr>\n",
       "    <tr>\n",
       "      <td>mean</td>\n",
       "      <td>339.820956</td>\n",
       "      <td>110.729417</td>\n",
       "      <td>190.999581</td>\n",
       "      <td>166.151498</td>\n",
       "    </tr>\n",
       "    <tr>\n",
       "      <td>std</td>\n",
       "      <td>342.241304</td>\n",
       "      <td>84.044857</td>\n",
       "      <td>287.326912</td>\n",
       "      <td>137.189493</td>\n",
       "    </tr>\n",
       "    <tr>\n",
       "      <td>min</td>\n",
       "      <td>0.066667</td>\n",
       "      <td>0.066667</td>\n",
       "      <td>0.000000</td>\n",
       "      <td>0.066667</td>\n",
       "    </tr>\n",
       "    <tr>\n",
       "      <td>25%</td>\n",
       "      <td>60.616667</td>\n",
       "      <td>44.533333</td>\n",
       "      <td>0.000000</td>\n",
       "      <td>55.316667</td>\n",
       "    </tr>\n",
       "    <tr>\n",
       "      <td>50%</td>\n",
       "      <td>218.300000</td>\n",
       "      <td>89.066667</td>\n",
       "      <td>65.050000</td>\n",
       "      <td>129.850000</td>\n",
       "    </tr>\n",
       "    <tr>\n",
       "      <td>75%</td>\n",
       "      <td>536.850000</td>\n",
       "      <td>156.600000</td>\n",
       "      <td>288.266667</td>\n",
       "      <td>242.016667</td>\n",
       "    </tr>\n",
       "    <tr>\n",
       "      <td>max</td>\n",
       "      <td>1509.083333</td>\n",
       "      <td>677.566667</td>\n",
       "      <td>1401.650000</td>\n",
       "      <td>911.733333</td>\n",
       "    </tr>\n",
       "  </tbody>\n",
       "</table>\n",
       "</div>"
      ],
      "text/plain": [
       "        active_time  ride_duration  inactive_time  modified_active_time\n",
       "count  35449.000000   35449.000000   35449.000000          35449.000000\n",
       "mean     339.820956     110.729417     190.999581            166.151498\n",
       "std      342.241304      84.044857     287.326912            137.189493\n",
       "min        0.066667       0.066667       0.000000              0.066667\n",
       "25%       60.616667      44.533333       0.000000             55.316667\n",
       "50%      218.300000      89.066667      65.050000            129.850000\n",
       "75%      536.850000     156.600000     288.266667            242.016667\n",
       "max     1509.083333     677.566667    1401.650000            911.733333"
      ]
     },
     "execution_count": 260,
     "metadata": {},
     "output_type": "execute_result"
    }
   ],
   "source": [
    "driver_stats_updated.describe()"
   ]
  },
  {
   "cell_type": "code",
   "execution_count": 267,
   "metadata": {},
   "outputs": [],
   "source": [
    "list_of_drivers_with_less_active_time = set(driver_stats_updated[np.round(driver_stats_updated.ride_duration/driver_stats_updated.modified_active_time, 2) > 1]['driver_id'].drop_duplicates())"
   ]
  },
  {
   "cell_type": "code",
   "execution_count": 268,
   "metadata": {},
   "outputs": [
    {
     "name": "stdout",
     "output_type": "stream",
     "text": [
      "1125\n"
     ]
    },
    {
     "data": {
      "text/plain": [
       "1125"
      ]
     },
     "execution_count": 268,
     "metadata": {},
     "output_type": "execute_result"
    }
   ],
   "source": [
    "print(len(list_of_drivers_with_less_active_time))\n",
    "len(list_of_drivers.intersection(list_of_drivers_with_less_active_time))"
   ]
  },
  {
   "cell_type": "code",
   "execution_count": 269,
   "metadata": {},
   "outputs": [],
   "source": [
    "other_drivers = list_of_drivers_with_less_active_time.difference(list_of_drivers)"
   ]
  },
  {
   "cell_type": "code",
   "execution_count": 281,
   "metadata": {},
   "outputs": [
    {
     "data": {
      "text/html": [
       "<div>\n",
       "<style scoped>\n",
       "    .dataframe tbody tr th:only-of-type {\n",
       "        vertical-align: middle;\n",
       "    }\n",
       "\n",
       "    .dataframe tbody tr th {\n",
       "        vertical-align: top;\n",
       "    }\n",
       "\n",
       "    .dataframe thead th {\n",
       "        text-align: right;\n",
       "    }\n",
       "</style>\n",
       "<table border=\"1\" class=\"dataframe\">\n",
       "  <thead>\n",
       "    <tr style=\"text-align: right;\">\n",
       "      <th></th>\n",
       "      <th>order_id</th>\n",
       "      <th>ride_start_timestamp</th>\n",
       "      <th>ride_stop_timestamp</th>\n",
       "      <th>pickup_longitude</th>\n",
       "      <th>pickup_latitude</th>\n",
       "      <th>dropoff_longitude</th>\n",
       "      <th>dropoff_latitude</th>\n",
       "      <th>ride_duration</th>\n",
       "      <th>driver_id</th>\n",
       "    </tr>\n",
       "  </thead>\n",
       "  <tbody>\n",
       "    <tr>\n",
       "      <td>63461</td>\n",
       "      <td>7a4833b8e39db563365e485f3c16feb5</td>\n",
       "      <td>2016-11-01 01:29:41</td>\n",
       "      <td>2016-11-01 01:45:47</td>\n",
       "      <td>104.01616</td>\n",
       "      <td>30.67141</td>\n",
       "      <td>104.060430</td>\n",
       "      <td>30.670650</td>\n",
       "      <td>16.100000</td>\n",
       "      <td>000211a97ba2b768ef941593bf1ae1a5</td>\n",
       "    </tr>\n",
       "    <tr>\n",
       "      <td>63462</td>\n",
       "      <td>32eb295835b821f4b01c9eb9292bd534</td>\n",
       "      <td>2016-11-01 12:06:55</td>\n",
       "      <td>2016-11-01 12:28:25</td>\n",
       "      <td>104.05099</td>\n",
       "      <td>30.63277</td>\n",
       "      <td>104.118610</td>\n",
       "      <td>30.661450</td>\n",
       "      <td>21.500000</td>\n",
       "      <td>000211a97ba2b768ef941593bf1ae1a5</td>\n",
       "    </tr>\n",
       "    <tr>\n",
       "      <td>63463</td>\n",
       "      <td>1bd834f316b12c5f76848a7382c554e9</td>\n",
       "      <td>2016-11-01 12:43:34</td>\n",
       "      <td>2016-11-01 13:24:56</td>\n",
       "      <td>104.12024</td>\n",
       "      <td>30.66279</td>\n",
       "      <td>104.136750</td>\n",
       "      <td>30.609250</td>\n",
       "      <td>41.366667</td>\n",
       "      <td>000211a97ba2b768ef941593bf1ae1a5</td>\n",
       "    </tr>\n",
       "    <tr>\n",
       "      <td>63464</td>\n",
       "      <td>0bb417e0e260876d3c7b6d7afc7e0c7f</td>\n",
       "      <td>2016-11-01 12:49:50</td>\n",
       "      <td>2016-11-01 13:10:00</td>\n",
       "      <td>104.11256</td>\n",
       "      <td>30.66713</td>\n",
       "      <td>104.116592</td>\n",
       "      <td>30.642699</td>\n",
       "      <td>20.166667</td>\n",
       "      <td>000211a97ba2b768ef941593bf1ae1a5</td>\n",
       "    </tr>\n",
       "    <tr>\n",
       "      <td>63465</td>\n",
       "      <td>dc90a199ba3767ee64c7b24c0835811d</td>\n",
       "      <td>2016-11-01 12:53:13</td>\n",
       "      <td>2016-11-01 13:51:06</td>\n",
       "      <td>104.11101</td>\n",
       "      <td>30.66978</td>\n",
       "      <td>104.056580</td>\n",
       "      <td>30.531100</td>\n",
       "      <td>57.883333</td>\n",
       "      <td>000211a97ba2b768ef941593bf1ae1a5</td>\n",
       "    </tr>\n",
       "  </tbody>\n",
       "</table>\n",
       "</div>"
      ],
      "text/plain": [
       "                               order_id ride_start_timestamp  \\\n",
       "63461  7a4833b8e39db563365e485f3c16feb5  2016-11-01 01:29:41   \n",
       "63462  32eb295835b821f4b01c9eb9292bd534  2016-11-01 12:06:55   \n",
       "63463  1bd834f316b12c5f76848a7382c554e9  2016-11-01 12:43:34   \n",
       "63464  0bb417e0e260876d3c7b6d7afc7e0c7f  2016-11-01 12:49:50   \n",
       "63465  dc90a199ba3767ee64c7b24c0835811d  2016-11-01 12:53:13   \n",
       "\n",
       "      ride_stop_timestamp  pickup_longitude  pickup_latitude  \\\n",
       "63461 2016-11-01 01:45:47         104.01616         30.67141   \n",
       "63462 2016-11-01 12:28:25         104.05099         30.63277   \n",
       "63463 2016-11-01 13:24:56         104.12024         30.66279   \n",
       "63464 2016-11-01 13:10:00         104.11256         30.66713   \n",
       "63465 2016-11-01 13:51:06         104.11101         30.66978   \n",
       "\n",
       "       dropoff_longitude  dropoff_latitude  ride_duration  \\\n",
       "63461         104.060430         30.670650      16.100000   \n",
       "63462         104.118610         30.661450      21.500000   \n",
       "63463         104.136750         30.609250      41.366667   \n",
       "63464         104.116592         30.642699      20.166667   \n",
       "63465         104.056580         30.531100      57.883333   \n",
       "\n",
       "                              driver_id  \n",
       "63461  000211a97ba2b768ef941593bf1ae1a5  \n",
       "63462  000211a97ba2b768ef941593bf1ae1a5  \n",
       "63463  000211a97ba2b768ef941593bf1ae1a5  \n",
       "63464  000211a97ba2b768ef941593bf1ae1a5  \n",
       "63465  000211a97ba2b768ef941593bf1ae1a5  "
      ]
     },
     "execution_count": 281,
     "metadata": {},
     "output_type": "execute_result"
    }
   ],
   "source": [
    "orders[orders['driver_id'] == '000211a97ba2b768ef941593bf1ae1a5']"
   ]
  },
  {
   "cell_type": "code",
   "execution_count": 270,
   "metadata": {},
   "outputs": [
    {
     "data": {
      "text/html": [
       "<div>\n",
       "<style scoped>\n",
       "    .dataframe tbody tr th:only-of-type {\n",
       "        vertical-align: middle;\n",
       "    }\n",
       "\n",
       "    .dataframe tbody tr th {\n",
       "        vertical-align: top;\n",
       "    }\n",
       "\n",
       "    .dataframe thead th {\n",
       "        text-align: right;\n",
       "    }\n",
       "</style>\n",
       "<table border=\"1\" class=\"dataframe\">\n",
       "  <thead>\n",
       "    <tr style=\"text-align: right;\">\n",
       "      <th></th>\n",
       "      <th>order_id</th>\n",
       "      <th>ride_start_timestamp</th>\n",
       "      <th>ride_stop_timestamp</th>\n",
       "      <th>pickup_longitude</th>\n",
       "      <th>pickup_latitude</th>\n",
       "      <th>dropoff_longitude</th>\n",
       "      <th>dropoff_latitude</th>\n",
       "      <th>ride_duration</th>\n",
       "      <th>driver_id</th>\n",
       "    </tr>\n",
       "  </thead>\n",
       "  <tbody>\n",
       "    <tr>\n",
       "      <td>125657</td>\n",
       "      <td>fcbedec502f7345f9e31e772740a2282</td>\n",
       "      <td>2016-11-01 03:57:24</td>\n",
       "      <td>2016-11-01 04:21:34</td>\n",
       "      <td>104.037900</td>\n",
       "      <td>30.683320</td>\n",
       "      <td>104.054050</td>\n",
       "      <td>30.761350</td>\n",
       "      <td>24.166667</td>\n",
       "      <td>0050696e4d0dc155665ca7da5babc12c</td>\n",
       "    </tr>\n",
       "    <tr>\n",
       "      <td>125658</td>\n",
       "      <td>bff057039ae8c8f7bf4178b58e2f3859</td>\n",
       "      <td>2016-11-01 02:45:32</td>\n",
       "      <td>2016-11-01 03:21:23</td>\n",
       "      <td>104.065901</td>\n",
       "      <td>30.684108</td>\n",
       "      <td>103.956000</td>\n",
       "      <td>30.672830</td>\n",
       "      <td>35.850000</td>\n",
       "      <td>0050696e4d0dc155665ca7da5babc12c</td>\n",
       "    </tr>\n",
       "    <tr>\n",
       "      <td>125659</td>\n",
       "      <td>5532e75ce163bc39f5ca89627dff36e1</td>\n",
       "      <td>2016-11-01 01:30:16</td>\n",
       "      <td>2016-11-01 01:45:16</td>\n",
       "      <td>104.076576</td>\n",
       "      <td>30.713537</td>\n",
       "      <td>104.092228</td>\n",
       "      <td>30.684789</td>\n",
       "      <td>15.000000</td>\n",
       "      <td>0050696e4d0dc155665ca7da5babc12c</td>\n",
       "    </tr>\n",
       "    <tr>\n",
       "      <td>125660</td>\n",
       "      <td>6b9ca0e1b350b3033752ee5ff9f22179</td>\n",
       "      <td>2016-11-01 01:50:26</td>\n",
       "      <td>2016-11-01 02:04:17</td>\n",
       "      <td>104.092000</td>\n",
       "      <td>30.684420</td>\n",
       "      <td>104.090810</td>\n",
       "      <td>30.646880</td>\n",
       "      <td>13.850000</td>\n",
       "      <td>0050696e4d0dc155665ca7da5babc12c</td>\n",
       "    </tr>\n",
       "    <tr>\n",
       "      <td>125661</td>\n",
       "      <td>c37ace2710a48971a9b43e355edb5d46</td>\n",
       "      <td>2016-11-01 02:11:19</td>\n",
       "      <td>2016-11-01 02:26:38</td>\n",
       "      <td>104.093820</td>\n",
       "      <td>30.646280</td>\n",
       "      <td>104.074390</td>\n",
       "      <td>30.670470</td>\n",
       "      <td>15.316667</td>\n",
       "      <td>0050696e4d0dc155665ca7da5babc12c</td>\n",
       "    </tr>\n",
       "    <tr>\n",
       "      <td>125662</td>\n",
       "      <td>4c2696252361d0b22c6885d0abff9f8c</td>\n",
       "      <td>2016-11-01 02:30:35</td>\n",
       "      <td>2016-11-01 02:36:44</td>\n",
       "      <td>104.075600</td>\n",
       "      <td>30.671690</td>\n",
       "      <td>104.073590</td>\n",
       "      <td>30.685470</td>\n",
       "      <td>6.150000</td>\n",
       "      <td>0050696e4d0dc155665ca7da5babc12c</td>\n",
       "    </tr>\n",
       "    <tr>\n",
       "      <td>125663</td>\n",
       "      <td>13b14221c53516781bf24bba4a6fa1d9</td>\n",
       "      <td>2016-11-01 02:40:55</td>\n",
       "      <td>2016-11-01 03:09:38</td>\n",
       "      <td>104.072400</td>\n",
       "      <td>30.682310</td>\n",
       "      <td>104.001490</td>\n",
       "      <td>30.671570</td>\n",
       "      <td>28.716667</td>\n",
       "      <td>0050696e4d0dc155665ca7da5babc12c</td>\n",
       "    </tr>\n",
       "  </tbody>\n",
       "</table>\n",
       "</div>"
      ],
      "text/plain": [
       "                                order_id ride_start_timestamp  \\\n",
       "125657  fcbedec502f7345f9e31e772740a2282  2016-11-01 03:57:24   \n",
       "125658  bff057039ae8c8f7bf4178b58e2f3859  2016-11-01 02:45:32   \n",
       "125659  5532e75ce163bc39f5ca89627dff36e1  2016-11-01 01:30:16   \n",
       "125660  6b9ca0e1b350b3033752ee5ff9f22179  2016-11-01 01:50:26   \n",
       "125661  c37ace2710a48971a9b43e355edb5d46  2016-11-01 02:11:19   \n",
       "125662  4c2696252361d0b22c6885d0abff9f8c  2016-11-01 02:30:35   \n",
       "125663  13b14221c53516781bf24bba4a6fa1d9  2016-11-01 02:40:55   \n",
       "\n",
       "       ride_stop_timestamp  pickup_longitude  pickup_latitude  \\\n",
       "125657 2016-11-01 04:21:34        104.037900        30.683320   \n",
       "125658 2016-11-01 03:21:23        104.065901        30.684108   \n",
       "125659 2016-11-01 01:45:16        104.076576        30.713537   \n",
       "125660 2016-11-01 02:04:17        104.092000        30.684420   \n",
       "125661 2016-11-01 02:26:38        104.093820        30.646280   \n",
       "125662 2016-11-01 02:36:44        104.075600        30.671690   \n",
       "125663 2016-11-01 03:09:38        104.072400        30.682310   \n",
       "\n",
       "        dropoff_longitude  dropoff_latitude  ride_duration  \\\n",
       "125657         104.054050         30.761350      24.166667   \n",
       "125658         103.956000         30.672830      35.850000   \n",
       "125659         104.092228         30.684789      15.000000   \n",
       "125660         104.090810         30.646880      13.850000   \n",
       "125661         104.074390         30.670470      15.316667   \n",
       "125662         104.073590         30.685470       6.150000   \n",
       "125663         104.001490         30.671570      28.716667   \n",
       "\n",
       "                               driver_id  \n",
       "125657  0050696e4d0dc155665ca7da5babc12c  \n",
       "125658  0050696e4d0dc155665ca7da5babc12c  \n",
       "125659  0050696e4d0dc155665ca7da5babc12c  \n",
       "125660  0050696e4d0dc155665ca7da5babc12c  \n",
       "125661  0050696e4d0dc155665ca7da5babc12c  \n",
       "125662  0050696e4d0dc155665ca7da5babc12c  \n",
       "125663  0050696e4d0dc155665ca7da5babc12c  "
      ]
     },
     "execution_count": 270,
     "metadata": {},
     "output_type": "execute_result"
    }
   ],
   "source": [
    "orders[orders['driver_id'] == '0050696e4d0dc155665ca7da5babc12c']"
   ]
  },
  {
   "cell_type": "code",
   "execution_count": 13,
   "metadata": {},
   "outputs": [
    {
     "data": {
      "text/html": [
       "<div>\n",
       "<style scoped>\n",
       "    .dataframe tbody tr th:only-of-type {\n",
       "        vertical-align: middle;\n",
       "    }\n",
       "\n",
       "    .dataframe tbody tr th {\n",
       "        vertical-align: top;\n",
       "    }\n",
       "\n",
       "    .dataframe thead th {\n",
       "        text-align: right;\n",
       "    }\n",
       "</style>\n",
       "<table border=\"1\" class=\"dataframe\">\n",
       "  <thead>\n",
       "    <tr style=\"text-align: right;\">\n",
       "      <th></th>\n",
       "      <th>order_id</th>\n",
       "      <th>ride_start_timestamp</th>\n",
       "      <th>ride_stop_timestamp</th>\n",
       "      <th>pickup_longitude</th>\n",
       "      <th>pickup_latitude</th>\n",
       "      <th>dropoff_longitude</th>\n",
       "      <th>dropoff_latitude</th>\n",
       "      <th>ride_duration</th>\n",
       "      <th>driver_id</th>\n",
       "    </tr>\n",
       "  </thead>\n",
       "  <tbody>\n",
       "    <tr>\n",
       "      <td>93444</td>\n",
       "      <td>dd9b252638479fb784b705492bdf1a65</td>\n",
       "      <td>2016-11-01 04:58:45</td>\n",
       "      <td>2016-11-01 05:42:08</td>\n",
       "      <td>104.11077</td>\n",
       "      <td>30.6595</td>\n",
       "      <td>104.10318</td>\n",
       "      <td>30.64303</td>\n",
       "      <td>43.383333</td>\n",
       "      <td>0000131d486b69eb77ab6e9e7cca9f4c</td>\n",
       "    </tr>\n",
       "  </tbody>\n",
       "</table>\n",
       "</div>"
      ],
      "text/plain": [
       "                               order_id ride_start_timestamp  \\\n",
       "93444  dd9b252638479fb784b705492bdf1a65  2016-11-01 04:58:45   \n",
       "\n",
       "      ride_stop_timestamp  pickup_longitude  pickup_latitude  \\\n",
       "93444 2016-11-01 05:42:08         104.11077          30.6595   \n",
       "\n",
       "       dropoff_longitude  dropoff_latitude  ride_duration  \\\n",
       "93444          104.10318          30.64303      43.383333   \n",
       "\n",
       "                              driver_id  \n",
       "93444  0000131d486b69eb77ab6e9e7cca9f4c  "
      ]
     },
     "execution_count": 13,
     "metadata": {},
     "output_type": "execute_result"
    }
   ],
   "source": [
    "orders[orders['order_id'] == 'dd9b252638479fb784b705492bdf1a65'].drop_duplicates()"
   ]
  },
  {
   "cell_type": "markdown",
   "metadata": {},
   "source": [
    "## Scatter plot"
   ]
  },
  {
   "cell_type": "code",
   "execution_count": 237,
   "metadata": {},
   "outputs": [],
   "source": [
    "import matplotlib.pyplot as plt\n",
    "%matplotlib inline"
   ]
  },
  {
   "cell_type": "markdown",
   "metadata": {},
   "source": [
    "First we plot the active time vs the ride duration"
   ]
  },
  {
   "cell_type": "code",
   "execution_count": 275,
   "metadata": {},
   "outputs": [
    {
     "data": {
      "text/plain": [
       "[]"
      ]
     },
     "execution_count": 275,
     "metadata": {},
     "output_type": "execute_result"
    },
    {
     "data": {
      "image/png": "[encoded data removed]",
      "text/plain": [
       "<Figure size 432x288 with 1 Axes>"
      ]
     },
     "metadata": {
      "needs_background": "light"
     },
     "output_type": "display_data"
    }
   ],
   "source": [
    "plt.scatter(driver_stats_updated['active_time'], driver_stats_updated['ride_duration'], c='b', alpha=0.2)\n",
    "plt.ylabel('total ride duration')\n",
    "plt.xlabel('Modified active time')\n",
    "x = np.linspace(*ax.get_xlim())\n",
    "plt.plot(x, [0]*len(x))\n",
    "plt.plot(x, x, color='red')\n",
    "plt.plot()"
   ]
  },
  {
   "cell_type": "code",
   "execution_count": 279,
   "metadata": {},
   "outputs": [
    {
     "data": {
      "text/plain": [
       "<matplotlib.axes._subplots.AxesSubplot at 0x4a52bed30>"
      ]
     },
     "execution_count": 279,
     "metadata": {},
     "output_type": "execute_result"
    },
    {
     "data": {
      "image/png": "[encoded data removed]",
      "text/plain": [
       "<Figure size 432x288 with 1 Axes>"
      ]
     },
     "metadata": {
      "needs_background": "light"
     },
     "output_type": "display_data"
    }
   ],
   "source": [
    "driver_stats_updated['active_time'].plot.hist()"
   ]
  },
  {
   "cell_type": "markdown",
   "metadata": {},
   "source": [
    "From the above 2 graphs, it shows that a driver has been really active for more than 20 hours. This seems to indicate that the driver worked really late in the night and then came back in the morning. This actually should be removed from the data"
   ]
  },
  {
   "cell_type": "markdown",
   "metadata": {},
   "source": [
    "Now when we subtract the periods where the inactivity of a driver was greater than an hour. This would seem to indicate that the driver turned off the app to have lunch or dinner. "
   ]
  },
  {
   "cell_type": "code",
   "execution_count": 280,
   "metadata": {},
   "outputs": [
    {
     "data": {
      "text/plain": [
       "<matplotlib.axes._subplots.AxesSubplot at 0x4a48e3780>"
      ]
     },
     "execution_count": 280,
     "metadata": {},
     "output_type": "execute_result"
    },
    {
     "data": {
      "image/png": "[encoded data removed]",
      "text/plain": [
       "<Figure size 432x288 with 1 Axes>"
      ]
     },
     "metadata": {
      "needs_background": "light"
     },
     "output_type": "display_data"
    }
   ],
   "source": [
    "driver_stats_updated['modified_active_time'].plot.hist()"
   ]
  },
  {
   "cell_type": "markdown",
   "metadata": {},
   "source": [
    "Our hypothesis is proven correct and the significant values in the tail have been removed"
   ]
  },
  {
   "cell_type": "markdown",
   "metadata": {},
   "source": [
    "We next plot the modfied active time with ride duration"
   ]
  },
  {
   "cell_type": "code",
   "execution_count": 273,
   "metadata": {},
   "outputs": [
    {
     "data": {
      "text/plain": [
       "[]"
      ]
     },
     "execution_count": 273,
     "metadata": {},
     "output_type": "execute_result"
    },
    {
     "data": {
      "image/png": "[encoded data removed]",
      "text/plain": [
       "<Figure size 432x288 with 1 Axes>"
      ]
     },
     "metadata": {
      "needs_background": "light"
     },
     "output_type": "display_data"
    }
   ],
   "source": [
    "#fig, ax = plt.subplots(figsize=(10,10))\n",
    "# plt.figure(figsize=(10,10))\n",
    "plt.scatter(driver_stats_updated['modified_active_time'], driver_stats_updated['ride_duration'], c='b', alpha=0.2)\n",
    "plt.ylabel('total ride duration')\n",
    "plt.xlabel('Modified active time')\n",
    "x = np.linspace(*ax.get_xlim())\n",
    "plt.plot(x, [0]*len(x))\n",
    "plt.plot(x, x, color='red')\n",
    "plt.plot()"
   ]
  },
  {
   "cell_type": "markdown",
   "metadata": {},
   "source": [
    "One issue with this scenario that we thought of was that a driver could pick up 2 rides in a day with a difference between them being greater than an hour. This would indicate that the driver was active for the whole period by our logic. So we created a rule where if the period of inactivity was less than 4 hours, we would only count his period of inactivity to be an hour. For greater than 4 hours, the whole period is considered inactive"
   ]
  },
  {
   "cell_type": "code",
   "execution_count": 274,
   "metadata": {},
   "outputs": [
    {
     "data": {
      "text/plain": [
       "[]"
      ]
     },
     "execution_count": 274,
     "metadata": {},
     "output_type": "execute_result"
    },
    {
     "data": {
      "image/png": "[encoded data removed]",
      "text/plain": [
       "<Figure size 432x288 with 1 Axes>"
      ]
     },
     "metadata": {
      "needs_background": "light"
     },
     "output_type": "display_data"
    }
   ],
   "source": [
    "# fig, ax = plt.subplots(figsize=(10,10))\n",
    "# plt.figure(figsize=(10,10))\n",
    "plt.scatter(driver_stats_updated['modified_active_time_with_rules'], driver_stats_updated['ride_duration'], c='b', alpha=0.2)\n",
    "plt.ylabel('total ride duration')\n",
    "plt.xlabel('Modified active time')\n",
    "x = np.linspace(*ax.get_xlim())\n",
    "plt.plot(x, [0]*len(x))\n",
    "plt.plot(x, x, color='red')\n",
    "plt.plot()"
   ]
  }
 ],
 "metadata": {
  "kernelspec": {
   "display_name": "Python 3",
   "language": "python",
   "name": "python3"
  },
  "language_info": {
   "codemirror_mode": {
    "name": "ipython",
    "version": 3
   },
   "file_extension": ".py",
   "mimetype": "text/x-python",
   "name": "python",
   "nbconvert_exporter": "python",
   "pygments_lexer": "ipython3",
   "version": "3.7.3"
  }
 },
 "nbformat": 4,
 "nbformat_minor": 2
}
