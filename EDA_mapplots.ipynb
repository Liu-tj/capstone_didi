{
 "cells": [
  {
   "cell_type": "markdown",
   "metadata": {},
   "source": [
    "## LOADER"
   ]
  },
  {
   "cell_type": "code",
   "execution_count": 1,
   "metadata": {
    "pycharm": {
     "is_executing": false
    }
   },
   "outputs": [],
   "source": [
    "import sys\n",
    "from sys import platform"
   ]
  },
  {
   "cell_type": "code",
   "execution_count": 2,
   "metadata": {},
   "outputs": [],
   "source": [
    "if platform  == 'win32':\n",
    "    sys.argv=[\"_\", r\"P:\\rmahajan14\\ndte_data\\muni_data\", \"20170101\", \"20190930\"]\n",
    "if platform == 'linux' or platform == 'linux2':\n",
    "    def full_path(p):\n",
    "        return os.path.abspath(os.path.expanduser(p))\n",
    "    sys.argv=[\"_\", r\"/mnt/d/DiDi_Ride_Data/data\", r\"/mnt/d/DiDi_Ride_Data/Ride_Data_Cache\"]"
   ]
  },
  {
   "cell_type": "code",
   "execution_count": 3,
   "metadata": {
    "pycharm": {
     "is_executing": false
    }
   },
   "outputs": [],
   "source": [
    "from loader1 import *\n",
    "from utils import *\n",
    "from common import *\n",
    "# from sys import platform\n",
    "\n",
    "import warnings\n",
    "warnings.filterwarnings('ignore')"
   ]
  },
  {
   "cell_type": "code",
   "execution_count": 5,
   "metadata": {
    "pycharm": {
     "is_executing": false
    },
    "scrolled": true
   },
   "outputs": [
    {
     "name": "stdout",
     "output_type": "stream",
     "text": [
      "Processing 1 of 30 files\n",
      "gps_20161114\n",
      "order_20161114\n",
      "Processing 2 of 30 files\n",
      "gps_20161128\n",
      "order_20161128\n",
      "Processing 3 of 30 files\n",
      "gps_20161117\n",
      "order_20161117\n",
      "Processing 4 of 30 files\n",
      "gps_20161112\n",
      "order_20161112\n",
      "Processing 5 of 30 files\n",
      "gps_20161106\n",
      "order_20161106\n",
      "Processing 6 of 30 files\n",
      "gps_20161110\n",
      "order_20161110\n",
      "Processing 7 of 30 files\n",
      "gps_20161130\n",
      "order_20161130\n",
      "Processing 8 of 30 files\n",
      "gps_20161103\n",
      "order_20161103\n",
      "Processing 9 of 30 files\n",
      "gps_20161115\n",
      "order_20161115\n",
      "Processing 10 of 30 files\n",
      "gps_20161102\n",
      "order_20161102\n",
      "Processing 11 of 30 files\n",
      "gps_20161107\n",
      "order_20161107\n",
      "Processing 12 of 30 files\n",
      "gps_20161123\n",
      "order_20161123\n",
      "Processing 13 of 30 files\n",
      "gps_20161116\n",
      "order_20161116\n",
      "Processing 14 of 30 files\n",
      "gps_20161119\n",
      "order_20161119\n",
      "Processing 15 of 30 files\n",
      "gps_20161120\n",
      "order_20161120\n",
      "Processing 16 of 30 files\n",
      "gps_20161122\n",
      "order_20161122\n",
      "Processing 17 of 30 files\n",
      "gps_20161111\n",
      "order_20161111\n",
      "Processing 18 of 30 files\n",
      "gps_20161108\n",
      "order_20161108\n",
      "Processing 19 of 30 files\n",
      "gps_20161125\n",
      "order_20161125\n",
      "Processing 20 of 30 files\n",
      "gps_20161124\n",
      "order_20161124\n",
      "Processing 21 of 30 files\n",
      "gps_20161121\n",
      "order_20161121\n",
      "Processing 22 of 30 files\n",
      "gps_20161113\n",
      "order_20161113\n",
      "Processing 23 of 30 files\n",
      "gps_20161129\n",
      "order_20161129\n",
      "Processing 24 of 30 files\n",
      "gps_20161126\n",
      "order_20161126\n",
      "Processing 25 of 30 files\n",
      "gps_20161101\n",
      "order_20161101\n",
      "Processing 26 of 30 files\n",
      "gps_20161105\n",
      "order_20161105\n",
      "Processing 27 of 30 files\n",
      "gps_20161118\n",
      "order_20161118\n",
      "Processing 28 of 30 files\n",
      "gps_20161109\n",
      "order_20161109\n",
      "Processing 29 of 30 files\n",
      "gps_20161127\n",
      "order_20161127\n",
      "Processing 30 of 30 files\n",
      "gps_20161104\n",
      "order_20161104\n"
     ]
    }
   ],
   "source": [
    "_ = load_all()"
   ]
  },
  {
   "cell_type": "markdown",
   "metadata": {},
   "source": [
    "## Process"
   ]
  },
  {
   "cell_type": "code",
   "execution_count": 20,
   "metadata": {
    "scrolled": false
   },
   "outputs": [
    {
     "name": "stdout",
     "output_type": "stream",
     "text": [
      "file path is /mnt/d/DiDi_Ride_Data/Ride_Data_Cache/order_20161101.msgpack\n"
     ]
    }
   ],
   "source": [
    "# gps = read_data('gps')\n",
    "orders = read_data('order', '20161101')"
   ]
  },
  {
   "cell_type": "code",
   "execution_count": 5,
   "metadata": {},
   "outputs": [
    {
     "data": {
      "text/html": [
       "<div>\n",
       "<style scoped>\n",
       "    .dataframe tbody tr th:only-of-type {\n",
       "        vertical-align: middle;\n",
       "    }\n",
       "\n",
       "    .dataframe tbody tr th {\n",
       "        vertical-align: top;\n",
       "    }\n",
       "\n",
       "    .dataframe thead th {\n",
       "        text-align: right;\n",
       "    }\n",
       "</style>\n",
       "<table border=\"1\" class=\"dataframe\">\n",
       "  <thead>\n",
       "    <tr style=\"text-align: right;\">\n",
       "      <th></th>\n",
       "      <th>order_id</th>\n",
       "      <th>ride_start_timestamp</th>\n",
       "      <th>ride_stop_timestamp</th>\n",
       "      <th>pickup_longitude</th>\n",
       "      <th>pickup_latitude</th>\n",
       "      <th>dropoff_longitude</th>\n",
       "      <th>dropoff_latitude</th>\n",
       "      <th>ride_duration</th>\n",
       "      <th>driver_id</th>\n",
       "    </tr>\n",
       "  </thead>\n",
       "  <tbody>\n",
       "    <tr>\n",
       "      <td>52841</td>\n",
       "      <td>4438a9d369e7531f024772f485aeb0c1</td>\n",
       "      <td>2016-11-21 13:56:37</td>\n",
       "      <td>2016-11-21 14:15:31</td>\n",
       "      <td>104.090340</td>\n",
       "      <td>30.657047</td>\n",
       "      <td>104.01371</td>\n",
       "      <td>30.70523</td>\n",
       "      <td>18.900000</td>\n",
       "      <td>8bcb3fca2eb35d9deaffc274f005d2b8</td>\n",
       "    </tr>\n",
       "    <tr>\n",
       "      <td>64163</td>\n",
       "      <td>52d98674be5972572bbfe7712f9d2bff</td>\n",
       "      <td>2016-11-21 13:42:31</td>\n",
       "      <td>2016-11-22 07:53:04</td>\n",
       "      <td>104.094231</td>\n",
       "      <td>30.657984</td>\n",
       "      <td>104.03611</td>\n",
       "      <td>30.68324</td>\n",
       "      <td>1090.550000</td>\n",
       "      <td>8bcb3fca2eb35d9deaffc274f005d2b8</td>\n",
       "    </tr>\n",
       "    <tr>\n",
       "      <td>170564</td>\n",
       "      <td>dc89973b9fd6df9e3ca32896b291f0f4</td>\n",
       "      <td>2016-11-21 12:59:24</td>\n",
       "      <td>2016-11-21 13:13:58</td>\n",
       "      <td>104.066739</td>\n",
       "      <td>30.632161</td>\n",
       "      <td>104.09247</td>\n",
       "      <td>30.65782</td>\n",
       "      <td>14.566667</td>\n",
       "      <td>8bcb3fca2eb35d9deaffc274f005d2b8</td>\n",
       "    </tr>\n",
       "  </tbody>\n",
       "</table>\n",
       "</div>"
      ],
      "text/plain": [
       "                                order_id ride_start_timestamp  \\\n",
       "52841   4438a9d369e7531f024772f485aeb0c1  2016-11-21 13:56:37   \n",
       "64163   52d98674be5972572bbfe7712f9d2bff  2016-11-21 13:42:31   \n",
       "170564  dc89973b9fd6df9e3ca32896b291f0f4  2016-11-21 12:59:24   \n",
       "\n",
       "       ride_stop_timestamp  pickup_longitude  pickup_latitude  \\\n",
       "52841  2016-11-21 14:15:31        104.090340        30.657047   \n",
       "64163  2016-11-22 07:53:04        104.094231        30.657984   \n",
       "170564 2016-11-21 13:13:58        104.066739        30.632161   \n",
       "\n",
       "        dropoff_longitude  dropoff_latitude  ride_duration  \\\n",
       "52841           104.01371          30.70523      18.900000   \n",
       "64163           104.03611          30.68324    1090.550000   \n",
       "170564          104.09247          30.65782      14.566667   \n",
       "\n",
       "                               driver_id  \n",
       "52841   8bcb3fca2eb35d9deaffc274f005d2b8  \n",
       "64163   8bcb3fca2eb35d9deaffc274f005d2b8  \n",
       "170564  8bcb3fca2eb35d9deaffc274f005d2b8  "
      ]
     },
     "execution_count": 5,
     "metadata": {},
     "output_type": "execute_result"
    }
   ],
   "source": [
    "orders[orders.driver_id == '8bcb3fca2eb35d9deaffc274f005d2b8']"
   ]
  },
  {
   "cell_type": "code",
   "execution_count": 6,
   "metadata": {},
   "outputs": [],
   "source": [
    "# dropping duplicates\n",
    "orders = orders.drop_duplicates()\n",
    "# gps = gps.drop_duplicates()"
   ]
  },
  {
   "cell_type": "code",
   "execution_count": 7,
   "metadata": {},
   "outputs": [
    {
     "data": {
      "text/html": [
       "<div>\n",
       "<style scoped>\n",
       "    .dataframe tbody tr th:only-of-type {\n",
       "        vertical-align: middle;\n",
       "    }\n",
       "\n",
       "    .dataframe tbody tr th {\n",
       "        vertical-align: top;\n",
       "    }\n",
       "\n",
       "    .dataframe thead th {\n",
       "        text-align: right;\n",
       "    }\n",
       "</style>\n",
       "<table border=\"1\" class=\"dataframe\">\n",
       "  <thead>\n",
       "    <tr style=\"text-align: right;\">\n",
       "      <th></th>\n",
       "      <th>order_id</th>\n",
       "      <th>ride_start_timestamp</th>\n",
       "      <th>ride_stop_timestamp</th>\n",
       "      <th>pickup_longitude</th>\n",
       "      <th>pickup_latitude</th>\n",
       "      <th>dropoff_longitude</th>\n",
       "      <th>dropoff_latitude</th>\n",
       "      <th>ride_duration</th>\n",
       "      <th>driver_id</th>\n",
       "    </tr>\n",
       "  </thead>\n",
       "  <tbody>\n",
       "    <tr>\n",
       "      <td>0</td>\n",
       "      <td>000026aff6d364c56d458090365fedc3</td>\n",
       "      <td>2016-11-21 22:48:25</td>\n",
       "      <td>2016-11-21 23:06:24</td>\n",
       "      <td>104.018239</td>\n",
       "      <td>30.651720</td>\n",
       "      <td>104.092228</td>\n",
       "      <td>30.684789</td>\n",
       "      <td>17.983333</td>\n",
       "      <td>367fd577345b4ba9497ce9d13074c11a</td>\n",
       "    </tr>\n",
       "    <tr>\n",
       "      <td>1</td>\n",
       "      <td>0000339c1fb5edbbb10709a2fd1c3712</td>\n",
       "      <td>2016-11-21 11:55:01</td>\n",
       "      <td>2016-11-21 12:21:59</td>\n",
       "      <td>104.146466</td>\n",
       "      <td>30.732592</td>\n",
       "      <td>104.057190</td>\n",
       "      <td>30.646970</td>\n",
       "      <td>26.966667</td>\n",
       "      <td>502db5a8f5628f0b190300e377e94c87</td>\n",
       "    </tr>\n",
       "    <tr>\n",
       "      <td>2</td>\n",
       "      <td>0000a6eeeda93826367d3b4274637063</td>\n",
       "      <td>2016-11-21 12:15:55</td>\n",
       "      <td>2016-11-21 12:26:36</td>\n",
       "      <td>104.094300</td>\n",
       "      <td>30.660450</td>\n",
       "      <td>104.074030</td>\n",
       "      <td>30.686300</td>\n",
       "      <td>10.683333</td>\n",
       "      <td>728af7404e674bd416880146bbfdbf0f</td>\n",
       "    </tr>\n",
       "    <tr>\n",
       "      <td>3</td>\n",
       "      <td>0000b2b02d9e4e804265f0ea6aaa606c</td>\n",
       "      <td>2016-11-21 20:00:37</td>\n",
       "      <td>2016-11-21 20:25:54</td>\n",
       "      <td>103.999657</td>\n",
       "      <td>30.667120</td>\n",
       "      <td>104.086700</td>\n",
       "      <td>30.652170</td>\n",
       "      <td>25.283333</td>\n",
       "      <td>a23d7c686518975cf1151a28c863148d</td>\n",
       "    </tr>\n",
       "    <tr>\n",
       "      <td>4</td>\n",
       "      <td>0000f8fb428d884e1a724adc38ea8e41</td>\n",
       "      <td>2016-11-21 17:35:46</td>\n",
       "      <td>2016-11-21 17:46:04</td>\n",
       "      <td>104.093800</td>\n",
       "      <td>30.681090</td>\n",
       "      <td>104.113800</td>\n",
       "      <td>30.673229</td>\n",
       "      <td>10.300000</td>\n",
       "      <td>1b435c7e59d07625ef9e6183552aa226</td>\n",
       "    </tr>\n",
       "  </tbody>\n",
       "</table>\n",
       "</div>"
      ],
      "text/plain": [
       "                           order_id ride_start_timestamp ride_stop_timestamp  \\\n",
       "0  000026aff6d364c56d458090365fedc3  2016-11-21 22:48:25 2016-11-21 23:06:24   \n",
       "1  0000339c1fb5edbbb10709a2fd1c3712  2016-11-21 11:55:01 2016-11-21 12:21:59   \n",
       "2  0000a6eeeda93826367d3b4274637063  2016-11-21 12:15:55 2016-11-21 12:26:36   \n",
       "3  0000b2b02d9e4e804265f0ea6aaa606c  2016-11-21 20:00:37 2016-11-21 20:25:54   \n",
       "4  0000f8fb428d884e1a724adc38ea8e41  2016-11-21 17:35:46 2016-11-21 17:46:04   \n",
       "\n",
       "   pickup_longitude  pickup_latitude  dropoff_longitude  dropoff_latitude  \\\n",
       "0        104.018239        30.651720         104.092228         30.684789   \n",
       "1        104.146466        30.732592         104.057190         30.646970   \n",
       "2        104.094300        30.660450         104.074030         30.686300   \n",
       "3        103.999657        30.667120         104.086700         30.652170   \n",
       "4        104.093800        30.681090         104.113800         30.673229   \n",
       "\n",
       "   ride_duration                         driver_id  \n",
       "0      17.983333  367fd577345b4ba9497ce9d13074c11a  \n",
       "1      26.966667  502db5a8f5628f0b190300e377e94c87  \n",
       "2      10.683333  728af7404e674bd416880146bbfdbf0f  \n",
       "3      25.283333  a23d7c686518975cf1151a28c863148d  \n",
       "4      10.300000  1b435c7e59d07625ef9e6183552aa226  "
      ]
     },
     "execution_count": 7,
     "metadata": {},
     "output_type": "execute_result"
    }
   ],
   "source": [
    "orders.head()"
   ]
  },
  {
   "cell_type": "code",
   "execution_count": 13,
   "metadata": {},
   "outputs": [
    {
     "data": {
      "text/html": [
       "<div>\n",
       "<style scoped>\n",
       "    .dataframe tbody tr th:only-of-type {\n",
       "        vertical-align: middle;\n",
       "    }\n",
       "\n",
       "    .dataframe tbody tr th {\n",
       "        vertical-align: top;\n",
       "    }\n",
       "\n",
       "    .dataframe thead th {\n",
       "        text-align: right;\n",
       "    }\n",
       "</style>\n",
       "<table border=\"1\" class=\"dataframe\">\n",
       "  <thead>\n",
       "    <tr style=\"text-align: right;\">\n",
       "      <th></th>\n",
       "      <th>order_id</th>\n",
       "    </tr>\n",
       "  </thead>\n",
       "  <tbody>\n",
       "    <tr>\n",
       "      <td>count</td>\n",
       "      <td>35449.000000</td>\n",
       "    </tr>\n",
       "    <tr>\n",
       "      <td>mean</td>\n",
       "      <td>5.110779</td>\n",
       "    </tr>\n",
       "    <tr>\n",
       "      <td>std</td>\n",
       "      <td>3.983321</td>\n",
       "    </tr>\n",
       "    <tr>\n",
       "      <td>min</td>\n",
       "      <td>1.000000</td>\n",
       "    </tr>\n",
       "    <tr>\n",
       "      <td>25%</td>\n",
       "      <td>2.000000</td>\n",
       "    </tr>\n",
       "    <tr>\n",
       "      <td>50%</td>\n",
       "      <td>4.000000</td>\n",
       "    </tr>\n",
       "    <tr>\n",
       "      <td>75%</td>\n",
       "      <td>7.000000</td>\n",
       "    </tr>\n",
       "    <tr>\n",
       "      <td>max</td>\n",
       "      <td>56.000000</td>\n",
       "    </tr>\n",
       "  </tbody>\n",
       "</table>\n",
       "</div>"
      ],
      "text/plain": [
       "           order_id\n",
       "count  35449.000000\n",
       "mean       5.110779\n",
       "std        3.983321\n",
       "min        1.000000\n",
       "25%        2.000000\n",
       "50%        4.000000\n",
       "75%        7.000000\n",
       "max       56.000000"
      ]
     },
     "execution_count": 13,
     "metadata": {},
     "output_type": "execute_result"
    }
   ],
   "source": [
    "data = pd.DataFrame(orders.groupby('driver_id')['order_id'].count()).reset_index()\n",
    "data.describe()"
   ]
  },
  {
   "cell_type": "code",
   "execution_count": 15,
   "metadata": {
    "scrolled": true
   },
   "outputs": [],
   "source": [
    "driver_ride_durations = orders.groupby('driver_id')[['ride_duration']].sum().reset_index()"
   ]
  },
  {
   "cell_type": "code",
   "execution_count": 16,
   "metadata": {},
   "outputs": [
    {
     "data": {
      "text/html": [
       "<div>\n",
       "<style scoped>\n",
       "    .dataframe tbody tr th:only-of-type {\n",
       "        vertical-align: middle;\n",
       "    }\n",
       "\n",
       "    .dataframe tbody tr th {\n",
       "        vertical-align: top;\n",
       "    }\n",
       "\n",
       "    .dataframe thead th {\n",
       "        text-align: right;\n",
       "    }\n",
       "</style>\n",
       "<table border=\"1\" class=\"dataframe\">\n",
       "  <thead>\n",
       "    <tr style=\"text-align: right;\">\n",
       "      <th></th>\n",
       "      <th>driver_id</th>\n",
       "      <th>ride_duration</th>\n",
       "    </tr>\n",
       "  </thead>\n",
       "  <tbody>\n",
       "    <tr>\n",
       "      <td>0</td>\n",
       "      <td>0000131d486b69eb77ab6e9e7cca9f4c</td>\n",
       "      <td>75.583333</td>\n",
       "    </tr>\n",
       "    <tr>\n",
       "      <td>1</td>\n",
       "      <td>000211a97ba2b768ef941593bf1ae1a5</td>\n",
       "      <td>157.016667</td>\n",
       "    </tr>\n",
       "    <tr>\n",
       "      <td>2</td>\n",
       "      <td>000770ada4aa5d856b5a766fb6bf7cf1</td>\n",
       "      <td>87.900000</td>\n",
       "    </tr>\n",
       "    <tr>\n",
       "      <td>3</td>\n",
       "      <td>0007a380800445346fff19afc4071ce3</td>\n",
       "      <td>23.650000</td>\n",
       "    </tr>\n",
       "    <tr>\n",
       "      <td>4</td>\n",
       "      <td>0008c9d2ac91c00ef8b3ef80eba02a06</td>\n",
       "      <td>142.766667</td>\n",
       "    </tr>\n",
       "  </tbody>\n",
       "</table>\n",
       "</div>"
      ],
      "text/plain": [
       "                          driver_id  ride_duration\n",
       "0  0000131d486b69eb77ab6e9e7cca9f4c      75.583333\n",
       "1  000211a97ba2b768ef941593bf1ae1a5     157.016667\n",
       "2  000770ada4aa5d856b5a766fb6bf7cf1      87.900000\n",
       "3  0007a380800445346fff19afc4071ce3      23.650000\n",
       "4  0008c9d2ac91c00ef8b3ef80eba02a06     142.766667"
      ]
     },
     "execution_count": 16,
     "metadata": {},
     "output_type": "execute_result"
    }
   ],
   "source": [
    "driver_ride_durations.head()"
   ]
  },
  {
   "cell_type": "markdown",
   "metadata": {},
   "source": [
    "### Single day total active time"
   ]
  },
  {
   "cell_type": "code",
   "execution_count": null,
   "metadata": {},
   "outputs": [],
   "source": [
    "driver_day_min = pd.DataFrame(orders.groupby('driver_id')['ride_start_timestamp'].min()).reset_index()\n",
    "driver_day_max = pd.DataFrame(orders.groupby('driver_id')['ride_stop_timestamp'].max()).reset_index()\n",
    "driver_active_time = driver_day_min.merge(driver_day_max, on='driver_id', how='left')\n",
    "driver_active_time['active_time'] = (driver_active_time['ride_stop_timestamp'] - driver_active_time['ride_start_timestamp']).dt.total_seconds() / 60\n",
    "driver_active_time.head()"
   ]
  },
  {
   "cell_type": "code",
   "execution_count": null,
   "metadata": {},
   "outputs": [],
   "source": [
    "driver_active_time[driver_active_time.driver_id == '310c5f3ffed8d3d42b90583c596cfd8e']"
   ]
  },
  {
   "cell_type": "markdown",
   "metadata": {},
   "source": [
    "### Comparing total driver active time vs ride time"
   ]
  },
  {
   "cell_type": "code",
   "execution_count": null,
   "metadata": {},
   "outputs": [],
   "source": [
    "# total driver active time\n",
    "driver_stats = driver_active_time[['driver_id', 'active_time']].merge(driver_ride_durations, on='driver_id', how='left') \n",
    "\n",
    "# Filtering possible bad rows\n",
    "# driver_stats = driver_stats[driver_stats.active_time > driver_stats.ride_duration]\n",
    "\n",
    "driver_stats.describe()"
   ]
  },
  {
   "cell_type": "code",
   "execution_count": null,
   "metadata": {},
   "outputs": [],
   "source": [
    "driver_stats[driver_stats.ride_duration > driver_stats.active_time]"
   ]
  },
  {
   "cell_type": "code",
   "execution_count": null,
   "metadata": {},
   "outputs": [],
   "source": []
  },
  {
   "cell_type": "code",
   "execution_count": null,
   "metadata": {},
   "outputs": [],
   "source": [
    "orders[orders.driver_id == '009ba30d83cca1e82e56473b0f029b3f']"
   ]
  },
  {
   "cell_type": "code",
   "execution_count": null,
   "metadata": {},
   "outputs": [],
   "source": [
    "orders[orders.driver_id == '010af431d87d4b94869d350e52a9af15'].sort_values('ride_start_timestamp')"
   ]
  },
  {
   "cell_type": "markdown",
   "metadata": {},
   "source": [
    "### Trying out geopandas plotting on orders table"
   ]
  },
  {
   "cell_type": "code",
   "execution_count": null,
   "metadata": {
    "scrolled": true
   },
   "outputs": [],
   "source": [
    "import geopandas\n",
    "import matplotlib.pyplot as plt"
   ]
  },
  {
   "cell_type": "code",
   "execution_count": null,
   "metadata": {},
   "outputs": [],
   "source": [
    "df = orders.copy()\n",
    "df.head()"
   ]
  },
  {
   "cell_type": "code",
   "execution_count": null,
   "metadata": {},
   "outputs": [],
   "source": [
    "# Converting to geopandas df\n",
    "gdf = geopandas.GeoDataFrame(\n",
    "    df, geometry=geopandas.points_from_xy(df.dropoff_longitude, df.dropoff_latitude))"
   ]
  },
  {
   "cell_type": "code",
   "execution_count": null,
   "metadata": {},
   "outputs": [],
   "source": [
    "gdf.head()"
   ]
  },
  {
   "cell_type": "code",
   "execution_count": null,
   "metadata": {},
   "outputs": [],
   "source": [
    "# Plotting on country level map\n",
    "world = geopandas.read_file(geopandas.datasets.get_path('naturalearth_lowres'))"
   ]
  },
  {
   "cell_type": "code",
   "execution_count": null,
   "metadata": {},
   "outputs": [],
   "source": [
    "world"
   ]
  },
  {
   "cell_type": "code",
   "execution_count": null,
   "metadata": {},
   "outputs": [],
   "source": [
    "# We restrict to China.\n",
    "# ax = world[world.name == 'China'].plot(\n",
    "#     color='white', edgecolor='black', figsize=(20,20))\n",
    "\n",
    "# We can now plot our ``GeoDataFrame``.\n",
    "# gdf.plot(ax=ax, color='red')\n",
    "\n",
    "# plt.show()"
   ]
  },
  {
   "cell_type": "markdown",
   "metadata": {},
   "source": [
    "#### Attempt 2 - Read china shapefile"
   ]
  },
  {
   "cell_type": "code",
   "execution_count": null,
   "metadata": {},
   "outputs": [],
   "source": [
    "file = geopandas.read_file('../China_map/CHN_roads.dbf')"
   ]
  },
  {
   "cell_type": "code",
   "execution_count": null,
   "metadata": {},
   "outputs": [],
   "source": [
    "gdf_driver = gdf[gdf.driver_id == '0373c98625e6d8e1fc56a4d61318138c']"
   ]
  },
  {
   "cell_type": "code",
   "execution_count": null,
   "metadata": {},
   "outputs": [],
   "source": [
    "f, ax = plt.subplots(1, figsize=(80, 80))\n",
    "ax = file.plot(axes=ax)\n",
    "gdf_driver.plot(ax=ax, color='red')\n",
    "ax.margins(x=-0, y=-0.25)\n",
    "plt.show()"
   ]
  },
  {
   "cell_type": "code",
   "execution_count": null,
   "metadata": {
    "scrolled": true
   },
   "outputs": [],
   "source": [
    "# f, ax = plt.subplots(1, figsize=(80, 80))\n",
    "# ax = file.plot(axes=ax)\n",
    "# gdf_driver.plot(ax=ax, color='red')\n",
    "# ax.margins(x=-0.4, y=-0.25)\n",
    "# plt.show()"
   ]
  },
  {
   "cell_type": "code",
   "execution_count": null,
   "metadata": {},
   "outputs": [],
   "source": []
  },
  {
   "cell_type": "markdown",
   "metadata": {},
   "source": [
    "## GMAP plotting"
   ]
  },
  {
   "cell_type": "code",
   "execution_count": null,
   "metadata": {},
   "outputs": [],
   "source": [
    "driver_latitude = gps[(gps.driver_id == '0373c98625e6d8e1fc56a4d61318138c') & \n",
    "                 (gps.order_id == 'eb9dd4095d9850e6287cefd813775a6c')].sort_values('timestamp').latitude\n",
    "driver_longitude = gps[(gps.driver_id == '0373c98625e6d8e1fc56a4d61318138c') & \n",
    "                 (gps.order_id == 'eb9dd4095d9850e6287cefd813775a6c')].sort_values('timestamp').longitude"
   ]
  },
  {
   "cell_type": "code",
   "execution_count": null,
   "metadata": {},
   "outputs": [],
   "source": [
    "gps[(gps.driver_id == '0373c98625e6d8e1fc56a4d61318138c') & \n",
    "                 (gps.order_id == 'eb9dd4095d9850e6287cefd813775a6c')].sort_values('timestamp')"
   ]
  },
  {
   "cell_type": "code",
   "execution_count": null,
   "metadata": {},
   "outputs": [],
   "source": [
    "driver_latitude = list(driver_latitude)\n",
    "driver_longitude = list(driver_longitude)\n",
    "min_lat = min(driver_latitude)\n",
    "min_lon = min(driver_longitude)\n",
    "max_lat = max(driver_latitude)\n",
    "max_lon = max(driver_longitude)"
   ]
  },
  {
   "cell_type": "code",
   "execution_count": null,
   "metadata": {
    "scrolled": true
   },
   "outputs": [],
   "source": [
    "import gmplot \n",
    "  \n",
    "# latitude_list = [ 30.3358376, 30.307977, 30.3216419 ] \n",
    "# longitude_list = [ 77.8701919, 78.048457, 78.0413095 ] \n",
    "  \n",
    "gmap5 = gmplot.GoogleMapPlotter(min_lat + (max_lat - min_lat) / 2, min_lon + (max_lon - min_lon) / 2, 12) \n",
    "\n",
    "gmap5.marker(min_lat, min_lon, c='red')#, size=40, marker=True)\n",
    "gmap5.marker(max_lat, max_lon, c='red')#, size=40, marker=True)\n",
    "\n",
    "gmap5.plot( driver_latitude, driver_longitude, '# FF0000', \n",
    "                                size = 50, marker = False) \n",
    "\n",
    "gmap5.draw('map.html')\n",
    "  \n",
    "# polygon method Draw a polygon with \n",
    "# the help of coordinates \n",
    "# gmap5.polygon(latitude_list, longitude_list, \n",
    "#                    color = 'cornflowerblue') "
   ]
  },
  {
   "cell_type": "markdown",
   "metadata": {},
   "source": [
    "### Trying heatmap of snapshot of 9 AM rides"
   ]
  },
  {
   "cell_type": "code",
   "execution_count": 40,
   "metadata": {},
   "outputs": [],
   "source": [
    "time = pd.to_datetime('2016-11-01 09:00:00')\n",
    "first_orders = orders[['driver_id']].drop_duplicates()\n",
    "first_orders['snapshot'] = time"
   ]
  },
  {
   "cell_type": "code",
   "execution_count": 41,
   "metadata": {
    "scrolled": true
   },
   "outputs": [
    {
     "data": {
      "text/html": [
       "<div>\n",
       "<style scoped>\n",
       "    .dataframe tbody tr th:only-of-type {\n",
       "        vertical-align: middle;\n",
       "    }\n",
       "\n",
       "    .dataframe tbody tr th {\n",
       "        vertical-align: top;\n",
       "    }\n",
       "\n",
       "    .dataframe thead th {\n",
       "        text-align: right;\n",
       "    }\n",
       "</style>\n",
       "<table border=\"1\" class=\"dataframe\">\n",
       "  <thead>\n",
       "    <tr style=\"text-align: right;\">\n",
       "      <th></th>\n",
       "      <th>driver_id</th>\n",
       "      <th>snapshot</th>\n",
       "    </tr>\n",
       "  </thead>\n",
       "  <tbody>\n",
       "    <tr>\n",
       "      <td>105100</td>\n",
       "      <td>053c3c3156f27f1055d2516223036e29</td>\n",
       "      <td>2016-11-01 09:00:00</td>\n",
       "    </tr>\n",
       "    <tr>\n",
       "      <td>59575</td>\n",
       "      <td>3fe49726673176e92098de74a38d989c</td>\n",
       "      <td>2016-11-01 09:00:00</td>\n",
       "    </tr>\n",
       "    <tr>\n",
       "      <td>41744</td>\n",
       "      <td>44a773ba727b57b904612e27b3237eb6</td>\n",
       "      <td>2016-11-01 09:00:00</td>\n",
       "    </tr>\n",
       "    <tr>\n",
       "      <td>55455</td>\n",
       "      <td>e3dea9785be1822c7eb037ee058d2001</td>\n",
       "      <td>2016-11-01 09:00:00</td>\n",
       "    </tr>\n",
       "    <tr>\n",
       "      <td>150211</td>\n",
       "      <td>9c7983fed0240deed8d06c92b8569ee1</td>\n",
       "      <td>2016-11-01 09:00:00</td>\n",
       "    </tr>\n",
       "    <tr>\n",
       "      <td>...</td>\n",
       "      <td>...</td>\n",
       "      <td>...</td>\n",
       "    </tr>\n",
       "    <tr>\n",
       "      <td>101240</td>\n",
       "      <td>97ea843af908309ee67572ff9e01f6c7</td>\n",
       "      <td>2016-11-01 09:00:00</td>\n",
       "    </tr>\n",
       "    <tr>\n",
       "      <td>73398</td>\n",
       "      <td>3daa86de0f877a1ca039a6a8896c8a79</td>\n",
       "      <td>2016-11-01 09:00:00</td>\n",
       "    </tr>\n",
       "    <tr>\n",
       "      <td>23275</td>\n",
       "      <td>878b2658feee52e674870baedaee2852</td>\n",
       "      <td>2016-11-01 09:00:00</td>\n",
       "    </tr>\n",
       "    <tr>\n",
       "      <td>31914</td>\n",
       "      <td>526bba2ec3962f06c60414d660e00617</td>\n",
       "      <td>2016-11-01 09:00:00</td>\n",
       "    </tr>\n",
       "    <tr>\n",
       "      <td>37865</td>\n",
       "      <td>0525c147518a3dea3a0042f606043ae4</td>\n",
       "      <td>2016-11-01 09:00:00</td>\n",
       "    </tr>\n",
       "  </tbody>\n",
       "</table>\n",
       "<p>35449 rows × 2 columns</p>\n",
       "</div>"
      ],
      "text/plain": [
       "                               driver_id            snapshot\n",
       "105100  053c3c3156f27f1055d2516223036e29 2016-11-01 09:00:00\n",
       "59575   3fe49726673176e92098de74a38d989c 2016-11-01 09:00:00\n",
       "41744   44a773ba727b57b904612e27b3237eb6 2016-11-01 09:00:00\n",
       "55455   e3dea9785be1822c7eb037ee058d2001 2016-11-01 09:00:00\n",
       "150211  9c7983fed0240deed8d06c92b8569ee1 2016-11-01 09:00:00\n",
       "...                                  ...                 ...\n",
       "101240  97ea843af908309ee67572ff9e01f6c7 2016-11-01 09:00:00\n",
       "73398   3daa86de0f877a1ca039a6a8896c8a79 2016-11-01 09:00:00\n",
       "23275   878b2658feee52e674870baedaee2852 2016-11-01 09:00:00\n",
       "31914   526bba2ec3962f06c60414d660e00617 2016-11-01 09:00:00\n",
       "37865   0525c147518a3dea3a0042f606043ae4 2016-11-01 09:00:00\n",
       "\n",
       "[35449 rows x 2 columns]"
      ]
     },
     "execution_count": 41,
     "metadata": {},
     "output_type": "execute_result"
    }
   ],
   "source": [
    "first_orders"
   ]
  },
  {
   "cell_type": "code",
   "execution_count": 42,
   "metadata": {
    "scrolled": true
   },
   "outputs": [],
   "source": [
    "# As of merge orders table to join first order pickups on or after 10 AM\n",
    "## Sort right keys\n",
    "orders = orders.sort_values('ride_start_timestamp')\n",
    "df2 = pd.merge_asof(first_orders, orders, \n",
    "                    left_on='snapshot', \n",
    "                    right_on='ride_start_timestamp', \n",
    "                    direction='nearest',\n",
    "                   by='driver_id')\n",
    "\n",
    "cols = ['driver_id', 'order_id', 'snapshot', 'ride_start_timestamp',\n",
    "        'pickup_longitude', 'pickup_latitude', 'dropoff_longitude', 'dropoff_longitude']"
   ]
  },
  {
   "cell_type": "code",
   "execution_count": 43,
   "metadata": {},
   "outputs": [],
   "source": [
    "# Filter times which are at most + or - 5min from 6PM\n",
    "import numpy as np\n",
    "df2['time_delta'] = np.abs((df2.snapshot - df2.ride_start_timestamp)).dt.total_seconds() / 60\n",
    "df2 = df2[df2.time_delta < 10]"
   ]
  },
  {
   "cell_type": "code",
   "execution_count": 48,
   "metadata": {},
   "outputs": [
    {
     "data": {
      "text/html": [
       "<div>\n",
       "<style scoped>\n",
       "    .dataframe tbody tr th:only-of-type {\n",
       "        vertical-align: middle;\n",
       "    }\n",
       "\n",
       "    .dataframe tbody tr th {\n",
       "        vertical-align: top;\n",
       "    }\n",
       "\n",
       "    .dataframe thead th {\n",
       "        text-align: right;\n",
       "    }\n",
       "</style>\n",
       "<table border=\"1\" class=\"dataframe\">\n",
       "  <thead>\n",
       "    <tr style=\"text-align: right;\">\n",
       "      <th></th>\n",
       "      <th>driver_id</th>\n",
       "      <th>snapshot</th>\n",
       "      <th>order_id</th>\n",
       "      <th>ride_start_timestamp</th>\n",
       "      <th>ride_stop_timestamp</th>\n",
       "      <th>pickup_longitude</th>\n",
       "      <th>pickup_latitude</th>\n",
       "      <th>dropoff_longitude</th>\n",
       "      <th>dropoff_latitude</th>\n",
       "      <th>ride_duration</th>\n",
       "      <th>time_delta</th>\n",
       "    </tr>\n",
       "  </thead>\n",
       "  <tbody>\n",
       "    <tr>\n",
       "      <td>5</td>\n",
       "      <td>0df0e6f5e603188c3e444028c354dbeb</td>\n",
       "      <td>2016-11-01 09:00:00</td>\n",
       "      <td>fda9df5b3dd9c585c54b304d0631a514</td>\n",
       "      <td>2016-11-01 09:06:05</td>\n",
       "      <td>2016-11-01 09:17:41</td>\n",
       "      <td>104.036800</td>\n",
       "      <td>30.681620</td>\n",
       "      <td>104.06332</td>\n",
       "      <td>30.67013</td>\n",
       "      <td>11.600000</td>\n",
       "      <td>6.083333</td>\n",
       "    </tr>\n",
       "    <tr>\n",
       "      <td>86</td>\n",
       "      <td>337d4d0e847dd8ad44c27346f80f256f</td>\n",
       "      <td>2016-11-01 09:00:00</td>\n",
       "      <td>ea3b29b8e4b335b5980e4984fd043320</td>\n",
       "      <td>2016-11-01 09:06:48</td>\n",
       "      <td>2016-11-01 09:20:59</td>\n",
       "      <td>104.114200</td>\n",
       "      <td>30.711220</td>\n",
       "      <td>104.15183</td>\n",
       "      <td>30.74553</td>\n",
       "      <td>14.183333</td>\n",
       "      <td>6.800000</td>\n",
       "    </tr>\n",
       "    <tr>\n",
       "      <td>116</td>\n",
       "      <td>9b67327c7f75483fd00021887e806fb3</td>\n",
       "      <td>2016-11-01 09:00:00</td>\n",
       "      <td>7abf27fba2139dcc6ee1dc7cbf9411ac</td>\n",
       "      <td>2016-11-01 09:07:31</td>\n",
       "      <td>2016-11-01 09:45:48</td>\n",
       "      <td>104.072701</td>\n",
       "      <td>30.695971</td>\n",
       "      <td>103.96979</td>\n",
       "      <td>30.61981</td>\n",
       "      <td>38.283333</td>\n",
       "      <td>7.516667</td>\n",
       "    </tr>\n",
       "    <tr>\n",
       "      <td>129</td>\n",
       "      <td>095fdb0052db44d416aa0ff971d2ec9d</td>\n",
       "      <td>2016-11-01 09:00:00</td>\n",
       "      <td>120d82ed07d94e5eafd80d949d239fdb</td>\n",
       "      <td>2016-11-01 08:53:08</td>\n",
       "      <td>2016-11-01 09:22:45</td>\n",
       "      <td>104.058540</td>\n",
       "      <td>30.644030</td>\n",
       "      <td>104.04559</td>\n",
       "      <td>30.71234</td>\n",
       "      <td>29.616667</td>\n",
       "      <td>6.866667</td>\n",
       "    </tr>\n",
       "    <tr>\n",
       "      <td>131</td>\n",
       "      <td>08704ff983c7d1d7affa106d91aa7e4b</td>\n",
       "      <td>2016-11-01 09:00:00</td>\n",
       "      <td>715edb8457eee71df9b41d853aa848b7</td>\n",
       "      <td>2016-11-01 09:09:44</td>\n",
       "      <td>2016-11-01 09:39:23</td>\n",
       "      <td>104.088640</td>\n",
       "      <td>30.755850</td>\n",
       "      <td>104.04332</td>\n",
       "      <td>30.68650</td>\n",
       "      <td>29.650000</td>\n",
       "      <td>9.733333</td>\n",
       "    </tr>\n",
       "  </tbody>\n",
       "</table>\n",
       "</div>"
      ],
      "text/plain": [
       "                            driver_id            snapshot  \\\n",
       "5    0df0e6f5e603188c3e444028c354dbeb 2016-11-01 09:00:00   \n",
       "86   337d4d0e847dd8ad44c27346f80f256f 2016-11-01 09:00:00   \n",
       "116  9b67327c7f75483fd00021887e806fb3 2016-11-01 09:00:00   \n",
       "129  095fdb0052db44d416aa0ff971d2ec9d 2016-11-01 09:00:00   \n",
       "131  08704ff983c7d1d7affa106d91aa7e4b 2016-11-01 09:00:00   \n",
       "\n",
       "                             order_id ride_start_timestamp  \\\n",
       "5    fda9df5b3dd9c585c54b304d0631a514  2016-11-01 09:06:05   \n",
       "86   ea3b29b8e4b335b5980e4984fd043320  2016-11-01 09:06:48   \n",
       "116  7abf27fba2139dcc6ee1dc7cbf9411ac  2016-11-01 09:07:31   \n",
       "129  120d82ed07d94e5eafd80d949d239fdb  2016-11-01 08:53:08   \n",
       "131  715edb8457eee71df9b41d853aa848b7  2016-11-01 09:09:44   \n",
       "\n",
       "    ride_stop_timestamp  pickup_longitude  pickup_latitude  dropoff_longitude  \\\n",
       "5   2016-11-01 09:17:41        104.036800        30.681620          104.06332   \n",
       "86  2016-11-01 09:20:59        104.114200        30.711220          104.15183   \n",
       "116 2016-11-01 09:45:48        104.072701        30.695971          103.96979   \n",
       "129 2016-11-01 09:22:45        104.058540        30.644030          104.04559   \n",
       "131 2016-11-01 09:39:23        104.088640        30.755850          104.04332   \n",
       "\n",
       "     dropoff_latitude  ride_duration  time_delta  \n",
       "5            30.67013      11.600000    6.083333  \n",
       "86           30.74553      14.183333    6.800000  \n",
       "116          30.61981      38.283333    7.516667  \n",
       "129          30.71234      29.616667    6.866667  \n",
       "131          30.68650      29.650000    9.733333  "
      ]
     },
     "execution_count": 48,
     "metadata": {},
     "output_type": "execute_result"
    }
   ],
   "source": [
    "df2.head()"
   ]
  },
  {
   "cell_type": "code",
   "execution_count": 49,
   "metadata": {},
   "outputs": [
    {
     "data": {
      "text/html": [
       "<div>\n",
       "<style scoped>\n",
       "    .dataframe tbody tr th:only-of-type {\n",
       "        vertical-align: middle;\n",
       "    }\n",
       "\n",
       "    .dataframe tbody tr th {\n",
       "        vertical-align: top;\n",
       "    }\n",
       "\n",
       "    .dataframe thead th {\n",
       "        text-align: right;\n",
       "    }\n",
       "</style>\n",
       "<table border=\"1\" class=\"dataframe\">\n",
       "  <thead>\n",
       "    <tr style=\"text-align: right;\">\n",
       "      <th></th>\n",
       "      <th>pickup_longitude</th>\n",
       "      <th>pickup_latitude</th>\n",
       "      <th>dropoff_longitude</th>\n",
       "      <th>dropoff_latitude</th>\n",
       "      <th>ride_duration</th>\n",
       "      <th>time_delta</th>\n",
       "    </tr>\n",
       "  </thead>\n",
       "  <tbody>\n",
       "    <tr>\n",
       "      <td>count</td>\n",
       "      <td>3181.000000</td>\n",
       "      <td>3181.000000</td>\n",
       "      <td>3181.000000</td>\n",
       "      <td>3181.000000</td>\n",
       "      <td>3181.000000</td>\n",
       "      <td>3181.000000</td>\n",
       "    </tr>\n",
       "    <tr>\n",
       "      <td>mean</td>\n",
       "      <td>104.073667</td>\n",
       "      <td>30.678780</td>\n",
       "      <td>104.072586</td>\n",
       "      <td>30.673817</td>\n",
       "      <td>21.172964</td>\n",
       "      <td>4.984507</td>\n",
       "    </tr>\n",
       "    <tr>\n",
       "      <td>std</td>\n",
       "      <td>0.044119</td>\n",
       "      <td>0.041697</td>\n",
       "      <td>0.038978</td>\n",
       "      <td>0.037309</td>\n",
       "      <td>12.299920</td>\n",
       "      <td>2.831506</td>\n",
       "    </tr>\n",
       "    <tr>\n",
       "      <td>min</td>\n",
       "      <td>103.822210</td>\n",
       "      <td>30.492120</td>\n",
       "      <td>103.863070</td>\n",
       "      <td>30.463230</td>\n",
       "      <td>0.083333</td>\n",
       "      <td>0.000000</td>\n",
       "    </tr>\n",
       "    <tr>\n",
       "      <td>25%</td>\n",
       "      <td>104.049390</td>\n",
       "      <td>30.656586</td>\n",
       "      <td>104.052600</td>\n",
       "      <td>30.656420</td>\n",
       "      <td>12.666667</td>\n",
       "      <td>2.566667</td>\n",
       "    </tr>\n",
       "    <tr>\n",
       "      <td>50%</td>\n",
       "      <td>104.073631</td>\n",
       "      <td>30.675020</td>\n",
       "      <td>104.072530</td>\n",
       "      <td>30.670020</td>\n",
       "      <td>18.600000</td>\n",
       "      <td>5.050000</td>\n",
       "    </tr>\n",
       "    <tr>\n",
       "      <td>75%</td>\n",
       "      <td>104.101712</td>\n",
       "      <td>30.698990</td>\n",
       "      <td>104.092130</td>\n",
       "      <td>30.692110</td>\n",
       "      <td>26.550000</td>\n",
       "      <td>7.350000</td>\n",
       "    </tr>\n",
       "    <tr>\n",
       "      <td>max</td>\n",
       "      <td>104.281570</td>\n",
       "      <td>30.978180</td>\n",
       "      <td>104.300050</td>\n",
       "      <td>30.989479</td>\n",
       "      <td>107.983333</td>\n",
       "      <td>9.983333</td>\n",
       "    </tr>\n",
       "  </tbody>\n",
       "</table>\n",
       "</div>"
      ],
      "text/plain": [
       "       pickup_longitude  pickup_latitude  dropoff_longitude  dropoff_latitude  \\\n",
       "count       3181.000000      3181.000000        3181.000000       3181.000000   \n",
       "mean         104.073667        30.678780         104.072586         30.673817   \n",
       "std            0.044119         0.041697           0.038978          0.037309   \n",
       "min          103.822210        30.492120         103.863070         30.463230   \n",
       "25%          104.049390        30.656586         104.052600         30.656420   \n",
       "50%          104.073631        30.675020         104.072530         30.670020   \n",
       "75%          104.101712        30.698990         104.092130         30.692110   \n",
       "max          104.281570        30.978180         104.300050         30.989479   \n",
       "\n",
       "       ride_duration   time_delta  \n",
       "count    3181.000000  3181.000000  \n",
       "mean       21.172964     4.984507  \n",
       "std        12.299920     2.831506  \n",
       "min         0.083333     0.000000  \n",
       "25%        12.666667     2.566667  \n",
       "50%        18.600000     5.050000  \n",
       "75%        26.550000     7.350000  \n",
       "max       107.983333     9.983333  "
      ]
     },
     "execution_count": 49,
     "metadata": {},
     "output_type": "execute_result"
    }
   ],
   "source": [
    "df2.describe()"
   ]
  },
  {
   "cell_type": "code",
   "execution_count": 50,
   "metadata": {},
   "outputs": [],
   "source": [
    "import gmplot \n",
    "\n",
    "driver_latitude = list(df2.pickup_latitude.values)\n",
    "driver_longitude = list(df2.pickup_longitude.values)\n",
    "min_lat = min(driver_latitude)\n",
    "min_lon = min(driver_longitude)\n",
    "max_lat = max(driver_latitude)\n",
    "max_lon = max(driver_longitude)\n",
    "  \n",
    "gmap4 = gmplot.GoogleMapPlotter(min_lat + (max_lat - min_lat) / 2, min_lon + (max_lon - min_lon) / 2, 12) \n",
    "  \n",
    "# heatmap plot heating Type \n",
    "# points on the Google map \n",
    "gmap4.heatmap( driver_latitude, driver_longitude ) \n",
    "gmap4.draw('heatmap_9AM.html')\n",
    "\n",
    "\n",
    "driver_latitude = list(df2.dropoff_latitude.values)\n",
    "driver_longitude = list(df2.dropoff_longitude.values)\n",
    "min_lat = min(driver_latitude)\n",
    "min_lon = min(driver_longitude)\n",
    "max_lat = max(driver_latitude)\n",
    "max_lon = max(driver_longitude)\n",
    "  \n",
    "gmap4 = gmplot.GoogleMapPlotter(min_lat + (max_lat - min_lat) / 2, min_lon + (max_lon - min_lon) / 2, 12) \n",
    "  \n",
    "# heatmap plot heating Type \n",
    "# points on the Google map \n",
    "gmap4.heatmap( driver_latitude, driver_longitude ) \n",
    "gmap4.draw('heatmap_9AM_dropoff.html')"
   ]
  },
  {
   "cell_type": "markdown",
   "metadata": {},
   "source": [
    "## Heatmap for 6PM"
   ]
  },
  {
   "cell_type": "code",
   "execution_count": 51,
   "metadata": {},
   "outputs": [],
   "source": [
    "time = pd.to_datetime('2016-11-01 06:00:00')\n",
    "last_orders = orders[['driver_id']].drop_duplicates()\n",
    "last_orders['snapshot'] = time"
   ]
  },
  {
   "cell_type": "code",
   "execution_count": 52,
   "metadata": {
    "scrolled": true
   },
   "outputs": [],
   "source": [
    "# As of merge orders table to join last order pickups on or after 10 AM\n",
    "## Sort right keys\n",
    "orders = orders.sort_values('ride_start_timestamp')\n",
    "df2 = pd.merge_asof(last_orders, orders, \n",
    "                    left_on='snapshot', \n",
    "                    right_on='ride_start_timestamp', \n",
    "                    direction='nearest',\n",
    "                   by='driver_id')\n",
    "\n",
    "cols = ['driver_id', 'order_id', 'snapshot', 'ride_start_timestamp',\n",
    "        'pickup_longitude', 'pickup_latitude', 'dropoff_longitude', 'dropoff_longitude']"
   ]
  },
  {
   "cell_type": "code",
   "execution_count": 53,
   "metadata": {},
   "outputs": [],
   "source": [
    "# Filter times which are at most + or - 5min from 6PM\n",
    "import numpy as np\n",
    "df2['time_delta'] = np.abs((df2.snapshot - df2.ride_start_timestamp)).dt.total_seconds() / 60\n",
    "df2 = df2[df2.time_delta < 10]"
   ]
  },
  {
   "cell_type": "code",
   "execution_count": 54,
   "metadata": {},
   "outputs": [
    {
     "data": {
      "text/html": [
       "<div>\n",
       "<style scoped>\n",
       "    .dataframe tbody tr th:only-of-type {\n",
       "        vertical-align: middle;\n",
       "    }\n",
       "\n",
       "    .dataframe tbody tr th {\n",
       "        vertical-align: top;\n",
       "    }\n",
       "\n",
       "    .dataframe thead th {\n",
       "        text-align: right;\n",
       "    }\n",
       "</style>\n",
       "<table border=\"1\" class=\"dataframe\">\n",
       "  <thead>\n",
       "    <tr style=\"text-align: right;\">\n",
       "      <th></th>\n",
       "      <th>driver_id</th>\n",
       "      <th>snapshot</th>\n",
       "      <th>order_id</th>\n",
       "      <th>ride_start_timestamp</th>\n",
       "      <th>ride_stop_timestamp</th>\n",
       "      <th>pickup_longitude</th>\n",
       "      <th>pickup_latitude</th>\n",
       "      <th>dropoff_longitude</th>\n",
       "      <th>dropoff_latitude</th>\n",
       "      <th>ride_duration</th>\n",
       "      <th>time_delta</th>\n",
       "    </tr>\n",
       "  </thead>\n",
       "  <tbody>\n",
       "    <tr>\n",
       "      <td>224</td>\n",
       "      <td>b0bd3d151fbb24d454ccceb5cd045717</td>\n",
       "      <td>2016-11-01 06:00:00</td>\n",
       "      <td>c8b19e93c1adb2087848137bf50e8445</td>\n",
       "      <td>2016-11-01 06:02:47</td>\n",
       "      <td>2016-11-01 06:24:35</td>\n",
       "      <td>104.067121</td>\n",
       "      <td>30.553106</td>\n",
       "      <td>104.043290</td>\n",
       "      <td>30.656260</td>\n",
       "      <td>21.800000</td>\n",
       "      <td>2.783333</td>\n",
       "    </tr>\n",
       "    <tr>\n",
       "      <td>245</td>\n",
       "      <td>78d3213df4bf6e13f07f3f26a750a246</td>\n",
       "      <td>2016-11-01 06:00:00</td>\n",
       "      <td>79c5d715eaa9ce049365255e5000afec</td>\n",
       "      <td>2016-11-01 06:08:01</td>\n",
       "      <td>2016-11-01 06:19:17</td>\n",
       "      <td>104.056499</td>\n",
       "      <td>30.722360</td>\n",
       "      <td>104.054590</td>\n",
       "      <td>30.694880</td>\n",
       "      <td>11.266667</td>\n",
       "      <td>8.016667</td>\n",
       "    </tr>\n",
       "    <tr>\n",
       "      <td>263</td>\n",
       "      <td>a3499d71b7f3c50993da20273041c899</td>\n",
       "      <td>2016-11-01 06:00:00</td>\n",
       "      <td>234469ae04ca0d74726b48d09c4a473b</td>\n",
       "      <td>2016-11-01 06:01:49</td>\n",
       "      <td>2016-11-01 06:07:29</td>\n",
       "      <td>104.129810</td>\n",
       "      <td>30.666990</td>\n",
       "      <td>104.109840</td>\n",
       "      <td>30.670980</td>\n",
       "      <td>5.666667</td>\n",
       "      <td>1.816667</td>\n",
       "    </tr>\n",
       "    <tr>\n",
       "      <td>303</td>\n",
       "      <td>187c84c39406a389d1f4e42c764ac29a</td>\n",
       "      <td>2016-11-01 06:00:00</td>\n",
       "      <td>b9dbfaab7de51fd08f41654611167ba2</td>\n",
       "      <td>2016-11-01 06:01:23</td>\n",
       "      <td>2016-11-01 06:20:08</td>\n",
       "      <td>104.068718</td>\n",
       "      <td>30.762030</td>\n",
       "      <td>104.090177</td>\n",
       "      <td>30.681627</td>\n",
       "      <td>18.750000</td>\n",
       "      <td>1.383333</td>\n",
       "    </tr>\n",
       "    <tr>\n",
       "      <td>406</td>\n",
       "      <td>243d0bbe1e110ff58b1a984b3fcbba66</td>\n",
       "      <td>2016-11-01 06:00:00</td>\n",
       "      <td>dbb12cbbd6f73ff54fd2a7d13837b9f2</td>\n",
       "      <td>2016-11-01 05:57:42</td>\n",
       "      <td>2016-11-01 06:19:43</td>\n",
       "      <td>104.134620</td>\n",
       "      <td>30.605720</td>\n",
       "      <td>104.098253</td>\n",
       "      <td>30.667558</td>\n",
       "      <td>22.016667</td>\n",
       "      <td>2.300000</td>\n",
       "    </tr>\n",
       "  </tbody>\n",
       "</table>\n",
       "</div>"
      ],
      "text/plain": [
       "                            driver_id            snapshot  \\\n",
       "224  b0bd3d151fbb24d454ccceb5cd045717 2016-11-01 06:00:00   \n",
       "245  78d3213df4bf6e13f07f3f26a750a246 2016-11-01 06:00:00   \n",
       "263  a3499d71b7f3c50993da20273041c899 2016-11-01 06:00:00   \n",
       "303  187c84c39406a389d1f4e42c764ac29a 2016-11-01 06:00:00   \n",
       "406  243d0bbe1e110ff58b1a984b3fcbba66 2016-11-01 06:00:00   \n",
       "\n",
       "                             order_id ride_start_timestamp  \\\n",
       "224  c8b19e93c1adb2087848137bf50e8445  2016-11-01 06:02:47   \n",
       "245  79c5d715eaa9ce049365255e5000afec  2016-11-01 06:08:01   \n",
       "263  234469ae04ca0d74726b48d09c4a473b  2016-11-01 06:01:49   \n",
       "303  b9dbfaab7de51fd08f41654611167ba2  2016-11-01 06:01:23   \n",
       "406  dbb12cbbd6f73ff54fd2a7d13837b9f2  2016-11-01 05:57:42   \n",
       "\n",
       "    ride_stop_timestamp  pickup_longitude  pickup_latitude  dropoff_longitude  \\\n",
       "224 2016-11-01 06:24:35        104.067121        30.553106         104.043290   \n",
       "245 2016-11-01 06:19:17        104.056499        30.722360         104.054590   \n",
       "263 2016-11-01 06:07:29        104.129810        30.666990         104.109840   \n",
       "303 2016-11-01 06:20:08        104.068718        30.762030         104.090177   \n",
       "406 2016-11-01 06:19:43        104.134620        30.605720         104.098253   \n",
       "\n",
       "     dropoff_latitude  ride_duration  time_delta  \n",
       "224         30.656260      21.800000    2.783333  \n",
       "245         30.694880      11.266667    8.016667  \n",
       "263         30.670980       5.666667    1.816667  \n",
       "303         30.681627      18.750000    1.383333  \n",
       "406         30.667558      22.016667    2.300000  "
      ]
     },
     "execution_count": 54,
     "metadata": {},
     "output_type": "execute_result"
    }
   ],
   "source": [
    "df2.head()"
   ]
  },
  {
   "cell_type": "code",
   "execution_count": 55,
   "metadata": {},
   "outputs": [
    {
     "data": {
      "text/html": [
       "<div>\n",
       "<style scoped>\n",
       "    .dataframe tbody tr th:only-of-type {\n",
       "        vertical-align: middle;\n",
       "    }\n",
       "\n",
       "    .dataframe tbody tr th {\n",
       "        vertical-align: top;\n",
       "    }\n",
       "\n",
       "    .dataframe thead th {\n",
       "        text-align: right;\n",
       "    }\n",
       "</style>\n",
       "<table border=\"1\" class=\"dataframe\">\n",
       "  <thead>\n",
       "    <tr style=\"text-align: right;\">\n",
       "      <th></th>\n",
       "      <th>pickup_longitude</th>\n",
       "      <th>pickup_latitude</th>\n",
       "      <th>dropoff_longitude</th>\n",
       "      <th>dropoff_latitude</th>\n",
       "      <th>ride_duration</th>\n",
       "      <th>time_delta</th>\n",
       "    </tr>\n",
       "  </thead>\n",
       "  <tbody>\n",
       "    <tr>\n",
       "      <td>count</td>\n",
       "      <td>384.000000</td>\n",
       "      <td>384.000000</td>\n",
       "      <td>384.000000</td>\n",
       "      <td>384.000000</td>\n",
       "      <td>384.000000</td>\n",
       "      <td>384.000000</td>\n",
       "    </tr>\n",
       "    <tr>\n",
       "      <td>mean</td>\n",
       "      <td>104.069751</td>\n",
       "      <td>30.679574</td>\n",
       "      <td>104.059172</td>\n",
       "      <td>30.659011</td>\n",
       "      <td>19.216016</td>\n",
       "      <td>4.880078</td>\n",
       "    </tr>\n",
       "    <tr>\n",
       "      <td>std</td>\n",
       "      <td>0.047120</td>\n",
       "      <td>0.044621</td>\n",
       "      <td>0.060815</td>\n",
       "      <td>0.051250</td>\n",
       "      <td>9.687288</td>\n",
       "      <td>2.894696</td>\n",
       "    </tr>\n",
       "    <tr>\n",
       "      <td>min</td>\n",
       "      <td>103.845281</td>\n",
       "      <td>30.534428</td>\n",
       "      <td>103.838180</td>\n",
       "      <td>30.519219</td>\n",
       "      <td>2.616667</td>\n",
       "      <td>0.000000</td>\n",
       "    </tr>\n",
       "    <tr>\n",
       "      <td>25%</td>\n",
       "      <td>104.046644</td>\n",
       "      <td>30.654728</td>\n",
       "      <td>104.037605</td>\n",
       "      <td>30.629215</td>\n",
       "      <td>12.433333</td>\n",
       "      <td>2.300000</td>\n",
       "    </tr>\n",
       "    <tr>\n",
       "      <td>50%</td>\n",
       "      <td>104.072321</td>\n",
       "      <td>30.676130</td>\n",
       "      <td>104.071865</td>\n",
       "      <td>30.663418</td>\n",
       "      <td>17.758333</td>\n",
       "      <td>4.733333</td>\n",
       "    </tr>\n",
       "    <tr>\n",
       "      <td>75%</td>\n",
       "      <td>104.098128</td>\n",
       "      <td>30.698707</td>\n",
       "      <td>104.086433</td>\n",
       "      <td>30.690243</td>\n",
       "      <td>24.258333</td>\n",
       "      <td>7.404167</td>\n",
       "    </tr>\n",
       "    <tr>\n",
       "      <td>max</td>\n",
       "      <td>104.231667</td>\n",
       "      <td>30.823140</td>\n",
       "      <td>104.299510</td>\n",
       "      <td>30.928100</td>\n",
       "      <td>79.033333</td>\n",
       "      <td>9.966667</td>\n",
       "    </tr>\n",
       "  </tbody>\n",
       "</table>\n",
       "</div>"
      ],
      "text/plain": [
       "       pickup_longitude  pickup_latitude  dropoff_longitude  dropoff_latitude  \\\n",
       "count        384.000000       384.000000         384.000000        384.000000   \n",
       "mean         104.069751        30.679574         104.059172         30.659011   \n",
       "std            0.047120         0.044621           0.060815          0.051250   \n",
       "min          103.845281        30.534428         103.838180         30.519219   \n",
       "25%          104.046644        30.654728         104.037605         30.629215   \n",
       "50%          104.072321        30.676130         104.071865         30.663418   \n",
       "75%          104.098128        30.698707         104.086433         30.690243   \n",
       "max          104.231667        30.823140         104.299510         30.928100   \n",
       "\n",
       "       ride_duration  time_delta  \n",
       "count     384.000000  384.000000  \n",
       "mean       19.216016    4.880078  \n",
       "std         9.687288    2.894696  \n",
       "min         2.616667    0.000000  \n",
       "25%        12.433333    2.300000  \n",
       "50%        17.758333    4.733333  \n",
       "75%        24.258333    7.404167  \n",
       "max        79.033333    9.966667  "
      ]
     },
     "execution_count": 55,
     "metadata": {},
     "output_type": "execute_result"
    }
   ],
   "source": [
    "df2.describe()"
   ]
  },
  {
   "cell_type": "code",
   "execution_count": 56,
   "metadata": {},
   "outputs": [],
   "source": [
    "import gmplot \n",
    "\n",
    "driver_latitude = list(df2.pickup_latitude.values)\n",
    "driver_longitude = list(df2.pickup_longitude.values)\n",
    "min_lat = min(driver_latitude)\n",
    "min_lon = min(driver_longitude)\n",
    "max_lat = max(driver_latitude)\n",
    "max_lon = max(driver_longitude)\n",
    "  \n",
    "gmap4 = gmplot.GoogleMapPlotter(min_lat + (max_lat - min_lat) / 2, min_lon + (max_lon - min_lon) / 2, 12) \n",
    "  \n",
    "# heatmap plot heating Type \n",
    "# points on the Google map \n",
    "gmap4.heatmap( driver_latitude, driver_longitude ) \n",
    "gmap4.draw('heatmap_6PM.html')\n",
    "\n",
    "\n",
    "driver_latitude = list(df2.dropoff_latitude.values)\n",
    "driver_longitude = list(df2.dropoff_longitude.values)\n",
    "min_lat = min(driver_latitude)\n",
    "min_lon = min(driver_longitude)\n",
    "max_lat = max(driver_latitude)\n",
    "max_lon = max(driver_longitude)\n",
    "  \n",
    "gmap4 = gmplot.GoogleMapPlotter(min_lat + (max_lat - min_lat) / 2, min_lon + (max_lon - min_lon) / 2, 12) \n",
    "  \n",
    "# heatmap plot heating Type \n",
    "# points on the Google map \n",
    "gmap4.heatmap( driver_latitude, driver_longitude ) \n",
    "gmap4.draw('heatmap_6PM_dropoff.html')"
   ]
  },
  {
   "cell_type": "markdown",
   "metadata": {},
   "source": [
    "## Plotting all ride start locations"
   ]
  },
  {
   "cell_type": "code",
   "execution_count": 35,
   "metadata": {
    "scrolled": true
   },
   "outputs": [],
   "source": [
    "cols = ['driver_id', 'order_id', 'ride_start_timestamp', 'ride_stop_timestamp', \n",
    "        'pickup_longitude', 'pickup_latitude', 'dropoff_longitude', 'dropoff_latitude']\n",
    "driver_latitude = list(orders[cols].drop_duplicates().pickup_latitude.values)\n",
    "driver_longitude = list(orders[cols].drop_duplicates().pickup_longitude.values)\n",
    "min_lat = min(driver_latitude)\n",
    "min_lon = min(driver_longitude)\n",
    "max_lat = max(driver_latitude)\n",
    "max_lon = max(driver_longitude)\n",
    "  \n",
    "gmap4 = gmplot.GoogleMapPlotter(min_lat + (max_lat - min_lat) / 2, min_lon + (max_lon - min_lon) / 2, 12) \n",
    "  \n",
    "# heatmap plot heating Type \n",
    "# points on the Google map \n",
    "gmap4.heatmap( driver_latitude, driver_longitude ) \n",
    "gmap4.draw('heatmap_all_pickup.html')"
   ]
  },
  {
   "cell_type": "markdown",
   "metadata": {},
   "source": [
    "## Plotting all ride stop locations"
   ]
  },
  {
   "cell_type": "code",
   "execution_count": 36,
   "metadata": {
    "scrolled": false
   },
   "outputs": [],
   "source": [
    "cols = ['driver_id', 'order_id', 'ride_start_timestamp', 'ride_stop_timestamp', \n",
    "        'pickup_longitude', 'pickup_latitude', 'dropoff_longitude', 'dropoff_latitude']\n",
    "driver_latitude = list(orders[cols].drop_duplicates().dropoff_latitude.values)\n",
    "driver_longitude = list(orders[cols].drop_duplicates().dropoff_longitude.values)\n",
    "min_lat = min(driver_latitude)\n",
    "min_lon = min(driver_longitude)\n",
    "max_lat = max(driver_latitude)\n",
    "max_lon = max(driver_longitude)\n",
    "  \n",
    "gmap4 = gmplot.GoogleMapPlotter(min_lat + (max_lat - min_lat) / 2, min_lon + (max_lon - min_lon) / 2, 12) \n",
    "  \n",
    "# heatmap plot heating Type \n",
    "# points on the Google map \n",
    "gmap4.heatmap( driver_latitude, driver_longitude ) \n",
    "gmap4.draw('heatmap_all_dropoff.html')"
   ]
  }
 ],
 "metadata": {
  "hide_input": false,
  "kernelspec": {
   "display_name": "Python 3",
   "language": "python",
   "name": "python3"
  },
  "language_info": {
   "codemirror_mode": {
    "name": "ipython",
    "version": 3
   },
   "file_extension": ".py",
   "mimetype": "text/x-python",
   "name": "python",
   "nbconvert_exporter": "python",
   "pygments_lexer": "ipython3",
   "version": "3.6.8"
  },
  "pycharm": {
   "stem_cell": {
    "cell_type": "raw",
    "metadata": {
     "collapsed": false
    },
    "source": []
   }
  }
 },
 "nbformat": 4,
 "nbformat_minor": 2
}
