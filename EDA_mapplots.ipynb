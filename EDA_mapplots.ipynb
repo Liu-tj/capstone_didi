{
 "cells": [
  {
   "cell_type": "markdown",
   "metadata": {},
   "source": [
    "## LOADER"
   ]
  },
  {
   "cell_type": "code",
   "execution_count": 10,
   "metadata": {
    "pycharm": {
     "is_executing": false
    }
   },
   "outputs": [],
   "source": [
    "import sys\n",
    "from sys import platform\n",
    "%load_ext autoreload\n",
    "%autoreload 2"
   ]
  },
  {
   "cell_type": "code",
   "execution_count": 2,
   "metadata": {},
   "outputs": [],
   "source": [
    "# if platform  == 'win32':\n",
    "#     sys.argv=[\"_\", r\"P:\\rmahajan14\\ndte_data\\muni_data\", \"20170101\", \"20190930\"]\n",
    "# if platform == 'linux' or platform == 'linux2':\n",
    "#     def full_path(p):\n",
    "#         return os.path.abspath(os.path.expanduser(p))\n",
    "#     sys.argv=[\"_\", r\"/mnt/d/DiDi_Ride_Data/data\", r\"/mnt/d/DiDi_Ride_Data/Ride_Data_Cache\"]\n",
    "sys.argv=[\"_\", \"../Capstone - Data/\", \"../Ride_Data_Cache/\"]"
   ]
  },
  {
   "cell_type": "code",
   "execution_count": 11,
   "metadata": {
    "pycharm": {
     "is_executing": false
    }
   },
   "outputs": [],
   "source": [
    "from loader1 import *\n",
    "from utils import *\n",
    "from common import *\n",
    "# from sys import platform\n",
    "import warnings\n",
    "warnings.filterwarnings('ignore')"
   ]
  },
  {
   "cell_type": "code",
   "execution_count": 13,
   "metadata": {
    "pycharm": {
     "is_executing": false
    },
    "scrolled": true
   },
   "outputs": [
    {
     "name": "stdout",
     "output_type": "stream",
     "text": [
      "Processing 1 of 30 files\n",
      "gps_20161103\n",
      "order_20161103\n",
      "Processing 2 of 30 files\n",
      "gps_20161109\n",
      "order_20161109\n",
      "Processing 3 of 30 files\n",
      "gps_20161124\n",
      "order_20161124\n",
      "Processing 4 of 30 files\n",
      "gps_20161111\n",
      "order_20161111\n",
      "Processing 5 of 30 files\n",
      "gps_20161113\n",
      "order_20161113\n",
      "Processing 6 of 30 files\n",
      "gps_20161112\n",
      "order_20161112\n",
      "Processing 7 of 30 files\n",
      "gps_20161117\n",
      "order_20161117\n",
      "Processing 8 of 30 files\n",
      "gps_20161116\n",
      "order_20161116\n",
      "Processing 9 of 30 files\n",
      "gps_20161102\n",
      "order_20161102\n",
      "Processing 10 of 30 files\n",
      "gps_20161114\n",
      "order_20161114\n",
      "Processing 11 of 30 files\n",
      "gps_20161101\n",
      "order_20161101\n",
      "Processing 12 of 30 files\n",
      "gps_20161120\n",
      "order_20161120\n",
      "Processing 13 of 30 files\n",
      "gps_20161125\n",
      "order_20161125\n",
      "Processing 14 of 30 files\n",
      "gps_20161106\n",
      "order_20161106\n",
      "Processing 15 of 30 files\n",
      "gps_20161127\n",
      "order_20161127\n",
      "Processing 16 of 30 files\n",
      "gps_20161121\n",
      "order_20161121\n",
      "Processing 17 of 30 files\n",
      "gps_20161128\n",
      "order_20161128\n",
      "Processing 18 of 30 files\n",
      "gps_20161118\n",
      "order_20161118\n",
      "Processing 19 of 30 files\n",
      "gps_20161129\n",
      "order_20161129\n",
      "Processing 20 of 30 files\n",
      "gps_20161107\n",
      "order_20161107\n",
      "Processing 21 of 30 files\n",
      "gps_20161115\n",
      "order_20161115\n",
      "Processing 22 of 30 files\n",
      "gps_20161119\n",
      "order_20161119\n",
      "Processing 23 of 30 files\n",
      "gps_20161123\n",
      "order_20161123\n",
      "Processing 24 of 30 files\n",
      "gps_20161126\n",
      "order_20161126\n",
      "Processing 25 of 30 files\n",
      "gps_20161122\n",
      "order_20161122\n",
      "Processing 26 of 30 files\n",
      "gps_20161110\n",
      "order_20161110\n",
      "Processing 27 of 30 files\n",
      "gps_20161108\n",
      "order_20161108\n",
      "Processing 28 of 30 files\n",
      "gps_20161130\n",
      "order_20161130\n",
      "Processing 29 of 30 files\n",
      "gps_20161104\n",
      "order_20161104\n",
      "Processing 30 of 30 files\n",
      "gps_20161105\n",
      "order_20161105\n"
     ]
    }
   ],
   "source": [
    "_ = load_all(override=True)"
   ]
  },
  {
   "cell_type": "markdown",
   "metadata": {},
   "source": [
    "## Process"
   ]
  },
  {
   "cell_type": "code",
   "execution_count": 14,
   "metadata": {
    "scrolled": false
   },
   "outputs": [
    {
     "name": "stdout",
     "output_type": "stream",
     "text": [
      "file path is ../Ride_Data_Cache/order_20161101.msgpack\n"
     ]
    }
   ],
   "source": [
    "# gps = read_data('gps')\n",
    "orders = read_data('order', '20161101')"
   ]
  },
  {
   "cell_type": "code",
   "execution_count": 18,
   "metadata": {},
   "outputs": [],
   "source": [
    "# orders[orders.driver_id == '8bcb3fca2eb35d9deaffc274f005d2b8']"
   ]
  },
  {
   "cell_type": "code",
   "execution_count": 19,
   "metadata": {},
   "outputs": [],
   "source": [
    "# dropping duplicates\n",
    "orders = orders.drop_duplicates()\n",
    "# gps = gps.drop_duplicates()"
   ]
  },
  {
   "cell_type": "code",
   "execution_count": 20,
   "metadata": {},
   "outputs": [
    {
     "data": {
      "text/html": [
       "<div>\n",
       "<style scoped>\n",
       "    .dataframe tbody tr th:only-of-type {\n",
       "        vertical-align: middle;\n",
       "    }\n",
       "\n",
       "    .dataframe tbody tr th {\n",
       "        vertical-align: top;\n",
       "    }\n",
       "\n",
       "    .dataframe thead th {\n",
       "        text-align: right;\n",
       "    }\n",
       "</style>\n",
       "<table border=\"1\" class=\"dataframe\">\n",
       "  <thead>\n",
       "    <tr style=\"text-align: right;\">\n",
       "      <th></th>\n",
       "      <th>order_id</th>\n",
       "      <th>ride_start_timestamp</th>\n",
       "      <th>ride_stop_timestamp</th>\n",
       "      <th>pickup_longitude</th>\n",
       "      <th>pickup_latitude</th>\n",
       "      <th>dropoff_longitude</th>\n",
       "      <th>dropoff_latitude</th>\n",
       "      <th>ride_duration</th>\n",
       "      <th>driver_id</th>\n",
       "    </tr>\n",
       "  </thead>\n",
       "  <tbody>\n",
       "    <tr>\n",
       "      <td>0</td>\n",
       "      <td>00003ad9f837aca8ecdb9ae0729d0866</td>\n",
       "      <td>2016-11-01 14:35:44</td>\n",
       "      <td>2016-11-01 14:48:01</td>\n",
       "      <td>104.107101</td>\n",
       "      <td>30.699385</td>\n",
       "      <td>104.054980</td>\n",
       "      <td>30.688850</td>\n",
       "      <td>12.283333</td>\n",
       "      <td>64ee983f9979db09cb2586ec3893c467</td>\n",
       "    </tr>\n",
       "    <tr>\n",
       "      <td>1</td>\n",
       "      <td>0000c5bb7976b3dfe0fefa060265bdca</td>\n",
       "      <td>2016-11-01 15:06:22</td>\n",
       "      <td>2016-11-01 15:33:26</td>\n",
       "      <td>104.065170</td>\n",
       "      <td>30.702790</td>\n",
       "      <td>104.068280</td>\n",
       "      <td>30.666830</td>\n",
       "      <td>27.066667</td>\n",
       "      <td>19aa2c3cb2b05daf4ed06a3849c2c43c</td>\n",
       "    </tr>\n",
       "    <tr>\n",
       "      <td>2</td>\n",
       "      <td>0000f2c8aa21f2599a82923f317334bc</td>\n",
       "      <td>2016-11-01 19:38:49</td>\n",
       "      <td>2016-11-01 19:50:28</td>\n",
       "      <td>104.050859</td>\n",
       "      <td>30.687837</td>\n",
       "      <td>104.057100</td>\n",
       "      <td>30.662350</td>\n",
       "      <td>11.650000</td>\n",
       "      <td>15045dc2301012dda9cb8e98f4723efd</td>\n",
       "    </tr>\n",
       "    <tr>\n",
       "      <td>3</td>\n",
       "      <td>000102a3f8b31b3bc888572108888727</td>\n",
       "      <td>2016-11-01 11:22:02</td>\n",
       "      <td>2016-11-01 11:50:06</td>\n",
       "      <td>104.012450</td>\n",
       "      <td>30.622080</td>\n",
       "      <td>104.049190</td>\n",
       "      <td>30.755740</td>\n",
       "      <td>28.066667</td>\n",
       "      <td>53332bf0536f84453f0ab40a91774101</td>\n",
       "    </tr>\n",
       "    <tr>\n",
       "      <td>4</td>\n",
       "      <td>00017e395c1e449231b86f9149a793e5</td>\n",
       "      <td>2016-11-01 00:19:20</td>\n",
       "      <td>2016-11-01 00:34:41</td>\n",
       "      <td>104.092920</td>\n",
       "      <td>30.685830</td>\n",
       "      <td>103.990711</td>\n",
       "      <td>30.670803</td>\n",
       "      <td>15.350000</td>\n",
       "      <td>0dafbd548725f540988c5aa2554d782e</td>\n",
       "    </tr>\n",
       "  </tbody>\n",
       "</table>\n",
       "</div>"
      ],
      "text/plain": [
       "                           order_id ride_start_timestamp ride_stop_timestamp  \\\n",
       "0  00003ad9f837aca8ecdb9ae0729d0866  2016-11-01 14:35:44 2016-11-01 14:48:01   \n",
       "1  0000c5bb7976b3dfe0fefa060265bdca  2016-11-01 15:06:22 2016-11-01 15:33:26   \n",
       "2  0000f2c8aa21f2599a82923f317334bc  2016-11-01 19:38:49 2016-11-01 19:50:28   \n",
       "3  000102a3f8b31b3bc888572108888727  2016-11-01 11:22:02 2016-11-01 11:50:06   \n",
       "4  00017e395c1e449231b86f9149a793e5  2016-11-01 00:19:20 2016-11-01 00:34:41   \n",
       "\n",
       "   pickup_longitude  pickup_latitude  dropoff_longitude  dropoff_latitude  \\\n",
       "0        104.107101        30.699385         104.054980         30.688850   \n",
       "1        104.065170        30.702790         104.068280         30.666830   \n",
       "2        104.050859        30.687837         104.057100         30.662350   \n",
       "3        104.012450        30.622080         104.049190         30.755740   \n",
       "4        104.092920        30.685830         103.990711         30.670803   \n",
       "\n",
       "   ride_duration                         driver_id  \n",
       "0      12.283333  64ee983f9979db09cb2586ec3893c467  \n",
       "1      27.066667  19aa2c3cb2b05daf4ed06a3849c2c43c  \n",
       "2      11.650000  15045dc2301012dda9cb8e98f4723efd  \n",
       "3      28.066667  53332bf0536f84453f0ab40a91774101  \n",
       "4      15.350000  0dafbd548725f540988c5aa2554d782e  "
      ]
     },
     "execution_count": 20,
     "metadata": {},
     "output_type": "execute_result"
    }
   ],
   "source": [
    "orders.head()"
   ]
  },
  {
   "cell_type": "code",
   "execution_count": 21,
   "metadata": {},
   "outputs": [
    {
     "data": {
      "text/plain": [
       "(181172, 9)"
      ]
     },
     "execution_count": 21,
     "metadata": {},
     "output_type": "execute_result"
    }
   ],
   "source": [
    "orders.shape"
   ]
  },
  {
   "cell_type": "code",
   "execution_count": 22,
   "metadata": {},
   "outputs": [
    {
     "data": {
      "text/html": [
       "<div>\n",
       "<style scoped>\n",
       "    .dataframe tbody tr th:only-of-type {\n",
       "        vertical-align: middle;\n",
       "    }\n",
       "\n",
       "    .dataframe tbody tr th {\n",
       "        vertical-align: top;\n",
       "    }\n",
       "\n",
       "    .dataframe thead th {\n",
       "        text-align: right;\n",
       "    }\n",
       "</style>\n",
       "<table border=\"1\" class=\"dataframe\">\n",
       "  <thead>\n",
       "    <tr style=\"text-align: right;\">\n",
       "      <th></th>\n",
       "      <th>order_id</th>\n",
       "    </tr>\n",
       "  </thead>\n",
       "  <tbody>\n",
       "    <tr>\n",
       "      <td>count</td>\n",
       "      <td>35449.000000</td>\n",
       "    </tr>\n",
       "    <tr>\n",
       "      <td>mean</td>\n",
       "      <td>5.110779</td>\n",
       "    </tr>\n",
       "    <tr>\n",
       "      <td>std</td>\n",
       "      <td>3.983321</td>\n",
       "    </tr>\n",
       "    <tr>\n",
       "      <td>min</td>\n",
       "      <td>1.000000</td>\n",
       "    </tr>\n",
       "    <tr>\n",
       "      <td>25%</td>\n",
       "      <td>2.000000</td>\n",
       "    </tr>\n",
       "    <tr>\n",
       "      <td>50%</td>\n",
       "      <td>4.000000</td>\n",
       "    </tr>\n",
       "    <tr>\n",
       "      <td>75%</td>\n",
       "      <td>7.000000</td>\n",
       "    </tr>\n",
       "    <tr>\n",
       "      <td>max</td>\n",
       "      <td>56.000000</td>\n",
       "    </tr>\n",
       "  </tbody>\n",
       "</table>\n",
       "</div>"
      ],
      "text/plain": [
       "           order_id\n",
       "count  35449.000000\n",
       "mean       5.110779\n",
       "std        3.983321\n",
       "min        1.000000\n",
       "25%        2.000000\n",
       "50%        4.000000\n",
       "75%        7.000000\n",
       "max       56.000000"
      ]
     },
     "execution_count": 22,
     "metadata": {},
     "output_type": "execute_result"
    }
   ],
   "source": [
    "data = pd.DataFrame(orders.groupby('driver_id')['order_id'].count()).reset_index()\n",
    "data.describe()"
   ]
  },
  {
   "cell_type": "code",
   "execution_count": 15,
   "metadata": {
    "scrolled": true
   },
   "outputs": [],
   "source": [
    "driver_ride_durations = orders.groupby('driver_id')[['ride_duration']].sum().reset_index()"
   ]
  },
  {
   "cell_type": "code",
   "execution_count": 16,
   "metadata": {},
   "outputs": [
    {
     "data": {
      "text/html": [
       "<div>\n",
       "<style scoped>\n",
       "    .dataframe tbody tr th:only-of-type {\n",
       "        vertical-align: middle;\n",
       "    }\n",
       "\n",
       "    .dataframe tbody tr th {\n",
       "        vertical-align: top;\n",
       "    }\n",
       "\n",
       "    .dataframe thead th {\n",
       "        text-align: right;\n",
       "    }\n",
       "</style>\n",
       "<table border=\"1\" class=\"dataframe\">\n",
       "  <thead>\n",
       "    <tr style=\"text-align: right;\">\n",
       "      <th></th>\n",
       "      <th>driver_id</th>\n",
       "      <th>ride_duration</th>\n",
       "    </tr>\n",
       "  </thead>\n",
       "  <tbody>\n",
       "    <tr>\n",
       "      <td>0</td>\n",
       "      <td>0000131d486b69eb77ab6e9e7cca9f4c</td>\n",
       "      <td>75.583333</td>\n",
       "    </tr>\n",
       "    <tr>\n",
       "      <td>1</td>\n",
       "      <td>000211a97ba2b768ef941593bf1ae1a5</td>\n",
       "      <td>157.016667</td>\n",
       "    </tr>\n",
       "    <tr>\n",
       "      <td>2</td>\n",
       "      <td>000770ada4aa5d856b5a766fb6bf7cf1</td>\n",
       "      <td>87.900000</td>\n",
       "    </tr>\n",
       "    <tr>\n",
       "      <td>3</td>\n",
       "      <td>0007a380800445346fff19afc4071ce3</td>\n",
       "      <td>23.650000</td>\n",
       "    </tr>\n",
       "    <tr>\n",
       "      <td>4</td>\n",
       "      <td>0008c9d2ac91c00ef8b3ef80eba02a06</td>\n",
       "      <td>142.766667</td>\n",
       "    </tr>\n",
       "  </tbody>\n",
       "</table>\n",
       "</div>"
      ],
      "text/plain": [
       "                          driver_id  ride_duration\n",
       "0  0000131d486b69eb77ab6e9e7cca9f4c      75.583333\n",
       "1  000211a97ba2b768ef941593bf1ae1a5     157.016667\n",
       "2  000770ada4aa5d856b5a766fb6bf7cf1      87.900000\n",
       "3  0007a380800445346fff19afc4071ce3      23.650000\n",
       "4  0008c9d2ac91c00ef8b3ef80eba02a06     142.766667"
      ]
     },
     "execution_count": 16,
     "metadata": {},
     "output_type": "execute_result"
    }
   ],
   "source": [
    "driver_ride_durations.head()"
   ]
  },
  {
   "cell_type": "markdown",
   "metadata": {},
   "source": [
    "### Single day total active time"
   ]
  },
  {
   "cell_type": "code",
   "execution_count": null,
   "metadata": {},
   "outputs": [],
   "source": [
    "driver_day_min = pd.DataFrame(orders.groupby('driver_id')['ride_start_timestamp'].min()).reset_index()\n",
    "driver_day_max = pd.DataFrame(orders.groupby('driver_id')['ride_stop_timestamp'].max()).reset_index()\n",
    "driver_active_time = driver_day_min.merge(driver_day_max, on='driver_id', how='left')\n",
    "driver_active_time['active_time'] = (driver_active_time['ride_stop_timestamp'] - driver_active_time['ride_start_timestamp']).dt.total_seconds() / 60\n",
    "driver_active_time.head()"
   ]
  },
  {
   "cell_type": "code",
   "execution_count": null,
   "metadata": {},
   "outputs": [],
   "source": [
    "driver_active_time[driver_active_time.driver_id == '310c5f3ffed8d3d42b90583c596cfd8e']"
   ]
  },
  {
   "cell_type": "markdown",
   "metadata": {},
   "source": [
    "### Comparing total driver active time vs ride time"
   ]
  },
  {
   "cell_type": "code",
   "execution_count": null,
   "metadata": {},
   "outputs": [],
   "source": [
    "# total driver active time\n",
    "driver_stats = driver_active_time[['driver_id', 'active_time']].merge(driver_ride_durations, on='driver_id', how='left') \n",
    "\n",
    "# Filtering possible bad rows\n",
    "# driver_stats = driver_stats[driver_stats.active_time > driver_stats.ride_duration]\n",
    "\n",
    "driver_stats.describe()"
   ]
  },
  {
   "cell_type": "code",
   "execution_count": null,
   "metadata": {},
   "outputs": [],
   "source": [
    "driver_stats[driver_stats.ride_duration > driver_stats.active_time]"
   ]
  },
  {
   "cell_type": "code",
   "execution_count": null,
   "metadata": {},
   "outputs": [],
   "source": []
  },
  {
   "cell_type": "code",
   "execution_count": null,
   "metadata": {},
   "outputs": [],
   "source": [
    "orders[orders.driver_id == '009ba30d83cca1e82e56473b0f029b3f']"
   ]
  },
  {
   "cell_type": "code",
   "execution_count": null,
   "metadata": {},
   "outputs": [],
   "source": [
    "orders[orders.driver_id == '010af431d87d4b94869d350e52a9af15'].sort_values('ride_start_timestamp')"
   ]
  },
  {
   "cell_type": "markdown",
   "metadata": {},
   "source": [
    "### Trying out geopandas plotting on orders table"
   ]
  },
  {
   "cell_type": "code",
   "execution_count": null,
   "metadata": {
    "scrolled": true
   },
   "outputs": [],
   "source": [
    "import geopandas\n",
    "import matplotlib.pyplot as plt"
   ]
  },
  {
   "cell_type": "code",
   "execution_count": null,
   "metadata": {},
   "outputs": [],
   "source": [
    "df = orders.copy()\n",
    "df.head()"
   ]
  },
  {
   "cell_type": "code",
   "execution_count": null,
   "metadata": {},
   "outputs": [],
   "source": [
    "# Converting to geopandas df\n",
    "gdf = geopandas.GeoDataFrame(\n",
    "    df, geometry=geopandas.points_from_xy(df.dropoff_longitude, df.dropoff_latitude))"
   ]
  },
  {
   "cell_type": "code",
   "execution_count": null,
   "metadata": {},
   "outputs": [],
   "source": [
    "gdf.head()"
   ]
  },
  {
   "cell_type": "code",
   "execution_count": null,
   "metadata": {},
   "outputs": [],
   "source": [
    "# Plotting on country level map\n",
    "world = geopandas.read_file(geopandas.datasets.get_path('naturalearth_lowres'))"
   ]
  },
  {
   "cell_type": "code",
   "execution_count": null,
   "metadata": {},
   "outputs": [],
   "source": [
    "world"
   ]
  },
  {
   "cell_type": "code",
   "execution_count": null,
   "metadata": {},
   "outputs": [],
   "source": [
    "# We restrict to China.\n",
    "# ax = world[world.name == 'China'].plot(\n",
    "#     color='white', edgecolor='black', figsize=(20,20))\n",
    "\n",
    "# We can now plot our ``GeoDataFrame``.\n",
    "# gdf.plot(ax=ax, color='red')\n",
    "\n",
    "# plt.show()"
   ]
  },
  {
   "cell_type": "markdown",
   "metadata": {},
   "source": [
    "#### Attempt 2 - Read china shapefile"
   ]
  },
  {
   "cell_type": "code",
   "execution_count": null,
   "metadata": {},
   "outputs": [],
   "source": [
    "file = geopandas.read_file('../China_map/CHN_roads.dbf')"
   ]
  },
  {
   "cell_type": "code",
   "execution_count": null,
   "metadata": {},
   "outputs": [],
   "source": [
    "gdf_driver = gdf[gdf.driver_id == '0373c98625e6d8e1fc56a4d61318138c']"
   ]
  },
  {
   "cell_type": "code",
   "execution_count": null,
   "metadata": {},
   "outputs": [],
   "source": [
    "f, ax = plt.subplots(1, figsize=(80, 80))\n",
    "ax = file.plot(axes=ax)\n",
    "gdf_driver.plot(ax=ax, color='red')\n",
    "ax.margins(x=-0, y=-0.25)\n",
    "plt.show()"
   ]
  },
  {
   "cell_type": "code",
   "execution_count": null,
   "metadata": {
    "scrolled": true
   },
   "outputs": [],
   "source": [
    "# f, ax = plt.subplots(1, figsize=(80, 80))\n",
    "# ax = file.plot(axes=ax)\n",
    "# gdf_driver.plot(ax=ax, color='red')\n",
    "# ax.margins(x=-0.4, y=-0.25)\n",
    "# plt.show()"
   ]
  },
  {
   "cell_type": "code",
   "execution_count": null,
   "metadata": {},
   "outputs": [],
   "source": []
  },
  {
   "cell_type": "markdown",
   "metadata": {},
   "source": [
    "## GMAP plotting"
   ]
  },
  {
   "cell_type": "code",
   "execution_count": null,
   "metadata": {},
   "outputs": [],
   "source": [
    "driver_latitude = gps[(gps.driver_id == '0373c98625e6d8e1fc56a4d61318138c') & \n",
    "                 (gps.order_id == 'eb9dd4095d9850e6287cefd813775a6c')].sort_values('timestamp').latitude\n",
    "driver_longitude = gps[(gps.driver_id == '0373c98625e6d8e1fc56a4d61318138c') & \n",
    "                 (gps.order_id == 'eb9dd4095d9850e6287cefd813775a6c')].sort_values('timestamp').longitude"
   ]
  },
  {
   "cell_type": "code",
   "execution_count": null,
   "metadata": {},
   "outputs": [],
   "source": [
    "gps[(gps.driver_id == '0373c98625e6d8e1fc56a4d61318138c') & \n",
    "                 (gps.order_id == 'eb9dd4095d9850e6287cefd813775a6c')].sort_values('timestamp')"
   ]
  },
  {
   "cell_type": "code",
   "execution_count": null,
   "metadata": {},
   "outputs": [],
   "source": [
    "driver_latitude = list(driver_latitude)\n",
    "driver_longitude = list(driver_longitude)\n",
    "min_lat = min(driver_latitude)\n",
    "min_lon = min(driver_longitude)\n",
    "max_lat = max(driver_latitude)\n",
    "max_lon = max(driver_longitude)"
   ]
  },
  {
   "cell_type": "code",
   "execution_count": null,
   "metadata": {
    "scrolled": true
   },
   "outputs": [],
   "source": [
    "import gmplot \n",
    "  \n",
    "# latitude_list = [ 30.3358376, 30.307977, 30.3216419 ] \n",
    "# longitude_list = [ 77.8701919, 78.048457, 78.0413095 ] \n",
    "  \n",
    "gmap5 = gmplot.GoogleMapPlotter(min_lat + (max_lat - min_lat) / 2, min_lon + (max_lon - min_lon) / 2, 12) \n",
    "\n",
    "gmap5.marker(min_lat, min_lon, c='red')#, size=40, marker=True)\n",
    "gmap5.marker(max_lat, max_lon, c='red')#, size=40, marker=True)\n",
    "\n",
    "gmap5.plot( driver_latitude, driver_longitude, '# FF0000', \n",
    "                                size = 50, marker = False) \n",
    "\n",
    "gmap5.draw('map.html')\n",
    "  \n",
    "# polygon method Draw a polygon with \n",
    "# the help of coordinates \n",
    "# gmap5.polygon(latitude_list, longitude_list, \n",
    "#                    color = 'cornflowerblue') "
   ]
  },
  {
   "cell_type": "markdown",
   "metadata": {},
   "source": [
    "### Trying heatmap of snapshot of 9 AM rides"
   ]
  },
  {
   "cell_type": "code",
   "execution_count": 40,
   "metadata": {},
   "outputs": [],
   "source": [
    "time = pd.to_datetime('2016-11-01 09:00:00')\n",
    "first_orders = orders[['driver_id']].drop_duplicates()\n",
    "first_orders['snapshot'] = time"
   ]
  },
  {
   "cell_type": "code",
   "execution_count": 41,
   "metadata": {
    "scrolled": true
   },
   "outputs": [
    {
     "data": {
      "text/html": [
       "<div>\n",
       "<style scoped>\n",
       "    .dataframe tbody tr th:only-of-type {\n",
       "        vertical-align: middle;\n",
       "    }\n",
       "\n",
       "    .dataframe tbody tr th {\n",
       "        vertical-align: top;\n",
       "    }\n",
       "\n",
       "    .dataframe thead th {\n",
       "        text-align: right;\n",
       "    }\n",
       "</style>\n",
       "<table border=\"1\" class=\"dataframe\">\n",
       "  <thead>\n",
       "    <tr style=\"text-align: right;\">\n",
       "      <th></th>\n",
       "      <th>driver_id</th>\n",
       "      <th>snapshot</th>\n",
       "    </tr>\n",
       "  </thead>\n",
       "  <tbody>\n",
       "    <tr>\n",
       "      <td>105100</td>\n",
       "      <td>053c3c3156f27f1055d2516223036e29</td>\n",
       "      <td>2016-11-01 09:00:00</td>\n",
       "    </tr>\n",
       "    <tr>\n",
       "      <td>59575</td>\n",
       "      <td>3fe49726673176e92098de74a38d989c</td>\n",
       "      <td>2016-11-01 09:00:00</td>\n",
       "    </tr>\n",
       "    <tr>\n",
       "      <td>41744</td>\n",
       "      <td>44a773ba727b57b904612e27b3237eb6</td>\n",
       "      <td>2016-11-01 09:00:00</td>\n",
       "    </tr>\n",
       "    <tr>\n",
       "      <td>55455</td>\n",
       "      <td>e3dea9785be1822c7eb037ee058d2001</td>\n",
       "      <td>2016-11-01 09:00:00</td>\n",
       "    </tr>\n",
       "    <tr>\n",
       "      <td>150211</td>\n",
       "      <td>9c7983fed0240deed8d06c92b8569ee1</td>\n",
       "      <td>2016-11-01 09:00:00</td>\n",
       "    </tr>\n",
       "    <tr>\n",
       "      <td>...</td>\n",
       "      <td>...</td>\n",
       "      <td>...</td>\n",
       "    </tr>\n",
       "    <tr>\n",
       "      <td>101240</td>\n",
       "      <td>97ea843af908309ee67572ff9e01f6c7</td>\n",
       "      <td>2016-11-01 09:00:00</td>\n",
       "    </tr>\n",
       "    <tr>\n",
       "      <td>73398</td>\n",
       "      <td>3daa86de0f877a1ca039a6a8896c8a79</td>\n",
       "      <td>2016-11-01 09:00:00</td>\n",
       "    </tr>\n",
       "    <tr>\n",
       "      <td>23275</td>\n",
       "      <td>878b2658feee52e674870baedaee2852</td>\n",
       "      <td>2016-11-01 09:00:00</td>\n",
       "    </tr>\n",
       "    <tr>\n",
       "      <td>31914</td>\n",
       "      <td>526bba2ec3962f06c60414d660e00617</td>\n",
       "      <td>2016-11-01 09:00:00</td>\n",
       "    </tr>\n",
       "    <tr>\n",
       "      <td>37865</td>\n",
       "      <td>0525c147518a3dea3a0042f606043ae4</td>\n",
       "      <td>2016-11-01 09:00:00</td>\n",
       "    </tr>\n",
       "  </tbody>\n",
       "</table>\n",
       "<p>35449 rows × 2 columns</p>\n",
       "</div>"
      ],
      "text/plain": [
       "                               driver_id            snapshot\n",
       "105100  053c3c3156f27f1055d2516223036e29 2016-11-01 09:00:00\n",
       "59575   3fe49726673176e92098de74a38d989c 2016-11-01 09:00:00\n",
       "41744   44a773ba727b57b904612e27b3237eb6 2016-11-01 09:00:00\n",
       "55455   e3dea9785be1822c7eb037ee058d2001 2016-11-01 09:00:00\n",
       "150211  9c7983fed0240deed8d06c92b8569ee1 2016-11-01 09:00:00\n",
       "...                                  ...                 ...\n",
       "101240  97ea843af908309ee67572ff9e01f6c7 2016-11-01 09:00:00\n",
       "73398   3daa86de0f877a1ca039a6a8896c8a79 2016-11-01 09:00:00\n",
       "23275   878b2658feee52e674870baedaee2852 2016-11-01 09:00:00\n",
       "31914   526bba2ec3962f06c60414d660e00617 2016-11-01 09:00:00\n",
       "37865   0525c147518a3dea3a0042f606043ae4 2016-11-01 09:00:00\n",
       "\n",
       "[35449 rows x 2 columns]"
      ]
     },
     "execution_count": 41,
     "metadata": {},
     "output_type": "execute_result"
    }
   ],
   "source": [
    "first_orders"
   ]
  },
  {
   "cell_type": "code",
   "execution_count": 42,
   "metadata": {
    "scrolled": true
   },
   "outputs": [],
   "source": [
    "# As of merge orders table to join first order pickups on or after 10 AM\n",
    "## Sort right keys\n",
    "orders = orders.sort_values('ride_start_timestamp')\n",
    "df2 = pd.merge_asof(first_orders, orders, \n",
    "                    left_on='snapshot', \n",
    "                    right_on='ride_start_timestamp', \n",
    "                    direction='nearest',\n",
    "                   by='driver_id')\n",
    "\n",
    "cols = ['driver_id', 'order_id', 'snapshot', 'ride_start_timestamp',\n",
    "        'pickup_longitude', 'pickup_latitude', 'dropoff_longitude', 'dropoff_longitude']"
   ]
  },
  {
   "cell_type": "code",
   "execution_count": 43,
   "metadata": {},
   "outputs": [],
   "source": [
    "# Filter times which are at most + or - 5min from 6PM\n",
    "import numpy as np\n",
    "df2['time_delta'] = np.abs((df2.snapshot - df2.ride_start_timestamp)).dt.total_seconds() / 60\n",
    "df2 = df2[df2.time_delta < 10]"
   ]
  },
  {
   "cell_type": "code",
   "execution_count": 48,
   "metadata": {},
   "outputs": [
    {
     "data": {
      "text/html": [
       "<div>\n",
       "<style scoped>\n",
       "    .dataframe tbody tr th:only-of-type {\n",
       "        vertical-align: middle;\n",
       "    }\n",
       "\n",
       "    .dataframe tbody tr th {\n",
       "        vertical-align: top;\n",
       "    }\n",
       "\n",
       "    .dataframe thead th {\n",
       "        text-align: right;\n",
       "    }\n",
       "</style>\n",
       "<table border=\"1\" class=\"dataframe\">\n",
       "  <thead>\n",
       "    <tr style=\"text-align: right;\">\n",
       "      <th></th>\n",
       "      <th>driver_id</th>\n",
       "      <th>snapshot</th>\n",
       "      <th>order_id</th>\n",
       "      <th>ride_start_timestamp</th>\n",
       "      <th>ride_stop_timestamp</th>\n",
       "      <th>pickup_longitude</th>\n",
       "      <th>pickup_latitude</th>\n",
       "      <th>dropoff_longitude</th>\n",
       "      <th>dropoff_latitude</th>\n",
       "      <th>ride_duration</th>\n",
       "      <th>time_delta</th>\n",
       "    </tr>\n",
       "  </thead>\n",
       "  <tbody>\n",
       "    <tr>\n",
       "      <td>5</td>\n",
       "      <td>0df0e6f5e603188c3e444028c354dbeb</td>\n",
       "      <td>2016-11-01 09:00:00</td>\n",
       "      <td>fda9df5b3dd9c585c54b304d0631a514</td>\n",
       "      <td>2016-11-01 09:06:05</td>\n",
       "      <td>2016-11-01 09:17:41</td>\n",
       "      <td>104.036800</td>\n",
       "      <td>30.681620</td>\n",
       "      <td>104.06332</td>\n",
       "      <td>30.67013</td>\n",
       "      <td>11.600000</td>\n",
       "      <td>6.083333</td>\n",
       "    </tr>\n",
       "    <tr>\n",
       "      <td>86</td>\n",
       "      <td>337d4d0e847dd8ad44c27346f80f256f</td>\n",
       "      <td>2016-11-01 09:00:00</td>\n",
       "      <td>ea3b29b8e4b335b5980e4984fd043320</td>\n",
       "      <td>2016-11-01 09:06:48</td>\n",
       "      <td>2016-11-01 09:20:59</td>\n",
       "      <td>104.114200</td>\n",
       "      <td>30.711220</td>\n",
       "      <td>104.15183</td>\n",
       "      <td>30.74553</td>\n",
       "      <td>14.183333</td>\n",
       "      <td>6.800000</td>\n",
       "    </tr>\n",
       "    <tr>\n",
       "      <td>116</td>\n",
       "      <td>9b67327c7f75483fd00021887e806fb3</td>\n",
       "      <td>2016-11-01 09:00:00</td>\n",
       "      <td>7abf27fba2139dcc6ee1dc7cbf9411ac</td>\n",
       "      <td>2016-11-01 09:07:31</td>\n",
       "      <td>2016-11-01 09:45:48</td>\n",
       "      <td>104.072701</td>\n",
       "      <td>30.695971</td>\n",
       "      <td>103.96979</td>\n",
       "      <td>30.61981</td>\n",
       "      <td>38.283333</td>\n",
       "      <td>7.516667</td>\n",
       "    </tr>\n",
       "    <tr>\n",
       "      <td>129</td>\n",
       "      <td>095fdb0052db44d416aa0ff971d2ec9d</td>\n",
       "      <td>2016-11-01 09:00:00</td>\n",
       "      <td>120d82ed07d94e5eafd80d949d239fdb</td>\n",
       "      <td>2016-11-01 08:53:08</td>\n",
       "      <td>2016-11-01 09:22:45</td>\n",
       "      <td>104.058540</td>\n",
       "      <td>30.644030</td>\n",
       "      <td>104.04559</td>\n",
       "      <td>30.71234</td>\n",
       "      <td>29.616667</td>\n",
       "      <td>6.866667</td>\n",
       "    </tr>\n",
       "    <tr>\n",
       "      <td>131</td>\n",
       "      <td>08704ff983c7d1d7affa106d91aa7e4b</td>\n",
       "      <td>2016-11-01 09:00:00</td>\n",
       "      <td>715edb8457eee71df9b41d853aa848b7</td>\n",
       "      <td>2016-11-01 09:09:44</td>\n",
       "      <td>2016-11-01 09:39:23</td>\n",
       "      <td>104.088640</td>\n",
       "      <td>30.755850</td>\n",
       "      <td>104.04332</td>\n",
       "      <td>30.68650</td>\n",
       "      <td>29.650000</td>\n",
       "      <td>9.733333</td>\n",
       "    </tr>\n",
       "  </tbody>\n",
       "</table>\n",
       "</div>"
      ],
      "text/plain": [
       "                            driver_id            snapshot  \\\n",
       "5    0df0e6f5e603188c3e444028c354dbeb 2016-11-01 09:00:00   \n",
       "86   337d4d0e847dd8ad44c27346f80f256f 2016-11-01 09:00:00   \n",
       "116  9b67327c7f75483fd00021887e806fb3 2016-11-01 09:00:00   \n",
       "129  095fdb0052db44d416aa0ff971d2ec9d 2016-11-01 09:00:00   \n",
       "131  08704ff983c7d1d7affa106d91aa7e4b 2016-11-01 09:00:00   \n",
       "\n",
       "                             order_id ride_start_timestamp  \\\n",
       "5    fda9df5b3dd9c585c54b304d0631a514  2016-11-01 09:06:05   \n",
       "86   ea3b29b8e4b335b5980e4984fd043320  2016-11-01 09:06:48   \n",
       "116  7abf27fba2139dcc6ee1dc7cbf9411ac  2016-11-01 09:07:31   \n",
       "129  120d82ed07d94e5eafd80d949d239fdb  2016-11-01 08:53:08   \n",
       "131  715edb8457eee71df9b41d853aa848b7  2016-11-01 09:09:44   \n",
       "\n",
       "    ride_stop_timestamp  pickup_longitude  pickup_latitude  dropoff_longitude  \\\n",
       "5   2016-11-01 09:17:41        104.036800        30.681620          104.06332   \n",
       "86  2016-11-01 09:20:59        104.114200        30.711220          104.15183   \n",
       "116 2016-11-01 09:45:48        104.072701        30.695971          103.96979   \n",
       "129 2016-11-01 09:22:45        104.058540        30.644030          104.04559   \n",
       "131 2016-11-01 09:39:23        104.088640        30.755850          104.04332   \n",
       "\n",
       "     dropoff_latitude  ride_duration  time_delta  \n",
       "5            30.67013      11.600000    6.083333  \n",
       "86           30.74553      14.183333    6.800000  \n",
       "116          30.61981      38.283333    7.516667  \n",
       "129          30.71234      29.616667    6.866667  \n",
       "131          30.68650      29.650000    9.733333  "
      ]
     },
     "execution_count": 48,
     "metadata": {},
     "output_type": "execute_result"
    }
   ],
   "source": [
    "df2.head()"
   ]
  },
  {
   "cell_type": "code",
   "execution_count": 49,
   "metadata": {},
   "outputs": [
    {
     "data": {
      "text/html": [
       "<div>\n",
       "<style scoped>\n",
       "    .dataframe tbody tr th:only-of-type {\n",
       "        vertical-align: middle;\n",
       "    }\n",
       "\n",
       "    .dataframe tbody tr th {\n",
       "        vertical-align: top;\n",
       "    }\n",
       "\n",
       "    .dataframe thead th {\n",
       "        text-align: right;\n",
       "    }\n",
       "</style>\n",
       "<table border=\"1\" class=\"dataframe\">\n",
       "  <thead>\n",
       "    <tr style=\"text-align: right;\">\n",
       "      <th></th>\n",
       "      <th>pickup_longitude</th>\n",
       "      <th>pickup_latitude</th>\n",
       "      <th>dropoff_longitude</th>\n",
       "      <th>dropoff_latitude</th>\n",
       "      <th>ride_duration</th>\n",
       "      <th>time_delta</th>\n",
       "    </tr>\n",
       "  </thead>\n",
       "  <tbody>\n",
       "    <tr>\n",
       "      <td>count</td>\n",
       "      <td>3181.000000</td>\n",
       "      <td>3181.000000</td>\n",
       "      <td>3181.000000</td>\n",
       "      <td>3181.000000</td>\n",
       "      <td>3181.000000</td>\n",
       "      <td>3181.000000</td>\n",
       "    </tr>\n",
       "    <tr>\n",
       "      <td>mean</td>\n",
       "      <td>104.073667</td>\n",
       "      <td>30.678780</td>\n",
       "      <td>104.072586</td>\n",
       "      <td>30.673817</td>\n",
       "      <td>21.172964</td>\n",
       "      <td>4.984507</td>\n",
       "    </tr>\n",
       "    <tr>\n",
       "      <td>std</td>\n",
       "      <td>0.044119</td>\n",
       "      <td>0.041697</td>\n",
       "      <td>0.038978</td>\n",
       "      <td>0.037309</td>\n",
       "      <td>12.299920</td>\n",
       "      <td>2.831506</td>\n",
       "    </tr>\n",
       "    <tr>\n",
       "      <td>min</td>\n",
       "      <td>103.822210</td>\n",
       "      <td>30.492120</td>\n",
       "      <td>103.863070</td>\n",
       "      <td>30.463230</td>\n",
       "      <td>0.083333</td>\n",
       "      <td>0.000000</td>\n",
       "    </tr>\n",
       "    <tr>\n",
       "      <td>25%</td>\n",
       "      <td>104.049390</td>\n",
       "      <td>30.656586</td>\n",
       "      <td>104.052600</td>\n",
       "      <td>30.656420</td>\n",
       "      <td>12.666667</td>\n",
       "      <td>2.566667</td>\n",
       "    </tr>\n",
       "    <tr>\n",
       "      <td>50%</td>\n",
       "      <td>104.073631</td>\n",
       "      <td>30.675020</td>\n",
       "      <td>104.072530</td>\n",
       "      <td>30.670020</td>\n",
       "      <td>18.600000</td>\n",
       "      <td>5.050000</td>\n",
       "    </tr>\n",
       "    <tr>\n",
       "      <td>75%</td>\n",
       "      <td>104.101712</td>\n",
       "      <td>30.698990</td>\n",
       "      <td>104.092130</td>\n",
       "      <td>30.692110</td>\n",
       "      <td>26.550000</td>\n",
       "      <td>7.350000</td>\n",
       "    </tr>\n",
       "    <tr>\n",
       "      <td>max</td>\n",
       "      <td>104.281570</td>\n",
       "      <td>30.978180</td>\n",
       "      <td>104.300050</td>\n",
       "      <td>30.989479</td>\n",
       "      <td>107.983333</td>\n",
       "      <td>9.983333</td>\n",
       "    </tr>\n",
       "  </tbody>\n",
       "</table>\n",
       "</div>"
      ],
      "text/plain": [
       "       pickup_longitude  pickup_latitude  dropoff_longitude  dropoff_latitude  \\\n",
       "count       3181.000000      3181.000000        3181.000000       3181.000000   \n",
       "mean         104.073667        30.678780         104.072586         30.673817   \n",
       "std            0.044119         0.041697           0.038978          0.037309   \n",
       "min          103.822210        30.492120         103.863070         30.463230   \n",
       "25%          104.049390        30.656586         104.052600         30.656420   \n",
       "50%          104.073631        30.675020         104.072530         30.670020   \n",
       "75%          104.101712        30.698990         104.092130         30.692110   \n",
       "max          104.281570        30.978180         104.300050         30.989479   \n",
       "\n",
       "       ride_duration   time_delta  \n",
       "count    3181.000000  3181.000000  \n",
       "mean       21.172964     4.984507  \n",
       "std        12.299920     2.831506  \n",
       "min         0.083333     0.000000  \n",
       "25%        12.666667     2.566667  \n",
       "50%        18.600000     5.050000  \n",
       "75%        26.550000     7.350000  \n",
       "max       107.983333     9.983333  "
      ]
     },
     "execution_count": 49,
     "metadata": {},
     "output_type": "execute_result"
    }
   ],
   "source": [
    "df2.describe()"
   ]
  },
  {
   "cell_type": "code",
   "execution_count": 50,
   "metadata": {},
   "outputs": [],
   "source": [
    "import gmplot \n",
    "\n",
    "driver_latitude = list(df2.pickup_latitude.values)\n",
    "driver_longitude = list(df2.pickup_longitude.values)\n",
    "min_lat = min(driver_latitude)\n",
    "min_lon = min(driver_longitude)\n",
    "max_lat = max(driver_latitude)\n",
    "max_lon = max(driver_longitude)\n",
    "  \n",
    "gmap4 = gmplot.GoogleMapPlotter(min_lat + (max_lat - min_lat) / 2, min_lon + (max_lon - min_lon) / 2, 12) \n",
    "  \n",
    "# heatmap plot heating Type \n",
    "# points on the Google map \n",
    "gmap4.heatmap( driver_latitude, driver_longitude ) \n",
    "gmap4.draw('heatmap_9AM.html')\n",
    "\n",
    "\n",
    "driver_latitude = list(df2.dropoff_latitude.values)\n",
    "driver_longitude = list(df2.dropoff_longitude.values)\n",
    "min_lat = min(driver_latitude)\n",
    "min_lon = min(driver_longitude)\n",
    "max_lat = max(driver_latitude)\n",
    "max_lon = max(driver_longitude)\n",
    "  \n",
    "gmap4 = gmplot.GoogleMapPlotter(min_lat + (max_lat - min_lat) / 2, min_lon + (max_lon - min_lon) / 2, 12) \n",
    "  \n",
    "# heatmap plot heating Type \n",
    "# points on the Google map \n",
    "gmap4.heatmap( driver_latitude, driver_longitude ) \n",
    "gmap4.draw('heatmap_9AM_dropoff.html')"
   ]
  },
  {
   "cell_type": "markdown",
   "metadata": {},
   "source": [
    "## Heatmap for 6PM"
   ]
  },
  {
   "cell_type": "code",
   "execution_count": 78,
   "metadata": {},
   "outputs": [],
   "source": [
    "time = pd.to_datetime('2016-11-01 16:00:00')\n",
    "last_orders = orders[['driver_id']].drop_duplicates()\n",
    "last_orders['snapshot'] = time"
   ]
  },
  {
   "cell_type": "code",
   "execution_count": 72,
   "metadata": {},
   "outputs": [
    {
     "data": {
      "text/plain": [
       "(35449, 2)"
      ]
     },
     "execution_count": 72,
     "metadata": {},
     "output_type": "execute_result"
    }
   ],
   "source": [
    "last_orders.shape"
   ]
  },
  {
   "cell_type": "code",
   "execution_count": 79,
   "metadata": {
    "scrolled": true
   },
   "outputs": [],
   "source": [
    "# As of merge orders table to join last order pickups on or after 10 AM\n",
    "## Sort right keys\n",
    "orders = orders.sort_values('ride_start_timestamp')\n",
    "df2 = pd.merge_asof(last_orders, orders, \n",
    "                    left_on='snapshot', \n",
    "                    right_on='ride_start_timestamp', \n",
    "                    direction='nearest',\n",
    "                   by='driver_id')\n",
    "\n",
    "cols = ['driver_id', 'order_id', 'snapshot', 'ride_start_timestamp',\n",
    "        'pickup_longitude', 'pickup_latitude', 'dropoff_longitude', 'dropoff_longitude']"
   ]
  },
  {
   "cell_type": "code",
   "execution_count": 80,
   "metadata": {},
   "outputs": [],
   "source": [
    "# Filter times which are at most + or - 5min from 6PM\n",
    "import numpy as np\n",
    "df2['time_delta'] = np.abs((df2.snapshot - df2.ride_start_timestamp)).dt.total_seconds() / 60\n",
    "df2 = df2[df2.time_delta < 10]"
   ]
  },
  {
   "cell_type": "code",
   "execution_count": 81,
   "metadata": {},
   "outputs": [
    {
     "data": {
      "text/html": [
       "<div>\n",
       "<style scoped>\n",
       "    .dataframe tbody tr th:only-of-type {\n",
       "        vertical-align: middle;\n",
       "    }\n",
       "\n",
       "    .dataframe tbody tr th {\n",
       "        vertical-align: top;\n",
       "    }\n",
       "\n",
       "    .dataframe thead th {\n",
       "        text-align: right;\n",
       "    }\n",
       "</style>\n",
       "<table border=\"1\" class=\"dataframe\">\n",
       "  <thead>\n",
       "    <tr style=\"text-align: right;\">\n",
       "      <th></th>\n",
       "      <th>driver_id</th>\n",
       "      <th>snapshot</th>\n",
       "      <th>order_id</th>\n",
       "      <th>ride_start_timestamp</th>\n",
       "      <th>ride_stop_timestamp</th>\n",
       "      <th>pickup_longitude</th>\n",
       "      <th>pickup_latitude</th>\n",
       "      <th>dropoff_longitude</th>\n",
       "      <th>dropoff_latitude</th>\n",
       "      <th>ride_duration</th>\n",
       "      <th>time_delta</th>\n",
       "    </tr>\n",
       "  </thead>\n",
       "  <tbody>\n",
       "    <tr>\n",
       "      <td>15</td>\n",
       "      <td>377dd282929127a61ec20daffb42f50f</td>\n",
       "      <td>2016-11-01 16:00:00</td>\n",
       "      <td>e692393878a2a6ae4566847d84a9f756</td>\n",
       "      <td>2016-11-01 16:09:27</td>\n",
       "      <td>2016-11-01 16:22:37</td>\n",
       "      <td>104.099732</td>\n",
       "      <td>30.669089</td>\n",
       "      <td>104.07655</td>\n",
       "      <td>30.66004</td>\n",
       "      <td>13.166667</td>\n",
       "      <td>9.450000</td>\n",
       "    </tr>\n",
       "    <tr>\n",
       "      <td>20</td>\n",
       "      <td>cafc3505e52a72493bdeac60b0294263</td>\n",
       "      <td>2016-11-01 16:00:00</td>\n",
       "      <td>01c4a26f3ab08c117aac48168ef8232c</td>\n",
       "      <td>2016-11-01 15:53:00</td>\n",
       "      <td>2016-11-01 16:13:23</td>\n",
       "      <td>104.044960</td>\n",
       "      <td>30.681500</td>\n",
       "      <td>104.08684</td>\n",
       "      <td>30.66537</td>\n",
       "      <td>20.383333</td>\n",
       "      <td>7.000000</td>\n",
       "    </tr>\n",
       "    <tr>\n",
       "      <td>22</td>\n",
       "      <td>00d9c441b7bfbbf25fc4d0425081e014</td>\n",
       "      <td>2016-11-01 16:00:00</td>\n",
       "      <td>f941297b6efcb996280077a713944683</td>\n",
       "      <td>2016-11-01 16:05:56</td>\n",
       "      <td>2016-11-01 16:20:17</td>\n",
       "      <td>104.076530</td>\n",
       "      <td>30.688130</td>\n",
       "      <td>104.09281</td>\n",
       "      <td>30.68154</td>\n",
       "      <td>14.350000</td>\n",
       "      <td>5.933333</td>\n",
       "    </tr>\n",
       "    <tr>\n",
       "      <td>38</td>\n",
       "      <td>2fc936215fea3c9b3c5919b399b331c9</td>\n",
       "      <td>2016-11-01 16:00:00</td>\n",
       "      <td>35e0bde51cac0358270aca51ba881982</td>\n",
       "      <td>2016-11-01 15:55:00</td>\n",
       "      <td>2016-11-01 16:19:53</td>\n",
       "      <td>104.083366</td>\n",
       "      <td>30.559322</td>\n",
       "      <td>104.07380</td>\n",
       "      <td>30.65967</td>\n",
       "      <td>24.883333</td>\n",
       "      <td>5.000000</td>\n",
       "    </tr>\n",
       "    <tr>\n",
       "      <td>121</td>\n",
       "      <td>951c0736f20e5c222ec3fddec8a9ee1a</td>\n",
       "      <td>2016-11-01 16:00:00</td>\n",
       "      <td>739544e3c3597c034679f8090b98fafd</td>\n",
       "      <td>2016-11-01 16:06:07</td>\n",
       "      <td>2016-11-01 16:30:55</td>\n",
       "      <td>104.074580</td>\n",
       "      <td>30.660130</td>\n",
       "      <td>104.13935</td>\n",
       "      <td>30.67364</td>\n",
       "      <td>24.800000</td>\n",
       "      <td>6.116667</td>\n",
       "    </tr>\n",
       "  </tbody>\n",
       "</table>\n",
       "</div>"
      ],
      "text/plain": [
       "                            driver_id            snapshot  \\\n",
       "15   377dd282929127a61ec20daffb42f50f 2016-11-01 16:00:00   \n",
       "20   cafc3505e52a72493bdeac60b0294263 2016-11-01 16:00:00   \n",
       "22   00d9c441b7bfbbf25fc4d0425081e014 2016-11-01 16:00:00   \n",
       "38   2fc936215fea3c9b3c5919b399b331c9 2016-11-01 16:00:00   \n",
       "121  951c0736f20e5c222ec3fddec8a9ee1a 2016-11-01 16:00:00   \n",
       "\n",
       "                             order_id ride_start_timestamp  \\\n",
       "15   e692393878a2a6ae4566847d84a9f756  2016-11-01 16:09:27   \n",
       "20   01c4a26f3ab08c117aac48168ef8232c  2016-11-01 15:53:00   \n",
       "22   f941297b6efcb996280077a713944683  2016-11-01 16:05:56   \n",
       "38   35e0bde51cac0358270aca51ba881982  2016-11-01 15:55:00   \n",
       "121  739544e3c3597c034679f8090b98fafd  2016-11-01 16:06:07   \n",
       "\n",
       "    ride_stop_timestamp  pickup_longitude  pickup_latitude  dropoff_longitude  \\\n",
       "15  2016-11-01 16:22:37        104.099732        30.669089          104.07655   \n",
       "20  2016-11-01 16:13:23        104.044960        30.681500          104.08684   \n",
       "22  2016-11-01 16:20:17        104.076530        30.688130          104.09281   \n",
       "38  2016-11-01 16:19:53        104.083366        30.559322          104.07380   \n",
       "121 2016-11-01 16:30:55        104.074580        30.660130          104.13935   \n",
       "\n",
       "     dropoff_latitude  ride_duration  time_delta  \n",
       "15           30.66004      13.166667    9.450000  \n",
       "20           30.66537      20.383333    7.000000  \n",
       "22           30.68154      14.350000    5.933333  \n",
       "38           30.65967      24.883333    5.000000  \n",
       "121          30.67364      24.800000    6.116667  "
      ]
     },
     "execution_count": 81,
     "metadata": {},
     "output_type": "execute_result"
    }
   ],
   "source": [
    "df2.head()"
   ]
  },
  {
   "cell_type": "code",
   "execution_count": 82,
   "metadata": {},
   "outputs": [
    {
     "data": {
      "text/html": [
       "<div>\n",
       "<style scoped>\n",
       "    .dataframe tbody tr th:only-of-type {\n",
       "        vertical-align: middle;\n",
       "    }\n",
       "\n",
       "    .dataframe tbody tr th {\n",
       "        vertical-align: top;\n",
       "    }\n",
       "\n",
       "    .dataframe thead th {\n",
       "        text-align: right;\n",
       "    }\n",
       "</style>\n",
       "<table border=\"1\" class=\"dataframe\">\n",
       "  <thead>\n",
       "    <tr style=\"text-align: right;\">\n",
       "      <th></th>\n",
       "      <th>order_id</th>\n",
       "      <th>ride_start_timestamp</th>\n",
       "      <th>ride_stop_timestamp</th>\n",
       "      <th>pickup_longitude</th>\n",
       "      <th>pickup_latitude</th>\n",
       "      <th>dropoff_longitude</th>\n",
       "      <th>dropoff_latitude</th>\n",
       "      <th>ride_duration</th>\n",
       "      <th>driver_id</th>\n",
       "    </tr>\n",
       "  </thead>\n",
       "  <tbody>\n",
       "    <tr>\n",
       "      <td>53628</td>\n",
       "      <td>4c553d49d79def0cafcf782ae4aed7bf</td>\n",
       "      <td>2016-11-01 00:03:52</td>\n",
       "      <td>2016-11-01 00:09:44</td>\n",
       "      <td>104.097900</td>\n",
       "      <td>30.656890</td>\n",
       "      <td>104.077790</td>\n",
       "      <td>30.665870</td>\n",
       "      <td>5.866667</td>\n",
       "      <td>cafc3505e52a72493bdeac60b0294263</td>\n",
       "    </tr>\n",
       "    <tr>\n",
       "      <td>174115</td>\n",
       "      <td>f5c7af38a5ac3a3a81d0a03d3845e178</td>\n",
       "      <td>2016-11-01 00:13:38</td>\n",
       "      <td>2016-11-01 00:38:54</td>\n",
       "      <td>104.071370</td>\n",
       "      <td>30.667020</td>\n",
       "      <td>104.148630</td>\n",
       "      <td>30.591180</td>\n",
       "      <td>25.266667</td>\n",
       "      <td>cafc3505e52a72493bdeac60b0294263</td>\n",
       "    </tr>\n",
       "    <tr>\n",
       "      <td>85667</td>\n",
       "      <td>79d4cc5eafd4e858c5d61d86222a880e</td>\n",
       "      <td>2016-11-01 01:09:55</td>\n",
       "      <td>2016-11-01 01:21:44</td>\n",
       "      <td>104.087132</td>\n",
       "      <td>30.638442</td>\n",
       "      <td>104.048340</td>\n",
       "      <td>30.665330</td>\n",
       "      <td>11.816667</td>\n",
       "      <td>cafc3505e52a72493bdeac60b0294263</td>\n",
       "    </tr>\n",
       "    <tr>\n",
       "      <td>163813</td>\n",
       "      <td>e75b513e941b5d202fde0501ca777999</td>\n",
       "      <td>2016-11-01 01:23:40</td>\n",
       "      <td>2016-11-01 01:31:15</td>\n",
       "      <td>104.045020</td>\n",
       "      <td>30.668210</td>\n",
       "      <td>104.075630</td>\n",
       "      <td>30.663840</td>\n",
       "      <td>7.583333</td>\n",
       "      <td>cafc3505e52a72493bdeac60b0294263</td>\n",
       "    </tr>\n",
       "    <tr>\n",
       "      <td>42630</td>\n",
       "      <td>3c81ea85f4a01df9cf9c4ea05bee8598</td>\n",
       "      <td>2016-11-01 01:35:50</td>\n",
       "      <td>2016-11-01 01:56:26</td>\n",
       "      <td>104.070340</td>\n",
       "      <td>30.654530</td>\n",
       "      <td>104.166720</td>\n",
       "      <td>30.645310</td>\n",
       "      <td>20.600000</td>\n",
       "      <td>cafc3505e52a72493bdeac60b0294263</td>\n",
       "    </tr>\n",
       "    <tr>\n",
       "      <td>91642</td>\n",
       "      <td>82210d3da828622c0a28ea5770562262</td>\n",
       "      <td>2016-11-01 15:04:30</td>\n",
       "      <td>2016-11-01 15:29:02</td>\n",
       "      <td>104.103851</td>\n",
       "      <td>30.668957</td>\n",
       "      <td>104.045220</td>\n",
       "      <td>30.659180</td>\n",
       "      <td>24.533333</td>\n",
       "      <td>cafc3505e52a72493bdeac60b0294263</td>\n",
       "    </tr>\n",
       "    <tr>\n",
       "      <td>153717</td>\n",
       "      <td>d924babd7e2cfbc84a84d020cb7408f7</td>\n",
       "      <td>2016-11-01 15:32:38</td>\n",
       "      <td>2016-11-01 15:39:43</td>\n",
       "      <td>104.050972</td>\n",
       "      <td>30.662970</td>\n",
       "      <td>104.048230</td>\n",
       "      <td>30.682950</td>\n",
       "      <td>7.083333</td>\n",
       "      <td>cafc3505e52a72493bdeac60b0294263</td>\n",
       "    </tr>\n",
       "    <tr>\n",
       "      <td>159811</td>\n",
       "      <td>e1aa7584fdbc513fc51e29c283f4f71b</td>\n",
       "      <td>2016-11-01 15:49:25</td>\n",
       "      <td>2016-11-01 15:57:29</td>\n",
       "      <td>104.043630</td>\n",
       "      <td>30.680010</td>\n",
       "      <td>104.052600</td>\n",
       "      <td>30.663590</td>\n",
       "      <td>8.066667</td>\n",
       "      <td>cafc3505e52a72493bdeac60b0294263</td>\n",
       "    </tr>\n",
       "    <tr>\n",
       "      <td>1301</td>\n",
       "      <td>01c4a26f3ab08c117aac48168ef8232c</td>\n",
       "      <td>2016-11-01 15:53:00</td>\n",
       "      <td>2016-11-01 16:13:23</td>\n",
       "      <td>104.044960</td>\n",
       "      <td>30.681500</td>\n",
       "      <td>104.086840</td>\n",
       "      <td>30.665370</td>\n",
       "      <td>20.383333</td>\n",
       "      <td>cafc3505e52a72493bdeac60b0294263</td>\n",
       "    </tr>\n",
       "    <tr>\n",
       "      <td>128770</td>\n",
       "      <td>b61a481514a08e878c45d037aa9adfc0</td>\n",
       "      <td>2016-11-01 16:33:30</td>\n",
       "      <td>2016-11-01 16:55:51</td>\n",
       "      <td>104.096870</td>\n",
       "      <td>30.659320</td>\n",
       "      <td>104.052810</td>\n",
       "      <td>30.711150</td>\n",
       "      <td>22.350000</td>\n",
       "      <td>cafc3505e52a72493bdeac60b0294263</td>\n",
       "    </tr>\n",
       "    <tr>\n",
       "      <td>61649</td>\n",
       "      <td>57bdadf47cb70619b7296655c950c1d9</td>\n",
       "      <td>2016-11-01 17:00:17</td>\n",
       "      <td>2016-11-01 17:11:52</td>\n",
       "      <td>104.042679</td>\n",
       "      <td>30.711996</td>\n",
       "      <td>104.115860</td>\n",
       "      <td>30.714920</td>\n",
       "      <td>11.583333</td>\n",
       "      <td>cafc3505e52a72493bdeac60b0294263</td>\n",
       "    </tr>\n",
       "    <tr>\n",
       "      <td>28108</td>\n",
       "      <td>27d6b4dabc1ca2b0bd251e94780c8d63</td>\n",
       "      <td>2016-11-01 17:18:02</td>\n",
       "      <td>2016-11-01 17:32:07</td>\n",
       "      <td>104.110817</td>\n",
       "      <td>30.711882</td>\n",
       "      <td>104.087929</td>\n",
       "      <td>30.663377</td>\n",
       "      <td>14.083333</td>\n",
       "      <td>cafc3505e52a72493bdeac60b0294263</td>\n",
       "    </tr>\n",
       "    <tr>\n",
       "      <td>172350</td>\n",
       "      <td>f342f895c04eee0b30ab00c1e1c081bf</td>\n",
       "      <td>2016-11-01 17:39:39</td>\n",
       "      <td>2016-11-01 18:12:36</td>\n",
       "      <td>104.084923</td>\n",
       "      <td>30.665939</td>\n",
       "      <td>104.062390</td>\n",
       "      <td>30.766830</td>\n",
       "      <td>32.950000</td>\n",
       "      <td>cafc3505e52a72493bdeac60b0294263</td>\n",
       "    </tr>\n",
       "    <tr>\n",
       "      <td>112078</td>\n",
       "      <td>9eb57e5807d3ae1fcddb369da9861c4b</td>\n",
       "      <td>2016-11-01 18:19:13</td>\n",
       "      <td>2016-11-01 18:41:13</td>\n",
       "      <td>104.066730</td>\n",
       "      <td>30.757580</td>\n",
       "      <td>104.102140</td>\n",
       "      <td>30.683800</td>\n",
       "      <td>22.000000</td>\n",
       "      <td>cafc3505e52a72493bdeac60b0294263</td>\n",
       "    </tr>\n",
       "    <tr>\n",
       "      <td>55023</td>\n",
       "      <td>4e57b649ea25470e319d71cfc85758db</td>\n",
       "      <td>2016-11-01 18:44:08</td>\n",
       "      <td>2016-11-01 18:49:36</td>\n",
       "      <td>104.104150</td>\n",
       "      <td>30.687500</td>\n",
       "      <td>104.113980</td>\n",
       "      <td>30.680950</td>\n",
       "      <td>5.466667</td>\n",
       "      <td>cafc3505e52a72493bdeac60b0294263</td>\n",
       "    </tr>\n",
       "    <tr>\n",
       "      <td>52117</td>\n",
       "      <td>4a24332a13c9aa319c2ef659aaed04ca</td>\n",
       "      <td>2016-11-01 18:52:45</td>\n",
       "      <td>2016-11-01 19:00:42</td>\n",
       "      <td>104.116951</td>\n",
       "      <td>30.683460</td>\n",
       "      <td>104.094670</td>\n",
       "      <td>30.677700</td>\n",
       "      <td>7.950000</td>\n",
       "      <td>cafc3505e52a72493bdeac60b0294263</td>\n",
       "    </tr>\n",
       "  </tbody>\n",
       "</table>\n",
       "</div>"
      ],
      "text/plain": [
       "                                order_id ride_start_timestamp  \\\n",
       "53628   4c553d49d79def0cafcf782ae4aed7bf  2016-11-01 00:03:52   \n",
       "174115  f5c7af38a5ac3a3a81d0a03d3845e178  2016-11-01 00:13:38   \n",
       "85667   79d4cc5eafd4e858c5d61d86222a880e  2016-11-01 01:09:55   \n",
       "163813  e75b513e941b5d202fde0501ca777999  2016-11-01 01:23:40   \n",
       "42630   3c81ea85f4a01df9cf9c4ea05bee8598  2016-11-01 01:35:50   \n",
       "91642   82210d3da828622c0a28ea5770562262  2016-11-01 15:04:30   \n",
       "153717  d924babd7e2cfbc84a84d020cb7408f7  2016-11-01 15:32:38   \n",
       "159811  e1aa7584fdbc513fc51e29c283f4f71b  2016-11-01 15:49:25   \n",
       "1301    01c4a26f3ab08c117aac48168ef8232c  2016-11-01 15:53:00   \n",
       "128770  b61a481514a08e878c45d037aa9adfc0  2016-11-01 16:33:30   \n",
       "61649   57bdadf47cb70619b7296655c950c1d9  2016-11-01 17:00:17   \n",
       "28108   27d6b4dabc1ca2b0bd251e94780c8d63  2016-11-01 17:18:02   \n",
       "172350  f342f895c04eee0b30ab00c1e1c081bf  2016-11-01 17:39:39   \n",
       "112078  9eb57e5807d3ae1fcddb369da9861c4b  2016-11-01 18:19:13   \n",
       "55023   4e57b649ea25470e319d71cfc85758db  2016-11-01 18:44:08   \n",
       "52117   4a24332a13c9aa319c2ef659aaed04ca  2016-11-01 18:52:45   \n",
       "\n",
       "       ride_stop_timestamp  pickup_longitude  pickup_latitude  \\\n",
       "53628  2016-11-01 00:09:44        104.097900        30.656890   \n",
       "174115 2016-11-01 00:38:54        104.071370        30.667020   \n",
       "85667  2016-11-01 01:21:44        104.087132        30.638442   \n",
       "163813 2016-11-01 01:31:15        104.045020        30.668210   \n",
       "42630  2016-11-01 01:56:26        104.070340        30.654530   \n",
       "91642  2016-11-01 15:29:02        104.103851        30.668957   \n",
       "153717 2016-11-01 15:39:43        104.050972        30.662970   \n",
       "159811 2016-11-01 15:57:29        104.043630        30.680010   \n",
       "1301   2016-11-01 16:13:23        104.044960        30.681500   \n",
       "128770 2016-11-01 16:55:51        104.096870        30.659320   \n",
       "61649  2016-11-01 17:11:52        104.042679        30.711996   \n",
       "28108  2016-11-01 17:32:07        104.110817        30.711882   \n",
       "172350 2016-11-01 18:12:36        104.084923        30.665939   \n",
       "112078 2016-11-01 18:41:13        104.066730        30.757580   \n",
       "55023  2016-11-01 18:49:36        104.104150        30.687500   \n",
       "52117  2016-11-01 19:00:42        104.116951        30.683460   \n",
       "\n",
       "        dropoff_longitude  dropoff_latitude  ride_duration  \\\n",
       "53628          104.077790         30.665870       5.866667   \n",
       "174115         104.148630         30.591180      25.266667   \n",
       "85667          104.048340         30.665330      11.816667   \n",
       "163813         104.075630         30.663840       7.583333   \n",
       "42630          104.166720         30.645310      20.600000   \n",
       "91642          104.045220         30.659180      24.533333   \n",
       "153717         104.048230         30.682950       7.083333   \n",
       "159811         104.052600         30.663590       8.066667   \n",
       "1301           104.086840         30.665370      20.383333   \n",
       "128770         104.052810         30.711150      22.350000   \n",
       "61649          104.115860         30.714920      11.583333   \n",
       "28108          104.087929         30.663377      14.083333   \n",
       "172350         104.062390         30.766830      32.950000   \n",
       "112078         104.102140         30.683800      22.000000   \n",
       "55023          104.113980         30.680950       5.466667   \n",
       "52117          104.094670         30.677700       7.950000   \n",
       "\n",
       "                               driver_id  \n",
       "53628   cafc3505e52a72493bdeac60b0294263  \n",
       "174115  cafc3505e52a72493bdeac60b0294263  \n",
       "85667   cafc3505e52a72493bdeac60b0294263  \n",
       "163813  cafc3505e52a72493bdeac60b0294263  \n",
       "42630   cafc3505e52a72493bdeac60b0294263  \n",
       "91642   cafc3505e52a72493bdeac60b0294263  \n",
       "153717  cafc3505e52a72493bdeac60b0294263  \n",
       "159811  cafc3505e52a72493bdeac60b0294263  \n",
       "1301    cafc3505e52a72493bdeac60b0294263  \n",
       "128770  cafc3505e52a72493bdeac60b0294263  \n",
       "61649   cafc3505e52a72493bdeac60b0294263  \n",
       "28108   cafc3505e52a72493bdeac60b0294263  \n",
       "172350  cafc3505e52a72493bdeac60b0294263  \n",
       "112078  cafc3505e52a72493bdeac60b0294263  \n",
       "55023   cafc3505e52a72493bdeac60b0294263  \n",
       "52117   cafc3505e52a72493bdeac60b0294263  "
      ]
     },
     "execution_count": 82,
     "metadata": {},
     "output_type": "execute_result"
    }
   ],
   "source": [
    "orders[orders.driver_id == 'cafc3505e52a72493bdeac60b0294263']"
   ]
  },
  {
   "cell_type": "code",
   "execution_count": 65,
   "metadata": {},
   "outputs": [
    {
     "data": {
      "text/html": [
       "<div>\n",
       "<style scoped>\n",
       "    .dataframe tbody tr th:only-of-type {\n",
       "        vertical-align: middle;\n",
       "    }\n",
       "\n",
       "    .dataframe tbody tr th {\n",
       "        vertical-align: top;\n",
       "    }\n",
       "\n",
       "    .dataframe thead th {\n",
       "        text-align: right;\n",
       "    }\n",
       "</style>\n",
       "<table border=\"1\" class=\"dataframe\">\n",
       "  <thead>\n",
       "    <tr style=\"text-align: right;\">\n",
       "      <th></th>\n",
       "      <th>pickup_longitude</th>\n",
       "      <th>pickup_latitude</th>\n",
       "      <th>dropoff_longitude</th>\n",
       "      <th>dropoff_latitude</th>\n",
       "      <th>ride_duration</th>\n",
       "      <th>time_delta</th>\n",
       "    </tr>\n",
       "  </thead>\n",
       "  <tbody>\n",
       "    <tr>\n",
       "      <td>count</td>\n",
       "      <td>3481.000000</td>\n",
       "      <td>3481.000000</td>\n",
       "      <td>3481.000000</td>\n",
       "      <td>3481.000000</td>\n",
       "      <td>3481.000000</td>\n",
       "      <td>3481.000000</td>\n",
       "    </tr>\n",
       "    <tr>\n",
       "      <td>mean</td>\n",
       "      <td>104.071368</td>\n",
       "      <td>30.671607</td>\n",
       "      <td>104.070693</td>\n",
       "      <td>30.671664</td>\n",
       "      <td>23.512089</td>\n",
       "      <td>4.864809</td>\n",
       "    </tr>\n",
       "    <tr>\n",
       "      <td>std</td>\n",
       "      <td>0.040984</td>\n",
       "      <td>0.038769</td>\n",
       "      <td>0.045140</td>\n",
       "      <td>0.044437</td>\n",
       "      <td>14.448862</td>\n",
       "      <td>2.836042</td>\n",
       "    </tr>\n",
       "    <tr>\n",
       "      <td>min</td>\n",
       "      <td>103.747780</td>\n",
       "      <td>30.446443</td>\n",
       "      <td>103.828730</td>\n",
       "      <td>30.498090</td>\n",
       "      <td>0.366667</td>\n",
       "      <td>0.000000</td>\n",
       "    </tr>\n",
       "    <tr>\n",
       "      <td>25%</td>\n",
       "      <td>104.050800</td>\n",
       "      <td>30.654500</td>\n",
       "      <td>104.048440</td>\n",
       "      <td>30.652920</td>\n",
       "      <td>14.100000</td>\n",
       "      <td>2.416667</td>\n",
       "    </tr>\n",
       "    <tr>\n",
       "      <td>50%</td>\n",
       "      <td>104.072370</td>\n",
       "      <td>30.669110</td>\n",
       "      <td>104.072240</td>\n",
       "      <td>30.668740</td>\n",
       "      <td>20.700000</td>\n",
       "      <td>4.766667</td>\n",
       "    </tr>\n",
       "    <tr>\n",
       "      <td>75%</td>\n",
       "      <td>104.093580</td>\n",
       "      <td>30.690000</td>\n",
       "      <td>104.097170</td>\n",
       "      <td>30.692430</td>\n",
       "      <td>29.350000</td>\n",
       "      <td>7.300000</td>\n",
       "    </tr>\n",
       "    <tr>\n",
       "      <td>max</td>\n",
       "      <td>104.321130</td>\n",
       "      <td>30.884535</td>\n",
       "      <td>104.400600</td>\n",
       "      <td>31.334340</td>\n",
       "      <td>318.866667</td>\n",
       "      <td>9.983333</td>\n",
       "    </tr>\n",
       "  </tbody>\n",
       "</table>\n",
       "</div>"
      ],
      "text/plain": [
       "       pickup_longitude  pickup_latitude  dropoff_longitude  dropoff_latitude  \\\n",
       "count       3481.000000      3481.000000        3481.000000       3481.000000   \n",
       "mean         104.071368        30.671607         104.070693         30.671664   \n",
       "std            0.040984         0.038769           0.045140          0.044437   \n",
       "min          103.747780        30.446443         103.828730         30.498090   \n",
       "25%          104.050800        30.654500         104.048440         30.652920   \n",
       "50%          104.072370        30.669110         104.072240         30.668740   \n",
       "75%          104.093580        30.690000         104.097170         30.692430   \n",
       "max          104.321130        30.884535         104.400600         31.334340   \n",
       "\n",
       "       ride_duration   time_delta  \n",
       "count    3481.000000  3481.000000  \n",
       "mean       23.512089     4.864809  \n",
       "std        14.448862     2.836042  \n",
       "min         0.366667     0.000000  \n",
       "25%        14.100000     2.416667  \n",
       "50%        20.700000     4.766667  \n",
       "75%        29.350000     7.300000  \n",
       "max       318.866667     9.983333  "
      ]
     },
     "execution_count": 65,
     "metadata": {},
     "output_type": "execute_result"
    }
   ],
   "source": [
    "df2.describe()"
   ]
  },
  {
   "cell_type": "code",
   "execution_count": 47,
   "metadata": {},
   "outputs": [],
   "source": [
    "import gmplot \n",
    "\n",
    "driver_latitude = list(df2.pickup_latitude.values)\n",
    "driver_longitude = list(df2.pickup_longitude.values)\n",
    "min_lat = min(driver_latitude)\n",
    "min_lon = min(driver_longitude)\n",
    "max_lat = max(driver_latitude)\n",
    "max_lon = max(driver_longitude)\n",
    "  \n",
    "gmap4 = gmplot.GoogleMapPlotter(min_lat + (max_lat - min_lat) / 2, min_lon + (max_lon - min_lon) / 2, 12) \n",
    "  \n",
    "# heatmap plot heating Type \n",
    "# points on the Google map \n",
    "gmap4.heatmap( driver_latitude, driver_longitude ) \n",
    "gmap4.draw('heatmap_6PM.html')\n",
    "\n",
    "\n",
    "driver_latitude = list(df2.dropoff_latitude.values)\n",
    "driver_longitude = list(df2.dropoff_longitude.values)\n",
    "min_lat = min(driver_latitude)\n",
    "min_lon = min(driver_longitude)\n",
    "max_lat = max(driver_latitude)\n",
    "max_lon = max(driver_longitude)\n",
    "  \n",
    "gmap4 = gmplot.GoogleMapPlotter(min_lat + (max_lat - min_lat) / 2, min_lon + (max_lon - min_lon) / 2, 12) \n",
    "  \n",
    "# heatmap plot heating Type \n",
    "# points on the Google map \n",
    "gmap4.heatmap( driver_latitude, driver_longitude ) \n",
    "gmap4.draw('heatmap_6PM_dropoff.html')"
   ]
  },
  {
   "cell_type": "code",
   "execution_count": 68,
   "metadata": {},
   "outputs": [],
   "source": [
    "gmap4 = gmplot.GoogleMapPlotter(min_lat + (max_lat - min_lat) / 2, min_lon + (max_lon - min_lon) / 2, 12) \n",
    "x = [104.046830] * 1000\n",
    "y = [30.653985] * 1000\n",
    "x = [np.random.uniform() * 10e-3 + x for x in list(df2.dropoff_latitude.values)]\n",
    "y = [np.random.uniform() * 10e-3 + x for x in list(df2.dropoff_longitude.values)]\n",
    "gmap4 = gmplot.GoogleMapPlotter(min(x) + (max(x) - min(x)) / 2, min(y) + (max(y) - min(y)) / 2, 12) \n",
    "\n",
    "gmap4.heatmap( x, y ) \n",
    "gmap4.draw('heatmap_test.html')"
   ]
  },
  {
   "cell_type": "code",
   "execution_count": 66,
   "metadata": {},
   "outputs": [
    {
     "data": {
      "text/plain": [
       "(2690, 2)"
      ]
     },
     "execution_count": 66,
     "metadata": {},
     "output_type": "execute_result"
    }
   ],
   "source": [
    "df2[['dropoff_latitude', 'dropoff_longitude']].drop_duplicates().shape"
   ]
  },
  {
   "cell_type": "code",
   "execution_count": 67,
   "metadata": {},
   "outputs": [
    {
     "data": {
      "text/plain": [
       "(3267, 2)"
      ]
     },
     "execution_count": 67,
     "metadata": {},
     "output_type": "execute_result"
    }
   ],
   "source": [
    "df2[['pickup_latitude', 'pickup_longitude']].drop_duplicates().shape"
   ]
  },
  {
   "cell_type": "code",
   "execution_count": 88,
   "metadata": {},
   "outputs": [
    {
     "name": "stdout",
     "output_type": "stream",
     "text": [
      "(2667, 2)\n",
      "(3331, 2)\n"
     ]
    }
   ],
   "source": [
    "time = pd.to_datetime('2016-11-01 18:00:00')\n",
    "last_orders = orders[['driver_id']].drop_duplicates()\n",
    "last_orders['snapshot'] = time\n",
    "# As of merge orders table to join last order pickups on or after 10 AM\n",
    "## Sort right keys\n",
    "orders = orders.sort_values('ride_start_timestamp')\n",
    "df2 = pd.merge_asof(last_orders, orders, \n",
    "                    left_on='snapshot', \n",
    "                    right_on='ride_start_timestamp', \n",
    "                    direction='nearest',\n",
    "                   by='driver_id')\n",
    "\n",
    "cols = ['driver_id', 'order_id', 'snapshot', 'ride_start_timestamp',\n",
    "        'pickup_longitude', 'pickup_latitude', 'dropoff_longitude', 'dropoff_longitude']\n",
    "df2['time_delta'] = np.abs((df2.snapshot - df2.ride_start_timestamp)).dt.total_seconds() / 60\n",
    "df2 = df2[df2.time_delta < 10]\n",
    "print(df2[['dropoff_latitude', 'dropoff_longitude']].drop_duplicates().shape)\n",
    "print(df2[['pickup_latitude', 'pickup_longitude']].drop_duplicates().shape)"
   ]
  },
  {
   "cell_type": "code",
   "execution_count": 94,
   "metadata": {},
   "outputs": [],
   "source": [
    "tmp = df2[['dropoff_latitude', 'dropoff_longitude']].groupby(['dropoff_latitude', 'dropoff_longitude']).size().reset_index(name ='Count')\n",
    "tmp = tmp[tmp.Count > 1].sort_values('Count', ascending=False)\n",
    "driver_latitude = list(tmp.dropoff_latitude.values)\n",
    "driver_longitude = list(tmp.dropoff_longitude.values)\n",
    "min_lat = min(driver_latitude)\n",
    "min_lon = min(driver_longitude)\n",
    "max_lat = max(driver_latitude)\n",
    "max_lon = max(driver_longitude)\n",
    "  \n",
    "gmap4 = gmplot.GoogleMapPlotter(min_lat + (max_lat - min_lat) / 2, min_lon + (max_lon - min_lon) / 2, 12) \n",
    "  \n",
    "# heatmap plot heating Type \n",
    "# points on the Google map \n",
    "gmap4.heatmap( driver_latitude, driver_longitude ) \n",
    "gmap4.draw('heatmap_test.html')"
   ]
  },
  {
   "cell_type": "code",
   "execution_count": 101,
   "metadata": {},
   "outputs": [
    {
     "data": {
      "text/html": [
       "<div>\n",
       "<style scoped>\n",
       "    .dataframe tbody tr th:only-of-type {\n",
       "        vertical-align: middle;\n",
       "    }\n",
       "\n",
       "    .dataframe tbody tr th {\n",
       "        vertical-align: top;\n",
       "    }\n",
       "\n",
       "    .dataframe thead th {\n",
       "        text-align: right;\n",
       "    }\n",
       "</style>\n",
       "<table border=\"1\" class=\"dataframe\">\n",
       "  <thead>\n",
       "    <tr style=\"text-align: right;\">\n",
       "      <th></th>\n",
       "      <th>pickup_longitude</th>\n",
       "      <th>pickup_latitude</th>\n",
       "      <th>dropoff_longitude</th>\n",
       "      <th>dropoff_latitude</th>\n",
       "      <th>ride_duration</th>\n",
       "      <th>time_delta</th>\n",
       "    </tr>\n",
       "  </thead>\n",
       "  <tbody>\n",
       "    <tr>\n",
       "      <td>count</td>\n",
       "      <td>3462.000000</td>\n",
       "      <td>3462.000000</td>\n",
       "      <td>3462.000000</td>\n",
       "      <td>3462.000000</td>\n",
       "      <td>3462.000000</td>\n",
       "      <td>3462.000000</td>\n",
       "    </tr>\n",
       "    <tr>\n",
       "      <td>mean</td>\n",
       "      <td>104.073988</td>\n",
       "      <td>30.675887</td>\n",
       "      <td>104.071337</td>\n",
       "      <td>30.674676</td>\n",
       "      <td>24.797603</td>\n",
       "      <td>4.942880</td>\n",
       "    </tr>\n",
       "    <tr>\n",
       "      <td>std</td>\n",
       "      <td>0.040760</td>\n",
       "      <td>0.037894</td>\n",
       "      <td>0.042235</td>\n",
       "      <td>0.038871</td>\n",
       "      <td>14.159304</td>\n",
       "      <td>2.851327</td>\n",
       "    </tr>\n",
       "    <tr>\n",
       "      <td>min</td>\n",
       "      <td>103.881294</td>\n",
       "      <td>30.491898</td>\n",
       "      <td>103.777090</td>\n",
       "      <td>30.499210</td>\n",
       "      <td>0.100000</td>\n",
       "      <td>0.000000</td>\n",
       "    </tr>\n",
       "    <tr>\n",
       "      <td>25%</td>\n",
       "      <td>104.049889</td>\n",
       "      <td>30.655470</td>\n",
       "      <td>104.046830</td>\n",
       "      <td>30.653985</td>\n",
       "      <td>14.770833</td>\n",
       "      <td>2.500000</td>\n",
       "    </tr>\n",
       "    <tr>\n",
       "      <td>50%</td>\n",
       "      <td>104.074060</td>\n",
       "      <td>30.671909</td>\n",
       "      <td>104.072575</td>\n",
       "      <td>30.672090</td>\n",
       "      <td>22.150000</td>\n",
       "      <td>4.900000</td>\n",
       "    </tr>\n",
       "    <tr>\n",
       "      <td>75%</td>\n",
       "      <td>104.100015</td>\n",
       "      <td>30.694623</td>\n",
       "      <td>104.099350</td>\n",
       "      <td>30.695885</td>\n",
       "      <td>31.295833</td>\n",
       "      <td>7.400000</td>\n",
       "    </tr>\n",
       "    <tr>\n",
       "      <td>max</td>\n",
       "      <td>104.278809</td>\n",
       "      <td>30.943857</td>\n",
       "      <td>104.544680</td>\n",
       "      <td>30.940940</td>\n",
       "      <td>116.333333</td>\n",
       "      <td>9.983333</td>\n",
       "    </tr>\n",
       "  </tbody>\n",
       "</table>\n",
       "</div>"
      ],
      "text/plain": [
       "       pickup_longitude  pickup_latitude  dropoff_longitude  dropoff_latitude  \\\n",
       "count       3462.000000      3462.000000        3462.000000       3462.000000   \n",
       "mean         104.073988        30.675887         104.071337         30.674676   \n",
       "std            0.040760         0.037894           0.042235          0.038871   \n",
       "min          103.881294        30.491898         103.777090         30.499210   \n",
       "25%          104.049889        30.655470         104.046830         30.653985   \n",
       "50%          104.074060        30.671909         104.072575         30.672090   \n",
       "75%          104.100015        30.694623         104.099350         30.695885   \n",
       "max          104.278809        30.943857         104.544680         30.940940   \n",
       "\n",
       "       ride_duration   time_delta  \n",
       "count    3462.000000  3462.000000  \n",
       "mean       24.797603     4.942880  \n",
       "std        14.159304     2.851327  \n",
       "min         0.100000     0.000000  \n",
       "25%        14.770833     2.500000  \n",
       "50%        22.150000     4.900000  \n",
       "75%        31.295833     7.400000  \n",
       "max       116.333333     9.983333  "
      ]
     },
     "execution_count": 101,
     "metadata": {},
     "output_type": "execute_result"
    }
   ],
   "source": [
    "df2.describe()"
   ]
  },
  {
   "cell_type": "code",
   "execution_count": 103,
   "metadata": {},
   "outputs": [
    {
     "name": "stdout",
     "output_type": "stream",
     "text": [
      "(2667, 2)\n",
      "(3331, 2)\n"
     ]
    }
   ],
   "source": [
    "print(df2[['dropoff_latitude', 'dropoff_longitude']].drop_duplicates().shape)\n",
    "print(df2[['pickup_latitude', 'pickup_longitude']].drop_duplicates().shape)"
   ]
  },
  {
   "cell_type": "code",
   "execution_count": 98,
   "metadata": {},
   "outputs": [
    {
     "data": {
      "text/plain": [
       "(320, 3)"
      ]
     },
     "execution_count": 98,
     "metadata": {},
     "output_type": "execute_result"
    }
   ],
   "source": [
    "tmp.shape"
   ]
  },
  {
   "cell_type": "code",
   "execution_count": 104,
   "metadata": {},
   "outputs": [
    {
     "data": {
      "text/html": [
       "<div>\n",
       "<style scoped>\n",
       "    .dataframe tbody tr th:only-of-type {\n",
       "        vertical-align: middle;\n",
       "    }\n",
       "\n",
       "    .dataframe tbody tr th {\n",
       "        vertical-align: top;\n",
       "    }\n",
       "\n",
       "    .dataframe thead th {\n",
       "        text-align: right;\n",
       "    }\n",
       "</style>\n",
       "<table border=\"1\" class=\"dataframe\">\n",
       "  <thead>\n",
       "    <tr style=\"text-align: right;\">\n",
       "      <th></th>\n",
       "      <th>dropoff_latitude</th>\n",
       "      <th>dropoff_longitude</th>\n",
       "      <th>Count</th>\n",
       "    </tr>\n",
       "  </thead>\n",
       "  <tbody>\n",
       "    <tr>\n",
       "      <td>2446</td>\n",
       "      <td>30.72096</td>\n",
       "      <td>104.03463</td>\n",
       "      <td>57</td>\n",
       "    </tr>\n",
       "    <tr>\n",
       "      <td>1822</td>\n",
       "      <td>30.68630</td>\n",
       "      <td>104.07403</td>\n",
       "      <td>24</td>\n",
       "    </tr>\n",
       "    <tr>\n",
       "      <td>1026</td>\n",
       "      <td>30.66359</td>\n",
       "      <td>104.05260</td>\n",
       "      <td>23</td>\n",
       "    </tr>\n",
       "    <tr>\n",
       "      <td>1192</td>\n",
       "      <td>30.66849</td>\n",
       "      <td>104.11203</td>\n",
       "      <td>16</td>\n",
       "    </tr>\n",
       "    <tr>\n",
       "      <td>665</td>\n",
       "      <td>30.65292</td>\n",
       "      <td>104.08220</td>\n",
       "      <td>13</td>\n",
       "    </tr>\n",
       "  </tbody>\n",
       "</table>\n",
       "</div>"
      ],
      "text/plain": [
       "      dropoff_latitude  dropoff_longitude  Count\n",
       "2446          30.72096          104.03463     57\n",
       "1822          30.68630          104.07403     24\n",
       "1026          30.66359          104.05260     23\n",
       "1192          30.66849          104.11203     16\n",
       "665           30.65292          104.08220     13"
      ]
     },
     "execution_count": 104,
     "metadata": {},
     "output_type": "execute_result"
    }
   ],
   "source": [
    "tmp.head(5)"
   ]
  },
  {
   "cell_type": "code",
   "execution_count": 43,
   "metadata": {},
   "outputs": [
    {
     "data": {
      "text/plain": [
       "(30.499209999999998, 103.77709, 30.94094, 104.54468)"
      ]
     },
     "execution_count": 43,
     "metadata": {},
     "output_type": "execute_result"
    }
   ],
   "source": [
    "min_lat, min_lon, max_lat, max_lon"
   ]
  },
  {
   "cell_type": "code",
   "execution_count": 52,
   "metadata": {},
   "outputs": [],
   "source": [
    "driver_latitude = list(df2.pickup_latitude.values)\n",
    "driver_longitude = list(df2.pickup_longitude.values)\n",
    "min_lat = min(driver_latitude)\n",
    "min_lon = min(driver_longitude)\n",
    "max_lat = max(driver_latitude)\n",
    "max_lon = max(driver_longitude)"
   ]
  },
  {
   "cell_type": "code",
   "execution_count": 45,
   "metadata": {},
   "outputs": [
    {
     "data": {
      "text/plain": [
       "(30.491898, 103.881294, 30.943857, 104.278809)"
      ]
     },
     "execution_count": 45,
     "metadata": {},
     "output_type": "execute_result"
    }
   ],
   "source": [
    "min_lat, min_lon, max_lat, max_lon"
   ]
  },
  {
   "cell_type": "markdown",
   "metadata": {},
   "source": [
    "## Plotting all ride start locations"
   ]
  },
  {
   "cell_type": "code",
   "execution_count": 35,
   "metadata": {
    "scrolled": true
   },
   "outputs": [],
   "source": [
    "cols = ['driver_id', 'order_id', 'ride_start_timestamp', 'ride_stop_timestamp', \n",
    "        'pickup_longitude', 'pickup_latitude', 'dropoff_longitude', 'dropoff_latitude']\n",
    "driver_latitude = list(orders[cols].drop_duplicates().pickup_latitude.values)\n",
    "driver_longitude = list(orders[cols].drop_duplicates().pickup_longitude.values)\n",
    "min_lat = min(driver_latitude)\n",
    "min_lon = min(driver_longitude)\n",
    "max_lat = max(driver_latitude)\n",
    "max_lon = max(driver_longitude)\n",
    "  \n",
    "gmap4 = gmplot.GoogleMapPlotter(min_lat + (max_lat - min_lat) / 2, min_lon + (max_lon - min_lon) / 2, 12) \n",
    "  \n",
    "# heatmap plot heating Type \n",
    "# points on the Google map \n",
    "gmap4.heatmap( driver_latitude, driver_longitude ) \n",
    "gmap4.draw('heatmap_all_pickup.html')"
   ]
  },
  {
   "cell_type": "markdown",
   "metadata": {},
   "source": [
    "## Plotting all ride stop locations"
   ]
  },
  {
   "cell_type": "code",
   "execution_count": 36,
   "metadata": {
    "scrolled": false
   },
   "outputs": [],
   "source": [
    "cols = ['driver_id', 'order_id', 'ride_start_timestamp', 'ride_stop_timestamp', \n",
    "        'pickup_longitude', 'pickup_latitude', 'dropoff_longitude', 'dropoff_latitude']\n",
    "driver_latitude = list(orders[cols].drop_duplicates().dropoff_latitude.values)\n",
    "driver_longitude = list(orders[cols].drop_duplicates().dropoff_longitude.values)\n",
    "min_lat = min(driver_latitude)\n",
    "min_lon = min(driver_longitude)\n",
    "max_lat = max(driver_latitude)\n",
    "max_lon = max(driver_longitude)\n",
    "  \n",
    "gmap4 = gmplot.GoogleMapPlotter(min_lat + (max_lat - min_lat) / 2, min_lon + (max_lon - min_lon) / 2, 12) \n",
    "  \n",
    "# heatmap plot heating Type \n",
    "# points on the Google map \n",
    "gmap4.heatmap( driver_latitude, driver_longitude ) \n",
    "gmap4.draw('heatmap_all_dropoff.html')"
   ]
  }
 ],
 "metadata": {
  "hide_input": false,
  "kernelspec": {
   "display_name": "Python 3",
   "language": "python",
   "name": "python3"
  },
  "language_info": {
   "codemirror_mode": {
    "name": "ipython",
    "version": 3
   },
   "file_extension": ".py",
   "mimetype": "text/x-python",
   "name": "python",
   "nbconvert_exporter": "python",
   "pygments_lexer": "ipython3",
   "version": "3.7.4"
  },
  "pycharm": {
   "stem_cell": {
    "cell_type": "raw",
    "metadata": {
     "collapsed": false
    },
    "source": []
   }
  }
 },
 "nbformat": 4,
 "nbformat_minor": 2
}
