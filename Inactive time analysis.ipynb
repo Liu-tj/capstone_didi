{
 "cells": [
  {
   "cell_type": "code",
   "execution_count": 1,
   "metadata": {},
   "outputs": [],
   "source": [
    "import sys\n",
    "from sys import platform\n",
    "import matplotlib.pyplot as plt"
   ]
  },
  {
   "cell_type": "code",
   "execution_count": 2,
   "metadata": {},
   "outputs": [],
   "source": [
    "if platform  == 'win32':\n",
    "    sys.argv=[\"_\", r\"P:\\rmahajan14\\ndte_data\\muni_data\", \"20170101\", \"20190930\"]\n",
    "if platform == 'linux' or platform == 'linux2':\n",
    "    def full_path(p):\n",
    "        return os.path.abspath(os.path.expanduser(p))\n",
    "    sys.argv=[\"_\", r\"/mnt/d/DiDi_Ride_Data/data\", r\"/mnt/d/DiDi_Ride_Data/Ride_Data_Cache\"]"
   ]
  },
  {
   "cell_type": "code",
   "execution_count": 3,
   "metadata": {
    "scrolled": false
   },
   "outputs": [
    {
     "name": "stdout",
     "output_type": "stream",
     "text": [
      "/mnt/d/DiDi_Ride_Data/Ride_Data_Cache/final_df_reg.msgpack exists\n"
     ]
    },
    {
     "name": "stderr",
     "output_type": "stream",
     "text": [
      "/mnt/c/Users/aksmi/Desktop/Drive/Fall '19/Capstone/capstone_didi/experiment2.py:173: FutureWarning: The read_msgpack is deprecated and will be removed in a future version.\n",
      "It is recommended to use pyarrow for on-the-wire transmission of pandas objects.\n",
      "  df_final = get_final_df_reg()\n"
     ]
    }
   ],
   "source": [
    "from loader1 import *\n",
    "from utils import *\n",
    "from common import *\n",
    "from experiment2 import *\n",
    "# from sys import platform\n",
    "\n",
    "import warnings\n",
    "warnings.filterwarnings('ignore')"
   ]
  },
  {
   "cell_type": "code",
   "execution_count": 4,
   "metadata": {},
   "outputs": [
    {
     "name": "stdout",
     "output_type": "stream",
     "text": [
      "/mnt/d/DiDi_Ride_Data/Ride_Data_Cache/merged_orders.msgpack exists\n"
     ]
    }
   ],
   "source": [
    "merged_orders = merge_order_df()"
   ]
  },
  {
   "cell_type": "code",
   "execution_count": 5,
   "metadata": {},
   "outputs": [
    {
     "data": {
      "text/html": [
       "<div>\n",
       "<style scoped>\n",
       "    .dataframe tbody tr th:only-of-type {\n",
       "        vertical-align: middle;\n",
       "    }\n",
       "\n",
       "    .dataframe tbody tr th {\n",
       "        vertical-align: top;\n",
       "    }\n",
       "\n",
       "    .dataframe thead th {\n",
       "        text-align: right;\n",
       "    }\n",
       "</style>\n",
       "<table border=\"1\" class=\"dataframe\">\n",
       "  <thead>\n",
       "    <tr style=\"text-align: right;\">\n",
       "      <th></th>\n",
       "      <th>order_id</th>\n",
       "      <th>ride_start_timestamp</th>\n",
       "      <th>ride_stop_timestamp</th>\n",
       "      <th>pickup_longitude</th>\n",
       "      <th>pickup_latitude</th>\n",
       "      <th>dropoff_longitude</th>\n",
       "      <th>dropoff_latitude</th>\n",
       "      <th>ride_duration</th>\n",
       "      <th>driver_id</th>\n",
       "    </tr>\n",
       "  </thead>\n",
       "  <tbody>\n",
       "    <tr>\n",
       "      <td>0</td>\n",
       "      <td>00003ad9f837aca8ecdb9ae0729d0866</td>\n",
       "      <td>2016-11-01 14:35:44</td>\n",
       "      <td>2016-11-01 14:48:01</td>\n",
       "      <td>104.107101</td>\n",
       "      <td>30.699385</td>\n",
       "      <td>104.054980</td>\n",
       "      <td>30.688850</td>\n",
       "      <td>12.283333</td>\n",
       "      <td>64ee983f9979db09cb2586ec3893c467</td>\n",
       "    </tr>\n",
       "    <tr>\n",
       "      <td>1</td>\n",
       "      <td>0000c5bb7976b3dfe0fefa060265bdca</td>\n",
       "      <td>2016-11-01 15:06:22</td>\n",
       "      <td>2016-11-01 15:33:26</td>\n",
       "      <td>104.065170</td>\n",
       "      <td>30.702790</td>\n",
       "      <td>104.068280</td>\n",
       "      <td>30.666830</td>\n",
       "      <td>27.066667</td>\n",
       "      <td>19aa2c3cb2b05daf4ed06a3849c2c43c</td>\n",
       "    </tr>\n",
       "    <tr>\n",
       "      <td>2</td>\n",
       "      <td>0000f2c8aa21f2599a82923f317334bc</td>\n",
       "      <td>2016-11-01 19:38:49</td>\n",
       "      <td>2016-11-01 19:50:28</td>\n",
       "      <td>104.050859</td>\n",
       "      <td>30.687837</td>\n",
       "      <td>104.057100</td>\n",
       "      <td>30.662350</td>\n",
       "      <td>11.650000</td>\n",
       "      <td>15045dc2301012dda9cb8e98f4723efd</td>\n",
       "    </tr>\n",
       "    <tr>\n",
       "      <td>3</td>\n",
       "      <td>000102a3f8b31b3bc888572108888727</td>\n",
       "      <td>2016-11-01 11:22:02</td>\n",
       "      <td>2016-11-01 11:50:06</td>\n",
       "      <td>104.012450</td>\n",
       "      <td>30.622080</td>\n",
       "      <td>104.049190</td>\n",
       "      <td>30.755740</td>\n",
       "      <td>28.066667</td>\n",
       "      <td>53332bf0536f84453f0ab40a91774101</td>\n",
       "    </tr>\n",
       "    <tr>\n",
       "      <td>4</td>\n",
       "      <td>00017e395c1e449231b86f9149a793e5</td>\n",
       "      <td>2016-11-01 00:19:20</td>\n",
       "      <td>2016-11-01 00:34:41</td>\n",
       "      <td>104.092920</td>\n",
       "      <td>30.685830</td>\n",
       "      <td>103.990711</td>\n",
       "      <td>30.670803</td>\n",
       "      <td>15.350000</td>\n",
       "      <td>0dafbd548725f540988c5aa2554d782e</td>\n",
       "    </tr>\n",
       "    <tr>\n",
       "      <td>...</td>\n",
       "      <td>...</td>\n",
       "      <td>...</td>\n",
       "      <td>...</td>\n",
       "      <td>...</td>\n",
       "      <td>...</td>\n",
       "      <td>...</td>\n",
       "      <td>...</td>\n",
       "      <td>...</td>\n",
       "      <td>...</td>\n",
       "    </tr>\n",
       "    <tr>\n",
       "      <td>215023</td>\n",
       "      <td>fffe5967b6fdeab48c68f0ca2b330d61</td>\n",
       "      <td>2016-11-30 17:51:34</td>\n",
       "      <td>2016-11-30 18:47:20</td>\n",
       "      <td>103.897790</td>\n",
       "      <td>30.806530</td>\n",
       "      <td>104.042230</td>\n",
       "      <td>30.666520</td>\n",
       "      <td>55.766667</td>\n",
       "      <td>b7a5478a20a23993fde23f7cba244015</td>\n",
       "    </tr>\n",
       "    <tr>\n",
       "      <td>215024</td>\n",
       "      <td>fffe9e5c6d8030fd62448b8e53aacf47</td>\n",
       "      <td>2016-11-30 03:50:50</td>\n",
       "      <td>2016-11-30 04:22:22</td>\n",
       "      <td>104.073740</td>\n",
       "      <td>30.663010</td>\n",
       "      <td>103.928100</td>\n",
       "      <td>30.777570</td>\n",
       "      <td>31.533333</td>\n",
       "      <td>c6b7b37206ee6c6a38bb88a7c1655283</td>\n",
       "    </tr>\n",
       "    <tr>\n",
       "      <td>215025</td>\n",
       "      <td>fffeb486c95ea127189ae560038c6c3a</td>\n",
       "      <td>2016-11-30 12:27:08</td>\n",
       "      <td>2016-11-30 13:10:21</td>\n",
       "      <td>104.073912</td>\n",
       "      <td>30.695677</td>\n",
       "      <td>104.053270</td>\n",
       "      <td>30.765540</td>\n",
       "      <td>43.216667</td>\n",
       "      <td>d242eea3b731a2d1be5ecbd217fbe971</td>\n",
       "    </tr>\n",
       "    <tr>\n",
       "      <td>215026</td>\n",
       "      <td>ffff5cc2253bf6bca72dcb1e8a1958e6</td>\n",
       "      <td>2016-11-30 15:38:33</td>\n",
       "      <td>2016-11-30 15:49:03</td>\n",
       "      <td>104.113684</td>\n",
       "      <td>30.649077</td>\n",
       "      <td>104.099270</td>\n",
       "      <td>30.667460</td>\n",
       "      <td>10.500000</td>\n",
       "      <td>8e64c70c1c85b58dfcf79e7f939a8e17</td>\n",
       "    </tr>\n",
       "    <tr>\n",
       "      <td>215027</td>\n",
       "      <td>ffffefe59692b5c8a43f41e672ab671d</td>\n",
       "      <td>2016-11-30 09:45:13</td>\n",
       "      <td>2016-11-30 10:18:22</td>\n",
       "      <td>104.036022</td>\n",
       "      <td>30.605431</td>\n",
       "      <td>104.077570</td>\n",
       "      <td>30.659340</td>\n",
       "      <td>33.150000</td>\n",
       "      <td>6fe7e266a877a98818f166266537d63a</td>\n",
       "    </tr>\n",
       "  </tbody>\n",
       "</table>\n",
       "<p>6105003 rows × 9 columns</p>\n",
       "</div>"
      ],
      "text/plain": [
       "                                order_id ride_start_timestamp  \\\n",
       "0       00003ad9f837aca8ecdb9ae0729d0866  2016-11-01 14:35:44   \n",
       "1       0000c5bb7976b3dfe0fefa060265bdca  2016-11-01 15:06:22   \n",
       "2       0000f2c8aa21f2599a82923f317334bc  2016-11-01 19:38:49   \n",
       "3       000102a3f8b31b3bc888572108888727  2016-11-01 11:22:02   \n",
       "4       00017e395c1e449231b86f9149a793e5  2016-11-01 00:19:20   \n",
       "...                                  ...                  ...   \n",
       "215023  fffe5967b6fdeab48c68f0ca2b330d61  2016-11-30 17:51:34   \n",
       "215024  fffe9e5c6d8030fd62448b8e53aacf47  2016-11-30 03:50:50   \n",
       "215025  fffeb486c95ea127189ae560038c6c3a  2016-11-30 12:27:08   \n",
       "215026  ffff5cc2253bf6bca72dcb1e8a1958e6  2016-11-30 15:38:33   \n",
       "215027  ffffefe59692b5c8a43f41e672ab671d  2016-11-30 09:45:13   \n",
       "\n",
       "       ride_stop_timestamp  pickup_longitude  pickup_latitude  \\\n",
       "0      2016-11-01 14:48:01        104.107101        30.699385   \n",
       "1      2016-11-01 15:33:26        104.065170        30.702790   \n",
       "2      2016-11-01 19:50:28        104.050859        30.687837   \n",
       "3      2016-11-01 11:50:06        104.012450        30.622080   \n",
       "4      2016-11-01 00:34:41        104.092920        30.685830   \n",
       "...                    ...               ...              ...   \n",
       "215023 2016-11-30 18:47:20        103.897790        30.806530   \n",
       "215024 2016-11-30 04:22:22        104.073740        30.663010   \n",
       "215025 2016-11-30 13:10:21        104.073912        30.695677   \n",
       "215026 2016-11-30 15:49:03        104.113684        30.649077   \n",
       "215027 2016-11-30 10:18:22        104.036022        30.605431   \n",
       "\n",
       "        dropoff_longitude  dropoff_latitude  ride_duration  \\\n",
       "0              104.054980         30.688850      12.283333   \n",
       "1              104.068280         30.666830      27.066667   \n",
       "2              104.057100         30.662350      11.650000   \n",
       "3              104.049190         30.755740      28.066667   \n",
       "4              103.990711         30.670803      15.350000   \n",
       "...                   ...               ...            ...   \n",
       "215023         104.042230         30.666520      55.766667   \n",
       "215024         103.928100         30.777570      31.533333   \n",
       "215025         104.053270         30.765540      43.216667   \n",
       "215026         104.099270         30.667460      10.500000   \n",
       "215027         104.077570         30.659340      33.150000   \n",
       "\n",
       "                               driver_id  \n",
       "0       64ee983f9979db09cb2586ec3893c467  \n",
       "1       19aa2c3cb2b05daf4ed06a3849c2c43c  \n",
       "2       15045dc2301012dda9cb8e98f4723efd  \n",
       "3       53332bf0536f84453f0ab40a91774101  \n",
       "4       0dafbd548725f540988c5aa2554d782e  \n",
       "...                                  ...  \n",
       "215023  b7a5478a20a23993fde23f7cba244015  \n",
       "215024  c6b7b37206ee6c6a38bb88a7c1655283  \n",
       "215025  d242eea3b731a2d1be5ecbd217fbe971  \n",
       "215026  8e64c70c1c85b58dfcf79e7f939a8e17  \n",
       "215027  6fe7e266a877a98818f166266537d63a  \n",
       "\n",
       "[6105003 rows x 9 columns]"
      ]
     },
     "execution_count": 5,
     "metadata": {},
     "output_type": "execute_result"
    }
   ],
   "source": [
    "merged_orders"
   ]
  },
  {
   "cell_type": "markdown",
   "metadata": {},
   "source": [
    "### Remove rides with ride times greater than 3 hours"
   ]
  },
  {
   "cell_type": "code",
   "execution_count": 6,
   "metadata": {},
   "outputs": [],
   "source": [
    "merged_orders = merged_orders[merged_orders.ride_duration <= 180]"
   ]
  },
  {
   "cell_type": "code",
   "execution_count": 7,
   "metadata": {},
   "outputs": [],
   "source": [
    "# Check all diffs in start and end times\n",
    "driver_start_times = merged_orders.loc[:, ['driver_id', 'ride_start_timestamp', 'ride_stop_timestamp', 'order_id']]\\\n",
    "            .drop_duplicates()\n",
    "driver_start_times.sort_values(['driver_id', 'ride_start_timestamp'],\n",
    "                               inplace=True)\n",
    "driver_start_times['stop_time_shifted'] = driver_start_times.groupby(\n",
    "    'driver_id')['ride_stop_timestamp'].shift(1)\n",
    "driver_start_times['diff'] = driver_start_times[\n",
    "    'ride_start_timestamp'] - driver_start_times['stop_time_shifted']"
   ]
  },
  {
   "cell_type": "code",
   "execution_count": 8,
   "metadata": {
    "scrolled": true
   },
   "outputs": [
    {
     "data": {
      "text/html": [
       "<div>\n",
       "<style scoped>\n",
       "    .dataframe tbody tr th:only-of-type {\n",
       "        vertical-align: middle;\n",
       "    }\n",
       "\n",
       "    .dataframe tbody tr th {\n",
       "        vertical-align: top;\n",
       "    }\n",
       "\n",
       "    .dataframe thead th {\n",
       "        text-align: right;\n",
       "    }\n",
       "</style>\n",
       "<table border=\"1\" class=\"dataframe\">\n",
       "  <thead>\n",
       "    <tr style=\"text-align: right;\">\n",
       "      <th></th>\n",
       "      <th>driver_id</th>\n",
       "      <th>ride_start_timestamp</th>\n",
       "      <th>ride_stop_timestamp</th>\n",
       "      <th>order_id</th>\n",
       "      <th>stop_time_shifted</th>\n",
       "      <th>diff</th>\n",
       "    </tr>\n",
       "  </thead>\n",
       "  <tbody>\n",
       "    <tr>\n",
       "      <td>175165</td>\n",
       "      <td>0000131d486b69eb77ab6e9e7cca9f4c</td>\n",
       "      <td>2016-11-01 11:57:05</td>\n",
       "      <td>2016-11-01 12:13:18</td>\n",
       "      <td>f727597b61fc2f0141aadecf2a3b5ee0</td>\n",
       "      <td>NaT</td>\n",
       "      <td>NaT</td>\n",
       "    </tr>\n",
       "    <tr>\n",
       "      <td>90347</td>\n",
       "      <td>0000131d486b69eb77ab6e9e7cca9f4c</td>\n",
       "      <td>2016-11-01 12:33:05</td>\n",
       "      <td>2016-11-01 12:49:04</td>\n",
       "      <td>804a1a47f2b10dc36b7e909d9b977f02</td>\n",
       "      <td>2016-11-01 12:13:18</td>\n",
       "      <td>00:19:47</td>\n",
       "    </tr>\n",
       "    <tr>\n",
       "      <td>156956</td>\n",
       "      <td>0000131d486b69eb77ab6e9e7cca9f4c</td>\n",
       "      <td>2016-11-01 12:58:45</td>\n",
       "      <td>2016-11-01 13:42:08</td>\n",
       "      <td>dd9b252638479fb784b705492bdf1a65</td>\n",
       "      <td>2016-11-01 12:49:04</td>\n",
       "      <td>00:09:41</td>\n",
       "    </tr>\n",
       "    <tr>\n",
       "      <td>2327</td>\n",
       "      <td>00002724a19c5f6a54ae8d60a378997e</td>\n",
       "      <td>2016-11-28 00:19:16</td>\n",
       "      <td>2016-11-28 00:54:04</td>\n",
       "      <td>03014caf7353cb92868d78b143bca071</td>\n",
       "      <td>NaT</td>\n",
       "      <td>NaT</td>\n",
       "    </tr>\n",
       "    <tr>\n",
       "      <td>64719</td>\n",
       "      <td>000042288ba964aa04d14869bd56efb6</td>\n",
       "      <td>2016-11-28 19:49:07</td>\n",
       "      <td>2016-11-28 20:00:58</td>\n",
       "      <td>504e0d59e3c0ae899a85c5e0551cb2b3</td>\n",
       "      <td>NaT</td>\n",
       "      <td>NaT</td>\n",
       "    </tr>\n",
       "    <tr>\n",
       "      <td>...</td>\n",
       "      <td>...</td>\n",
       "      <td>...</td>\n",
       "      <td>...</td>\n",
       "      <td>...</td>\n",
       "      <td>...</td>\n",
       "      <td>...</td>\n",
       "    </tr>\n",
       "    <tr>\n",
       "      <td>159084</td>\n",
       "      <td>0001681811178a09aa002f607c89735b</td>\n",
       "      <td>2016-11-28 21:57:31</td>\n",
       "      <td>2016-11-28 22:13:46</td>\n",
       "      <td>c465c5f4fd5cc991e08363014a94627b</td>\n",
       "      <td>2016-11-28 00:41:44</td>\n",
       "      <td>21:15:47</td>\n",
       "    </tr>\n",
       "    <tr>\n",
       "      <td>39259</td>\n",
       "      <td>00016e54648071044515d4ff3bd3ae18</td>\n",
       "      <td>2016-11-17 07:54:11</td>\n",
       "      <td>2016-11-17 08:39:17</td>\n",
       "      <td>30b9fd23e5665bf65486032031a11a36</td>\n",
       "      <td>NaT</td>\n",
       "      <td>NaT</td>\n",
       "    </tr>\n",
       "    <tr>\n",
       "      <td>134435</td>\n",
       "      <td>00016e54648071044515d4ff3bd3ae18</td>\n",
       "      <td>2016-11-17 13:19:47</td>\n",
       "      <td>2016-11-17 13:36:33</td>\n",
       "      <td>a671bbaf869d56a72c44153a536b654b</td>\n",
       "      <td>2016-11-17 08:39:17</td>\n",
       "      <td>04:40:30</td>\n",
       "    </tr>\n",
       "    <tr>\n",
       "      <td>58077</td>\n",
       "      <td>00016e54648071044515d4ff3bd3ae18</td>\n",
       "      <td>2016-11-17 13:40:27</td>\n",
       "      <td>2016-11-17 13:51:59</td>\n",
       "      <td>47dc5113cadb120b2e9d922ee2c96271</td>\n",
       "      <td>2016-11-17 13:36:33</td>\n",
       "      <td>00:03:54</td>\n",
       "    </tr>\n",
       "    <tr>\n",
       "      <td>44273</td>\n",
       "      <td>00016e54648071044515d4ff3bd3ae18</td>\n",
       "      <td>2016-11-17 14:03:21</td>\n",
       "      <td>2016-11-17 14:24:12</td>\n",
       "      <td>36f3d32d6c0e20dd26a258f7ab650323</td>\n",
       "      <td>2016-11-17 13:51:59</td>\n",
       "      <td>00:11:22</td>\n",
       "    </tr>\n",
       "  </tbody>\n",
       "</table>\n",
       "<p>100 rows × 6 columns</p>\n",
       "</div>"
      ],
      "text/plain": [
       "                               driver_id ride_start_timestamp  \\\n",
       "175165  0000131d486b69eb77ab6e9e7cca9f4c  2016-11-01 11:57:05   \n",
       "90347   0000131d486b69eb77ab6e9e7cca9f4c  2016-11-01 12:33:05   \n",
       "156956  0000131d486b69eb77ab6e9e7cca9f4c  2016-11-01 12:58:45   \n",
       "2327    00002724a19c5f6a54ae8d60a378997e  2016-11-28 00:19:16   \n",
       "64719   000042288ba964aa04d14869bd56efb6  2016-11-28 19:49:07   \n",
       "...                                  ...                  ...   \n",
       "159084  0001681811178a09aa002f607c89735b  2016-11-28 21:57:31   \n",
       "39259   00016e54648071044515d4ff3bd3ae18  2016-11-17 07:54:11   \n",
       "134435  00016e54648071044515d4ff3bd3ae18  2016-11-17 13:19:47   \n",
       "58077   00016e54648071044515d4ff3bd3ae18  2016-11-17 13:40:27   \n",
       "44273   00016e54648071044515d4ff3bd3ae18  2016-11-17 14:03:21   \n",
       "\n",
       "       ride_stop_timestamp                          order_id  \\\n",
       "175165 2016-11-01 12:13:18  f727597b61fc2f0141aadecf2a3b5ee0   \n",
       "90347  2016-11-01 12:49:04  804a1a47f2b10dc36b7e909d9b977f02   \n",
       "156956 2016-11-01 13:42:08  dd9b252638479fb784b705492bdf1a65   \n",
       "2327   2016-11-28 00:54:04  03014caf7353cb92868d78b143bca071   \n",
       "64719  2016-11-28 20:00:58  504e0d59e3c0ae899a85c5e0551cb2b3   \n",
       "...                    ...                               ...   \n",
       "159084 2016-11-28 22:13:46  c465c5f4fd5cc991e08363014a94627b   \n",
       "39259  2016-11-17 08:39:17  30b9fd23e5665bf65486032031a11a36   \n",
       "134435 2016-11-17 13:36:33  a671bbaf869d56a72c44153a536b654b   \n",
       "58077  2016-11-17 13:51:59  47dc5113cadb120b2e9d922ee2c96271   \n",
       "44273  2016-11-17 14:24:12  36f3d32d6c0e20dd26a258f7ab650323   \n",
       "\n",
       "         stop_time_shifted     diff  \n",
       "175165                 NaT      NaT  \n",
       "90347  2016-11-01 12:13:18 00:19:47  \n",
       "156956 2016-11-01 12:49:04 00:09:41  \n",
       "2327                   NaT      NaT  \n",
       "64719                  NaT      NaT  \n",
       "...                    ...      ...  \n",
       "159084 2016-11-28 00:41:44 21:15:47  \n",
       "39259                  NaT      NaT  \n",
       "134435 2016-11-17 08:39:17 04:40:30  \n",
       "58077  2016-11-17 13:36:33 00:03:54  \n",
       "44273  2016-11-17 13:51:59 00:11:22  \n",
       "\n",
       "[100 rows x 6 columns]"
      ]
     },
     "execution_count": 8,
     "metadata": {},
     "output_type": "execute_result"
    }
   ],
   "source": [
    "driver_start_times.sort_values(['driver_id', 'ride_start_timestamp']).head(100)"
   ]
  },
  {
   "cell_type": "code",
   "execution_count": 9,
   "metadata": {
    "scrolled": true
   },
   "outputs": [],
   "source": [
    "driver_start_times_no_na = driver_start_times.dropna()"
   ]
  },
  {
   "cell_type": "code",
   "execution_count": 10,
   "metadata": {},
   "outputs": [
    {
     "data": {
      "text/plain": [
       "(4923622, 6)"
      ]
     },
     "execution_count": 10,
     "metadata": {},
     "output_type": "execute_result"
    }
   ],
   "source": [
    "driver_start_times_no_na.shape"
   ]
  },
  {
   "cell_type": "code",
   "execution_count": 11,
   "metadata": {},
   "outputs": [],
   "source": [
    "driver_start_times_no_na['diff'] = driver_start_times_no_na['diff'].dt.total_seconds() / 60"
   ]
  },
  {
   "cell_type": "code",
   "execution_count": 12,
   "metadata": {},
   "outputs": [
    {
     "data": {
      "text/html": [
       "<div>\n",
       "<style scoped>\n",
       "    .dataframe tbody tr th:only-of-type {\n",
       "        vertical-align: middle;\n",
       "    }\n",
       "\n",
       "    .dataframe tbody tr th {\n",
       "        vertical-align: top;\n",
       "    }\n",
       "\n",
       "    .dataframe thead th {\n",
       "        text-align: right;\n",
       "    }\n",
       "</style>\n",
       "<table border=\"1\" class=\"dataframe\">\n",
       "  <thead>\n",
       "    <tr style=\"text-align: right;\">\n",
       "      <th></th>\n",
       "      <th>driver_id</th>\n",
       "      <th>ride_start_timestamp</th>\n",
       "      <th>ride_stop_timestamp</th>\n",
       "      <th>order_id</th>\n",
       "      <th>stop_time_shifted</th>\n",
       "      <th>diff</th>\n",
       "    </tr>\n",
       "  </thead>\n",
       "  <tbody>\n",
       "    <tr>\n",
       "      <td>90347</td>\n",
       "      <td>0000131d486b69eb77ab6e9e7cca9f4c</td>\n",
       "      <td>2016-11-01 12:33:05</td>\n",
       "      <td>2016-11-01 12:49:04</td>\n",
       "      <td>804a1a47f2b10dc36b7e909d9b977f02</td>\n",
       "      <td>2016-11-01 12:13:18</td>\n",
       "      <td>19.783333</td>\n",
       "    </tr>\n",
       "    <tr>\n",
       "      <td>156956</td>\n",
       "      <td>0000131d486b69eb77ab6e9e7cca9f4c</td>\n",
       "      <td>2016-11-01 12:58:45</td>\n",
       "      <td>2016-11-01 13:42:08</td>\n",
       "      <td>dd9b252638479fb784b705492bdf1a65</td>\n",
       "      <td>2016-11-01 12:49:04</td>\n",
       "      <td>9.683333</td>\n",
       "    </tr>\n",
       "    <tr>\n",
       "      <td>5326</td>\n",
       "      <td>000042288ba964aa04d14869bd56efb6</td>\n",
       "      <td>2016-11-28 20:10:49</td>\n",
       "      <td>2016-11-28 20:20:25</td>\n",
       "      <td>06c7c82d8b15810ce80c47d0d3243ee1</td>\n",
       "      <td>2016-11-28 20:00:58</td>\n",
       "      <td>9.850000</td>\n",
       "    </tr>\n",
       "    <tr>\n",
       "      <td>118578</td>\n",
       "      <td>000042288ba964aa04d14869bd56efb6</td>\n",
       "      <td>2016-11-28 20:27:49</td>\n",
       "      <td>2016-11-28 21:02:33</td>\n",
       "      <td>929d619cd18a44b9ecdd259d71a13f7f</td>\n",
       "      <td>2016-11-28 20:20:25</td>\n",
       "      <td>7.400000</td>\n",
       "    </tr>\n",
       "    <tr>\n",
       "      <td>34798</td>\n",
       "      <td>000042288ba964aa04d14869bd56efb6</td>\n",
       "      <td>2016-11-28 22:32:06</td>\n",
       "      <td>2016-11-28 22:41:15</td>\n",
       "      <td>2b2880e2eb541443e747ecc649f67861</td>\n",
       "      <td>2016-11-28 21:02:33</td>\n",
       "      <td>89.550000</td>\n",
       "    </tr>\n",
       "  </tbody>\n",
       "</table>\n",
       "</div>"
      ],
      "text/plain": [
       "                               driver_id ride_start_timestamp  \\\n",
       "90347   0000131d486b69eb77ab6e9e7cca9f4c  2016-11-01 12:33:05   \n",
       "156956  0000131d486b69eb77ab6e9e7cca9f4c  2016-11-01 12:58:45   \n",
       "5326    000042288ba964aa04d14869bd56efb6  2016-11-28 20:10:49   \n",
       "118578  000042288ba964aa04d14869bd56efb6  2016-11-28 20:27:49   \n",
       "34798   000042288ba964aa04d14869bd56efb6  2016-11-28 22:32:06   \n",
       "\n",
       "       ride_stop_timestamp                          order_id  \\\n",
       "90347  2016-11-01 12:49:04  804a1a47f2b10dc36b7e909d9b977f02   \n",
       "156956 2016-11-01 13:42:08  dd9b252638479fb784b705492bdf1a65   \n",
       "5326   2016-11-28 20:20:25  06c7c82d8b15810ce80c47d0d3243ee1   \n",
       "118578 2016-11-28 21:02:33  929d619cd18a44b9ecdd259d71a13f7f   \n",
       "34798  2016-11-28 22:41:15  2b2880e2eb541443e747ecc649f67861   \n",
       "\n",
       "         stop_time_shifted       diff  \n",
       "90347  2016-11-01 12:13:18  19.783333  \n",
       "156956 2016-11-01 12:49:04   9.683333  \n",
       "5326   2016-11-28 20:00:58   9.850000  \n",
       "118578 2016-11-28 20:20:25   7.400000  \n",
       "34798  2016-11-28 21:02:33  89.550000  "
      ]
     },
     "execution_count": 12,
     "metadata": {},
     "output_type": "execute_result"
    }
   ],
   "source": [
    "driver_start_times_no_na.head()"
   ]
  },
  {
   "cell_type": "code",
   "execution_count": 13,
   "metadata": {},
   "outputs": [
    {
     "data": {
      "text/html": [
       "<div>\n",
       "<style scoped>\n",
       "    .dataframe tbody tr th:only-of-type {\n",
       "        vertical-align: middle;\n",
       "    }\n",
       "\n",
       "    .dataframe tbody tr th {\n",
       "        vertical-align: top;\n",
       "    }\n",
       "\n",
       "    .dataframe thead th {\n",
       "        text-align: right;\n",
       "    }\n",
       "</style>\n",
       "<table border=\"1\" class=\"dataframe\">\n",
       "  <thead>\n",
       "    <tr style=\"text-align: right;\">\n",
       "      <th></th>\n",
       "      <th>diff</th>\n",
       "    </tr>\n",
       "  </thead>\n",
       "  <tbody>\n",
       "    <tr>\n",
       "      <td>count</td>\n",
       "      <td>4.923622e+06</td>\n",
       "    </tr>\n",
       "    <tr>\n",
       "      <td>mean</td>\n",
       "      <td>5.726774e+01</td>\n",
       "    </tr>\n",
       "    <tr>\n",
       "      <td>std</td>\n",
       "      <td>1.435211e+02</td>\n",
       "    </tr>\n",
       "    <tr>\n",
       "      <td>min</td>\n",
       "      <td>-1.638500e+02</td>\n",
       "    </tr>\n",
       "    <tr>\n",
       "      <td>25%</td>\n",
       "      <td>5.433333e+00</td>\n",
       "    </tr>\n",
       "    <tr>\n",
       "      <td>50%</td>\n",
       "      <td>1.033333e+01</td>\n",
       "    </tr>\n",
       "    <tr>\n",
       "      <td>75%</td>\n",
       "      <td>3.720000e+01</td>\n",
       "    </tr>\n",
       "    <tr>\n",
       "      <td>max</td>\n",
       "      <td>1.418300e+03</td>\n",
       "    </tr>\n",
       "  </tbody>\n",
       "</table>\n",
       "</div>"
      ],
      "text/plain": [
       "               diff\n",
       "count  4.923622e+06\n",
       "mean   5.726774e+01\n",
       "std    1.435211e+02\n",
       "min   -1.638500e+02\n",
       "25%    5.433333e+00\n",
       "50%    1.033333e+01\n",
       "75%    3.720000e+01\n",
       "max    1.418300e+03"
      ]
     },
     "execution_count": 13,
     "metadata": {},
     "output_type": "execute_result"
    }
   ],
   "source": [
    "driver_start_times_no_na.describe()"
   ]
  },
  {
   "cell_type": "markdown",
   "metadata": {},
   "source": [
    "The mean difference between two consecutive pickup times is skewed right because of many drivers taking overnight breaks between two rides. A better estimate for the value of $\\tau$ is the median difference of times between rides"
   ]
  },
  {
   "cell_type": "code",
   "execution_count": 52,
   "metadata": {},
   "outputs": [],
   "source": [
    "mean_diff = driver_start_times_no_na['diff'].mean()"
   ]
  },
  {
   "cell_type": "code",
   "execution_count": 14,
   "metadata": {},
   "outputs": [],
   "source": [
    "tau = driver_start_times_no_na['diff'].median()"
   ]
  },
  {
   "cell_type": "markdown",
   "metadata": {},
   "source": [
    "This can be used to estimate the scale paramater for the decay by which the probability of a driver staying online decreases"
   ]
  },
  {
   "cell_type": "markdown",
   "metadata": {},
   "source": [
    "$$\\tau + \\frac{1}{\\lambda} = E(diff)$$"
   ]
  },
  {
   "cell_type": "code",
   "execution_count": 53,
   "metadata": {},
   "outputs": [],
   "source": [
    "lmbd = 1./(mean_diff - tau)"
   ]
  },
  {
   "cell_type": "code",
   "execution_count": 55,
   "metadata": {},
   "outputs": [],
   "source": [
    "shape = 1./lmbd"
   ]
  },
  {
   "cell_type": "code",
   "execution_count": 56,
   "metadata": {},
   "outputs": [
    {
     "data": {
      "text/plain": [
       "46.93440354140374"
      ]
     },
     "execution_count": 56,
     "metadata": {},
     "output_type": "execute_result"
    }
   ],
   "source": [
    "shape"
   ]
  },
  {
   "cell_type": "code",
   "execution_count": 71,
   "metadata": {},
   "outputs": [],
   "source": [
    "# Defining function to determine online staying probability of a driver after time t:\n",
    "from scipy.stats import expon\n",
    "def idle_time_est(t, tau, shape, size):\n",
    "    \n",
    "    # sample from time diff distribution\n",
    "    t_s = tau + np.random.exponential(scale=shape, size=size)\n",
    "    \n",
    "    indicator = t <= t_s\n",
    "    indicator = 1 - indicator\n",
    "    i_time = t - t_s\n",
    "    idle_time = indicator * i_time\n",
    "    \n",
    "    return idle_time"
   ]
  },
  {
   "cell_type": "code",
   "execution_count": null,
   "metadata": {},
   "outputs": [],
   "source": []
  }
 ],
 "metadata": {
  "kernelspec": {
   "display_name": "Python 3",
   "language": "python",
   "name": "python3"
  },
  "language_info": {
   "codemirror_mode": {
    "name": "ipython",
    "version": 3
   },
   "file_extension": ".py",
   "mimetype": "text/x-python",
   "name": "python",
   "nbconvert_exporter": "python",
   "pygments_lexer": "ipython3",
   "version": "3.6.8"
  }
 },
 "nbformat": 4,
 "nbformat_minor": 2
}
