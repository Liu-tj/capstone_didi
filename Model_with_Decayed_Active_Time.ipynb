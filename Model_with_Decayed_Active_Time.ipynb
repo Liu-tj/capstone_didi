{
 "cells": [
  {
   "cell_type": "code",
   "execution_count": 1,
   "metadata": {},
   "outputs": [],
   "source": [
    "import sys\n",
    "from sys import platform\n",
    "import matplotlib.pyplot as plt"
   ]
  },
  {
   "cell_type": "code",
   "execution_count": 2,
   "metadata": {},
   "outputs": [],
   "source": [
    "if platform  == 'win32':\n",
    "    sys.argv=[\"_\", r\"P:\\rmahajan14\\ndte_data\\muni_data\", \"20170101\", \"20190930\"]\n",
    "if platform == 'linux' or platform == 'linux2':\n",
    "    def full_path(p):\n",
    "        return os.path.abspath(os.path.expanduser(p))\n",
    "    sys.argv=[\"_\", r\"/mnt/d/DiDi_Ride_Data/data\", r\"/mnt/d/DiDi_Ride_Data/Ride_Data_Cache\"]"
   ]
  },
  {
   "cell_type": "code",
   "execution_count": 3,
   "metadata": {
    "scrolled": false
   },
   "outputs": [
    {
     "name": "stdout",
     "output_type": "stream",
     "text": [
      "/mnt/d/DiDi_Ride_Data/Ride_Data_Cache/final_df_reg.msgpack exists\n",
      "/mnt/d/DiDi_Ride_Data/Ride_Data_Cache/idle_times.msgpack exists\n"
     ]
    },
    {
     "name": "stderr",
     "output_type": "stream",
     "text": [
      "/mnt/c/Users/aksmi/Desktop/Drive/Fall '19/Capstone/capstone_didi/experiment2.py:191: FutureWarning: The read_msgpack is deprecated and will be removed in a future version.\n",
      "It is recommended to use pyarrow for on-the-wire transmission of pandas objects.\n",
      "  df_final, target_df = get_final_df_reg()\n"
     ]
    }
   ],
   "source": [
    "from loader1 import *\n",
    "from utils import *\n",
    "from common import *\n",
    "from experiment2 import *\n",
    "# from sys import platform\n",
    "\n",
    "import warnings\n",
    "warnings.filterwarnings('ignore')"
   ]
  },
  {
   "cell_type": "code",
   "execution_count": 4,
   "metadata": {},
   "outputs": [
    {
     "name": "stdout",
     "output_type": "stream",
     "text": [
      "/mnt/d/DiDi_Ride_Data/Ride_Data_Cache/merged_orders.msgpack exists\n"
     ]
    }
   ],
   "source": [
    "merged_orders = merge_order_df()"
   ]
  },
  {
   "cell_type": "code",
   "execution_count": 5,
   "metadata": {},
   "outputs": [
    {
     "data": {
      "text/html": [
       "<div>\n",
       "<style scoped>\n",
       "    .dataframe tbody tr th:only-of-type {\n",
       "        vertical-align: middle;\n",
       "    }\n",
       "\n",
       "    .dataframe tbody tr th {\n",
       "        vertical-align: top;\n",
       "    }\n",
       "\n",
       "    .dataframe thead th {\n",
       "        text-align: right;\n",
       "    }\n",
       "</style>\n",
       "<table border=\"1\" class=\"dataframe\">\n",
       "  <thead>\n",
       "    <tr style=\"text-align: right;\">\n",
       "      <th></th>\n",
       "      <th>order_id</th>\n",
       "      <th>ride_start_timestamp</th>\n",
       "      <th>ride_stop_timestamp</th>\n",
       "      <th>pickup_longitude</th>\n",
       "      <th>pickup_latitude</th>\n",
       "      <th>dropoff_longitude</th>\n",
       "      <th>dropoff_latitude</th>\n",
       "      <th>ride_duration</th>\n",
       "      <th>driver_id</th>\n",
       "    </tr>\n",
       "  </thead>\n",
       "  <tbody>\n",
       "    <tr>\n",
       "      <td>0</td>\n",
       "      <td>00003ad9f837aca8ecdb9ae0729d0866</td>\n",
       "      <td>2016-11-01 14:35:44</td>\n",
       "      <td>2016-11-01 14:48:01</td>\n",
       "      <td>104.107101</td>\n",
       "      <td>30.699385</td>\n",
       "      <td>104.054980</td>\n",
       "      <td>30.688850</td>\n",
       "      <td>12.283333</td>\n",
       "      <td>64ee983f9979db09cb2586ec3893c467</td>\n",
       "    </tr>\n",
       "    <tr>\n",
       "      <td>1</td>\n",
       "      <td>0000c5bb7976b3dfe0fefa060265bdca</td>\n",
       "      <td>2016-11-01 15:06:22</td>\n",
       "      <td>2016-11-01 15:33:26</td>\n",
       "      <td>104.065170</td>\n",
       "      <td>30.702790</td>\n",
       "      <td>104.068280</td>\n",
       "      <td>30.666830</td>\n",
       "      <td>27.066667</td>\n",
       "      <td>19aa2c3cb2b05daf4ed06a3849c2c43c</td>\n",
       "    </tr>\n",
       "    <tr>\n",
       "      <td>2</td>\n",
       "      <td>0000f2c8aa21f2599a82923f317334bc</td>\n",
       "      <td>2016-11-01 19:38:49</td>\n",
       "      <td>2016-11-01 19:50:28</td>\n",
       "      <td>104.050859</td>\n",
       "      <td>30.687837</td>\n",
       "      <td>104.057100</td>\n",
       "      <td>30.662350</td>\n",
       "      <td>11.650000</td>\n",
       "      <td>15045dc2301012dda9cb8e98f4723efd</td>\n",
       "    </tr>\n",
       "    <tr>\n",
       "      <td>3</td>\n",
       "      <td>000102a3f8b31b3bc888572108888727</td>\n",
       "      <td>2016-11-01 11:22:02</td>\n",
       "      <td>2016-11-01 11:50:06</td>\n",
       "      <td>104.012450</td>\n",
       "      <td>30.622080</td>\n",
       "      <td>104.049190</td>\n",
       "      <td>30.755740</td>\n",
       "      <td>28.066667</td>\n",
       "      <td>53332bf0536f84453f0ab40a91774101</td>\n",
       "    </tr>\n",
       "    <tr>\n",
       "      <td>4</td>\n",
       "      <td>00017e395c1e449231b86f9149a793e5</td>\n",
       "      <td>2016-11-01 00:19:20</td>\n",
       "      <td>2016-11-01 00:34:41</td>\n",
       "      <td>104.092920</td>\n",
       "      <td>30.685830</td>\n",
       "      <td>103.990711</td>\n",
       "      <td>30.670803</td>\n",
       "      <td>15.350000</td>\n",
       "      <td>0dafbd548725f540988c5aa2554d782e</td>\n",
       "    </tr>\n",
       "    <tr>\n",
       "      <td>...</td>\n",
       "      <td>...</td>\n",
       "      <td>...</td>\n",
       "      <td>...</td>\n",
       "      <td>...</td>\n",
       "      <td>...</td>\n",
       "      <td>...</td>\n",
       "      <td>...</td>\n",
       "      <td>...</td>\n",
       "      <td>...</td>\n",
       "    </tr>\n",
       "    <tr>\n",
       "      <td>215023</td>\n",
       "      <td>fffe5967b6fdeab48c68f0ca2b330d61</td>\n",
       "      <td>2016-11-30 17:51:34</td>\n",
       "      <td>2016-11-30 18:47:20</td>\n",
       "      <td>103.897790</td>\n",
       "      <td>30.806530</td>\n",
       "      <td>104.042230</td>\n",
       "      <td>30.666520</td>\n",
       "      <td>55.766667</td>\n",
       "      <td>b7a5478a20a23993fde23f7cba244015</td>\n",
       "    </tr>\n",
       "    <tr>\n",
       "      <td>215024</td>\n",
       "      <td>fffe9e5c6d8030fd62448b8e53aacf47</td>\n",
       "      <td>2016-11-30 03:50:50</td>\n",
       "      <td>2016-11-30 04:22:22</td>\n",
       "      <td>104.073740</td>\n",
       "      <td>30.663010</td>\n",
       "      <td>103.928100</td>\n",
       "      <td>30.777570</td>\n",
       "      <td>31.533333</td>\n",
       "      <td>c6b7b37206ee6c6a38bb88a7c1655283</td>\n",
       "    </tr>\n",
       "    <tr>\n",
       "      <td>215025</td>\n",
       "      <td>fffeb486c95ea127189ae560038c6c3a</td>\n",
       "      <td>2016-11-30 12:27:08</td>\n",
       "      <td>2016-11-30 13:10:21</td>\n",
       "      <td>104.073912</td>\n",
       "      <td>30.695677</td>\n",
       "      <td>104.053270</td>\n",
       "      <td>30.765540</td>\n",
       "      <td>43.216667</td>\n",
       "      <td>d242eea3b731a2d1be5ecbd217fbe971</td>\n",
       "    </tr>\n",
       "    <tr>\n",
       "      <td>215026</td>\n",
       "      <td>ffff5cc2253bf6bca72dcb1e8a1958e6</td>\n",
       "      <td>2016-11-30 15:38:33</td>\n",
       "      <td>2016-11-30 15:49:03</td>\n",
       "      <td>104.113684</td>\n",
       "      <td>30.649077</td>\n",
       "      <td>104.099270</td>\n",
       "      <td>30.667460</td>\n",
       "      <td>10.500000</td>\n",
       "      <td>8e64c70c1c85b58dfcf79e7f939a8e17</td>\n",
       "    </tr>\n",
       "    <tr>\n",
       "      <td>215027</td>\n",
       "      <td>ffffefe59692b5c8a43f41e672ab671d</td>\n",
       "      <td>2016-11-30 09:45:13</td>\n",
       "      <td>2016-11-30 10:18:22</td>\n",
       "      <td>104.036022</td>\n",
       "      <td>30.605431</td>\n",
       "      <td>104.077570</td>\n",
       "      <td>30.659340</td>\n",
       "      <td>33.150000</td>\n",
       "      <td>6fe7e266a877a98818f166266537d63a</td>\n",
       "    </tr>\n",
       "  </tbody>\n",
       "</table>\n",
       "<p>6105003 rows × 9 columns</p>\n",
       "</div>"
      ],
      "text/plain": [
       "                                order_id ride_start_timestamp  \\\n",
       "0       00003ad9f837aca8ecdb9ae0729d0866  2016-11-01 14:35:44   \n",
       "1       0000c5bb7976b3dfe0fefa060265bdca  2016-11-01 15:06:22   \n",
       "2       0000f2c8aa21f2599a82923f317334bc  2016-11-01 19:38:49   \n",
       "3       000102a3f8b31b3bc888572108888727  2016-11-01 11:22:02   \n",
       "4       00017e395c1e449231b86f9149a793e5  2016-11-01 00:19:20   \n",
       "...                                  ...                  ...   \n",
       "215023  fffe5967b6fdeab48c68f0ca2b330d61  2016-11-30 17:51:34   \n",
       "215024  fffe9e5c6d8030fd62448b8e53aacf47  2016-11-30 03:50:50   \n",
       "215025  fffeb486c95ea127189ae560038c6c3a  2016-11-30 12:27:08   \n",
       "215026  ffff5cc2253bf6bca72dcb1e8a1958e6  2016-11-30 15:38:33   \n",
       "215027  ffffefe59692b5c8a43f41e672ab671d  2016-11-30 09:45:13   \n",
       "\n",
       "       ride_stop_timestamp  pickup_longitude  pickup_latitude  \\\n",
       "0      2016-11-01 14:48:01        104.107101        30.699385   \n",
       "1      2016-11-01 15:33:26        104.065170        30.702790   \n",
       "2      2016-11-01 19:50:28        104.050859        30.687837   \n",
       "3      2016-11-01 11:50:06        104.012450        30.622080   \n",
       "4      2016-11-01 00:34:41        104.092920        30.685830   \n",
       "...                    ...               ...              ...   \n",
       "215023 2016-11-30 18:47:20        103.897790        30.806530   \n",
       "215024 2016-11-30 04:22:22        104.073740        30.663010   \n",
       "215025 2016-11-30 13:10:21        104.073912        30.695677   \n",
       "215026 2016-11-30 15:49:03        104.113684        30.649077   \n",
       "215027 2016-11-30 10:18:22        104.036022        30.605431   \n",
       "\n",
       "        dropoff_longitude  dropoff_latitude  ride_duration  \\\n",
       "0              104.054980         30.688850      12.283333   \n",
       "1              104.068280         30.666830      27.066667   \n",
       "2              104.057100         30.662350      11.650000   \n",
       "3              104.049190         30.755740      28.066667   \n",
       "4              103.990711         30.670803      15.350000   \n",
       "...                   ...               ...            ...   \n",
       "215023         104.042230         30.666520      55.766667   \n",
       "215024         103.928100         30.777570      31.533333   \n",
       "215025         104.053270         30.765540      43.216667   \n",
       "215026         104.099270         30.667460      10.500000   \n",
       "215027         104.077570         30.659340      33.150000   \n",
       "\n",
       "                               driver_id  \n",
       "0       64ee983f9979db09cb2586ec3893c467  \n",
       "1       19aa2c3cb2b05daf4ed06a3849c2c43c  \n",
       "2       15045dc2301012dda9cb8e98f4723efd  \n",
       "3       53332bf0536f84453f0ab40a91774101  \n",
       "4       0dafbd548725f540988c5aa2554d782e  \n",
       "...                                  ...  \n",
       "215023  b7a5478a20a23993fde23f7cba244015  \n",
       "215024  c6b7b37206ee6c6a38bb88a7c1655283  \n",
       "215025  d242eea3b731a2d1be5ecbd217fbe971  \n",
       "215026  8e64c70c1c85b58dfcf79e7f939a8e17  \n",
       "215027  6fe7e266a877a98818f166266537d63a  \n",
       "\n",
       "[6105003 rows x 9 columns]"
      ]
     },
     "execution_count": 5,
     "metadata": {},
     "output_type": "execute_result"
    }
   ],
   "source": [
    "merged_orders"
   ]
  },
  {
   "cell_type": "markdown",
   "metadata": {},
   "source": [
    "### Remove rides with ride times greater than 3 hours"
   ]
  },
  {
   "cell_type": "code",
   "execution_count": 6,
   "metadata": {},
   "outputs": [],
   "source": [
    "merged_orders = merged_orders[merged_orders.ride_duration <= 180]"
   ]
  },
  {
   "cell_type": "code",
   "execution_count": 8,
   "metadata": {},
   "outputs": [],
   "source": [
    "def create_modified_active_time_through_decay(orders, use_cache=True):\n",
    "    cache_path = os.path.join(CACHE_DIR, f'idle_times.msgpack')\n",
    "    if os.path.exists(cache_path) and use_cache:\n",
    "        print(f'{cache_path} exists')\n",
    "        driver_stats_updated = pd.read_msgpack(cache_path)\n",
    "\n",
    "    else:\n",
    "        print(\"Creating the exponential decay\")\n",
    "        driver_start_times = orders.loc[:, ['driver_id', 'ride_start_timestamp', 'ride_stop_timestamp', 'order_id']]\\\n",
    "            .drop_duplicates()\n",
    "        driver_start_times.sort_values(['driver_id', 'ride_start_timestamp'],\n",
    "                                       inplace=True)\n",
    "        driver_start_times['stop_time_shifted'] = driver_start_times.groupby(\n",
    "            'driver_id')['ride_stop_timestamp'].shift(1)\n",
    "        driver_start_times['diff'] = driver_start_times[\n",
    "            'ride_start_timestamp'] - driver_start_times['stop_time_shifted']\n",
    "\n",
    "        driver_start_times_no_na = driver_start_times.dropna()\n",
    "        driver_start_times_no_na['diff'] = driver_start_times_no_na['diff'].dt.total_seconds() / 60\n",
    "\n",
    "        mean_diff = driver_start_times_no_na['diff'].mean()\n",
    "#         tau = driver_start_times_no_na['diff'].median()\n",
    "\n",
    "        lmbd = 1. / (mean_diff - tau)\n",
    "        shape = 1. / lmbd\n",
    "\n",
    "        size = driver_start_times_no_na.shape[0]\n",
    "        driver_start_times_no_na['inactive_time'] = idle_time_est(driver_start_times_no_na['diff'], tau, shape, size=size)\n",
    "\n",
    "\n",
    "        ##\n",
    "        driver_day_min = pd.DataFrame(\n",
    "            orders.groupby('driver_id')\n",
    "            ['ride_start_timestamp'].min()).reset_index()\n",
    "        driver_day_max = pd.DataFrame(\n",
    "            orders.groupby('driver_id')\n",
    "            ['ride_stop_timestamp'].max()).reset_index()\n",
    "        driver_active_time = driver_day_min.merge(\n",
    "            driver_day_max, on='driver_id', how='left')\n",
    "        driver_active_time['active_time'] = (\n",
    "            driver_active_time['ride_stop_timestamp'] -\n",
    "            driver_active_time['ride_start_timestamp']).dt.total_seconds() / 60\n",
    "        ##\n",
    "\n",
    "        ##\n",
    "        driver_ride_durations = orders.groupby('driver_id')[[\n",
    "            'ride_duration'\n",
    "        ]].sum().reset_index()\n",
    "        ##\n",
    "\n",
    "        ##\n",
    "        # total driver active time\n",
    "        driver_stats = driver_active_time[['driver_id', 'active_time']].merge(\n",
    "            driver_ride_durations, on='driver_id', how='left')\n",
    "\n",
    "        ##\n",
    "        total_inactive_time = driver_start_times_no_na.groupby(\n",
    "            'driver_id')['inactive_time'].sum().reset_index()\n",
    "        ##\n",
    "        driver_stats_updated = driver_stats.merge(\n",
    "            total_inactive_time[['driver_id', 'inactive_time']],\n",
    "            on='driver_id',\n",
    "            how='left').fillna(0)\n",
    "        driver_stats_updated['modified_active_time'] = driver_stats_updated[\n",
    "            'active_time'] - driver_stats_updated['inactive_time']\n",
    "\n",
    "        cols = [\n",
    "            'driver_id', 'ride_duration', 'modified_active_time', 'inactive_time'\n",
    "        ]\n",
    "\n",
    "        driver_stats_updated = driver_stats_updated[cols]\n",
    "        \n",
    "    return driver_stats_updated"
   ]
  },
  {
   "cell_type": "code",
   "execution_count": 9,
   "metadata": {},
   "outputs": [],
   "source": [
    "updated_time = create_modified_active_time_through_decay(merged_orders, use_cache=False)"
   ]
  },
  {
   "cell_type": "code",
   "execution_count": 14,
   "metadata": {},
   "outputs": [],
   "source": [
    "sample = updated_time.sample(n=100000)"
   ]
  },
  {
   "cell_type": "code",
   "execution_count": 13,
   "metadata": {},
   "outputs": [
    {
     "data": {
      "text/html": [
       "<div>\n",
       "<style scoped>\n",
       "    .dataframe tbody tr th:only-of-type {\n",
       "        vertical-align: middle;\n",
       "    }\n",
       "\n",
       "    .dataframe tbody tr th {\n",
       "        vertical-align: top;\n",
       "    }\n",
       "\n",
       "    .dataframe thead th {\n",
       "        text-align: right;\n",
       "    }\n",
       "</style>\n",
       "<table border=\"1\" class=\"dataframe\">\n",
       "  <thead>\n",
       "    <tr style=\"text-align: right;\">\n",
       "      <th></th>\n",
       "      <th>driver_id</th>\n",
       "      <th>ride_duration</th>\n",
       "      <th>modified_active_time</th>\n",
       "    </tr>\n",
       "  </thead>\n",
       "  <tbody>\n",
       "    <tr>\n",
       "      <td>0</td>\n",
       "      <td>0000131d486b69eb77ab6e9e7cca9f4c</td>\n",
       "      <td>75.583333</td>\n",
       "      <td>105.050000</td>\n",
       "    </tr>\n",
       "    <tr>\n",
       "      <td>1</td>\n",
       "      <td>00002724a19c5f6a54ae8d60a378997e</td>\n",
       "      <td>34.800000</td>\n",
       "      <td>34.800000</td>\n",
       "    </tr>\n",
       "    <tr>\n",
       "      <td>2</td>\n",
       "      <td>000042288ba964aa04d14869bd56efb6</td>\n",
       "      <td>73.083333</td>\n",
       "      <td>110.131391</td>\n",
       "    </tr>\n",
       "    <tr>\n",
       "      <td>3</td>\n",
       "      <td>000049d47b79747ad9927ba1bf5f4126</td>\n",
       "      <td>195.883333</td>\n",
       "      <td>466.797944</td>\n",
       "    </tr>\n",
       "    <tr>\n",
       "      <td>4</td>\n",
       "      <td>00005adc52a78e1630cfb50e4bd0f89e</td>\n",
       "      <td>67.150000</td>\n",
       "      <td>118.050000</td>\n",
       "    </tr>\n",
       "    <tr>\n",
       "      <td>5</td>\n",
       "      <td>000079a54709c3ce262a21327bebc5a7</td>\n",
       "      <td>251.216667</td>\n",
       "      <td>438.964707</td>\n",
       "    </tr>\n",
       "    <tr>\n",
       "      <td>6</td>\n",
       "      <td>0000824380faac87cc64aab251a65efd</td>\n",
       "      <td>36.200000</td>\n",
       "      <td>36.200000</td>\n",
       "    </tr>\n",
       "    <tr>\n",
       "      <td>7</td>\n",
       "      <td>0000839aee24e6f8d7856b7d5a89d665</td>\n",
       "      <td>113.683333</td>\n",
       "      <td>177.766667</td>\n",
       "    </tr>\n",
       "    <tr>\n",
       "      <td>8</td>\n",
       "      <td>000088d299916f2e44ef335f3752ae61</td>\n",
       "      <td>91.250000</td>\n",
       "      <td>204.115251</td>\n",
       "    </tr>\n",
       "    <tr>\n",
       "      <td>9</td>\n",
       "      <td>0000a3c4817080300cf3ef7d58faaad1</td>\n",
       "      <td>81.766667</td>\n",
       "      <td>283.256445</td>\n",
       "    </tr>\n",
       "  </tbody>\n",
       "</table>\n",
       "</div>"
      ],
      "text/plain": [
       "                          driver_id  ride_duration  modified_active_time\n",
       "0  0000131d486b69eb77ab6e9e7cca9f4c      75.583333            105.050000\n",
       "1  00002724a19c5f6a54ae8d60a378997e      34.800000             34.800000\n",
       "2  000042288ba964aa04d14869bd56efb6      73.083333            110.131391\n",
       "3  000049d47b79747ad9927ba1bf5f4126     195.883333            466.797944\n",
       "4  00005adc52a78e1630cfb50e4bd0f89e      67.150000            118.050000\n",
       "5  000079a54709c3ce262a21327bebc5a7     251.216667            438.964707\n",
       "6  0000824380faac87cc64aab251a65efd      36.200000             36.200000\n",
       "7  0000839aee24e6f8d7856b7d5a89d665     113.683333            177.766667\n",
       "8  000088d299916f2e44ef335f3752ae61      91.250000            204.115251\n",
       "9  0000a3c4817080300cf3ef7d58faaad1      81.766667            283.256445"
      ]
     },
     "execution_count": 13,
     "metadata": {},
     "output_type": "execute_result"
    }
   ],
   "source": [
    "updated_time.head(10)"
   ]
  },
  {
   "cell_type": "code",
   "execution_count": 12,
   "metadata": {},
   "outputs": [
    {
     "data": {
      "text/plain": [
       "(1181102,)"
      ]
     },
     "execution_count": 12,
     "metadata": {},
     "output_type": "execute_result"
    }
   ],
   "source": [
    "merged_orders['driver_id'].drop_duplicates().shape"
   ]
  },
  {
   "cell_type": "code",
   "execution_count": 15,
   "metadata": {},
   "outputs": [
    {
     "data": {
      "image/png": "[encoded data removed]",
      "text/plain": [
       "<Figure size 432x288 with 1 Axes>"
      ]
     },
     "metadata": {
      "needs_background": "light"
     },
     "output_type": "display_data"
    }
   ],
   "source": [
    "import matplotlib.pyplot as plt \n",
    "%matplotlib inline \n",
    "\n",
    "plt.scatter(y=sample['ride_duration'],x=sample['modified_active_time'])\n",
    "\n",
    "plt.show()"
   ]
  },
  {
   "cell_type": "code",
   "execution_count": 9,
   "metadata": {},
   "outputs": [],
   "source": [
    "def get_final_df_reg(use_cache=True):\n",
    "    cache_path = os.path.join(CACHE_DIR, f'final_df_reg.msgpack')\n",
    "    if os.path.exists(cache_path) and use_cache:\n",
    "        print(f'{cache_path} exists')\n",
    "        df_final = pd.read_msgpack(cache_path)\n",
    "    else:\n",
    "        start = '2016-11-01'\n",
    "        end = '2016-11-30'\n",
    "        orders = merge_order_df(start=start, end=end)\n",
    "        print('orders')\n",
    "               \n",
    "        orders['hour'] = merged_orders.ride_start_timestamp.dt.hour\n",
    "        orders['offpeak'] = (merged_orders.hour < 8) | (merged_orders.hour > 21) \n",
    "        \n",
    "        # offpeak\n",
    "        orders_offpeak = orders[orders.offpeak == True]\n",
    "        target_df_offpeak = create_modified_active_time_through_decay(orders)\n",
    "\n",
    "        # peak\n",
    "        orders_peak = orders[orders.offpeak == False]\n",
    "        target_df_peak = create_modified_active_time_through_decay(orders)\n",
    "        \n",
    "        # concat\n",
    "        target_df = pd.concat([target_df_peak, target_df_offpeak], axis=0)\n",
    "        target_df = target_df.groupby('driver_id').sum().reset_index()\n",
    "        \n",
    "        target_df['target'] = target_df['ride_duration'] / target_df[\n",
    "            'modified_active_time']\n",
    "        target_df.sort_values('driver_id', inplace=True)\n",
    "        \n",
    "        print('1e')\n",
    "        df_final = create_features(\n",
    "            start='2016-11-01', end='2016-11-30', use_cache=True)\n",
    "        print('1f')\n",
    "        spatial_df = get_spatial_features(orders)\n",
    "        print('spatial')\n",
    "        \n",
    "        df_final = pd.merge(df_final, spatial_df, on=['driver_id'], how='inner')\n",
    "        print(df_final.shape)\n",
    "        df_final = pd.merge(df_final, target_df[['driver_id', 'inactive_time']], on=['driver_id'], how='inner')\n",
    "        print(df_final.shape)\n",
    "        df_final.sort_values('driver_id', inplace=True)\n",
    "        df_final.set_index('driver_id', inplace=True)\n",
    "#         pd.to_msgpack(cache_path, df_final)\n",
    "    return df_final, target_df"
   ]
  },
  {
   "cell_type": "code",
   "execution_count": 10,
   "metadata": {
    "scrolled": true
   },
   "outputs": [
    {
     "name": "stdout",
     "output_type": "stream",
     "text": [
      "/mnt/d/DiDi_Ride_Data/Ride_Data_Cache/merged_orders.msgpack exists\n",
      "orders\n"
     ]
    },
    {
     "ename": "KeyboardInterrupt",
     "evalue": "",
     "output_type": "error",
     "traceback": [
      "\u001b[0;31m---------------------------------------------------------------------------\u001b[0m",
      "\u001b[0;31mKeyboardInterrupt\u001b[0m                         Traceback (most recent call last)",
      "\u001b[0;32m/mnt/c/Users/aksmi/Desktop/Drive/Fall '19/Capstone/capstone/lib/python3.6/site-packages/pandas/core/frame.py\u001b[0m in \u001b[0;36mreindexer\u001b[0;34m(value)\u001b[0m\n\u001b[1;32m   3696\u001b[0m                 \u001b[0;32mtry\u001b[0m\u001b[0;34m:\u001b[0m\u001b[0;34m\u001b[0m\u001b[0;34m\u001b[0m\u001b[0m\n\u001b[0;32m-> 3697\u001b[0;31m                     \u001b[0mvalue\u001b[0m \u001b[0;34m=\u001b[0m \u001b[0mvalue\u001b[0m\u001b[0;34m.\u001b[0m\u001b[0mreindex\u001b[0m\u001b[0;34m(\u001b[0m\u001b[0mself\u001b[0m\u001b[0;34m.\u001b[0m\u001b[0mindex\u001b[0m\u001b[0;34m)\u001b[0m\u001b[0;34m.\u001b[0m\u001b[0m_values\u001b[0m\u001b[0;34m\u001b[0m\u001b[0;34m\u001b[0m\u001b[0m\n\u001b[0m\u001b[1;32m   3698\u001b[0m                 \u001b[0;32mexcept\u001b[0m \u001b[0mException\u001b[0m \u001b[0;32mas\u001b[0m \u001b[0me\u001b[0m\u001b[0;34m:\u001b[0m\u001b[0;34m\u001b[0m\u001b[0;34m\u001b[0m\u001b[0m\n",
      "\u001b[0;32m/mnt/c/Users/aksmi/Desktop/Drive/Fall '19/Capstone/capstone/lib/python3.6/site-packages/pandas/core/series.py\u001b[0m in \u001b[0;36mreindex\u001b[0;34m(self, index, **kwargs)\u001b[0m\n\u001b[1;32m   4217\u001b[0m     \u001b[0;32mdef\u001b[0m \u001b[0mreindex\u001b[0m\u001b[0;34m(\u001b[0m\u001b[0mself\u001b[0m\u001b[0;34m,\u001b[0m \u001b[0mindex\u001b[0m\u001b[0;34m=\u001b[0m\u001b[0;32mNone\u001b[0m\u001b[0;34m,\u001b[0m \u001b[0;34m**\u001b[0m\u001b[0mkwargs\u001b[0m\u001b[0;34m)\u001b[0m\u001b[0;34m:\u001b[0m\u001b[0;34m\u001b[0m\u001b[0;34m\u001b[0m\u001b[0m\n\u001b[0;32m-> 4218\u001b[0;31m         \u001b[0;32mreturn\u001b[0m \u001b[0msuper\u001b[0m\u001b[0;34m(\u001b[0m\u001b[0;34m)\u001b[0m\u001b[0;34m.\u001b[0m\u001b[0mreindex\u001b[0m\u001b[0;34m(\u001b[0m\u001b[0mindex\u001b[0m\u001b[0;34m=\u001b[0m\u001b[0mindex\u001b[0m\u001b[0;34m,\u001b[0m \u001b[0;34m**\u001b[0m\u001b[0mkwargs\u001b[0m\u001b[0;34m)\u001b[0m\u001b[0;34m\u001b[0m\u001b[0;34m\u001b[0m\u001b[0m\n\u001b[0m\u001b[1;32m   4219\u001b[0m \u001b[0;34m\u001b[0m\u001b[0m\n",
      "\u001b[0;32m/mnt/c/Users/aksmi/Desktop/Drive/Fall '19/Capstone/capstone/lib/python3.6/site-packages/pandas/core/generic.py\u001b[0m in \u001b[0;36mreindex\u001b[0;34m(self, *args, **kwargs)\u001b[0m\n\u001b[1;32m   4513\u001b[0m         return self._reindex_axes(\n\u001b[0;32m-> 4514\u001b[0;31m             \u001b[0maxes\u001b[0m\u001b[0;34m,\u001b[0m \u001b[0mlevel\u001b[0m\u001b[0;34m,\u001b[0m \u001b[0mlimit\u001b[0m\u001b[0;34m,\u001b[0m \u001b[0mtolerance\u001b[0m\u001b[0;34m,\u001b[0m \u001b[0mmethod\u001b[0m\u001b[0;34m,\u001b[0m \u001b[0mfill_value\u001b[0m\u001b[0;34m,\u001b[0m \u001b[0mcopy\u001b[0m\u001b[0;34m\u001b[0m\u001b[0;34m\u001b[0m\u001b[0m\n\u001b[0m\u001b[1;32m   4515\u001b[0m         ).__finalize__(self)\n",
      "\u001b[0;32m/mnt/c/Users/aksmi/Desktop/Drive/Fall '19/Capstone/capstone/lib/python3.6/site-packages/pandas/core/generic.py\u001b[0m in \u001b[0;36m_reindex_axes\u001b[0;34m(self, axes, level, limit, tolerance, method, fill_value, copy)\u001b[0m\n\u001b[1;32m   4526\u001b[0m             new_index, indexer = ax.reindex(\n\u001b[0;32m-> 4527\u001b[0;31m                 \u001b[0mlabels\u001b[0m\u001b[0;34m,\u001b[0m \u001b[0mlevel\u001b[0m\u001b[0;34m=\u001b[0m\u001b[0mlevel\u001b[0m\u001b[0;34m,\u001b[0m \u001b[0mlimit\u001b[0m\u001b[0;34m=\u001b[0m\u001b[0mlimit\u001b[0m\u001b[0;34m,\u001b[0m \u001b[0mtolerance\u001b[0m\u001b[0;34m=\u001b[0m\u001b[0mtolerance\u001b[0m\u001b[0;34m,\u001b[0m \u001b[0mmethod\u001b[0m\u001b[0;34m=\u001b[0m\u001b[0mmethod\u001b[0m\u001b[0;34m\u001b[0m\u001b[0;34m\u001b[0m\u001b[0m\n\u001b[0m\u001b[1;32m   4528\u001b[0m             )\n",
      "\u001b[0;32m/mnt/c/Users/aksmi/Desktop/Drive/Fall '19/Capstone/capstone/lib/python3.6/site-packages/pandas/core/indexes/base.py\u001b[0m in \u001b[0;36mreindex\u001b[0;34m(self, target, method, level, limit, tolerance)\u001b[0m\n\u001b[1;32m   3415\u001b[0m                         )\n\u001b[0;32m-> 3416\u001b[0;31m                     \u001b[0mindexer\u001b[0m\u001b[0;34m,\u001b[0m \u001b[0mmissing\u001b[0m \u001b[0;34m=\u001b[0m \u001b[0mself\u001b[0m\u001b[0;34m.\u001b[0m\u001b[0mget_indexer_non_unique\u001b[0m\u001b[0;34m(\u001b[0m\u001b[0mtarget\u001b[0m\u001b[0;34m)\u001b[0m\u001b[0;34m\u001b[0m\u001b[0;34m\u001b[0m\u001b[0m\n\u001b[0m\u001b[1;32m   3417\u001b[0m \u001b[0;34m\u001b[0m\u001b[0m\n",
      "\u001b[0;32m/mnt/c/Users/aksmi/Desktop/Drive/Fall '19/Capstone/capstone/lib/python3.6/site-packages/pandas/core/indexes/base.py\u001b[0m in \u001b[0;36mget_indexer_non_unique\u001b[0;34m(self, target)\u001b[0m\n\u001b[1;32m   4800\u001b[0m \u001b[0;34m\u001b[0m\u001b[0m\n\u001b[0;32m-> 4801\u001b[0;31m         \u001b[0mindexer\u001b[0m\u001b[0;34m,\u001b[0m \u001b[0mmissing\u001b[0m \u001b[0;34m=\u001b[0m \u001b[0mself\u001b[0m\u001b[0;34m.\u001b[0m\u001b[0m_engine\u001b[0m\u001b[0;34m.\u001b[0m\u001b[0mget_indexer_non_unique\u001b[0m\u001b[0;34m(\u001b[0m\u001b[0mtgt_values\u001b[0m\u001b[0;34m)\u001b[0m\u001b[0;34m\u001b[0m\u001b[0;34m\u001b[0m\u001b[0m\n\u001b[0m\u001b[1;32m   4802\u001b[0m         \u001b[0;32mreturn\u001b[0m \u001b[0mensure_platform_int\u001b[0m\u001b[0;34m(\u001b[0m\u001b[0mindexer\u001b[0m\u001b[0;34m)\u001b[0m\u001b[0;34m,\u001b[0m \u001b[0mmissing\u001b[0m\u001b[0;34m\u001b[0m\u001b[0;34m\u001b[0m\u001b[0m\n",
      "\u001b[0;32mpandas/_libs/index.pyx\u001b[0m in \u001b[0;36mpandas._libs.index.IndexEngine.get_indexer_non_unique\u001b[0;34m()\u001b[0m\n",
      "\u001b[0;32m<__array_function__ internals>\u001b[0m in \u001b[0;36mresize\u001b[0;34m(*args, **kwargs)\u001b[0m\n",
      "\u001b[0;32m/mnt/c/Users/aksmi/Desktop/Drive/Fall '19/Capstone/capstone/lib/python3.6/site-packages/numpy/core/fromnumeric.py\u001b[0m in \u001b[0;36mresize\u001b[0;34m(a, new_shape)\u001b[0m\n\u001b[1;32m   1369\u001b[0m \u001b[0;34m\u001b[0m\u001b[0m\n\u001b[0;32m-> 1370\u001b[0;31m     \u001b[0ma\u001b[0m \u001b[0;34m=\u001b[0m \u001b[0mconcatenate\u001b[0m\u001b[0;34m(\u001b[0m\u001b[0;34m(\u001b[0m\u001b[0ma\u001b[0m\u001b[0;34m,\u001b[0m\u001b[0;34m)\u001b[0m \u001b[0;34m*\u001b[0m \u001b[0mn_copies\u001b[0m\u001b[0;34m)\u001b[0m\u001b[0;34m\u001b[0m\u001b[0;34m\u001b[0m\u001b[0m\n\u001b[0m\u001b[1;32m   1371\u001b[0m     \u001b[0;32mif\u001b[0m \u001b[0mextra\u001b[0m \u001b[0;34m>\u001b[0m \u001b[0;36m0\u001b[0m\u001b[0;34m:\u001b[0m\u001b[0;34m\u001b[0m\u001b[0;34m\u001b[0m\u001b[0m\n",
      "\u001b[0;32m<__array_function__ internals>\u001b[0m in \u001b[0;36mconcatenate\u001b[0;34m(*args, **kwargs)\u001b[0m\n",
      "\u001b[0;31mKeyboardInterrupt\u001b[0m: ",
      "\nDuring handling of the above exception, another exception occurred:\n",
      "\u001b[0;31mKeyboardInterrupt\u001b[0m                         Traceback (most recent call last)",
      "\u001b[0;32m<ipython-input-10-79e4424008fd>\u001b[0m in \u001b[0;36m<module>\u001b[0;34m\u001b[0m\n\u001b[0;32m----> 1\u001b[0;31m \u001b[0mX\u001b[0m\u001b[0;34m,\u001b[0m\u001b[0my\u001b[0m \u001b[0;34m=\u001b[0m \u001b[0mget_final_df_reg\u001b[0m\u001b[0;34m(\u001b[0m\u001b[0;32mFalse\u001b[0m\u001b[0;34m)\u001b[0m\u001b[0;34m\u001b[0m\u001b[0;34m\u001b[0m\u001b[0m\n\u001b[0m",
      "\u001b[0;32m<ipython-input-9-0ec829dda5c6>\u001b[0m in \u001b[0;36mget_final_df_reg\u001b[0;34m(use_cache)\u001b[0m\n\u001b[1;32m     15\u001b[0m         \u001b[0;31m# target_df.sort_values('driver_id', inplace=True)\u001b[0m\u001b[0;34m\u001b[0m\u001b[0;34m\u001b[0m\u001b[0;34m\u001b[0m\u001b[0m\n\u001b[1;32m     16\u001b[0m \u001b[0;34m\u001b[0m\u001b[0m\n\u001b[0;32m---> 17\u001b[0;31m         \u001b[0morders\u001b[0m\u001b[0;34m[\u001b[0m\u001b[0;34m'hour'\u001b[0m\u001b[0;34m]\u001b[0m \u001b[0;34m=\u001b[0m \u001b[0mmerged_orders\u001b[0m\u001b[0;34m.\u001b[0m\u001b[0mride_start_timestamp\u001b[0m\u001b[0;34m.\u001b[0m\u001b[0mdt\u001b[0m\u001b[0;34m.\u001b[0m\u001b[0mhour\u001b[0m\u001b[0;34m\u001b[0m\u001b[0;34m\u001b[0m\u001b[0m\n\u001b[0m\u001b[1;32m     18\u001b[0m         \u001b[0morders\u001b[0m\u001b[0;34m[\u001b[0m\u001b[0;34m'offpeak'\u001b[0m\u001b[0;34m]\u001b[0m \u001b[0;34m=\u001b[0m \u001b[0;34m(\u001b[0m\u001b[0mmerged_orders\u001b[0m\u001b[0;34m.\u001b[0m\u001b[0mhour\u001b[0m \u001b[0;34m<\u001b[0m \u001b[0;36m8\u001b[0m\u001b[0;34m)\u001b[0m \u001b[0;34m|\u001b[0m \u001b[0;34m(\u001b[0m\u001b[0mmerged_orders\u001b[0m\u001b[0;34m.\u001b[0m\u001b[0mhour\u001b[0m \u001b[0;34m>\u001b[0m \u001b[0;36m21\u001b[0m\u001b[0;34m)\u001b[0m\u001b[0;34m\u001b[0m\u001b[0;34m\u001b[0m\u001b[0m\n\u001b[1;32m     19\u001b[0m \u001b[0;34m\u001b[0m\u001b[0m\n",
      "\u001b[0;32m/mnt/c/Users/aksmi/Desktop/Drive/Fall '19/Capstone/capstone/lib/python3.6/site-packages/pandas/core/frame.py\u001b[0m in \u001b[0;36m__setitem__\u001b[0;34m(self, key, value)\u001b[0m\n\u001b[1;32m   3470\u001b[0m         \u001b[0;32melse\u001b[0m\u001b[0;34m:\u001b[0m\u001b[0;34m\u001b[0m\u001b[0;34m\u001b[0m\u001b[0m\n\u001b[1;32m   3471\u001b[0m             \u001b[0;31m# set column\u001b[0m\u001b[0;34m\u001b[0m\u001b[0;34m\u001b[0m\u001b[0;34m\u001b[0m\u001b[0m\n\u001b[0;32m-> 3472\u001b[0;31m             \u001b[0mself\u001b[0m\u001b[0;34m.\u001b[0m\u001b[0m_set_item\u001b[0m\u001b[0;34m(\u001b[0m\u001b[0mkey\u001b[0m\u001b[0;34m,\u001b[0m \u001b[0mvalue\u001b[0m\u001b[0;34m)\u001b[0m\u001b[0;34m\u001b[0m\u001b[0;34m\u001b[0m\u001b[0m\n\u001b[0m\u001b[1;32m   3473\u001b[0m \u001b[0;34m\u001b[0m\u001b[0m\n\u001b[1;32m   3474\u001b[0m     \u001b[0;32mdef\u001b[0m \u001b[0m_setitem_slice\u001b[0m\u001b[0;34m(\u001b[0m\u001b[0mself\u001b[0m\u001b[0;34m,\u001b[0m \u001b[0mkey\u001b[0m\u001b[0;34m,\u001b[0m \u001b[0mvalue\u001b[0m\u001b[0;34m)\u001b[0m\u001b[0;34m:\u001b[0m\u001b[0;34m\u001b[0m\u001b[0;34m\u001b[0m\u001b[0m\n",
      "\u001b[0;32m/mnt/c/Users/aksmi/Desktop/Drive/Fall '19/Capstone/capstone/lib/python3.6/site-packages/pandas/core/frame.py\u001b[0m in \u001b[0;36m_set_item\u001b[0;34m(self, key, value)\u001b[0m\n\u001b[1;32m   3547\u001b[0m \u001b[0;34m\u001b[0m\u001b[0m\n\u001b[1;32m   3548\u001b[0m         \u001b[0mself\u001b[0m\u001b[0;34m.\u001b[0m\u001b[0m_ensure_valid_index\u001b[0m\u001b[0;34m(\u001b[0m\u001b[0mvalue\u001b[0m\u001b[0;34m)\u001b[0m\u001b[0;34m\u001b[0m\u001b[0;34m\u001b[0m\u001b[0m\n\u001b[0;32m-> 3549\u001b[0;31m         \u001b[0mvalue\u001b[0m \u001b[0;34m=\u001b[0m \u001b[0mself\u001b[0m\u001b[0;34m.\u001b[0m\u001b[0m_sanitize_column\u001b[0m\u001b[0;34m(\u001b[0m\u001b[0mkey\u001b[0m\u001b[0;34m,\u001b[0m \u001b[0mvalue\u001b[0m\u001b[0;34m)\u001b[0m\u001b[0;34m\u001b[0m\u001b[0;34m\u001b[0m\u001b[0m\n\u001b[0m\u001b[1;32m   3550\u001b[0m         \u001b[0mNDFrame\u001b[0m\u001b[0;34m.\u001b[0m\u001b[0m_set_item\u001b[0m\u001b[0;34m(\u001b[0m\u001b[0mself\u001b[0m\u001b[0;34m,\u001b[0m \u001b[0mkey\u001b[0m\u001b[0;34m,\u001b[0m \u001b[0mvalue\u001b[0m\u001b[0;34m)\u001b[0m\u001b[0;34m\u001b[0m\u001b[0;34m\u001b[0m\u001b[0m\n\u001b[1;32m   3551\u001b[0m \u001b[0;34m\u001b[0m\u001b[0m\n",
      "\u001b[0;32m/mnt/c/Users/aksmi/Desktop/Drive/Fall '19/Capstone/capstone/lib/python3.6/site-packages/pandas/core/frame.py\u001b[0m in \u001b[0;36m_sanitize_column\u001b[0;34m(self, key, value, broadcast)\u001b[0m\n\u001b[1;32m   3709\u001b[0m \u001b[0;34m\u001b[0m\u001b[0m\n\u001b[1;32m   3710\u001b[0m         \u001b[0;32mif\u001b[0m \u001b[0misinstance\u001b[0m\u001b[0;34m(\u001b[0m\u001b[0mvalue\u001b[0m\u001b[0;34m,\u001b[0m \u001b[0mSeries\u001b[0m\u001b[0;34m)\u001b[0m\u001b[0;34m:\u001b[0m\u001b[0;34m\u001b[0m\u001b[0;34m\u001b[0m\u001b[0m\n\u001b[0;32m-> 3711\u001b[0;31m             \u001b[0mvalue\u001b[0m \u001b[0;34m=\u001b[0m \u001b[0mreindexer\u001b[0m\u001b[0;34m(\u001b[0m\u001b[0mvalue\u001b[0m\u001b[0;34m)\u001b[0m\u001b[0;34m\u001b[0m\u001b[0;34m\u001b[0m\u001b[0m\n\u001b[0m\u001b[1;32m   3712\u001b[0m \u001b[0;34m\u001b[0m\u001b[0m\n\u001b[1;32m   3713\u001b[0m         \u001b[0;32melif\u001b[0m \u001b[0misinstance\u001b[0m\u001b[0;34m(\u001b[0m\u001b[0mvalue\u001b[0m\u001b[0;34m,\u001b[0m \u001b[0mDataFrame\u001b[0m\u001b[0;34m)\u001b[0m\u001b[0;34m:\u001b[0m\u001b[0;34m\u001b[0m\u001b[0;34m\u001b[0m\u001b[0m\n",
      "\u001b[0;32m/mnt/c/Users/aksmi/Desktop/Drive/Fall '19/Capstone/capstone/lib/python3.6/site-packages/pandas/core/frame.py\u001b[0m in \u001b[0;36mreindexer\u001b[0;34m(value)\u001b[0m\n\u001b[1;32m   3695\u001b[0m                 \u001b[0;31m# GH 4107\u001b[0m\u001b[0;34m\u001b[0m\u001b[0;34m\u001b[0m\u001b[0;34m\u001b[0m\u001b[0m\n\u001b[1;32m   3696\u001b[0m                 \u001b[0;32mtry\u001b[0m\u001b[0;34m:\u001b[0m\u001b[0;34m\u001b[0m\u001b[0;34m\u001b[0m\u001b[0m\n\u001b[0;32m-> 3697\u001b[0;31m                     \u001b[0mvalue\u001b[0m \u001b[0;34m=\u001b[0m \u001b[0mvalue\u001b[0m\u001b[0;34m.\u001b[0m\u001b[0mreindex\u001b[0m\u001b[0;34m(\u001b[0m\u001b[0mself\u001b[0m\u001b[0;34m.\u001b[0m\u001b[0mindex\u001b[0m\u001b[0;34m)\u001b[0m\u001b[0;34m.\u001b[0m\u001b[0m_values\u001b[0m\u001b[0;34m\u001b[0m\u001b[0;34m\u001b[0m\u001b[0m\n\u001b[0m\u001b[1;32m   3698\u001b[0m                 \u001b[0;32mexcept\u001b[0m \u001b[0mException\u001b[0m \u001b[0;32mas\u001b[0m \u001b[0me\u001b[0m\u001b[0;34m:\u001b[0m\u001b[0;34m\u001b[0m\u001b[0;34m\u001b[0m\u001b[0m\n\u001b[1;32m   3699\u001b[0m \u001b[0;34m\u001b[0m\u001b[0m\n",
      "\u001b[0;31mKeyboardInterrupt\u001b[0m: "
     ]
    }
   ],
   "source": [
    "X,y = get_final_df_reg(False)"
   ]
  },
  {
   "cell_type": "code",
   "execution_count": 13,
   "metadata": {
    "scrolled": true
   },
   "outputs": [
    {
     "data": {
      "text/plain": [
       "['num_total_rides',\n",
       " 'num_pool_rides',\n",
       " '% of pool rides',\n",
       " '(332903.267, 345801.219](3379575.462, 3389679.747]',\n",
       " '(345801.219, 358571.469](3339057.28, 3349262.607]',\n",
       " '(345801.219, 358571.469](3359366.892, 3369471.177]',\n",
       " '(345801.219, 358571.469](3379575.462, 3389679.747]',\n",
       " '(358571.469, 371341.718](3369471.177, 3379575.462]',\n",
       " '(358571.469, 371341.718](3379575.462, 3389679.747]',\n",
       " '(358571.469, 371341.718](3389679.747, 3399784.032]',\n",
       " '(358571.469, 371341.718](3399784.032, 3409888.316]',\n",
       " '(358571.469, 371341.718](3409888.316, 3419992.601]',\n",
       " '(358571.469, 371341.718](3419992.601, 3430096.886]',\n",
       " '(358571.469, 371341.718](3430096.886, 3440201.171]',\n",
       " '(371341.718, 384111.968](3359366.892, 3369471.177]',\n",
       " '(371341.718, 384111.968](3369471.177, 3379575.462]',\n",
       " '(371341.718, 384111.968](3379575.462, 3389679.747]',\n",
       " '(371341.718, 384111.968](3389679.747, 3399784.032]',\n",
       " '(371341.718, 384111.968](3399784.032, 3409888.316]',\n",
       " '(371341.718, 384111.968](3409888.316, 3419992.601]',\n",
       " '(371341.718, 384111.968](3419992.601, 3430096.886]',\n",
       " '(371341.718, 384111.968](3430096.886, 3440201.171]',\n",
       " '(384111.968, 396882.217](3349262.607, 3359366.892]',\n",
       " '(384111.968, 396882.217](3359366.892, 3369471.177]',\n",
       " '(384111.968, 396882.217](3369471.177, 3379575.462]',\n",
       " '(384111.968, 396882.217](3379575.462, 3389679.747]',\n",
       " '(384111.968, 396882.217](3389679.747, 3399784.032]',\n",
       " '(384111.968, 396882.217](3399784.032, 3409888.316]',\n",
       " '(384111.968, 396882.217](3409888.316, 3419992.601]',\n",
       " '(384111.968, 396882.217](3419992.601, 3430096.886]',\n",
       " '(384111.968, 396882.217](3430096.886, 3440201.171]',\n",
       " '(396882.217, 409652.467](3349262.607, 3359366.892]',\n",
       " '(396882.217, 409652.467](3359366.892, 3369471.177]',\n",
       " '(396882.217, 409652.467](3369471.177, 3379575.462]',\n",
       " '(396882.217, 409652.467](3379575.462, 3389679.747]',\n",
       " '(396882.217, 409652.467](3389679.747, 3399784.032]',\n",
       " '(396882.217, 409652.467](3399784.032, 3409888.316]',\n",
       " '(396882.217, 409652.467](3409888.316, 3419992.601]',\n",
       " '(396882.217, 409652.467](3419992.601, 3430096.886]',\n",
       " '(396882.217, 409652.467](3430096.886, 3440201.171]',\n",
       " '(409652.467, 422422.716](3349262.607, 3359366.892]',\n",
       " '(409652.467, 422422.716](3359366.892, 3369471.177]',\n",
       " '(409652.467, 422422.716](3369471.177, 3379575.462]',\n",
       " '(409652.467, 422422.716](3379575.462, 3389679.747]',\n",
       " '(409652.467, 422422.716](3389679.747, 3399784.032]',\n",
       " '(409652.467, 422422.716](3399784.032, 3409888.316]',\n",
       " '(409652.467, 422422.716](3409888.316, 3419992.601]',\n",
       " '(409652.467, 422422.716](3419992.601, 3430096.886]',\n",
       " '(409652.467, 422422.716](3430096.886, 3440201.171]',\n",
       " '(422422.716, 435192.966](3359366.892, 3369471.177]',\n",
       " '(422422.716, 435192.966](3369471.177, 3379575.462]',\n",
       " '(422422.716, 435192.966](3379575.462, 3389679.747]',\n",
       " '(422422.716, 435192.966](3389679.747, 3399784.032]',\n",
       " '(422422.716, 435192.966](3399784.032, 3409888.316]',\n",
       " '(422422.716, 435192.966](3409888.316, 3419992.601]',\n",
       " '(435192.966, 447963.215](3369471.177, 3379575.462]',\n",
       " '(435192.966, 447963.215](3379575.462, 3389679.747]',\n",
       " '(435192.966, 447963.215](3389679.747, 3399784.032]',\n",
       " '(435192.966, 447963.215](3399784.032, 3409888.316]',\n",
       " '(435192.966, 447963.215](3409888.316, 3419992.601]',\n",
       " '(447963.215, 460733.465](3359366.892, 3369471.177]',\n",
       " '(447963.215, 460733.465](3379575.462, 3389679.747]',\n",
       " '(447963.215, 460733.465](3389679.747, 3399784.032]',\n",
       " '(447963.215, 460733.465](3409888.316, 3419992.601]',\n",
       " 'inactive_time']"
      ]
     },
     "execution_count": 13,
     "metadata": {},
     "output_type": "execute_result"
    }
   ],
   "source": [
    "list(X.columns)"
   ]
  },
  {
   "cell_type": "code",
   "execution_count": 14,
   "metadata": {},
   "outputs": [
    {
     "name": "stdout",
     "output_type": "stream",
     "text": [
      "0.8498598786495764\n"
     ]
    }
   ],
   "source": [
    "# X = df_final.drop(columns=['num_total_rides'])\n",
    "# X = df_final\n",
    "\n",
    "xtrain, xtest, ytrain, ytest = train_test_split(X, y['target'])\n",
    "\n",
    "sc = StandardScaler()\n",
    "xtrain_sc = sc.fit_transform(xtrain)\n",
    "\n",
    "rr = RandomForestRegressor()\n",
    "rr.fit(xtrain_sc, ytrain)\n",
    "rr.fit(xtrain_sc, ytrain)\n",
    "\n",
    "#print(rr.coef_)\n",
    "print(rr.score(xtrain_sc, ytrain))\n"
   ]
  },
  {
   "cell_type": "code",
   "execution_count": 15,
   "metadata": {},
   "outputs": [
    {
     "data": {
      "text/plain": [
       "0.6242913115007261"
      ]
     },
     "execution_count": 15,
     "metadata": {},
     "output_type": "execute_result"
    }
   ],
   "source": [
    "xtest_sc = sc.transform(xtest)\n",
    "rr.score(xtest_sc, ytest)"
   ]
  }
 ],
 "metadata": {
  "kernelspec": {
   "display_name": "Python 3",
   "language": "python",
   "name": "python3"
  },
  "language_info": {
   "codemirror_mode": {
    "name": "ipython",
    "version": 3
   },
   "file_extension": ".py",
   "mimetype": "text/x-python",
   "name": "python",
   "nbconvert_exporter": "python",
   "pygments_lexer": "ipython3",
   "version": "3.6.8"
  }
 },
 "nbformat": 4,
 "nbformat_minor": 2
}
