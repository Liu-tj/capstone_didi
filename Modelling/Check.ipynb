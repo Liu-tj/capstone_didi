{
 "cells": [
  {
   "cell_type": "code",
   "execution_count": 1,
   "metadata": {},
   "outputs": [],
   "source": [
    "import sys\n",
    "from sys import platform\n",
    "if platform  == 'win32':\n",
    "    sys.argv=[\"_\", r\"P:\\rmahajan14\\capstone_data\\data\", r\"P:\\rmahajan14\\capstone_data\\cache\"]\n",
    "if platform == 'linux' or platform == 'linux2':\n",
    "    def full_path(p):\n",
    "        return os.path.abspath(os.path.expanduser(p))\n",
    "    sys.argv=[\"_\", r\"/mnt/d/DiDi_Ride_Data/data\", r\"/mnt/d/DiDi_Ride_Data/Ride_Data_Cache\"]"
   ]
  },
  {
   "cell_type": "code",
   "execution_count": 2,
   "metadata": {},
   "outputs": [],
   "source": [
    "import matplotlib.pyplot as plt\n",
    "%load_ext autoreload\n",
    "%autoreload 2"
   ]
  },
  {
   "cell_type": "code",
   "execution_count": 24,
   "metadata": {},
   "outputs": [],
   "source": [
    "from loader1 import *\n",
    "from utils import *\n",
    "from common import *\n",
    "from experiment2 import *\n",
    "# from sys import platform\n",
    "\n",
    "import warnings\n",
    "warnings.filterwarnings('ignore')"
   ]
  },
  {
   "cell_type": "code",
   "execution_count": 13,
   "metadata": {},
   "outputs": [
    {
     "name": "stdout",
     "output_type": "stream",
     "text": [
      "/mnt/d/DiDi_Ride_Data/Ride_Data_Cache/merged_orders.msgpack exists\n"
     ]
    }
   ],
   "source": [
    "orders = merge_order_df()"
   ]
  },
  {
   "cell_type": "code",
   "execution_count": 14,
   "metadata": {},
   "outputs": [
    {
     "data": {
      "text/plain": [
       "Index(['order_id', 'ride_start_timestamp', 'ride_stop_timestamp',\n",
       "       'pickup_longitude', 'pickup_latitude', 'dropoff_longitude',\n",
       "       'dropoff_latitude', 'ride_duration', 'driver_id'],\n",
       "      dtype='object')"
      ]
     },
     "execution_count": 14,
     "metadata": {},
     "output_type": "execute_result"
    }
   ],
   "source": [
    "orders.columns"
   ]
  },
  {
   "cell_type": "code",
   "execution_count": 16,
   "metadata": {},
   "outputs": [
    {
     "name": "stdout",
     "output_type": "stream",
     "text": [
      "center is  410490.442183303 3392253.2150809667\n"
     ]
    }
   ],
   "source": [
    "get_radial_coords(orders)"
   ]
  },
  {
   "cell_type": "code",
   "execution_count": 17,
   "metadata": {},
   "outputs": [
    {
     "data": {
      "text/plain": [
       "Index(['order_id', 'ride_start_timestamp', 'ride_stop_timestamp',\n",
       "       'pickup_longitude', 'pickup_latitude', 'dropoff_longitude',\n",
       "       'dropoff_latitude', 'ride_duration', 'driver_id', 'xpickup', 'ypickup',\n",
       "       'x_diff', 'y_diff', 'r_radial', 'theta_radial'],\n",
       "      dtype='object')"
      ]
     },
     "execution_count": 17,
     "metadata": {},
     "output_type": "execute_result"
    }
   ],
   "source": [
    "orders.columns"
   ]
  },
  {
   "cell_type": "code",
   "execution_count": 19,
   "metadata": {},
   "outputs": [
    {
     "data": {
      "text/html": [
       "<div>\n",
       "<style scoped>\n",
       "    .dataframe tbody tr th:only-of-type {\n",
       "        vertical-align: middle;\n",
       "    }\n",
       "\n",
       "    .dataframe tbody tr th {\n",
       "        vertical-align: top;\n",
       "    }\n",
       "\n",
       "    .dataframe thead th {\n",
       "        text-align: right;\n",
       "    }\n",
       "</style>\n",
       "<table border=\"1\" class=\"dataframe\">\n",
       "  <thead>\n",
       "    <tr style=\"text-align: right;\">\n",
       "      <th></th>\n",
       "      <th>order_id</th>\n",
       "      <th>ride_start_timestamp</th>\n",
       "      <th>ride_stop_timestamp</th>\n",
       "      <th>pickup_longitude</th>\n",
       "      <th>pickup_latitude</th>\n",
       "      <th>dropoff_longitude</th>\n",
       "      <th>dropoff_latitude</th>\n",
       "      <th>ride_duration</th>\n",
       "      <th>driver_id</th>\n",
       "      <th>xpickup</th>\n",
       "      <th>ypickup</th>\n",
       "      <th>x_diff</th>\n",
       "      <th>y_diff</th>\n",
       "      <th>r_radial</th>\n",
       "      <th>theta_radial</th>\n",
       "    </tr>\n",
       "  </thead>\n",
       "  <tbody>\n",
       "    <tr>\n",
       "      <td>0</td>\n",
       "      <td>00003ad9f837aca8ecdb9ae0729d0866</td>\n",
       "      <td>2016-11-01 14:35:44</td>\n",
       "      <td>2016-11-01 14:48:01</td>\n",
       "      <td>104.107101</td>\n",
       "      <td>30.699385</td>\n",
       "      <td>104.054980</td>\n",
       "      <td>30.688850</td>\n",
       "      <td>12.283333</td>\n",
       "      <td>64ee983f9979db09cb2586ec3893c467</td>\n",
       "      <td>414490.551213</td>\n",
       "      <td>3.396627e+06</td>\n",
       "      <td>4000.109030</td>\n",
       "      <td>4373.982256</td>\n",
       "      <td>5927.275346</td>\n",
       "      <td>47.556354</td>\n",
       "    </tr>\n",
       "    <tr>\n",
       "      <td>1</td>\n",
       "      <td>0000c5bb7976b3dfe0fefa060265bdca</td>\n",
       "      <td>2016-11-01 15:06:22</td>\n",
       "      <td>2016-11-01 15:33:26</td>\n",
       "      <td>104.065170</td>\n",
       "      <td>30.702790</td>\n",
       "      <td>104.068280</td>\n",
       "      <td>30.666830</td>\n",
       "      <td>27.066667</td>\n",
       "      <td>19aa2c3cb2b05daf4ed06a3849c2c43c</td>\n",
       "      <td>410477.958962</td>\n",
       "      <td>3.397037e+06</td>\n",
       "      <td>-12.483221</td>\n",
       "      <td>4784.051447</td>\n",
       "      <td>4784.067734</td>\n",
       "      <td>90.149504</td>\n",
       "    </tr>\n",
       "    <tr>\n",
       "      <td>2</td>\n",
       "      <td>0000f2c8aa21f2599a82923f317334bc</td>\n",
       "      <td>2016-11-01 19:38:49</td>\n",
       "      <td>2016-11-01 19:50:28</td>\n",
       "      <td>104.050859</td>\n",
       "      <td>30.687837</td>\n",
       "      <td>104.057100</td>\n",
       "      <td>30.662350</td>\n",
       "      <td>11.650000</td>\n",
       "      <td>15045dc2301012dda9cb8e98f4723efd</td>\n",
       "      <td>409093.420880</td>\n",
       "      <td>3.395392e+06</td>\n",
       "      <td>-1397.021304</td>\n",
       "      <td>3138.357581</td>\n",
       "      <td>3435.252077</td>\n",
       "      <td>113.995954</td>\n",
       "    </tr>\n",
       "    <tr>\n",
       "      <td>3</td>\n",
       "      <td>000102a3f8b31b3bc888572108888727</td>\n",
       "      <td>2016-11-01 11:22:02</td>\n",
       "      <td>2016-11-01 11:50:06</td>\n",
       "      <td>104.012450</td>\n",
       "      <td>30.622080</td>\n",
       "      <td>104.049190</td>\n",
       "      <td>30.755740</td>\n",
       "      <td>28.066667</td>\n",
       "      <td>53332bf0536f84453f0ab40a91774101</td>\n",
       "      <td>405350.470414</td>\n",
       "      <td>3.388136e+06</td>\n",
       "      <td>-5139.971770</td>\n",
       "      <td>-4117.569274</td>\n",
       "      <td>6585.870217</td>\n",
       "      <td>-141.302204</td>\n",
       "    </tr>\n",
       "    <tr>\n",
       "      <td>4</td>\n",
       "      <td>00017e395c1e449231b86f9149a793e5</td>\n",
       "      <td>2016-11-01 00:19:20</td>\n",
       "      <td>2016-11-01 00:34:41</td>\n",
       "      <td>104.092920</td>\n",
       "      <td>30.685830</td>\n",
       "      <td>103.990711</td>\n",
       "      <td>30.670803</td>\n",
       "      <td>15.350000</td>\n",
       "      <td>0dafbd548725f540988c5aa2554d782e</td>\n",
       "      <td>413120.297325</td>\n",
       "      <td>3.395136e+06</td>\n",
       "      <td>2629.855142</td>\n",
       "      <td>2882.620424</td>\n",
       "      <td>3902.004430</td>\n",
       "      <td>47.625363</td>\n",
       "    </tr>\n",
       "    <tr>\n",
       "      <td>5</td>\n",
       "      <td>0002698735ef2e046044353f8dd2b02d</td>\n",
       "      <td>2016-11-01 23:06:35</td>\n",
       "      <td>2016-11-01 23:24:03</td>\n",
       "      <td>104.090750</td>\n",
       "      <td>30.647810</td>\n",
       "      <td>104.084936</td>\n",
       "      <td>30.694133</td>\n",
       "      <td>17.466667</td>\n",
       "      <td>a5238194dab7ce01995a6231b5113ced</td>\n",
       "      <td>412878.338997</td>\n",
       "      <td>3.390924e+06</td>\n",
       "      <td>2387.896813</td>\n",
       "      <td>-1329.308583</td>\n",
       "      <td>2732.967710</td>\n",
       "      <td>-29.104072</td>\n",
       "    </tr>\n",
       "    <tr>\n",
       "      <td>6</td>\n",
       "      <td>00040b2db5c6661598d84fab6e333949</td>\n",
       "      <td>2016-11-01 11:31:01</td>\n",
       "      <td>2016-11-01 11:45:58</td>\n",
       "      <td>103.990950</td>\n",
       "      <td>30.671760</td>\n",
       "      <td>104.050360</td>\n",
       "      <td>30.692870</td>\n",
       "      <td>14.950000</td>\n",
       "      <td>f88e328607e9259523e504db65ac2656</td>\n",
       "      <td>403339.181769</td>\n",
       "      <td>3.393660e+06</td>\n",
       "      <td>-7151.260414</td>\n",
       "      <td>1406.626424</td>\n",
       "      <td>7288.286727</td>\n",
       "      <td>168.872191</td>\n",
       "    </tr>\n",
       "    <tr>\n",
       "      <td>7</td>\n",
       "      <td>00056f48d18da361f9a921516da45a0c</td>\n",
       "      <td>2016-11-01 08:19:05</td>\n",
       "      <td>2016-11-01 08:29:10</td>\n",
       "      <td>104.053180</td>\n",
       "      <td>30.730190</td>\n",
       "      <td>104.013710</td>\n",
       "      <td>30.705230</td>\n",
       "      <td>10.083333</td>\n",
       "      <td>d5075cab009b170b71f2c107b6599a4c</td>\n",
       "      <td>409355.346141</td>\n",
       "      <td>3.400084e+06</td>\n",
       "      <td>-1135.096043</td>\n",
       "      <td>7830.354159</td>\n",
       "      <td>7912.198764</td>\n",
       "      <td>98.248199</td>\n",
       "    </tr>\n",
       "    <tr>\n",
       "      <td>8</td>\n",
       "      <td>0005b407d79295e7a3963a7dbee961bc</td>\n",
       "      <td>2016-11-01 14:57:45</td>\n",
       "      <td>2016-11-01 15:44:14</td>\n",
       "      <td>104.072105</td>\n",
       "      <td>30.625135</td>\n",
       "      <td>104.083040</td>\n",
       "      <td>30.818070</td>\n",
       "      <td>46.483333</td>\n",
       "      <td>b37aaa730a7e5968676537681b11f45c</td>\n",
       "      <td>411071.014398</td>\n",
       "      <td>3.388426e+06</td>\n",
       "      <td>580.572214</td>\n",
       "      <td>-3827.684404</td>\n",
       "      <td>3871.463805</td>\n",
       "      <td>-81.375279</td>\n",
       "    </tr>\n",
       "    <tr>\n",
       "      <td>9</td>\n",
       "      <td>0005e32557b059be8b0428467a5f0eae</td>\n",
       "      <td>2016-11-01 09:18:02</td>\n",
       "      <td>2016-11-01 09:37:10</td>\n",
       "      <td>104.150510</td>\n",
       "      <td>30.754280</td>\n",
       "      <td>104.109760</td>\n",
       "      <td>30.671250</td>\n",
       "      <td>19.133333</td>\n",
       "      <td>e90c383bb9b87537e7234d424d42d3fd</td>\n",
       "      <td>418693.903441</td>\n",
       "      <td>3.402679e+06</td>\n",
       "      <td>8203.461257</td>\n",
       "      <td>10425.517654</td>\n",
       "      <td>13266.054235</td>\n",
       "      <td>51.802078</td>\n",
       "    </tr>\n",
       "  </tbody>\n",
       "</table>\n",
       "</div>"
      ],
      "text/plain": [
       "                           order_id ride_start_timestamp ride_stop_timestamp  \\\n",
       "0  00003ad9f837aca8ecdb9ae0729d0866  2016-11-01 14:35:44 2016-11-01 14:48:01   \n",
       "1  0000c5bb7976b3dfe0fefa060265bdca  2016-11-01 15:06:22 2016-11-01 15:33:26   \n",
       "2  0000f2c8aa21f2599a82923f317334bc  2016-11-01 19:38:49 2016-11-01 19:50:28   \n",
       "3  000102a3f8b31b3bc888572108888727  2016-11-01 11:22:02 2016-11-01 11:50:06   \n",
       "4  00017e395c1e449231b86f9149a793e5  2016-11-01 00:19:20 2016-11-01 00:34:41   \n",
       "5  0002698735ef2e046044353f8dd2b02d  2016-11-01 23:06:35 2016-11-01 23:24:03   \n",
       "6  00040b2db5c6661598d84fab6e333949  2016-11-01 11:31:01 2016-11-01 11:45:58   \n",
       "7  00056f48d18da361f9a921516da45a0c  2016-11-01 08:19:05 2016-11-01 08:29:10   \n",
       "8  0005b407d79295e7a3963a7dbee961bc  2016-11-01 14:57:45 2016-11-01 15:44:14   \n",
       "9  0005e32557b059be8b0428467a5f0eae  2016-11-01 09:18:02 2016-11-01 09:37:10   \n",
       "\n",
       "   pickup_longitude  pickup_latitude  dropoff_longitude  dropoff_latitude  \\\n",
       "0        104.107101        30.699385         104.054980         30.688850   \n",
       "1        104.065170        30.702790         104.068280         30.666830   \n",
       "2        104.050859        30.687837         104.057100         30.662350   \n",
       "3        104.012450        30.622080         104.049190         30.755740   \n",
       "4        104.092920        30.685830         103.990711         30.670803   \n",
       "5        104.090750        30.647810         104.084936         30.694133   \n",
       "6        103.990950        30.671760         104.050360         30.692870   \n",
       "7        104.053180        30.730190         104.013710         30.705230   \n",
       "8        104.072105        30.625135         104.083040         30.818070   \n",
       "9        104.150510        30.754280         104.109760         30.671250   \n",
       "\n",
       "   ride_duration                         driver_id        xpickup  \\\n",
       "0      12.283333  64ee983f9979db09cb2586ec3893c467  414490.551213   \n",
       "1      27.066667  19aa2c3cb2b05daf4ed06a3849c2c43c  410477.958962   \n",
       "2      11.650000  15045dc2301012dda9cb8e98f4723efd  409093.420880   \n",
       "3      28.066667  53332bf0536f84453f0ab40a91774101  405350.470414   \n",
       "4      15.350000  0dafbd548725f540988c5aa2554d782e  413120.297325   \n",
       "5      17.466667  a5238194dab7ce01995a6231b5113ced  412878.338997   \n",
       "6      14.950000  f88e328607e9259523e504db65ac2656  403339.181769   \n",
       "7      10.083333  d5075cab009b170b71f2c107b6599a4c  409355.346141   \n",
       "8      46.483333  b37aaa730a7e5968676537681b11f45c  411071.014398   \n",
       "9      19.133333  e90c383bb9b87537e7234d424d42d3fd  418693.903441   \n",
       "\n",
       "        ypickup       x_diff        y_diff      r_radial  theta_radial  \n",
       "0  3.396627e+06  4000.109030   4373.982256   5927.275346     47.556354  \n",
       "1  3.397037e+06   -12.483221   4784.051447   4784.067734     90.149504  \n",
       "2  3.395392e+06 -1397.021304   3138.357581   3435.252077    113.995954  \n",
       "3  3.388136e+06 -5139.971770  -4117.569274   6585.870217   -141.302204  \n",
       "4  3.395136e+06  2629.855142   2882.620424   3902.004430     47.625363  \n",
       "5  3.390924e+06  2387.896813  -1329.308583   2732.967710    -29.104072  \n",
       "6  3.393660e+06 -7151.260414   1406.626424   7288.286727    168.872191  \n",
       "7  3.400084e+06 -1135.096043   7830.354159   7912.198764     98.248199  \n",
       "8  3.388426e+06   580.572214  -3827.684404   3871.463805    -81.375279  \n",
       "9  3.402679e+06  8203.461257  10425.517654  13266.054235     51.802078  "
      ]
     },
     "execution_count": 19,
     "metadata": {},
     "output_type": "execute_result"
    }
   ],
   "source": [
    "orders.head(10)"
   ]
  },
  {
   "cell_type": "code",
   "execution_count": null,
   "metadata": {},
   "outputs": [],
   "source": [
    "print(f'd1 = {5927.275346/5.93}', f'd2 = {6585.870217/9.7}')"
   ]
  },
  {
   "cell_type": "code",
   "execution_count": 21,
   "metadata": {},
   "outputs": [
    {
     "data": {
      "text/plain": [
       "<matplotlib.axes._subplots.AxesSubplot at 0x7fdbc4799a20>"
      ]
     },
     "execution_count": 21,
     "metadata": {},
     "output_type": "execute_result"
    },
    {
     "data": {
      "image/png": "[encoded data removed]",
      "text/plain": [
       "<Figure size 432x288 with 1 Axes>"
      ]
     },
     "metadata": {
      "needs_background": "light"
     },
     "output_type": "display_data"
    }
   ],
   "source": [
    "orders['r_radial'].hist(bins=100)"
   ]
  },
  {
   "cell_type": "code",
   "execution_count": 22,
   "metadata": {},
   "outputs": [
    {
     "data": {
      "text/plain": [
       "<matplotlib.axes._subplots.AxesSubplot at 0x7fdbc47e8908>"
      ]
     },
     "execution_count": 22,
     "metadata": {},
     "output_type": "execute_result"
    },
    {
     "data": {
      "image/png": "[encoded data removed]",
      "text/plain": [
       "<Figure size 432x288 with 1 Axes>"
      ]
     },
     "metadata": {
      "needs_background": "light"
     },
     "output_type": "display_data"
    }
   ],
   "source": [
    "orders['theta_radial'].hist(bins=100)"
   ]
  },
  {
   "cell_type": "code",
   "execution_count": 23,
   "metadata": {},
   "outputs": [
    {
     "data": {
      "text/html": [
       "<div>\n",
       "<style scoped>\n",
       "    .dataframe tbody tr th:only-of-type {\n",
       "        vertical-align: middle;\n",
       "    }\n",
       "\n",
       "    .dataframe tbody tr th {\n",
       "        vertical-align: top;\n",
       "    }\n",
       "\n",
       "    .dataframe thead th {\n",
       "        text-align: right;\n",
       "    }\n",
       "</style>\n",
       "<table border=\"1\" class=\"dataframe\">\n",
       "  <thead>\n",
       "    <tr style=\"text-align: right;\">\n",
       "      <th></th>\n",
       "      <th>r_radial</th>\n",
       "    </tr>\n",
       "  </thead>\n",
       "  <tbody>\n",
       "    <tr>\n",
       "      <td>count</td>\n",
       "      <td>6.104724e+06</td>\n",
       "    </tr>\n",
       "    <tr>\n",
       "      <td>mean</td>\n",
       "      <td>4.916682e+03</td>\n",
       "    </tr>\n",
       "    <tr>\n",
       "      <td>std</td>\n",
       "      <td>3.604216e+03</td>\n",
       "    </tr>\n",
       "    <tr>\n",
       "      <td>min</td>\n",
       "      <td>8.625837e+00</td>\n",
       "    </tr>\n",
       "    <tr>\n",
       "      <td>25%</td>\n",
       "      <td>2.395074e+03</td>\n",
       "    </tr>\n",
       "    <tr>\n",
       "      <td>50%</td>\n",
       "      <td>4.199032e+03</td>\n",
       "    </tr>\n",
       "    <tr>\n",
       "      <td>75%</td>\n",
       "      <td>6.319717e+03</td>\n",
       "    </tr>\n",
       "    <tr>\n",
       "      <td>max</td>\n",
       "      <td>7.810718e+04</td>\n",
       "    </tr>\n",
       "  </tbody>\n",
       "</table>\n",
       "</div>"
      ],
      "text/plain": [
       "           r_radial\n",
       "count  6.104724e+06\n",
       "mean   4.916682e+03\n",
       "std    3.604216e+03\n",
       "min    8.625837e+00\n",
       "25%    2.395074e+03\n",
       "50%    4.199032e+03\n",
       "75%    6.319717e+03\n",
       "max    7.810718e+04"
      ]
     },
     "execution_count": 23,
     "metadata": {},
     "output_type": "execute_result"
    }
   ],
   "source": [
    "orders[['r_radial']].describe()"
   ]
  },
  {
   "cell_type": "code",
   "execution_count": 28,
   "metadata": {
    "scrolled": true
   },
   "outputs": [
    {
     "name": "stdout",
     "output_type": "stream",
     "text": [
      "<class 'pandas.core.frame.DataFrame'>\n",
      "Int64Index: 6104724 entries, 0 to 215027\n",
      "Data columns (total 15 columns):\n",
      "order_id                object\n",
      "ride_start_timestamp    datetime64[ns]\n",
      "ride_stop_timestamp     datetime64[ns]\n",
      "pickup_longitude        float64\n",
      "pickup_latitude         float64\n",
      "dropoff_longitude       float64\n",
      "dropoff_latitude        float64\n",
      "ride_duration           float64\n",
      "driver_id               object\n",
      "xpickup                 float64\n",
      "ypickup                 float64\n",
      "x_diff                  float64\n",
      "y_diff                  float64\n",
      "r_radial                float64\n",
      "theta_radial            float64\n",
      "dtypes: datetime64[ns](2), float64(11), object(2)\n",
      "memory usage: 745.2+ MB\n"
     ]
    }
   ],
   "source": [
    "orders.info()"
   ]
  },
  {
   "cell_type": "code",
   "execution_count": null,
   "metadata": {},
   "outputs": [],
   "source": [
    "cols = ['r_radial', 'theta_radial']\n",
    "create_radial_bins(df, cols)"
   ]
  },
  {
   "cell_type": "code",
   "execution_count": 43,
   "metadata": {
    "scrolled": true
   },
   "outputs": [
    {
     "data": {
      "text/plain": [
       "array(['(5824.437, 7010.799](38.147, 60.214]',\n",
       "       '(4199.032, 4945.124](88.383, 111.762]',\n",
       "       '(2813.241, 3511.706](111.762, 137.56]',\n",
       "       '(5824.437, 7010.799](-180.001, -99.688]',\n",
       "       '(3511.706, 4199.032](38.147, 60.214]',\n",
       "       '(1963.214, 2813.241](-38.414, -8.521]',\n",
       "       '(7010.799, 9509.75](137.56, 180.0]',\n",
       "       '(7010.799, 9509.75](88.383, 111.762]',\n",
       "       '(3511.706, 4199.032](-99.688, -38.414]',\n",
       "       '(9509.75, 78107.176](38.147, 60.214]',\n",
       "       '(9509.75, 78107.176](111.762, 137.56]',\n",
       "       '(8.625, 1284.574](-180.001, -99.688]',\n",
       "       '(8.625, 1284.574](137.56, 180.0]',\n",
       "       '(9509.75, 78107.176](-38.414, -8.521]',\n",
       "       '(1284.574, 1963.214](60.214, 88.383]',\n",
       "       '(4199.032, 4945.124](137.56, 180.0]',\n",
       "       '(8.625, 1284.574](-38.414, -8.521]',\n",
       "       '(9509.75, 78107.176](60.214, 88.383]',\n",
       "       '(3511.706, 4199.032](14.323, 38.147]',\n",
       "       '(2813.241, 3511.706](88.383, 111.762]',\n",
       "       '(5824.437, 7010.799](60.214, 88.383]',\n",
       "       '(1284.574, 1963.214](14.323, 38.147]',\n",
       "       '(7010.799, 9509.75](-38.414, -8.521]',\n",
       "       '(2813.241, 3511.706](-8.521, 14.323]',\n",
       "       '(1284.574, 1963.214](-8.521, 14.323]',\n",
       "       '(4199.032, 4945.124](60.214, 88.383]',\n",
       "       '(4945.124, 5824.437](111.762, 137.56]',\n",
       "       '(3511.706, 4199.032](111.762, 137.56]',\n",
       "       '(1963.214, 2813.241](60.214, 88.383]',\n",
       "       '(4945.124, 5824.437](14.323, 38.147]',\n",
       "       '(8.625, 1284.574](60.214, 88.383]',\n",
       "       '(3511.706, 4199.032](-8.521, 14.323]',\n",
       "       '(4945.124, 5824.437](-180.001, -99.688]',\n",
       "       '(8.625, 1284.574](-99.688, -38.414]',\n",
       "       '(1963.214, 2813.241](-180.001, -99.688]',\n",
       "       '(2813.241, 3511.706](-99.688, -38.414]',\n",
       "       '(4199.032, 4945.124](-180.001, -99.688]',\n",
       "       '(1284.574, 1963.214](-180.001, -99.688]',\n",
       "       '(2813.241, 3511.706](60.214, 88.383]',\n",
       "       '(8.625, 1284.574](14.323, 38.147]',\n",
       "       '(1963.214, 2813.241](-8.521, 14.323]',\n",
       "       '(1284.574, 1963.214](137.56, 180.0]',\n",
       "       '(1284.574, 1963.214](111.762, 137.56]',\n",
       "       '(7010.799, 9509.75](38.147, 60.214]',\n",
       "       '(8.625, 1284.574](-8.521, 14.323]',\n",
       "       '(5824.437, 7010.799](14.323, 38.147]',\n",
       "       '(7010.799, 9509.75](-180.001, -99.688]',\n",
       "       '(4945.124, 5824.437](-8.521, 14.323]',\n",
       "       '(1284.574, 1963.214](38.147, 60.214]',\n",
       "       '(9509.75, 78107.176](88.383, 111.762]',\n",
       "       '(4945.124, 5824.437](-99.688, -38.414]',\n",
       "       '(8.625, 1284.574](111.762, 137.56]',\n",
       "       '(5824.437, 7010.799](111.762, 137.56]',\n",
       "       '(3511.706, 4199.032](-180.001, -99.688]',\n",
       "       '(4199.032, 4945.124](38.147, 60.214]',\n",
       "       '(8.625, 1284.574](38.147, 60.214]',\n",
       "       '(5824.437, 7010.799](137.56, 180.0]',\n",
       "       '(4199.032, 4945.124](14.323, 38.147]',\n",
       "       '(1963.214, 2813.241](137.56, 180.0]',\n",
       "       '(2813.241, 3511.706](38.147, 60.214]',\n",
       "       '(1284.574, 1963.214](88.383, 111.762]',\n",
       "       '(2813.241, 3511.706](-180.001, -99.688]',\n",
       "       '(7010.799, 9509.75](-99.688, -38.414]',\n",
       "       '(2813.241, 3511.706](137.56, 180.0]',\n",
       "       '(1963.214, 2813.241](14.323, 38.147]',\n",
       "       '(9509.75, 78107.176](-99.688, -38.414]',\n",
       "       '(1284.574, 1963.214](-38.414, -8.521]',\n",
       "       '(9509.75, 78107.176](14.323, 38.147]',\n",
       "       '(7010.799, 9509.75](111.762, 137.56]',\n",
       "       '(3511.706, 4199.032](137.56, 180.0]',\n",
       "       '(3511.706, 4199.032](60.214, 88.383]',\n",
       "       '(2813.241, 3511.706](14.323, 38.147]',\n",
       "       '(9509.75, 78107.176](-180.001, -99.688]',\n",
       "       '(1963.214, 2813.241](111.762, 137.56]',\n",
       "       '(2813.241, 3511.706](-38.414, -8.521]',\n",
       "       '(1963.214, 2813.241](-99.688, -38.414]',\n",
       "       '(3511.706, 4199.032](88.383, 111.762]',\n",
       "       '(4199.032, 4945.124](-8.521, 14.323]',\n",
       "       '(5824.437, 7010.799](88.383, 111.762]',\n",
       "       '(4945.124, 5824.437](38.147, 60.214]',\n",
       "       '(4199.032, 4945.124](-99.688, -38.414]',\n",
       "       '(4199.032, 4945.124](111.762, 137.56]',\n",
       "       '(4945.124, 5824.437](137.56, 180.0]',\n",
       "       '(4945.124, 5824.437](-38.414, -8.521]',\n",
       "       '(4945.124, 5824.437](60.214, 88.383]',\n",
       "       '(3511.706, 4199.032](-38.414, -8.521]',\n",
       "       '(5824.437, 7010.799](-99.688, -38.414]',\n",
       "       '(1284.574, 1963.214](-99.688, -38.414]',\n",
       "       '(9509.75, 78107.176](137.56, 180.0]',\n",
       "       '(7010.799, 9509.75](14.323, 38.147]',\n",
       "       '(8.625, 1284.574](88.383, 111.762]',\n",
       "       '(7010.799, 9509.75](60.214, 88.383]',\n",
       "       '(4945.124, 5824.437](88.383, 111.762]',\n",
       "       '(1963.214, 2813.241](38.147, 60.214]',\n",
       "       '(5824.437, 7010.799](-8.521, 14.323]',\n",
       "       '(1963.214, 2813.241](88.383, 111.762]',\n",
       "       '(9509.75, 78107.176](-8.521, 14.323]',\n",
       "       '(4199.032, 4945.124](-38.414, -8.521]',\n",
       "       '(7010.799, 9509.75](-8.521, 14.323]',\n",
       "       '(5824.437, 7010.799](-38.414, -8.521]'], dtype=object)"
      ]
     },
     "execution_count": 43,
     "metadata": {},
     "output_type": "execute_result"
    }
   ],
   "source": [
    "orders.pick_up_radial_zone.unique()"
   ]
  },
  {
   "cell_type": "code",
   "execution_count": 75,
   "metadata": {},
   "outputs": [],
   "source": [
    "\n",
    "vals = np.random.random(100000)\n",
    "def f(x, c):\n",
    "    tau0 = np.log(1 / 0.475 - 1) / c\n",
    "    k = np.exp(c*x)\n",
    "    y = np.log(k / (1 + np.exp(-c*tau0) - k)) / c\n",
    "    return y"
   ]
  },
  {
   "cell_type": "code",
   "execution_count": 76,
   "metadata": {},
   "outputs": [],
   "source": [
    "new = f(vals, 4)"
   ]
  },
  {
   "cell_type": "code",
   "execution_count": 77,
   "metadata": {
    "scrolled": true
   },
   "outputs": [
    {
     "data": {
      "text/plain": [
       "(array([114.,  97., 121., 111., 107., 111., 116., 105.,  91.,  99.,  92.,\n",
       "        114., 111., 115.,  99.,  79.,  97., 105.,  86., 119., 116., 113.,\n",
       "         83., 114., 100.,  93.,  83., 103.,  89., 117., 121., 105.,  82.,\n",
       "         94.,  83.,  99.,  83., 106., 107.,  87.,  97.,  95.,  81.,  91.,\n",
       "         76.,  80.,  81.,  71.,  82.,  95.,  80.,  87.,  90.,  84.,  77.,\n",
       "         76.,  87., 101.,  76.,  76.,  69.,  75.,  88.,  69.,  85.,  75.,\n",
       "         75.,  78.,  73.,  75.,  77.,  73.,  68.,  78.,  70.,  70.,  78.,\n",
       "         77.,  60.,  64.,  66.,  68.,  75.,  56.,  66.,  74.,  78.,  72.,\n",
       "         73.,  76.,  65.,  63.,  50.,  62.,  61.,  72.,  53.,  49.,  58.,\n",
       "         49.,  67.,  53.,  67.,  74.,  43.,  53.,  52.,  53.,  55.,  60.,\n",
       "         58.,  54.,  54.,  57.,  34.,  63.,  64.,  67.,  50.,  65.,  62.,\n",
       "         42.,  48.,  52.,  57.,  46.,  42.,  46.,  62.,  47.,  53.,  54.,\n",
       "         49.,  47.,  35.,  51.,  42.,  47.,  47.,  44.,  61.,  45.,  48.,\n",
       "         44.,  47.,  41.,  43.,  46.,  36.,  45.,  41.,  34.,  43.,  36.,\n",
       "         41.,  43.,  35.,  33.,  42.,  30.,  34.,  48.,  34.,  36.,  37.,\n",
       "         39.,  28.,  45.,  36.,  33.,  24.,  41.,  33.,  43.,  29.,  24.,\n",
       "         28.,  29.,  40.,  31.,  42.,  40.,  39.,  32.,  29.,  41.,  31.,\n",
       "         41.,  40.,  35.,  22.,  38.,  31.,  29.,  33.,  38.,  28.,  24.,\n",
       "         28.,  24.,  41.,  28.,  20.,  26.,  31.,  21.,  23.,  23.,  22.,\n",
       "         24.,  40.,  25.,  29.,  23.,  21.,  22.,  25.,  14.,  33.,  29.,\n",
       "         21.,  24.,  25.,  15.,  14.,  18.,  26.,  17.,  21.,  22.,  23.,\n",
       "         22.,  24.,  20.,  20.,  33.,  14.,  22.,  27.,  23.,  27.,  22.,\n",
       "         23.,  24.,  11.,  18.,  13.,  22.,  23.,  11.,  13.,  18.,  18.,\n",
       "         21.,  15.,  18.,  14.,  18.,  18.,  16.,   9.,  21.,  21.,  23.,\n",
       "         18.,  16.,  15.,  13.,  16.,  21.,  16.,   8.,  11.,  14.,  14.,\n",
       "         10.,  19.,  16.,   9.,  19.,  11.,  17.,  10.,  13.,  13.,  14.,\n",
       "         18.,  10.,  11.,  12.,  10.,  11.,  18.,  12.,  16.,  15.,   8.,\n",
       "          6.,   7.,  11.,   9.,  10.,  11.,  12.,   9.,   8.,   9.,   8.,\n",
       "          9.,  12.,  13.,  18.,  12.,  12.,  11.,  11.,  10.,  11.,  13.,\n",
       "         13.,   5.,  10.,  11.,  11.,  12.,   9.,  12.,   9.,   4.,   8.,\n",
       "          8.,   5.,  10.,   5.,  10.,   9.,   7.,   9.,   9.,   3.,   8.,\n",
       "          8.,  10.,   7.,  11.,   7.,   8.,   9.,  11.,   9.,   5.,   6.,\n",
       "          8.,  10.,   5.,   4.,   7.,   7.,   4.,   6.,   4.,   6.,   7.,\n",
       "          6.,   5.,   9.,   7.,  10.,   3.,   9.,   3.,   7.,   9.,   4.,\n",
       "         10.,   3.,   3.,  13.,   4.,   9.,   8.,  10.,   3.,   4.,   5.,\n",
       "          9.,   4.,   9.,   6.,   7.,   3.,  11.,   7.,   6.,   6.,   9.,\n",
       "          4.,   8.,   4.,   3.,   7.,   5.,   4.,   7.,   5.,   4.,   5.,\n",
       "          5.,   7.,   7.,   3.,   2.,   6.,   4.,   4.,   2.,   7.,   7.,\n",
       "          6.,   6.,   4.,   2.,   2.,   1.,   5.,   5.,   4.,   3.,   2.,\n",
       "          3.,   5.,   4.,   5.,   4.,   7.,   5.,   3.,   5.,   0.,   2.,\n",
       "          3.,   5.,   8.,   2.,   4.,   5.,   6.,   4.,   1.,   3.,   2.,\n",
       "          3.,   4.,   0.,   6.,   3.,   3.,   2.,   3.,   3.,   3.,   4.,\n",
       "          4.,   2.,   2.,   2.,   1.,   2.,   4.,   2.,   0.,   1.,   0.,\n",
       "          6.,   1.,   5.,   1.,   2.,   3.,   4.,   5.,   2.,   1.,   4.,\n",
       "          5.,   1.,   3.,   7.,   4.,   1.,   0.,   3.,   4.,   3.,   3.,\n",
       "          2.,   3.,   3.,   6.,   1.,   1.,   1.,   2.,   0.,   0.,   1.,\n",
       "          3.,   5.,   2.,   4.,   2.,   4.,   2.,   0.,   2.,   3.,   0.,\n",
       "          0.,   1.,   0.,   1.,   0.,   1.,   1.,   1.,   0.,   2.,   1.,\n",
       "          1.,   0.,   2.,   2.,   2.,   1.,   0.,   1.,   0.,   2.,   1.,\n",
       "          1.,   3.,   0.,   0.,   1.,   0.,   0.,   1.,   1.,   2.,   0.,\n",
       "          0.,   0.,   2.,   1.,   3.,   1.,   2.,   3.,   1.,   1.,   1.,\n",
       "          2.,   1.,   0.,   0.,   0.,   1.,   3.,   4.,   1.,   0.,   0.,\n",
       "          2.,   0.,   1.,   1.,   0.,   0.,   1.,   2.,   1.,   0.,   3.,\n",
       "          0.,   1.,   1.,   0.,   1.,   1.,   0.,   1.,   2.,   0.,   1.,\n",
       "          1.,   1.,   0.,   1.,   1.,   0.,   1.,   0.,   0.,   0.,   1.,\n",
       "          1.,   1.,   1.,   1.,   0.,   1.,   2.,   1.,   0.,   0.,   0.,\n",
       "          1.,   1.,   1.,   1.,   2.,   0.,   2.,   1.,   0.,   0.,   0.,\n",
       "          0.,   1.,   0.,   1.,   1.,   1.,   3.,   1.,   1.,   0.,   2.,\n",
       "          0.,   0.,   2.,   1.,   1.,   0.,   0.,   1.,   1.,   1.,   1.,\n",
       "          1.,   0.,   0.,   2.,   0.,   0.,   3.,   2.,   0.,   0.,   0.,\n",
       "          0.,   0.,   2.,   0.,   0.,   1.,   0.,   0.,   0.,   0.,   0.,\n",
       "          0.,   0.,   0.,   0.,   0.,   0.,   1.,   0.,   0.,   1.,   0.,\n",
       "          1.,   0.,   0.,   0.,   2.,   0.,   0.,   0.,   1.,   0.,   0.,\n",
       "          0.,   1.,   1.,   0.,   1.,   0.,   0.,   0.,   0.,   1.,   2.,\n",
       "          0.,   1.,   0.,   0.,   0.,   0.,   0.,   0.,   0.,   0.,   0.,\n",
       "          0.,   0.,   0.,   0.,   2.,   1.,   2.,   0.,   0.,   0.,   0.,\n",
       "          0.,   0.,   0.,   0.,   2.,   0.,   1.,   0.,   0.,   1.,   0.,\n",
       "          0.,   0.,   0.,   0.,   0.,   0.,   0.,   0.,   0.,   0.,   0.,\n",
       "          0.,   0.,   0.,   0.,   1.,   0.,   0.,   0.,   0.,   0.,   0.,\n",
       "          0.,   0.,   1.,   0.,   0.,   0.,   0.,   1.,   0.,   0.,   0.,\n",
       "          0.,   0.,   0.,   0.,   0.,   1.,   1.,   0.,   0.,   0.,   0.,\n",
       "          0.,   0.,   0.,   0.,   0.,   0.,   0.,   0.,   0.,   0.,   0.,\n",
       "          0.,   0.,   1.,   0.,   0.,   0.,   0.,   0.,   0.,   0.,   0.,\n",
       "          0.,   0.,   1.,   0.,   0.,   0.,   0.,   0.,   0.,   0.,   0.,\n",
       "          1.,   0.,   0.,   0.,   1.,   0.,   0.,   0.,   0.,   0.,   0.,\n",
       "          0.,   0.,   0.,   0.,   1.,   1.,   0.,   0.,   0.,   0.,   0.,\n",
       "          0.,   0.,   0.,   0.,   0.,   0.,   0.,   0.,   0.,   0.,   0.,\n",
       "          0.,   0.,   0.,   0.,   0.,   0.,   0.,   0.,   1.,   0.,   0.,\n",
       "          0.,   0.,   0.,   0.,   0.,   0.,   0.,   0.,   0.,   0.,   0.,\n",
       "          0.,   0.,   0.,   0.,   0.,   0.,   0.,   0.,   0.,   0.,   0.,\n",
       "          0.,   0.,   0.,   0.,   0.,   0.,   0.,   0.,   0.,   0.,   0.,\n",
       "          0.,   0.,   0.,   0.,   0.,   0.,   0.,   0.,   0.,   0.,   0.,\n",
       "          0.,   0.,   0.,   0.,   0.,   0.,   0.,   0.,   1.,   0.,   0.,\n",
       "          0.,   0.,   0.,   0.,   0.,   0.,   0.,   0.,   0.,   1.,   0.,\n",
       "          0.,   0.,   0.,   0.,   0.,   0.,   0.,   0.,   0.,   0.,   0.,\n",
       "          0.,   0.,   0.,   0.,   0.,   0.,   0.,   0.,   0.,   0.,   0.,\n",
       "          0.,   0.,   0.,   0.,   0.,   0.,   0.,   0.,   0.,   0.,   0.,\n",
       "          0.,   0.,   0.,   0.,   0.,   0.,   0.,   0.,   0.,   0.,   0.,\n",
       "          0.,   0.,   0.,   0.,   0.,   0.,   0.,   0.,   0.,   0.,   0.,\n",
       "          0.,   0.,   0.,   0.,   0.,   0.,   0.,   0.,   0.,   0.,   0.,\n",
       "          0.,   0.,   0.,   0.,   0.,   0.,   0.,   0.,   0.,   1.]),\n",
       " array([0.02504173, 0.02740623, 0.02977073, ..., 2.38481542, 2.38717992,\n",
       "        2.38954443]),\n",
       " <a list of 1000 Patch objects>)"
      ]
     },
     "execution_count": 77,
     "metadata": {},
     "output_type": "execute_result"
    },
    {
     "data": {
      "image/png": "[encoded data removed]",
      "text/plain": [
       "<Figure size 432x288 with 1 Axes>"
      ]
     },
     "metadata": {
      "needs_background": "light"
     },
     "output_type": "display_data"
    }
   ],
   "source": [
    "import matplotlib.pyplot as plt\n",
    "\n",
    "plt.hist(new, bins=1000)"
   ]
  },
  {
   "cell_type": "code",
   "execution_count": 74,
   "metadata": {},
   "outputs": [
    {
     "data": {
      "text/plain": [
       "0.025020864639245608"
      ]
     },
     "execution_count": 74,
     "metadata": {},
     "output_type": "execute_result"
    }
   ],
   "source": [
    "tau0 = np.log(1 / 0.475 - 1) / 4\n",
    "tau0"
   ]
  },
  {
   "cell_type": "code",
   "execution_count": null,
   "metadata": {},
   "outputs": [],
   "source": []
  }
 ],
 "metadata": {
  "kernelspec": {
   "display_name": "Python 3",
   "language": "python",
   "name": "python3"
  },
  "language_info": {
   "codemirror_mode": {
    "name": "ipython",
    "version": 3
   },
   "file_extension": ".py",
   "mimetype": "text/x-python",
   "name": "python",
   "nbconvert_exporter": "python",
   "pygments_lexer": "ipython3",
   "version": "3.6.8"
  }
 },
 "nbformat": 4,
 "nbformat_minor": 2
}
