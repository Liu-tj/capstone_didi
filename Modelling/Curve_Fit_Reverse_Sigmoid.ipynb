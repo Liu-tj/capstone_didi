{
 "cells": [
  {
   "cell_type": "code",
   "execution_count": 122,
   "metadata": {},
   "outputs": [],
   "source": [
    "from ipywidgets import interact, interactive, widgets\n",
    "\n",
    "a_widget = widgets.FloatSlider(value = 0.01, min=0, max=100, description='a', readout_format = '.2f', continuous_update=False)\n",
    "b_widget = widgets.FloatSlider(value = 0.01, min=0, max=2, description='b', readout_format = '.2f', continuous_update=False)\n",
    "c_widget = widgets.FloatSlider(value = 0.01, min=0, max=1, description='c', readout_format = '.2f', continuous_update=False)\n",
    "\n",
    "\n",
    "\n",
    "from scipy import exp\n",
    "\n",
    "def f(x, a, b, c):\n",
    "    return 1/(1+b*exp(c*(x-10)))\n",
    "\n",
    "def plot_val(a, b, c):\n",
    "    x = np.array(range(-30, 30, 1))\n",
    "    y = f(x, a=a, b=b, c=c)\n",
    "    plt.plot(x, y, label=\"a =\" + str(i) + \" b= \" + str(j))\n",
    "    plt.xlim((0,30))\n",
    "    plt.legend()\n",
    "    plt.show()\n",
    "    \n",
    "    "
   ]
  },
  {
   "cell_type": "code",
   "execution_count": 123,
   "metadata": {},
   "outputs": [
    {
     "data": {
      "application/vnd.jupyter.widget-view+json": {
       "model_id": "108e4d9ffe0d44fa83787d70eaa85c5d",
       "version_major": 2,
       "version_minor": 0
      },
      "text/plain": [
       "interactive(children=(FloatSlider(value=0.01, continuous_update=False, description='a'), FloatSlider(value=0.0…"
      ]
     },
     "metadata": {},
     "output_type": "display_data"
    },
    {
     "data": {
      "text/plain": [
       "<function __main__.plot_val(a, b, c)>"
      ]
     },
     "execution_count": 123,
     "metadata": {},
     "output_type": "execute_result"
    }
   ],
   "source": [
    "interact(plot_val, a = a_widget, b = b_widget, c = c_widget)"
   ]
  },
  {
   "cell_type": "code",
   "execution_count": 77,
   "metadata": {
    "scrolled": true
   },
   "outputs": [
    {
     "name": "stdout",
     "output_type": "stream",
     "text": [
      "Requirement already up-to-date: ipywidgets in /usr/local/lib/python3.7/site-packages (7.5.1)\n",
      "Requirement already satisfied, skipping upgrade: ipykernel>=4.5.1 in /usr/local/lib/python3.7/site-packages (from ipywidgets) (5.1.2)\n",
      "Requirement already satisfied, skipping upgrade: nbformat>=4.2.0 in /usr/local/lib/python3.7/site-packages (from ipywidgets) (4.4.0)\n",
      "Requirement already satisfied, skipping upgrade: ipython>=4.0.0; python_version >= \"3.3\" in /usr/local/lib/python3.7/site-packages (from ipywidgets) (7.8.0)\n",
      "Requirement already satisfied, skipping upgrade: widgetsnbextension~=3.5.0 in /usr/local/lib/python3.7/site-packages (from ipywidgets) (3.5.1)\n",
      "Requirement already satisfied, skipping upgrade: traitlets>=4.3.1 in /usr/local/lib/python3.7/site-packages (from ipywidgets) (4.3.2)\n",
      "Requirement already satisfied, skipping upgrade: jupyter-client in /usr/local/lib/python3.7/site-packages (from ipykernel>=4.5.1->ipywidgets) (5.3.1)\n",
      "Requirement already satisfied, skipping upgrade: tornado>=4.2 in /usr/local/lib/python3.7/site-packages (from ipykernel>=4.5.1->ipywidgets) (6.0.3)\n",
      "Requirement already satisfied, skipping upgrade: jupyter-core in /usr/local/lib/python3.7/site-packages (from nbformat>=4.2.0->ipywidgets) (4.5.0)\n",
      "Requirement already satisfied, skipping upgrade: ipython-genutils in /usr/local/lib/python3.7/site-packages (from nbformat>=4.2.0->ipywidgets) (0.2.0)\n",
      "Requirement already satisfied, skipping upgrade: jsonschema!=2.5.0,>=2.4 in /usr/local/lib/python3.7/site-packages (from nbformat>=4.2.0->ipywidgets) (3.0.2)\n",
      "Requirement already satisfied, skipping upgrade: appnope; sys_platform == \"darwin\" in /usr/local/lib/python3.7/site-packages (from ipython>=4.0.0; python_version >= \"3.3\"->ipywidgets) (0.1.0)\n",
      "Requirement already satisfied, skipping upgrade: pexpect; sys_platform != \"win32\" in /usr/local/lib/python3.7/site-packages (from ipython>=4.0.0; python_version >= \"3.3\"->ipywidgets) (4.7.0)\n",
      "Requirement already satisfied, skipping upgrade: prompt-toolkit<2.1.0,>=2.0.0 in /usr/local/lib/python3.7/site-packages (from ipython>=4.0.0; python_version >= \"3.3\"->ipywidgets) (2.0.9)\n",
      "Requirement already satisfied, skipping upgrade: decorator in /usr/local/lib/python3.7/site-packages (from ipython>=4.0.0; python_version >= \"3.3\"->ipywidgets) (4.4.0)\n",
      "Requirement already satisfied, skipping upgrade: pygments in /usr/local/lib/python3.7/site-packages (from ipython>=4.0.0; python_version >= \"3.3\"->ipywidgets) (2.4.2)\n",
      "Requirement already satisfied, skipping upgrade: pickleshare in /usr/local/lib/python3.7/site-packages (from ipython>=4.0.0; python_version >= \"3.3\"->ipywidgets) (0.7.5)\n",
      "Requirement already satisfied, skipping upgrade: jedi>=0.10 in /usr/local/lib/python3.7/site-packages (from ipython>=4.0.0; python_version >= \"3.3\"->ipywidgets) (0.15.1)\n",
      "Requirement already satisfied, skipping upgrade: backcall in /usr/local/lib/python3.7/site-packages (from ipython>=4.0.0; python_version >= \"3.3\"->ipywidgets) (0.1.0)\n",
      "Requirement already satisfied, skipping upgrade: setuptools>=18.5 in /usr/local/lib/python3.7/site-packages (from ipython>=4.0.0; python_version >= \"3.3\"->ipywidgets) (41.2.0)\n",
      "Requirement already satisfied, skipping upgrade: notebook>=4.4.1 in /usr/local/lib/python3.7/site-packages (from widgetsnbextension~=3.5.0->ipywidgets) (6.0.1)\n",
      "Requirement already satisfied, skipping upgrade: six in /usr/local/lib/python3.7/site-packages (from traitlets>=4.3.1->ipywidgets) (1.12.0)\n",
      "Requirement already satisfied, skipping upgrade: python-dateutil>=2.1 in /usr/local/lib/python3.7/site-packages (from jupyter-client->ipykernel>=4.5.1->ipywidgets) (2.8.0)\n",
      "Requirement already satisfied, skipping upgrade: pyzmq>=13 in /usr/local/lib/python3.7/site-packages (from jupyter-client->ipykernel>=4.5.1->ipywidgets) (18.1.0)\n",
      "Requirement already satisfied, skipping upgrade: pyrsistent>=0.14.0 in /usr/local/lib/python3.7/site-packages (from jsonschema!=2.5.0,>=2.4->nbformat>=4.2.0->ipywidgets) (0.15.4)\n",
      "Requirement already satisfied, skipping upgrade: attrs>=17.4.0 in /usr/local/lib/python3.7/site-packages (from jsonschema!=2.5.0,>=2.4->nbformat>=4.2.0->ipywidgets) (19.1.0)\n",
      "Requirement already satisfied, skipping upgrade: ptyprocess>=0.5 in /usr/local/lib/python3.7/site-packages (from pexpect; sys_platform != \"win32\"->ipython>=4.0.0; python_version >= \"3.3\"->ipywidgets) (0.6.0)\n",
      "Requirement already satisfied, skipping upgrade: wcwidth in /usr/local/lib/python3.7/site-packages (from prompt-toolkit<2.1.0,>=2.0.0->ipython>=4.0.0; python_version >= \"3.3\"->ipywidgets) (0.1.7)\n",
      "Requirement already satisfied, skipping upgrade: parso>=0.5.0 in /usr/local/lib/python3.7/site-packages (from jedi>=0.10->ipython>=4.0.0; python_version >= \"3.3\"->ipywidgets) (0.5.1)\n",
      "Requirement already satisfied, skipping upgrade: Send2Trash in /usr/local/lib/python3.7/site-packages (from notebook>=4.4.1->widgetsnbextension~=3.5.0->ipywidgets) (1.5.0)\n",
      "Requirement already satisfied, skipping upgrade: prometheus-client in /usr/local/lib/python3.7/site-packages (from notebook>=4.4.1->widgetsnbextension~=3.5.0->ipywidgets) (0.7.1)\n",
      "Requirement already satisfied, skipping upgrade: jinja2 in /usr/local/lib/python3.7/site-packages (from notebook>=4.4.1->widgetsnbextension~=3.5.0->ipywidgets) (2.10.1)\n",
      "Requirement already satisfied, skipping upgrade: nbconvert in /usr/local/lib/python3.7/site-packages (from notebook>=4.4.1->widgetsnbextension~=3.5.0->ipywidgets) (5.6.0)\n",
      "Requirement already satisfied, skipping upgrade: terminado>=0.8.1 in /usr/local/lib/python3.7/site-packages (from notebook>=4.4.1->widgetsnbextension~=3.5.0->ipywidgets) (0.8.2)\n",
      "Requirement already satisfied, skipping upgrade: MarkupSafe>=0.23 in /usr/local/lib/python3.7/site-packages (from jinja2->notebook>=4.4.1->widgetsnbextension~=3.5.0->ipywidgets) (1.1.1)\n",
      "Requirement already satisfied, skipping upgrade: bleach in /usr/local/lib/python3.7/site-packages (from nbconvert->notebook>=4.4.1->widgetsnbextension~=3.5.0->ipywidgets) (3.1.0)\n",
      "Requirement already satisfied, skipping upgrade: entrypoints>=0.2.2 in /usr/local/lib/python3.7/site-packages (from nbconvert->notebook>=4.4.1->widgetsnbextension~=3.5.0->ipywidgets) (0.3)\n",
      "Requirement already satisfied, skipping upgrade: pandocfilters>=1.4.1 in /usr/local/lib/python3.7/site-packages (from nbconvert->notebook>=4.4.1->widgetsnbextension~=3.5.0->ipywidgets) (1.4.2)\n",
      "Requirement already satisfied, skipping upgrade: mistune<2,>=0.8.1 in /usr/local/lib/python3.7/site-packages (from nbconvert->notebook>=4.4.1->widgetsnbextension~=3.5.0->ipywidgets) (0.8.4)\n",
      "Requirement already satisfied, skipping upgrade: defusedxml in /usr/local/lib/python3.7/site-packages (from nbconvert->notebook>=4.4.1->widgetsnbextension~=3.5.0->ipywidgets) (0.6.0)\n",
      "Requirement already satisfied, skipping upgrade: testpath in /usr/local/lib/python3.7/site-packages (from nbconvert->notebook>=4.4.1->widgetsnbextension~=3.5.0->ipywidgets) (0.4.2)\n",
      "Requirement already satisfied, skipping upgrade: webencodings in /usr/local/lib/python3.7/site-packages (from bleach->nbconvert->notebook>=4.4.1->widgetsnbextension~=3.5.0->ipywidgets) (0.5.1)\n"
     ]
    }
   ],
   "source": [
    "!pip install --upgrade ipywidgets"
   ]
  },
  {
   "cell_type": "code",
   "execution_count": 1,
   "metadata": {},
   "outputs": [],
   "source": [
    "import sys\n",
    "from sys import platform\n",
    "if platform  == 'win32':\n",
    "    sys.argv=[\"_\", r\"P:\\rmahajan14\\capstone_data\\data\", r\"P:\\rmahajan14\\capstone_data\\cache\"]\n",
    "if platform == 'linux' or platform == 'linux2':\n",
    "    def full_path(p):\n",
    "        return os.path.abspath(os.path.expanduser(p))\n",
    "    sys.argv=[\"_\", r\"/mnt/d/DiDi_Ride_Data/data\", r\"/mnt/d/DiDi_Ride_Data/Ride_Data_Cache\"]"
   ]
  },
  {
   "cell_type": "code",
   "execution_count": 2,
   "metadata": {},
   "outputs": [],
   "source": [
    "import matplotlib.pyplot as plt\n",
    "%load_ext autoreload\n",
    "%autoreload 2"
   ]
  },
  {
   "cell_type": "code",
   "execution_count": 3,
   "metadata": {},
   "outputs": [],
   "source": [
    "from loader1 import *\n",
    "from utils import *\n",
    "from common import *\n",
    "from experiment2 import *\n",
    "# from sys import platform\n",
    "\n",
    "import warnings\n",
    "warnings.filterwarnings('ignore')"
   ]
  },
  {
   "cell_type": "code",
   "execution_count": 4,
   "metadata": {},
   "outputs": [],
   "source": [
    "import time"
   ]
  },
  {
   "cell_type": "code",
   "execution_count": 5,
   "metadata": {},
   "outputs": [
    {
     "name": "stdout",
     "output_type": "stream",
     "text": [
      "../Ride_Data_Cache/merged_orders.msgpack exists\n"
     ]
    }
   ],
   "source": [
    "start = '2016-11-01'\n",
    "end = '2016-11-30'\n",
    "orders = merge_order_df(start=start, end=end)"
   ]
  },
  {
   "cell_type": "code",
   "execution_count": 6,
   "metadata": {},
   "outputs": [],
   "source": [
    "driver_start_times = orders.loc[:, ['driver_id', 'ride_start_timestamp', 'ride_stop_timestamp', 'order_id']]\\\n",
    "            .drop_duplicates()\n",
    "\n",
    "driver_start_times.sort_values(['driver_id', 'ride_start_timestamp'],\n",
    "                               inplace=True)\n",
    "\n",
    "driver_start_times['start_time_shifted'] = driver_start_times.groupby(\n",
    "    'driver_id')['ride_start_timestamp'].shift(-1)\n",
    "\n",
    "driver_start_times['diff'] = driver_start_times['start_time_shifted'] - driver_start_times['ride_stop_timestamp']\n",
    "\n",
    "driver_start_times_no_na = driver_start_times.dropna()\n",
    "\n",
    "driver_start_times_no_na['diff'] = driver_start_times_no_na['diff'].dt.total_seconds() / 60\n",
    "\n",
    "driver_start_times_no_na['hour'] = driver_start_times_no_na.ride_stop_timestamp.dt.hour\n",
    "\n",
    "tau = driver_start_times_no_na['diff'].median()\n",
    "\n",
    "driver_start_times_no_na['new_diff'] = np.maximum(0, (driver_start_times_no_na['diff'] - tau))\n",
    "\n",
    "stop_times = driver_start_times_no_na.ride_stop_timestamp\n",
    "driver_start_times_no_na['total_hour'] = (stop_times.dt.hour * 3600 + stop_times.dt.minute * 60 + stop_times.dt.second) / 3600\n",
    "\n",
    "# Modeling lambda\n",
    "stats_df = driver_start_times_no_na.groupby('hour')['new_diff'].agg(['count', 'mean']).reset_index()\n",
    "stats_df['count'] = stats_df['count'] / 10**7"
   ]
  },
  {
   "cell_type": "code",
   "execution_count": 20,
   "metadata": {},
   "outputs": [],
   "source": [
    "from scipy import exp\n",
    "\n",
    "def f(x, a, b):\n",
    "    return 1/(a+exp(b*x))"
   ]
  },
  {
   "cell_type": "code",
   "execution_count": 35,
   "metadata": {},
   "outputs": [],
   "source": [
    "x = np.array(range(-10, 10, 1))from scipy import exp\n",
    "\n",
    "def f(x, a, b):\n",
    "    return 1/(a+exp(b*x))"
   ]
  },
  {
   "cell_type": "code",
   "execution_count": 36,
   "metadata": {},
   "outputs": [],
   "source": [
    "y = f(x, a=1, b=2)"
   ]
  },
  {
   "cell_type": "code",
   "execution_count": 37,
   "metadata": {},
   "outputs": [
    {
     "data": {
      "text/plain": [
       "[<matplotlib.lines.Line2D at 0x133cd95d0>]"
      ]
     },
     "execution_count": 37,
     "metadata": {},
     "output_type": "execute_result"
    },
    {
     "data": {
      "image/png": "[encoded data removed]",
      "text/plain": [
       "<Figure size 432x288 with 1 Axes>"
      ]
     },
     "metadata": {
      "needs_background": "light"
     },
     "output_type": "display_data"
    }
   ],
   "source": [
    "plt.plot(x, y)"
   ]
  },
  {
   "cell_type": "code",
   "execution_count": 38,
   "metadata": {},
   "outputs": [],
   "source": [
    "y = f(x, a=1, b=100)"
   ]
  },
  {
   "cell_type": "code",
   "execution_count": 39,
   "metadata": {},
   "outputs": [
    {
     "data": {
      "text/plain": [
       "[<matplotlib.lines.Line2D at 0x133e195d0>]"
      ]
     },
     "execution_count": 39,
     "metadata": {},
     "output_type": "execute_result"
    },
    {
     "data": {
      "image/png": "[encoded data removed]",
      "text/plain": [
       "<Figure size 432x288 with 1 Axes>"
      ]
     },
     "metadata": {
      "needs_background": "light"
     },
     "output_type": "display_data"
    }
   ],
   "source": [
    "plt.plot(x, y)"
   ]
  },
  {
   "cell_type": "code",
   "execution_count": 40,
   "metadata": {},
   "outputs": [],
   "source": [
    "y = f(x, a=10, b=1)"
   ]
  },
  {
   "cell_type": "code",
   "execution_count": 41,
   "metadata": {},
   "outputs": [
    {
     "data": {
      "text/plain": [
       "[<matplotlib.lines.Line2D at 0x1354d85d0>]"
      ]
     },
     "execution_count": 41,
     "metadata": {},
     "output_type": "execute_result"
    },
    {
     "data": {
      "image/png": "[encoded data removed]",
      "text/plain": [
       "<Figure size 432x288 with 1 Axes>"
      ]
     },
     "metadata": {
      "needs_background": "light"
     },
     "output_type": "display_data"
    }
   ],
   "source": [
    "plt.plot(x, y)"
   ]
  },
  {
   "cell_type": "code",
   "execution_count": 42,
   "metadata": {},
   "outputs": [],
   "source": [
    "a = [1, 5, 10, 30, 50]\n",
    "b = 1"
   ]
  },
  {
   "cell_type": "code",
   "execution_count": 44,
   "metadata": {},
   "outputs": [
    {
     "data": {
      "image/png": "[encoded data removed]",
      "text/plain": [
       "<Figure size 432x288 with 1 Axes>"
      ]
     },
     "metadata": {
      "needs_background": "light"
     },
     "output_type": "display_data"
    }
   ],
   "source": [
    "for i in a:\n",
    "    y = f(x, a=i, b=b)\n",
    "    plt.plot(x, y, label=i)\n",
    "plt.legend()\n",
    "plt.show()"
   ]
  },
  {
   "cell_type": "code",
   "execution_count": 49,
   "metadata": {},
   "outputs": [],
   "source": [
    "b = [1, 2, 3, 5]\n",
    "a = 1"
   ]
  },
  {
   "cell_type": "code",
   "execution_count": 50,
   "metadata": {},
   "outputs": [
    {
     "data": {
      "image/png": "[encoded data removed]",
      "text/plain": [
       "<Figure size 432x288 with 1 Axes>"
      ]
     },
     "metadata": {
      "needs_background": "light"
     },
     "output_type": "display_data"
    }
   ],
   "source": [
    "plt.figure(2)\n",
    "for i in b:\n",
    "    y = f(x, a=a, b=i)\n",
    "    plt.plot(x, y, label=i)\n",
    "plt.legend()\n",
    "plt.show()"
   ]
  },
  {
   "cell_type": "code",
   "execution_count": 51,
   "metadata": {},
   "outputs": [],
   "source": [
    "b = [-100, 100]\n",
    "a = 1"
   ]
  },
  {
   "cell_type": "code",
   "execution_count": 52,
   "metadata": {},
   "outputs": [
    {
     "data": {
      "image/png": "[encoded data removed]",
      "text/plain": [
       "<Figure size 432x288 with 1 Axes>"
      ]
     },
     "metadata": {
      "needs_background": "light"
     },
     "output_type": "display_data"
    }
   ],
   "source": [
    "plt.figure(3)\n",
    "for i in b:\n",
    "    y = f(x, a=a, b=i)\n",
    "    plt.plot(x, y, label=i)\n",
    "plt.legend()\n",
    "plt.show()"
   ]
  },
  {
   "cell_type": "code",
   "execution_count": 53,
   "metadata": {},
   "outputs": [],
   "source": [
    "a = [0.01, 1]\n",
    "b = [1, 2, 3, 5]"
   ]
  },
  {
   "cell_type": "code",
   "execution_count": 58,
   "metadata": {},
   "outputs": [],
   "source": [
    "def plot_val(a, b):\n",
    "    for i in a:\n",
    "        for j in b:\n",
    "            y = f(x, a=i, b=j)\n",
    "            plt.plot(x, y, label=\"a =\" + str(i) + \" b= \" + str(j))\n",
    "    plt.legend()\n",
    "    plt.show()"
   ]
  },
  {
   "cell_type": "code",
   "execution_count": 60,
   "metadata": {},
   "outputs": [
    {
     "data": {
      "image/png": "[encoded data removed]",
      "text/plain": [
       "<Figure size 432x288 with 1 Axes>"
      ]
     },
     "metadata": {
      "needs_background": "light"
     },
     "output_type": "display_data"
    }
   ],
   "source": [
    "a = [0.01]\n",
    "b = [1, 2, 3, 5]\n",
    "plot_val(a, b)"
   ]
  },
  {
   "cell_type": "code",
   "execution_count": 61,
   "metadata": {},
   "outputs": [
    {
     "data": {
      "image/png": "[encoded data removed]",
      "text/plain": [
       "<Figure size 432x288 with 1 Axes>"
      ]
     },
     "metadata": {
      "needs_background": "light"
     },
     "output_type": "display_data"
    }
   ],
   "source": [
    "a = [1]\n",
    "b = [1, 2, 3, 5]\n",
    "plot_val(a, b)"
   ]
  },
  {
   "cell_type": "code",
   "execution_count": 63,
   "metadata": {},
   "outputs": [],
   "source": [
    "ids = ['fc4b5a38298fb5a915d0728c8fc589a6', '7ece2b157a7b327d3ea67b073e5897ae', 'a91ec20642b71e2a5908940e4658b13a']\n",
    "\n",
    "val = orders[orders['driver_id'].isin(ids)].sort_values(['driver_id', 'ride_start_timestamp'])"
   ]
  },
  {
   "cell_type": "code",
   "execution_count": 64,
   "metadata": {},
   "outputs": [
    {
     "data": {
      "text/html": [
       "<div>\n",
       "<style scoped>\n",
       "    .dataframe tbody tr th:only-of-type {\n",
       "        vertical-align: middle;\n",
       "    }\n",
       "\n",
       "    .dataframe tbody tr th {\n",
       "        vertical-align: top;\n",
       "    }\n",
       "\n",
       "    .dataframe thead th {\n",
       "        text-align: right;\n",
       "    }\n",
       "</style>\n",
       "<table border=\"1\" class=\"dataframe\">\n",
       "  <thead>\n",
       "    <tr style=\"text-align: right;\">\n",
       "      <th></th>\n",
       "      <th>order_id</th>\n",
       "      <th>ride_start_timestamp</th>\n",
       "      <th>ride_stop_timestamp</th>\n",
       "      <th>pickup_longitude</th>\n",
       "      <th>pickup_latitude</th>\n",
       "      <th>dropoff_longitude</th>\n",
       "      <th>dropoff_latitude</th>\n",
       "      <th>ride_duration</th>\n",
       "      <th>driver_id</th>\n",
       "    </tr>\n",
       "  </thead>\n",
       "  <tbody>\n",
       "    <tr>\n",
       "      <td>124593</td>\n",
       "      <td>9218956f8fb2b6d8fba7dd237ccf9337</td>\n",
       "      <td>2016-11-26 01:13:22</td>\n",
       "      <td>2016-11-29 07:41:42</td>\n",
       "      <td>104.093277</td>\n",
       "      <td>30.714981</td>\n",
       "      <td>104.08297</td>\n",
       "      <td>30.77913</td>\n",
       "      <td>4708.333333</td>\n",
       "      <td>7ece2b157a7b327d3ea67b073e5897ae</td>\n",
       "    </tr>\n",
       "    <tr>\n",
       "      <td>61058</td>\n",
       "      <td>4d8994b8627d3ad5478a8fdfc8fc6940</td>\n",
       "      <td>2016-11-22 09:05:04</td>\n",
       "      <td>2016-11-22 09:22:21</td>\n",
       "      <td>104.145011</td>\n",
       "      <td>30.689225</td>\n",
       "      <td>104.04279</td>\n",
       "      <td>30.71717</td>\n",
       "      <td>17.283333</td>\n",
       "      <td>a91ec20642b71e2a5908940e4658b13a</td>\n",
       "    </tr>\n",
       "    <tr>\n",
       "      <td>64219</td>\n",
       "      <td>517d481c3655a533c441a21d8ca0c964</td>\n",
       "      <td>2016-11-22 09:29:53</td>\n",
       "      <td>2016-11-22 09:47:24</td>\n",
       "      <td>104.046590</td>\n",
       "      <td>30.714960</td>\n",
       "      <td>104.08226</td>\n",
       "      <td>30.70414</td>\n",
       "      <td>17.516667</td>\n",
       "      <td>a91ec20642b71e2a5908940e4658b13a</td>\n",
       "    </tr>\n",
       "    <tr>\n",
       "      <td>151456</td>\n",
       "      <td>c0ebf7e6c64719f58ef2e2e744f37d31</td>\n",
       "      <td>2016-11-22 09:54:36</td>\n",
       "      <td>2016-11-25 09:34:16</td>\n",
       "      <td>104.091810</td>\n",
       "      <td>30.707220</td>\n",
       "      <td>104.09662</td>\n",
       "      <td>30.66205</td>\n",
       "      <td>4299.666667</td>\n",
       "      <td>a91ec20642b71e2a5908940e4658b13a</td>\n",
       "    </tr>\n",
       "    <tr>\n",
       "      <td>101806</td>\n",
       "      <td>7f791f2aadf0e2e8653bbc12884974a6</td>\n",
       "      <td>2016-11-23 13:12:22</td>\n",
       "      <td>2016-11-27 15:31:43</td>\n",
       "      <td>104.103950</td>\n",
       "      <td>30.698570</td>\n",
       "      <td>104.10829</td>\n",
       "      <td>30.72055</td>\n",
       "      <td>5899.350000</td>\n",
       "      <td>fc4b5a38298fb5a915d0728c8fc589a6</td>\n",
       "    </tr>\n",
       "  </tbody>\n",
       "</table>\n",
       "</div>"
      ],
      "text/plain": [
       "                                order_id ride_start_timestamp  \\\n",
       "124593  9218956f8fb2b6d8fba7dd237ccf9337  2016-11-26 01:13:22   \n",
       "61058   4d8994b8627d3ad5478a8fdfc8fc6940  2016-11-22 09:05:04   \n",
       "64219   517d481c3655a533c441a21d8ca0c964  2016-11-22 09:29:53   \n",
       "151456  c0ebf7e6c64719f58ef2e2e744f37d31  2016-11-22 09:54:36   \n",
       "101806  7f791f2aadf0e2e8653bbc12884974a6  2016-11-23 13:12:22   \n",
       "\n",
       "       ride_stop_timestamp  pickup_longitude  pickup_latitude  \\\n",
       "124593 2016-11-29 07:41:42        104.093277        30.714981   \n",
       "61058  2016-11-22 09:22:21        104.145011        30.689225   \n",
       "64219  2016-11-22 09:47:24        104.046590        30.714960   \n",
       "151456 2016-11-25 09:34:16        104.091810        30.707220   \n",
       "101806 2016-11-27 15:31:43        104.103950        30.698570   \n",
       "\n",
       "        dropoff_longitude  dropoff_latitude  ride_duration  \\\n",
       "124593          104.08297          30.77913    4708.333333   \n",
       "61058           104.04279          30.71717      17.283333   \n",
       "64219           104.08226          30.70414      17.516667   \n",
       "151456          104.09662          30.66205    4299.666667   \n",
       "101806          104.10829          30.72055    5899.350000   \n",
       "\n",
       "                               driver_id  \n",
       "124593  7ece2b157a7b327d3ea67b073e5897ae  \n",
       "61058   a91ec20642b71e2a5908940e4658b13a  \n",
       "64219   a91ec20642b71e2a5908940e4658b13a  \n",
       "151456  a91ec20642b71e2a5908940e4658b13a  \n",
       "101806  fc4b5a38298fb5a915d0728c8fc589a6  "
      ]
     },
     "execution_count": 64,
     "metadata": {},
     "output_type": "execute_result"
    }
   ],
   "source": [
    "val.head(10)"
   ]
  },
  {
   "cell_type": "code",
   "execution_count": 67,
   "metadata": {},
   "outputs": [],
   "source": [
    "ids = ['fc4b5a38298fb5a915d0728c8fc589a6', '7ece2b157a7b327d3ea67b073e5897ae', 'a91ec20642b71e2a5908940e4658b13a']\n",
    "\n",
    "val = orders[orders['driver_id'].isin(ids)].sort_values(['driver_id', 'ride_start_timestamp'])"
   ]
  },
  {
   "cell_type": "code",
   "execution_count": 74,
   "metadata": {},
   "outputs": [
    {
     "data": {
      "text/html": [
       "<div>\n",
       "<style scoped>\n",
       "    .dataframe tbody tr th:only-of-type {\n",
       "        vertical-align: middle;\n",
       "    }\n",
       "\n",
       "    .dataframe tbody tr th {\n",
       "        vertical-align: top;\n",
       "    }\n",
       "\n",
       "    .dataframe thead th {\n",
       "        text-align: right;\n",
       "    }\n",
       "</style>\n",
       "<table border=\"1\" class=\"dataframe\">\n",
       "  <thead>\n",
       "    <tr style=\"text-align: right;\">\n",
       "      <th></th>\n",
       "      <th>pickup_latitude</th>\n",
       "      <th>pickup_longitude</th>\n",
       "    </tr>\n",
       "  </thead>\n",
       "  <tbody>\n",
       "    <tr>\n",
       "      <td>count</td>\n",
       "      <td>6.104724e+06</td>\n",
       "      <td>6.104724e+06</td>\n",
       "    </tr>\n",
       "    <tr>\n",
       "      <td>mean</td>\n",
       "      <td>3.067281e+01</td>\n",
       "      <td>1.040722e+02</td>\n",
       "    </tr>\n",
       "    <tr>\n",
       "      <td>std</td>\n",
       "      <td>3.883711e-02</td>\n",
       "      <td>4.190349e-02</td>\n",
       "    </tr>\n",
       "    <tr>\n",
       "      <td>min</td>\n",
       "      <td>3.017543e+01</td>\n",
       "      <td>1.032591e+02</td>\n",
       "    </tr>\n",
       "    <tr>\n",
       "      <td>25%</td>\n",
       "      <td>3.065439e+01</td>\n",
       "      <td>1.040498e+02</td>\n",
       "    </tr>\n",
       "    <tr>\n",
       "      <td>50%</td>\n",
       "      <td>3.067038e+01</td>\n",
       "      <td>1.040733e+02</td>\n",
       "    </tr>\n",
       "    <tr>\n",
       "      <td>75%</td>\n",
       "      <td>3.069183e+01</td>\n",
       "      <td>1.040977e+02</td>\n",
       "    </tr>\n",
       "    <tr>\n",
       "      <td>max</td>\n",
       "      <td>3.109166e+01</td>\n",
       "      <td>1.045900e+02</td>\n",
       "    </tr>\n",
       "  </tbody>\n",
       "</table>\n",
       "</div>"
      ],
      "text/plain": [
       "       pickup_latitude  pickup_longitude\n",
       "count     6.104724e+06      6.104724e+06\n",
       "mean      3.067281e+01      1.040722e+02\n",
       "std       3.883711e-02      4.190349e-02\n",
       "min       3.017543e+01      1.032591e+02\n",
       "25%       3.065439e+01      1.040498e+02\n",
       "50%       3.067038e+01      1.040733e+02\n",
       "75%       3.069183e+01      1.040977e+02\n",
       "max       3.109166e+01      1.045900e+02"
      ]
     },
     "execution_count": 74,
     "metadata": {},
     "output_type": "execute_result"
    }
   ],
   "source": [
    "orders[['pickup_latitude', 'pickup_longitude']].describe()"
   ]
  },
  {
   "cell_type": "code",
   "execution_count": 71,
   "metadata": {},
   "outputs": [
    {
     "data": {
      "text/plain": [
       "61058    30.689225\n",
       "64219    30.714960\n",
       "Name: pickup_latitude, dtype: float64"
      ]
     },
     "execution_count": 71,
     "metadata": {},
     "output_type": "execute_result"
    }
   ],
   "source": [
    "val['pickup_latitude']"
   ]
  },
  {
   "cell_type": "code",
   "execution_count": 68,
   "metadata": {},
   "outputs": [
    {
     "data": {
      "text/html": [
       "<div>\n",
       "<style scoped>\n",
       "    .dataframe tbody tr th:only-of-type {\n",
       "        vertical-align: middle;\n",
       "    }\n",
       "\n",
       "    .dataframe tbody tr th {\n",
       "        vertical-align: top;\n",
       "    }\n",
       "\n",
       "    .dataframe thead th {\n",
       "        text-align: right;\n",
       "    }\n",
       "</style>\n",
       "<table border=\"1\" class=\"dataframe\">\n",
       "  <thead>\n",
       "    <tr style=\"text-align: right;\">\n",
       "      <th></th>\n",
       "      <th>order_id</th>\n",
       "      <th>ride_start_timestamp</th>\n",
       "      <th>ride_stop_timestamp</th>\n",
       "      <th>pickup_longitude</th>\n",
       "      <th>pickup_latitude</th>\n",
       "      <th>dropoff_longitude</th>\n",
       "      <th>dropoff_latitude</th>\n",
       "      <th>ride_duration</th>\n",
       "      <th>driver_id</th>\n",
       "    </tr>\n",
       "  </thead>\n",
       "  <tbody>\n",
       "    <tr>\n",
       "      <td>61058</td>\n",
       "      <td>4d8994b8627d3ad5478a8fdfc8fc6940</td>\n",
       "      <td>2016-11-22 09:05:04</td>\n",
       "      <td>2016-11-22 09:22:21</td>\n",
       "      <td>104.145011</td>\n",
       "      <td>30.689225</td>\n",
       "      <td>104.04279</td>\n",
       "      <td>30.71717</td>\n",
       "      <td>17.283333</td>\n",
       "      <td>a91ec20642b71e2a5908940e4658b13a</td>\n",
       "    </tr>\n",
       "    <tr>\n",
       "      <td>64219</td>\n",
       "      <td>517d481c3655a533c441a21d8ca0c964</td>\n",
       "      <td>2016-11-22 09:29:53</td>\n",
       "      <td>2016-11-22 09:47:24</td>\n",
       "      <td>104.046590</td>\n",
       "      <td>30.714960</td>\n",
       "      <td>104.08226</td>\n",
       "      <td>30.70414</td>\n",
       "      <td>17.516667</td>\n",
       "      <td>a91ec20642b71e2a5908940e4658b13a</td>\n",
       "    </tr>\n",
       "  </tbody>\n",
       "</table>\n",
       "</div>"
      ],
      "text/plain": [
       "                               order_id ride_start_timestamp  \\\n",
       "61058  4d8994b8627d3ad5478a8fdfc8fc6940  2016-11-22 09:05:04   \n",
       "64219  517d481c3655a533c441a21d8ca0c964  2016-11-22 09:29:53   \n",
       "\n",
       "      ride_stop_timestamp  pickup_longitude  pickup_latitude  \\\n",
       "61058 2016-11-22 09:22:21        104.145011        30.689225   \n",
       "64219 2016-11-22 09:47:24        104.046590        30.714960   \n",
       "\n",
       "       dropoff_longitude  dropoff_latitude  ride_duration  \\\n",
       "61058          104.04279          30.71717      17.283333   \n",
       "64219          104.08226          30.70414      17.516667   \n",
       "\n",
       "                              driver_id  \n",
       "61058  a91ec20642b71e2a5908940e4658b13a  \n",
       "64219  a91ec20642b71e2a5908940e4658b13a  "
      ]
     },
     "execution_count": 68,
     "metadata": {},
     "output_type": "execute_result"
    }
   ],
   "source": [
    "val.head(10)"
   ]
  }
 ],
 "metadata": {
  "kernelspec": {
   "display_name": "Python 3",
   "language": "python",
   "name": "python3"
  },
  "language_info": {
   "codemirror_mode": {
    "name": "ipython",
    "version": 3
   },
   "file_extension": ".py",
   "mimetype": "text/x-python",
   "name": "python",
   "nbconvert_exporter": "python",
   "pygments_lexer": "ipython3",
   "version": "3.7.4"
  }
 },
 "nbformat": 4,
 "nbformat_minor": 2
}
