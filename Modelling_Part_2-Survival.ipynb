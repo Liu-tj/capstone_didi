{
 "cells": [
  {
   "cell_type": "code",
   "execution_count": 1,
   "metadata": {},
   "outputs": [],
   "source": [
    "import sys\n",
    "from sys import platform\n",
    "if platform  == 'win32':\n",
    "    sys.argv=[\"_\", r\"P:\\rmahajan14\\capstone_data\\data\", r\"P:\\rmahajan14\\capstone_data\\cache\"]\n",
    "if platform == 'linux' or platform == 'linux2':\n",
    "    def full_path(p):\n",
    "        return os.path.abspath(os.path.expanduser(p))\n",
    "    sys.argv=[\"_\", r\"/mnt/d/DiDi_Ride_Data/data\", r\"/mnt/d/DiDi_Ride_Data/Ride_Data_Cache\"]"
   ]
  },
  {
   "cell_type": "code",
   "execution_count": 2,
   "metadata": {},
   "outputs": [],
   "source": [
    "import matplotlib.pyplot as plt\n",
    "%load_ext autoreload\n",
    "%autoreload 2"
   ]
  },
  {
   "cell_type": "code",
   "execution_count": 3,
   "metadata": {},
   "outputs": [],
   "source": [
    "from loader1 import *\n",
    "from utils import *\n",
    "from common import *\n",
    "from experiment2 import *\n",
    "# from sys import platform\n",
    "\n",
    "import warnings\n",
    "warnings.filterwarnings('ignore')"
   ]
  },
  {
   "cell_type": "code",
   "execution_count": 4,
   "metadata": {},
   "outputs": [],
   "source": [
    "import time"
   ]
  },
  {
   "cell_type": "markdown",
   "metadata": {},
   "source": [
    "Basic Coding "
   ]
  },
  {
   "cell_type": "code",
   "execution_count": 23,
   "metadata": {},
   "outputs": [],
   "source": [
    "spatial_type = 'radial'"
   ]
  },
  {
   "cell_type": "code",
   "execution_count": 24,
   "metadata": {
    "scrolled": false
   },
   "outputs": [
    {
     "name": "stdout",
     "output_type": "stream",
     "text": [
      "file path is ../Ride_Data_Cache/order_20161101.msgpack\n",
      "file path is ../Ride_Data_Cache/order_20161102.msgpack\n",
      "file path is ../Ride_Data_Cache/order_20161103.msgpack\n",
      "file path is ../Ride_Data_Cache/order_20161104.msgpack\n",
      "file path is ../Ride_Data_Cache/order_20161105.msgpack\n",
      "file path is ../Ride_Data_Cache/order_20161106.msgpack\n",
      "file path is ../Ride_Data_Cache/order_20161107.msgpack\n",
      "file path is ../Ride_Data_Cache/order_20161108.msgpack\n",
      "file path is ../Ride_Data_Cache/order_20161109.msgpack\n",
      "file path is ../Ride_Data_Cache/order_20161110.msgpack\n",
      "file path is ../Ride_Data_Cache/order_20161111.msgpack\n",
      "file path is ../Ride_Data_Cache/order_20161112.msgpack\n",
      "file path is ../Ride_Data_Cache/order_20161113.msgpack\n",
      "file path is ../Ride_Data_Cache/order_20161114.msgpack\n",
      "file path is ../Ride_Data_Cache/order_20161115.msgpack\n",
      "file path is ../Ride_Data_Cache/order_20161116.msgpack\n",
      "file path is ../Ride_Data_Cache/order_20161117.msgpack\n",
      "file path is ../Ride_Data_Cache/order_20161118.msgpack\n",
      "file path is ../Ride_Data_Cache/order_20161119.msgpack\n",
      "file path is ../Ride_Data_Cache/order_20161120.msgpack\n",
      "file path is ../Ride_Data_Cache/order_20161121.msgpack\n",
      "file path is ../Ride_Data_Cache/order_20161122.msgpack\n",
      "file path is ../Ride_Data_Cache/order_20161123.msgpack\n",
      "file path is ../Ride_Data_Cache/order_20161124.msgpack\n",
      "file path is ../Ride_Data_Cache/order_20161125.msgpack\n",
      "file path is ../Ride_Data_Cache/order_20161126.msgpack\n",
      "file path is ../Ride_Data_Cache/order_20161127.msgpack\n",
      "file path is ../Ride_Data_Cache/order_20161128.msgpack\n",
      "file path is ../Ride_Data_Cache/order_20161129.msgpack\n",
      "file path is ../Ride_Data_Cache/order_20161130.msgpack\n",
      "Dumping to ../Ride_Data_Cache/merged_orders.msgpack\n",
      "orders\n",
      "Decay Calculation\n",
      "No Decay\n",
      "Dumping to ../Ride_Data_Cache/active_times.msgpack\n",
      "Decay Calculation done in 118.87836289405823\n",
      "1e\n",
      "../Ride_Data_Cache/merged_orders.msgpack exists\n",
      "a\n",
      "b\n",
      "Dumping to ../Ride_Data_Cache/groupby1.msgpack\n",
      "b\n",
      "Dumping to ../Ride_Data_Cache/groupby2.msgpack\n",
      "802.4288277626038\n",
      "c\n",
      "d\n",
      "Dumping to ../Ride_Data_Cache/features_orders.msgpack\n",
      "Features created in 837.3478589057922\n",
      "1f\n",
      "center is  410490.442183303 3392253.2150809667\n",
      "checking bins name  r_radial 10\n",
      "                           order_id ride_start_timestamp ride_stop_timestamp  \\\n",
      "0  00003ad9f837aca8ecdb9ae0729d0866  2016-11-01 14:35:44 2016-11-01 14:48:01   \n",
      "1  0000c5bb7976b3dfe0fefa060265bdca  2016-11-01 15:06:22 2016-11-01 15:33:26   \n",
      "2  0000f2c8aa21f2599a82923f317334bc  2016-11-01 19:38:49 2016-11-01 19:50:28   \n",
      "3  000102a3f8b31b3bc888572108888727  2016-11-01 11:22:02 2016-11-01 11:50:06   \n",
      "4  00017e395c1e449231b86f9149a793e5  2016-11-01 00:19:20 2016-11-01 00:34:41   \n",
      "\n",
      "   pickup_longitude  pickup_latitude  dropoff_longitude  dropoff_latitude  \\\n",
      "0        104.107101        30.699385         104.054980         30.688850   \n",
      "1        104.065170        30.702790         104.068280         30.666830   \n",
      "2        104.050859        30.687837         104.057100         30.662350   \n",
      "3        104.012450        30.622080         104.049190         30.755740   \n",
      "4        104.092920        30.685830         103.990711         30.670803   \n",
      "\n",
      "   ride_duration                         driver_id        xpickup  \\\n",
      "0      12.283333  64ee983f9979db09cb2586ec3893c467  414490.551213   \n",
      "1      27.066667  19aa2c3cb2b05daf4ed06a3849c2c43c  410477.958962   \n",
      "2      11.650000  15045dc2301012dda9cb8e98f4723efd  409093.420880   \n",
      "3      28.066667  53332bf0536f84453f0ab40a91774101  405350.470414   \n",
      "4      15.350000  0dafbd548725f540988c5aa2554d782e  413120.297325   \n",
      "\n",
      "        ypickup       x_diff       y_diff     r_radial  theta_radial  \\\n",
      "0  3.396627e+06  4000.109030  4373.982256  5927.275346     47.556354   \n",
      "1  3.397037e+06   -12.483221  4784.051447  4784.067734     90.149504   \n",
      "2  3.395392e+06 -1397.021304  3138.357581  3435.252077    113.995954   \n",
      "3  3.388136e+06 -5139.971770 -4117.569274  6585.870217   -141.302204   \n",
      "4  3.395136e+06  2629.855142  2882.620424  3902.004430     47.625363   \n",
      "\n",
      "           r_radial_bin  \n",
      "0  (5824.437, 7010.799]  \n",
      "1  (4199.032, 4945.124]  \n",
      "2  (2813.241, 3511.706]  \n",
      "3  (5824.437, 7010.799]  \n",
      "4  (3511.706, 4199.032]  \n",
      "checking bins name  theta_radial 10\n",
      "                           order_id ride_start_timestamp ride_stop_timestamp  \\\n",
      "0  00003ad9f837aca8ecdb9ae0729d0866  2016-11-01 14:35:44 2016-11-01 14:48:01   \n",
      "1  0000c5bb7976b3dfe0fefa060265bdca  2016-11-01 15:06:22 2016-11-01 15:33:26   \n",
      "2  0000f2c8aa21f2599a82923f317334bc  2016-11-01 19:38:49 2016-11-01 19:50:28   \n",
      "3  000102a3f8b31b3bc888572108888727  2016-11-01 11:22:02 2016-11-01 11:50:06   \n",
      "4  00017e395c1e449231b86f9149a793e5  2016-11-01 00:19:20 2016-11-01 00:34:41   \n",
      "\n",
      "   pickup_longitude  pickup_latitude  dropoff_longitude  dropoff_latitude  \\\n",
      "0        104.107101        30.699385         104.054980         30.688850   \n",
      "1        104.065170        30.702790         104.068280         30.666830   \n",
      "2        104.050859        30.687837         104.057100         30.662350   \n",
      "3        104.012450        30.622080         104.049190         30.755740   \n",
      "4        104.092920        30.685830         103.990711         30.670803   \n",
      "\n",
      "   ride_duration                         driver_id        xpickup  \\\n",
      "0      12.283333  64ee983f9979db09cb2586ec3893c467  414490.551213   \n",
      "1      27.066667  19aa2c3cb2b05daf4ed06a3849c2c43c  410477.958962   \n",
      "2      11.650000  15045dc2301012dda9cb8e98f4723efd  409093.420880   \n",
      "3      28.066667  53332bf0536f84453f0ab40a91774101  405350.470414   \n",
      "4      15.350000  0dafbd548725f540988c5aa2554d782e  413120.297325   \n",
      "\n",
      "        ypickup       x_diff       y_diff     r_radial  theta_radial  \\\n",
      "0  3.396627e+06  4000.109030  4373.982256  5927.275346     47.556354   \n",
      "1  3.397037e+06   -12.483221  4784.051447  4784.067734     90.149504   \n",
      "2  3.395392e+06 -1397.021304  3138.357581  3435.252077    113.995954   \n",
      "3  3.388136e+06 -5139.971770 -4117.569274  6585.870217   -141.302204   \n",
      "4  3.395136e+06  2629.855142  2882.620424  3902.004430     47.625363   \n",
      "\n",
      "           r_radial_bin     theta_radial_bin  \n",
      "0  (5824.437, 7010.799]     (38.147, 60.214]  \n",
      "1  (4199.032, 4945.124]    (88.383, 111.762]  \n",
      "2  (2813.241, 3511.706]    (111.762, 137.56]  \n",
      "3  (5824.437, 7010.799]  (-180.001, -99.688]  \n",
      "4  (3511.706, 4199.032]     (38.147, 60.214]  \n",
      "Dumping to ../Ride_Data_Cache/radial_spatial_df.msgpack\n",
      "spatial\n",
      "Spatial Calculation done in 108.3679130077362\n"
     ]
    }
   ],
   "source": [
    "df_final_no_decay, target_df_no_decay = get_final_df_reg(use_cache=True, decay='No Decay', spatial_type=spatial_type)"
   ]
  },
  {
   "cell_type": "code",
   "execution_count": 25,
   "metadata": {
    "scrolled": true
   },
   "outputs": [
    {
     "name": "stdout",
     "output_type": "stream",
     "text": [
      "../Ride_Data_Cache/merged_orders.msgpack exists\n",
      "orders\n",
      "Decay Calculation\n",
      "Old Decay\n",
      "Creating the exponential decay\n",
      "Dumping to ../Ride_Data_Cache/idle_times_old.msgpack\n",
      "Decay Calculation done in 53.90809917449951\n",
      "1e\n",
      "../Ride_Data_Cache/features_orders.msgpack exists\n",
      "Features created in 0.8068151473999023\n",
      "1f\n",
      "../Ride_Data_Cache/radial_spatial_df.msgpack exists\n",
      "spatial\n",
      "Spatial Calculation done in 3.6069700717926025\n"
     ]
    }
   ],
   "source": [
    "df_final_old_decay, target_df_old_decay = get_final_df_reg(use_cache=True, decay='Old Decay',spatial_type=spatial_type)"
   ]
  },
  {
   "cell_type": "code",
   "execution_count": 26,
   "metadata": {
    "scrolled": true
   },
   "outputs": [
    {
     "name": "stdout",
     "output_type": "stream",
     "text": [
      "../Ride_Data_Cache/merged_orders.msgpack exists\n",
      "orders\n",
      "Decay Calculation\n",
      "New Decay\n",
      "Creating the exponential decay\n",
      "Dumping to ../Ride_Data_Cache/idle_times_new_1.msgpack\n",
      "Decay Calculation done in 54.064675092697144\n",
      "1e\n",
      "../Ride_Data_Cache/features_orders.msgpack exists\n",
      "Features created in 0.8336372375488281\n",
      "1f\n",
      "../Ride_Data_Cache/radial_spatial_df.msgpack exists\n",
      "spatial\n",
      "Spatial Calculation done in 3.5006508827209473\n",
      "../Ride_Data_Cache/merged_orders.msgpack exists\n",
      "orders\n",
      "Decay Calculation\n",
      "New Decay\n",
      "Creating the exponential decay\n",
      "Dumping to ../Ride_Data_Cache/idle_times_new_10.msgpack\n",
      "Decay Calculation done in 57.3330340385437\n",
      "1e\n",
      "../Ride_Data_Cache/features_orders.msgpack exists\n",
      "Features created in 0.8815009593963623\n",
      "1f\n",
      "../Ride_Data_Cache/radial_spatial_df.msgpack exists\n",
      "spatial\n",
      "Spatial Calculation done in 4.443143844604492\n",
      "../Ride_Data_Cache/merged_orders.msgpack exists\n",
      "orders\n",
      "Decay Calculation\n",
      "New Decay\n",
      "Creating the exponential decay\n",
      "Dumping to ../Ride_Data_Cache/idle_times_new_100.msgpack\n",
      "Decay Calculation done in 60.2325439453125\n",
      "1e\n",
      "../Ride_Data_Cache/features_orders.msgpack exists\n",
      "Features created in 0.8931820392608643\n",
      "1f\n",
      "../Ride_Data_Cache/radial_spatial_df.msgpack exists\n",
      "spatial\n",
      "Spatial Calculation done in 4.570261001586914\n"
     ]
    }
   ],
   "source": [
    "# Using the function create_modified_active_time_through_decay2 \n",
    "# instead of create_modified_active_time_through_decay\n",
    "df_final_new_decay1, target_df_new_decay1 = get_final_df_reg(use_cache=True, decay='New Decay', mult_factor=1, spatial_type=spatial_type)\n",
    "df_final_new_decay10, target_df_new_decay10 = get_final_df_reg(use_cache=True, decay='New Decay', mult_factor=10, spatial_type=spatial_type)\n",
    "df_final_new_decay100, target_df_new_decay100 = get_final_df_reg(use_cache=True, decay='New Decay', mult_factor=100, spatial_type=spatial_type)"
   ]
  },
  {
   "cell_type": "code",
   "execution_count": 144,
   "metadata": {
    "scrolled": true
   },
   "outputs": [
    {
     "name": "stdout",
     "output_type": "stream",
     "text": [
      "../Ride_Data_Cache/merged_orders.msgpack exists\n",
      "orders\n",
      "Decay Calculation\n",
      "Survival\n",
      "Creating the Survival Functions\n",
      "Dumping to ../Ride_Data_Cache/survival_probability_df.msgpack\n",
      "Decay Calculation done in 53.466230154037476\n",
      "1e\n",
      "../Ride_Data_Cache/features_orders.msgpack exists\n",
      "Features created in 0.811682939529419\n",
      "1f\n",
      "../Ride_Data_Cache/radial_spatial_df.msgpack exists\n",
      "spatial\n",
      "Spatial Calculation done in 4.3115150928497314\n"
     ]
    }
   ],
   "source": [
    "# Using the function create_modified_active_time_through_decay2 \n",
    "# instead of create_modified_active_time_through_decay\n",
    "df_final_new_decay_surv, target_df_new_decay_surv = get_final_df_reg(use_cache=True, decay='Survival', spatial_type=spatial_type)"
   ]
  },
  {
   "cell_type": "code",
   "execution_count": 145,
   "metadata": {},
   "outputs": [
    {
     "data": {
      "text/html": [
       "<div>\n",
       "<style scoped>\n",
       "    .dataframe tbody tr th:only-of-type {\n",
       "        vertical-align: middle;\n",
       "    }\n",
       "\n",
       "    .dataframe tbody tr th {\n",
       "        vertical-align: top;\n",
       "    }\n",
       "\n",
       "    .dataframe thead th {\n",
       "        text-align: right;\n",
       "    }\n",
       "</style>\n",
       "<table border=\"1\" class=\"dataframe\">\n",
       "  <thead>\n",
       "    <tr style=\"text-align: right;\">\n",
       "      <th></th>\n",
       "      <th>driver_id</th>\n",
       "      <th>ride_duration</th>\n",
       "      <th>survival_active_time</th>\n",
       "      <th>inactive_time</th>\n",
       "      <th>target</th>\n",
       "    </tr>\n",
       "  </thead>\n",
       "  <tbody>\n",
       "  </tbody>\n",
       "</table>\n",
       "</div>"
      ],
      "text/plain": [
       "Empty DataFrame\n",
       "Columns: [driver_id, ride_duration, survival_active_time, inactive_time, target]\n",
       "Index: []"
      ]
     },
     "execution_count": 145,
     "metadata": {},
     "output_type": "execute_result"
    }
   ],
   "source": [
    "target_df_new_decay_surv[target_df_new_decay_surv.target>1].head(2)"
   ]
  },
  {
   "cell_type": "code",
   "execution_count": 146,
   "metadata": {},
   "outputs": [
    {
     "data": {
      "text/plain": [
       "(0, 5)"
      ]
     },
     "execution_count": 146,
     "metadata": {},
     "output_type": "execute_result"
    }
   ],
   "source": [
    "target_df_new_decay_surv[target_df_new_decay_surv.target>1].shape"
   ]
  },
  {
   "cell_type": "code",
   "execution_count": 90,
   "metadata": {},
   "outputs": [
    {
     "data": {
      "text/plain": [
       "(12035, 5)"
      ]
     },
     "execution_count": 90,
     "metadata": {},
     "output_type": "execute_result"
    }
   ],
   "source": [
    "target_df_new_decay100[target_df_new_decay100.target>1.2].shape"
   ]
  },
  {
   "cell_type": "code",
   "execution_count": 147,
   "metadata": {},
   "outputs": [
    {
     "data": {
      "text/plain": [
       "0.0"
      ]
     },
     "execution_count": 147,
     "metadata": {},
     "output_type": "execute_result"
    }
   ],
   "source": [
    "target_df_new_decay_surv[target_df_new_decay_surv.survival_active_time ==0].shape[0]/target_df_new_decay_surv.shape[0]"
   ]
  },
  {
   "cell_type": "code",
   "execution_count": 148,
   "metadata": {},
   "outputs": [
    {
     "data": {
      "text/html": [
       "<div>\n",
       "<style scoped>\n",
       "    .dataframe tbody tr th:only-of-type {\n",
       "        vertical-align: middle;\n",
       "    }\n",
       "\n",
       "    .dataframe tbody tr th {\n",
       "        vertical-align: top;\n",
       "    }\n",
       "\n",
       "    .dataframe thead th {\n",
       "        text-align: right;\n",
       "    }\n",
       "</style>\n",
       "<table border=\"1\" class=\"dataframe\">\n",
       "  <thead>\n",
       "    <tr style=\"text-align: right;\">\n",
       "      <th></th>\n",
       "      <th>driver_id</th>\n",
       "      <th>ride_duration</th>\n",
       "      <th>survival_active_time</th>\n",
       "      <th>inactive_time</th>\n",
       "      <th>target</th>\n",
       "    </tr>\n",
       "  </thead>\n",
       "  <tbody>\n",
       "  </tbody>\n",
       "</table>\n",
       "</div>"
      ],
      "text/plain": [
       "Empty DataFrame\n",
       "Columns: [driver_id, ride_duration, survival_active_time, inactive_time, target]\n",
       "Index: []"
      ]
     },
     "execution_count": 148,
     "metadata": {},
     "output_type": "execute_result"
    }
   ],
   "source": [
    "target_df_new_decay_surv[target_df_new_decay_surv.survival_active_time ==0].head(3)"
   ]
  },
  {
   "cell_type": "code",
   "execution_count": 149,
   "metadata": {},
   "outputs": [],
   "source": [
    "val = list(target_df_new_decay_surv[target_df_new_decay_surv.survival_active_time ==0]['driver_id'])"
   ]
  },
  {
   "cell_type": "code",
   "execution_count": 150,
   "metadata": {},
   "outputs": [],
   "source": [
    "# start = '2016-11-01'\n",
    "# end = '2016-11-30'\n",
    "# orders = merge_order_df(start=start, end=end, use_cache=True)\n",
    "# target_df = get_surv_prob(orders, use_cache=True)"
   ]
  },
  {
   "cell_type": "code",
   "execution_count": 151,
   "metadata": {},
   "outputs": [],
   "source": [
    "# driver_start_times = orders.loc[:, ['driver_id', 'ride_start_timestamp',\n",
    "#                                             'ride_stop_timestamp', 'order_id']] \\\n",
    "#             .drop_duplicates()\n",
    "# driver_start_times.sort_values(['driver_id', 'ride_start_timestamp'],\n",
    "#                                inplace=True)\n",
    "# driver_start_times['stop_time_shifted'] = driver_start_times.groupby(\n",
    "#     'driver_id')['ride_stop_timestamp'].shift(1)\n",
    "# driver_start_times['diff'] = driver_start_times[\n",
    "#                                  'ride_start_timestamp'] - \\\n",
    "#                              driver_start_times['stop_time_shifted']\n",
    "\n",
    "# driver_start_times_no_na = driver_start_times.dropna()\n",
    "# driver_start_times_no_na['diff'] = driver_start_times_no_na[\n",
    "#                                        'diff'].dt.total_seconds() / 60"
   ]
  },
  {
   "cell_type": "code",
   "execution_count": 152,
   "metadata": {},
   "outputs": [],
   "source": [
    "# driver_start_times_no_na[driver_start_times_no_na.driver_id == '0000131d486b69eb77ab6e9e7cca9f4c']"
   ]
  },
  {
   "cell_type": "code",
   "execution_count": 153,
   "metadata": {},
   "outputs": [],
   "source": [
    "# rand_val = np.random.random(size=len(driver_start_times_no_na))\n",
    "# driver_start_times_no_na['survival_active_time'] = get_inv_cdf(rand_val, c=1)\n",
    "# driver_start_times_no_na['survival_active_time'] = np.minimum(np.maximum(driver_start_times_no_na['diff'],0), \n",
    "#                                                               driver_start_times_no_na['survival_active_time'])\n",
    "\n",
    "# # driver_start_times_no_na['survival_active_time'] = np.minimum(0, driver_start_times_no_na['survival_active_time'])"
   ]
  },
  {
   "cell_type": "code",
   "execution_count": 154,
   "metadata": {},
   "outputs": [],
   "source": [
    "# driver_start_times_no_na[driver_start_times_no_na.survival_active_time < 0]"
   ]
  },
  {
   "cell_type": "code",
   "execution_count": 155,
   "metadata": {},
   "outputs": [],
   "source": [
    "# driver_day_min = pd.DataFrame(orders.groupby('driver_id')['ride_start_timestamp'].min()).reset_index()\n",
    "# driver_day_max = pd.DataFrame(orders.groupby('driver_id')['ride_stop_timestamp'].max()).reset_index()\n",
    "# driver_active_time = driver_day_min.merge(driver_day_max, on='driver_id', how='left')\n",
    "# driver_active_time['active_time'] = (driver_active_time['ride_stop_timestamp'] \n",
    "#                                      - driver_active_time['ride_start_timestamp']).dt.total_seconds() / 60\n",
    "# ##\n",
    "\n",
    "# ##\n",
    "# driver_ride_durations = orders.groupby('driver_id')[['ride_duration']].sum().reset_index()\n",
    "# ##\n",
    "\n",
    "# ##\n",
    "# # total driver active time\n",
    "# driver_stats = driver_active_time[['driver_id', 'active_time']].merge(\n",
    "#     driver_ride_durations, on='driver_id', how='left')\n",
    "\n",
    "# ##\n",
    "# total_active_time = driver_start_times_no_na.groupby(\n",
    "#     'driver_id')['survival_active_time'].sum().reset_index()\n",
    "# ##\n",
    "\n",
    "\n",
    "# driver_stats_updated = driver_stats.merge(\n",
    "#     total_active_time[['driver_id', 'survival_active_time']],\n",
    "#     on='driver_id',\n",
    "#     how='left')\n",
    "\n",
    "\n",
    "# driver_stats_updated.loc[(pd.isnull(driver_stats_updated.survival_active_time)), \n",
    "#                          'survival_active_time'] = driver_stats_updated.active_time\n",
    "\n",
    "\n",
    "# driver_stats_updated['survival_active_time'] = driver_stats_updated['survival_active_time'] + \\\n",
    "#                                                        driver_stats_updated['ride_duration']\n",
    "\n",
    "\n",
    "# driver_stats_updated['inactive_time'] = driver_stats_updated[\n",
    "#                                                    'active_time'] - \\\n",
    "#                                                driver_stats_updated[\n",
    "#                                                    'survival_active_time']\n",
    "\n",
    "# cols = [\n",
    "#     'driver_id', 'ride_duration', 'survival_active_time', 'inactive_time'\n",
    "# ]\n",
    "\n",
    "# driver_stats_updated = driver_stats_updated[cols]"
   ]
  },
  {
   "cell_type": "code",
   "execution_count": 156,
   "metadata": {},
   "outputs": [],
   "source": [
    "# target_df = driver_stats_updated\n",
    "# target_df['target'] = target_df['ride_duration'] / target_df[\n",
    "#                 'survival_active_time']\n",
    "# target_df.sort_values('driver_id', inplace=False)"
   ]
  },
  {
   "cell_type": "code",
   "execution_count": 157,
   "metadata": {},
   "outputs": [],
   "source": [
    "val = list(target_df[target_df.survival_active_time ==0]['driver_id'])"
   ]
  },
  {
   "cell_type": "code",
   "execution_count": 158,
   "metadata": {},
   "outputs": [
    {
     "data": {
      "text/plain": [
       "0"
      ]
     },
     "execution_count": 158,
     "metadata": {},
     "output_type": "execute_result"
    }
   ],
   "source": [
    "len(val)"
   ]
  },
  {
   "cell_type": "code",
   "execution_count": 159,
   "metadata": {},
   "outputs": [],
   "source": [
    "# driver_stats_updated[driver_stats_updated.driver_id == '00002724a19c5f6a54ae8d60a378997e']"
   ]
  },
  {
   "cell_type": "code",
   "execution_count": 160,
   "metadata": {},
   "outputs": [],
   "source": [
    "# driver_start_times_no_na[driver_start_times_no_na.driver_id.isin(val)]"
   ]
  },
  {
   "cell_type": "code",
   "execution_count": 162,
   "metadata": {},
   "outputs": [
    {
     "data": {
      "text/plain": [
       "971617     861.532911\n",
       "966869     852.183561\n",
       "835475     834.366693\n",
       "968787     830.026623\n",
       "764083     823.623642\n",
       "              ...    \n",
       "429298       0.100000\n",
       "1160317      0.100000\n",
       "201514       0.100000\n",
       "842756       0.100000\n",
       "380694       0.066667\n",
       "Name: survival_active_time, Length: 1181102, dtype: float64"
      ]
     },
     "execution_count": 162,
     "metadata": {},
     "output_type": "execute_result"
    }
   ],
   "source": [
    "target_df_new_decay_surv.survival_active_time.sort_values(ascending=False)"
   ]
  },
  {
   "cell_type": "code",
   "execution_count": 163,
   "metadata": {},
   "outputs": [],
   "source": [
    "# # 1164179    \n",
    "# # 585840     \n",
    "# # 780482\n",
    "# vals = [1164179, 585840, 780482]\n",
    "# target_df_new_decay1.iloc[vals]"
   ]
  },
  {
   "cell_type": "markdown",
   "metadata": {},
   "source": [
    "### Modelling Code "
   ]
  },
  {
   "cell_type": "markdown",
   "metadata": {},
   "source": [
    "We have till now coded the following models \n",
    "\n",
    "1. Linear Regression \n",
    "2. Linear Regression with L1 Regularization\n",
    "3. Linear Regression with L2 Regularization\n",
    "4. Random Forest Regressor "
   ]
  },
  {
   "cell_type": "markdown",
   "metadata": {},
   "source": [
    "Now we split the data in a ratio of 75:25"
   ]
  },
  {
   "cell_type": "code",
   "execution_count": 29,
   "metadata": {},
   "outputs": [],
   "source": [
    "from sklearn.model_selection import train_test_split\n",
    "from sklearn.preprocessing import OneHotEncoder, StandardScaler\n",
    "from sklearn.linear_model import LinearRegression, RidgeCV, LassoCV, ElasticNet\n",
    "from sklearn.ensemble import RandomForestRegressor"
   ]
  },
  {
   "cell_type": "code",
   "execution_count": 30,
   "metadata": {},
   "outputs": [],
   "source": [
    "def build_model(df, target_df, name, seed=0):\n",
    "    # regression forest\n",
    "    print(f'building regression model for {name}')\n",
    "    X = df    \n",
    "    xtrain, xtest, ytrain, ytest = train_test_split(X, target_df['target'], random_state=seed)\n",
    "\n",
    "    sc = StandardScaler()\n",
    "\n",
    "    xtrain_sc = sc.fit_transform(xtrain)\n",
    "\n",
    "    rr = RandomForestRegressor(random_state=seed)\n",
    "    rr.fit(xtrain_sc, ytrain)\n",
    "\n",
    "    xtest_sc = sc.transform(xtest)\n",
    "    \n",
    "    print(rr.score(xtest_sc, ytest))\n",
    "    \n",
    "    return rr.score(xtest_sc, ytest)"
   ]
  },
  {
   "cell_type": "code",
   "execution_count": 164,
   "metadata": {},
   "outputs": [
    {
     "data": {
      "text/plain": [
       "((1181102, 112), (1181102, 5))"
      ]
     },
     "execution_count": 164,
     "metadata": {},
     "output_type": "execute_result"
    }
   ],
   "source": [
    "df_final_new_decay_surv.shape, target_df_new_decay_surv.shape\n",
    "# df_final_no_decay.shape, target_df_no_decay.shape"
   ]
  },
  {
   "cell_type": "code",
   "execution_count": 34,
   "metadata": {},
   "outputs": [],
   "source": [
    "df_list = [df_final_no_decay, df_final_old_decay, df_final_new_decay1, \n",
    "           df_final_new_decay10, df_final_new_decay100]\n",
    "target_df_list = [target_df_no_decay, target_df_old_decay, target_df_new_decay1, \n",
    "                  target_df_new_decay10, target_df_new_decay100]\n",
    "name_list = ['no_decay', 'old_decay', 'new_decay1', 'new_decay10', 'new_decay100']"
   ]
  },
  {
   "cell_type": "code",
   "execution_count": 166,
   "metadata": {},
   "outputs": [],
   "source": [
    "df_list_updated = [df_final_new_decay_surv]\n",
    "target_df_list_updated = [target_df_new_decay_surv]\n",
    "name_list_updated = ['survival']"
   ]
  },
  {
   "cell_type": "code",
   "execution_count": 35,
   "metadata": {},
   "outputs": [
    {
     "name": "stdout",
     "output_type": "stream",
     "text": [
      "building regression model for no_decay\n",
      "0.487284067717064\n",
      "building regression model for old_decay\n",
      "0.6757007478822953\n",
      "building regression model for new_decay1\n",
      "0.6662170568641492\n",
      "building regression model for new_decay10\n",
      "0.749684039129092\n",
      "building regression model for new_decay100\n",
      "0.7914960448891515\n"
     ]
    }
   ],
   "source": [
    "result = {}\n",
    "for df, target_df, name in zip(df_list, target_df_list, name_list):\n",
    "    result[name] = build_model(df, target_df, name)"
   ]
  },
  {
   "cell_type": "code",
   "execution_count": 167,
   "metadata": {},
   "outputs": [
    {
     "name": "stdout",
     "output_type": "stream",
     "text": [
      "building regression model for survival\n",
      "0.888966343003949\n"
     ]
    }
   ],
   "source": [
    "for df, target_df, name in zip(df_list_updated, target_df_list_updated, name_list_updated):\n",
    "    result[name] = build_model(df, target_df, name)"
   ]
  },
  {
   "cell_type": "code",
   "execution_count": 168,
   "metadata": {},
   "outputs": [
    {
     "data": {
      "text/plain": [
       "{'no_decay': 0.487284067717064,\n",
       " 'old_decay': 0.6757007478822953,\n",
       " 'new_decay1': 0.6662170568641492,\n",
       " 'new_decay10': 0.749684039129092,\n",
       " 'new_decay100': 0.7914960448891515,\n",
       " 'survival': 0.888966343003949}"
      ]
     },
     "execution_count": 168,
     "metadata": {},
     "output_type": "execute_result"
    }
   ],
   "source": [
    "result"
   ]
  },
  {
   "cell_type": "code",
   "execution_count": 30,
   "metadata": {},
   "outputs": [
    {
     "data": {
      "text/plain": [
       "[111, 112, 112, 112, 112]"
      ]
     },
     "execution_count": 30,
     "metadata": {},
     "output_type": "execute_result"
    }
   ],
   "source": [
    "col = [x.shape[1] for x in df_list]\n",
    "col"
   ]
  },
  {
   "cell_type": "code",
   "execution_count": 31,
   "metadata": {},
   "outputs": [
    {
     "data": {
      "text/plain": [
       "{'inactive_time'}"
      ]
     },
     "execution_count": 31,
     "metadata": {},
     "output_type": "execute_result"
    }
   ],
   "source": [
    "set(df_list[1].columns).difference(df_list[0].columns)"
   ]
  },
  {
   "cell_type": "code",
   "execution_count": 28,
   "metadata": {},
   "outputs": [
    {
     "data": {
      "text/html": [
       "<div>\n",
       "<style scoped>\n",
       "    .dataframe tbody tr th:only-of-type {\n",
       "        vertical-align: middle;\n",
       "    }\n",
       "\n",
       "    .dataframe tbody tr th {\n",
       "        vertical-align: top;\n",
       "    }\n",
       "\n",
       "    .dataframe thead th {\n",
       "        text-align: right;\n",
       "    }\n",
       "</style>\n",
       "<table border=\"1\" class=\"dataframe\">\n",
       "  <thead>\n",
       "    <tr style=\"text-align: right;\">\n",
       "      <th></th>\n",
       "      <th>num_total_rides</th>\n",
       "      <th>num_pool_rides</th>\n",
       "      <th>% of pool rides</th>\n",
       "      <th>(0 days 00:00:44.999999, 0 days 10:36:30]_count</th>\n",
       "      <th>(0 days 10:36:30, 0 days 14:43:06]_count</th>\n",
       "      <th>(0 days 14:43:06, 0 days 18:45:25]_count</th>\n",
       "      <th>(0 days 18:45:25, 0 days 23:59:59]_count</th>\n",
       "      <th>(0 days 00:00:44.999999, 0 days 10:36:30]_sum</th>\n",
       "      <th>(0 days 10:36:30, 0 days 14:43:06]_sum</th>\n",
       "      <th>(0 days 14:43:06, 0 days 18:45:25]_sum</th>\n",
       "      <th>...</th>\n",
       "      <th>(9509.75, 78107.176](-38.414, -8.521]</th>\n",
       "      <th>(9509.75, 78107.176](-8.521, 14.323]</th>\n",
       "      <th>(9509.75, 78107.176](-99.688, -38.414]</th>\n",
       "      <th>(9509.75, 78107.176](111.762, 137.56]</th>\n",
       "      <th>(9509.75, 78107.176](137.56, 180.0]</th>\n",
       "      <th>(9509.75, 78107.176](14.323, 38.147]</th>\n",
       "      <th>(9509.75, 78107.176](38.147, 60.214]</th>\n",
       "      <th>(9509.75, 78107.176](60.214, 88.383]</th>\n",
       "      <th>(9509.75, 78107.176](88.383, 111.762]</th>\n",
       "      <th>inactive_time</th>\n",
       "    </tr>\n",
       "    <tr>\n",
       "      <th>driver_id</th>\n",
       "      <th></th>\n",
       "      <th></th>\n",
       "      <th></th>\n",
       "      <th></th>\n",
       "      <th></th>\n",
       "      <th></th>\n",
       "      <th></th>\n",
       "      <th></th>\n",
       "      <th></th>\n",
       "      <th></th>\n",
       "      <th></th>\n",
       "      <th></th>\n",
       "      <th></th>\n",
       "      <th></th>\n",
       "      <th></th>\n",
       "      <th></th>\n",
       "      <th></th>\n",
       "      <th></th>\n",
       "      <th></th>\n",
       "      <th></th>\n",
       "      <th></th>\n",
       "    </tr>\n",
       "  </thead>\n",
       "  <tbody>\n",
       "    <tr>\n",
       "      <td>0000131d486b69eb77ab6e9e7cca9f4c</td>\n",
       "      <td>3</td>\n",
       "      <td>0.0</td>\n",
       "      <td>0.000000</td>\n",
       "      <td>0</td>\n",
       "      <td>1</td>\n",
       "      <td>0</td>\n",
       "      <td>0</td>\n",
       "      <td>0</td>\n",
       "      <td>1</td>\n",
       "      <td>0</td>\n",
       "      <td>...</td>\n",
       "      <td>0.0</td>\n",
       "      <td>0.0</td>\n",
       "      <td>0.0</td>\n",
       "      <td>0.0</td>\n",
       "      <td>0.0</td>\n",
       "      <td>0.0</td>\n",
       "      <td>0.0</td>\n",
       "      <td>0.0</td>\n",
       "      <td>0.0</td>\n",
       "      <td>0.000000</td>\n",
       "    </tr>\n",
       "    <tr>\n",
       "      <td>00002724a19c5f6a54ae8d60a378997e</td>\n",
       "      <td>1</td>\n",
       "      <td>0.0</td>\n",
       "      <td>0.000000</td>\n",
       "      <td>1</td>\n",
       "      <td>0</td>\n",
       "      <td>0</td>\n",
       "      <td>0</td>\n",
       "      <td>1</td>\n",
       "      <td>0</td>\n",
       "      <td>0</td>\n",
       "      <td>...</td>\n",
       "      <td>0.0</td>\n",
       "      <td>0.0</td>\n",
       "      <td>0.0</td>\n",
       "      <td>0.0</td>\n",
       "      <td>0.0</td>\n",
       "      <td>0.0</td>\n",
       "      <td>0.0</td>\n",
       "      <td>0.0</td>\n",
       "      <td>0.0</td>\n",
       "      <td>0.000000</td>\n",
       "    </tr>\n",
       "    <tr>\n",
       "      <td>000042288ba964aa04d14869bd56efb6</td>\n",
       "      <td>5</td>\n",
       "      <td>0.0</td>\n",
       "      <td>0.000000</td>\n",
       "      <td>0</td>\n",
       "      <td>0</td>\n",
       "      <td>0</td>\n",
       "      <td>1</td>\n",
       "      <td>0</td>\n",
       "      <td>0</td>\n",
       "      <td>0</td>\n",
       "      <td>...</td>\n",
       "      <td>0.0</td>\n",
       "      <td>0.0</td>\n",
       "      <td>0.0</td>\n",
       "      <td>0.0</td>\n",
       "      <td>0.0</td>\n",
       "      <td>0.0</td>\n",
       "      <td>0.0</td>\n",
       "      <td>0.0</td>\n",
       "      <td>0.0</td>\n",
       "      <td>23.690378</td>\n",
       "    </tr>\n",
       "    <tr>\n",
       "      <td>000049d47b79747ad9927ba1bf5f4126</td>\n",
       "      <td>11</td>\n",
       "      <td>1.0</td>\n",
       "      <td>0.090909</td>\n",
       "      <td>0.363636</td>\n",
       "      <td>0.0909091</td>\n",
       "      <td>0.545455</td>\n",
       "      <td>0</td>\n",
       "      <td>0.347145</td>\n",
       "      <td>0.083383</td>\n",
       "      <td>0.569472</td>\n",
       "      <td>...</td>\n",
       "      <td>0.0</td>\n",
       "      <td>0.0</td>\n",
       "      <td>0.0</td>\n",
       "      <td>0.0</td>\n",
       "      <td>0.0</td>\n",
       "      <td>0.0</td>\n",
       "      <td>0.0</td>\n",
       "      <td>0.0</td>\n",
       "      <td>0.0</td>\n",
       "      <td>243.061737</td>\n",
       "    </tr>\n",
       "    <tr>\n",
       "      <td>00005adc52a78e1630cfb50e4bd0f89e</td>\n",
       "      <td>4</td>\n",
       "      <td>0.0</td>\n",
       "      <td>0.000000</td>\n",
       "      <td>0</td>\n",
       "      <td>0</td>\n",
       "      <td>0</td>\n",
       "      <td>1</td>\n",
       "      <td>0</td>\n",
       "      <td>0</td>\n",
       "      <td>0</td>\n",
       "      <td>...</td>\n",
       "      <td>0.0</td>\n",
       "      <td>0.0</td>\n",
       "      <td>0.0</td>\n",
       "      <td>0.0</td>\n",
       "      <td>0.0</td>\n",
       "      <td>0.0</td>\n",
       "      <td>0.0</td>\n",
       "      <td>0.0</td>\n",
       "      <td>0.0</td>\n",
       "      <td>0.000000</td>\n",
       "    </tr>\n",
       "  </tbody>\n",
       "</table>\n",
       "<p>5 rows × 112 columns</p>\n",
       "</div>"
      ],
      "text/plain": [
       "                                  num_total_rides  num_pool_rides  \\\n",
       "driver_id                                                           \n",
       "0000131d486b69eb77ab6e9e7cca9f4c                3             0.0   \n",
       "00002724a19c5f6a54ae8d60a378997e                1             0.0   \n",
       "000042288ba964aa04d14869bd56efb6                5             0.0   \n",
       "000049d47b79747ad9927ba1bf5f4126               11             1.0   \n",
       "00005adc52a78e1630cfb50e4bd0f89e                4             0.0   \n",
       "\n",
       "                                  % of pool rides  \\\n",
       "driver_id                                           \n",
       "0000131d486b69eb77ab6e9e7cca9f4c         0.000000   \n",
       "00002724a19c5f6a54ae8d60a378997e         0.000000   \n",
       "000042288ba964aa04d14869bd56efb6         0.000000   \n",
       "000049d47b79747ad9927ba1bf5f4126         0.090909   \n",
       "00005adc52a78e1630cfb50e4bd0f89e         0.000000   \n",
       "\n",
       "                                 (0 days 00:00:44.999999, 0 days 10:36:30]_count  \\\n",
       "driver_id                                                                          \n",
       "0000131d486b69eb77ab6e9e7cca9f4c                                               0   \n",
       "00002724a19c5f6a54ae8d60a378997e                                               1   \n",
       "000042288ba964aa04d14869bd56efb6                                               0   \n",
       "000049d47b79747ad9927ba1bf5f4126                                        0.363636   \n",
       "00005adc52a78e1630cfb50e4bd0f89e                                               0   \n",
       "\n",
       "                                 (0 days 10:36:30, 0 days 14:43:06]_count  \\\n",
       "driver_id                                                                   \n",
       "0000131d486b69eb77ab6e9e7cca9f4c                                        1   \n",
       "00002724a19c5f6a54ae8d60a378997e                                        0   \n",
       "000042288ba964aa04d14869bd56efb6                                        0   \n",
       "000049d47b79747ad9927ba1bf5f4126                                0.0909091   \n",
       "00005adc52a78e1630cfb50e4bd0f89e                                        0   \n",
       "\n",
       "                                 (0 days 14:43:06, 0 days 18:45:25]_count  \\\n",
       "driver_id                                                                   \n",
       "0000131d486b69eb77ab6e9e7cca9f4c                                        0   \n",
       "00002724a19c5f6a54ae8d60a378997e                                        0   \n",
       "000042288ba964aa04d14869bd56efb6                                        0   \n",
       "000049d47b79747ad9927ba1bf5f4126                                 0.545455   \n",
       "00005adc52a78e1630cfb50e4bd0f89e                                        0   \n",
       "\n",
       "                                 (0 days 18:45:25, 0 days 23:59:59]_count  \\\n",
       "driver_id                                                                   \n",
       "0000131d486b69eb77ab6e9e7cca9f4c                                        0   \n",
       "00002724a19c5f6a54ae8d60a378997e                                        0   \n",
       "000042288ba964aa04d14869bd56efb6                                        1   \n",
       "000049d47b79747ad9927ba1bf5f4126                                        0   \n",
       "00005adc52a78e1630cfb50e4bd0f89e                                        1   \n",
       "\n",
       "                                 (0 days 00:00:44.999999, 0 days 10:36:30]_sum  \\\n",
       "driver_id                                                                        \n",
       "0000131d486b69eb77ab6e9e7cca9f4c                                             0   \n",
       "00002724a19c5f6a54ae8d60a378997e                                             1   \n",
       "000042288ba964aa04d14869bd56efb6                                             0   \n",
       "000049d47b79747ad9927ba1bf5f4126                                      0.347145   \n",
       "00005adc52a78e1630cfb50e4bd0f89e                                             0   \n",
       "\n",
       "                                 (0 days 10:36:30, 0 days 14:43:06]_sum  \\\n",
       "driver_id                                                                 \n",
       "0000131d486b69eb77ab6e9e7cca9f4c                                      1   \n",
       "00002724a19c5f6a54ae8d60a378997e                                      0   \n",
       "000042288ba964aa04d14869bd56efb6                                      0   \n",
       "000049d47b79747ad9927ba1bf5f4126                               0.083383   \n",
       "00005adc52a78e1630cfb50e4bd0f89e                                      0   \n",
       "\n",
       "                                 (0 days 14:43:06, 0 days 18:45:25]_sum  ...  \\\n",
       "driver_id                                                                ...   \n",
       "0000131d486b69eb77ab6e9e7cca9f4c                                      0  ...   \n",
       "00002724a19c5f6a54ae8d60a378997e                                      0  ...   \n",
       "000042288ba964aa04d14869bd56efb6                                      0  ...   \n",
       "000049d47b79747ad9927ba1bf5f4126                               0.569472  ...   \n",
       "00005adc52a78e1630cfb50e4bd0f89e                                      0  ...   \n",
       "\n",
       "                                 (9509.75, 78107.176](-38.414, -8.521]  \\\n",
       "driver_id                                                                \n",
       "0000131d486b69eb77ab6e9e7cca9f4c                                   0.0   \n",
       "00002724a19c5f6a54ae8d60a378997e                                   0.0   \n",
       "000042288ba964aa04d14869bd56efb6                                   0.0   \n",
       "000049d47b79747ad9927ba1bf5f4126                                   0.0   \n",
       "00005adc52a78e1630cfb50e4bd0f89e                                   0.0   \n",
       "\n",
       "                                  (9509.75, 78107.176](-8.521, 14.323]  \\\n",
       "driver_id                                                                \n",
       "0000131d486b69eb77ab6e9e7cca9f4c                                   0.0   \n",
       "00002724a19c5f6a54ae8d60a378997e                                   0.0   \n",
       "000042288ba964aa04d14869bd56efb6                                   0.0   \n",
       "000049d47b79747ad9927ba1bf5f4126                                   0.0   \n",
       "00005adc52a78e1630cfb50e4bd0f89e                                   0.0   \n",
       "\n",
       "                                  (9509.75, 78107.176](-99.688, -38.414]  \\\n",
       "driver_id                                                                  \n",
       "0000131d486b69eb77ab6e9e7cca9f4c                                     0.0   \n",
       "00002724a19c5f6a54ae8d60a378997e                                     0.0   \n",
       "000042288ba964aa04d14869bd56efb6                                     0.0   \n",
       "000049d47b79747ad9927ba1bf5f4126                                     0.0   \n",
       "00005adc52a78e1630cfb50e4bd0f89e                                     0.0   \n",
       "\n",
       "                                  (9509.75, 78107.176](111.762, 137.56]  \\\n",
       "driver_id                                                                 \n",
       "0000131d486b69eb77ab6e9e7cca9f4c                                    0.0   \n",
       "00002724a19c5f6a54ae8d60a378997e                                    0.0   \n",
       "000042288ba964aa04d14869bd56efb6                                    0.0   \n",
       "000049d47b79747ad9927ba1bf5f4126                                    0.0   \n",
       "00005adc52a78e1630cfb50e4bd0f89e                                    0.0   \n",
       "\n",
       "                                  (9509.75, 78107.176](137.56, 180.0]  \\\n",
       "driver_id                                                               \n",
       "0000131d486b69eb77ab6e9e7cca9f4c                                  0.0   \n",
       "00002724a19c5f6a54ae8d60a378997e                                  0.0   \n",
       "000042288ba964aa04d14869bd56efb6                                  0.0   \n",
       "000049d47b79747ad9927ba1bf5f4126                                  0.0   \n",
       "00005adc52a78e1630cfb50e4bd0f89e                                  0.0   \n",
       "\n",
       "                                  (9509.75, 78107.176](14.323, 38.147]  \\\n",
       "driver_id                                                                \n",
       "0000131d486b69eb77ab6e9e7cca9f4c                                   0.0   \n",
       "00002724a19c5f6a54ae8d60a378997e                                   0.0   \n",
       "000042288ba964aa04d14869bd56efb6                                   0.0   \n",
       "000049d47b79747ad9927ba1bf5f4126                                   0.0   \n",
       "00005adc52a78e1630cfb50e4bd0f89e                                   0.0   \n",
       "\n",
       "                                  (9509.75, 78107.176](38.147, 60.214]  \\\n",
       "driver_id                                                                \n",
       "0000131d486b69eb77ab6e9e7cca9f4c                                   0.0   \n",
       "00002724a19c5f6a54ae8d60a378997e                                   0.0   \n",
       "000042288ba964aa04d14869bd56efb6                                   0.0   \n",
       "000049d47b79747ad9927ba1bf5f4126                                   0.0   \n",
       "00005adc52a78e1630cfb50e4bd0f89e                                   0.0   \n",
       "\n",
       "                                  (9509.75, 78107.176](60.214, 88.383]  \\\n",
       "driver_id                                                                \n",
       "0000131d486b69eb77ab6e9e7cca9f4c                                   0.0   \n",
       "00002724a19c5f6a54ae8d60a378997e                                   0.0   \n",
       "000042288ba964aa04d14869bd56efb6                                   0.0   \n",
       "000049d47b79747ad9927ba1bf5f4126                                   0.0   \n",
       "00005adc52a78e1630cfb50e4bd0f89e                                   0.0   \n",
       "\n",
       "                                  (9509.75, 78107.176](88.383, 111.762]  \\\n",
       "driver_id                                                                 \n",
       "0000131d486b69eb77ab6e9e7cca9f4c                                    0.0   \n",
       "00002724a19c5f6a54ae8d60a378997e                                    0.0   \n",
       "000042288ba964aa04d14869bd56efb6                                    0.0   \n",
       "000049d47b79747ad9927ba1bf5f4126                                    0.0   \n",
       "00005adc52a78e1630cfb50e4bd0f89e                                    0.0   \n",
       "\n",
       "                                  inactive_time  \n",
       "driver_id                                        \n",
       "0000131d486b69eb77ab6e9e7cca9f4c       0.000000  \n",
       "00002724a19c5f6a54ae8d60a378997e       0.000000  \n",
       "000042288ba964aa04d14869bd56efb6      23.690378  \n",
       "000049d47b79747ad9927ba1bf5f4126     243.061737  \n",
       "00005adc52a78e1630cfb50e4bd0f89e       0.000000  \n",
       "\n",
       "[5 rows x 112 columns]"
      ]
     },
     "execution_count": 28,
     "metadata": {},
     "output_type": "execute_result"
    }
   ],
   "source": [
    "df_final_old_decay.head()"
   ]
  },
  {
   "cell_type": "code",
   "execution_count": 29,
   "metadata": {},
   "outputs": [
    {
     "data": {
      "text/html": [
       "<div>\n",
       "<style scoped>\n",
       "    .dataframe tbody tr th:only-of-type {\n",
       "        vertical-align: middle;\n",
       "    }\n",
       "\n",
       "    .dataframe tbody tr th {\n",
       "        vertical-align: top;\n",
       "    }\n",
       "\n",
       "    .dataframe thead th {\n",
       "        text-align: right;\n",
       "    }\n",
       "</style>\n",
       "<table border=\"1\" class=\"dataframe\">\n",
       "  <thead>\n",
       "    <tr style=\"text-align: right;\">\n",
       "      <th></th>\n",
       "      <th>num_total_rides</th>\n",
       "      <th>num_pool_rides</th>\n",
       "      <th>% of pool rides</th>\n",
       "      <th>(0 days 00:00:44.999999, 0 days 10:36:30]_count</th>\n",
       "      <th>(0 days 10:36:30, 0 days 14:43:06]_count</th>\n",
       "      <th>(0 days 14:43:06, 0 days 18:45:25]_count</th>\n",
       "      <th>(0 days 18:45:25, 0 days 23:59:59]_count</th>\n",
       "      <th>(0 days 00:00:44.999999, 0 days 10:36:30]_sum</th>\n",
       "      <th>(0 days 10:36:30, 0 days 14:43:06]_sum</th>\n",
       "      <th>(0 days 14:43:06, 0 days 18:45:25]_sum</th>\n",
       "      <th>...</th>\n",
       "      <th>(9509.75, 78107.176](-38.414, -8.521]</th>\n",
       "      <th>(9509.75, 78107.176](-8.521, 14.323]</th>\n",
       "      <th>(9509.75, 78107.176](-99.688, -38.414]</th>\n",
       "      <th>(9509.75, 78107.176](111.762, 137.56]</th>\n",
       "      <th>(9509.75, 78107.176](137.56, 180.0]</th>\n",
       "      <th>(9509.75, 78107.176](14.323, 38.147]</th>\n",
       "      <th>(9509.75, 78107.176](38.147, 60.214]</th>\n",
       "      <th>(9509.75, 78107.176](60.214, 88.383]</th>\n",
       "      <th>(9509.75, 78107.176](88.383, 111.762]</th>\n",
       "      <th>inactive_time</th>\n",
       "    </tr>\n",
       "    <tr>\n",
       "      <th>driver_id</th>\n",
       "      <th></th>\n",
       "      <th></th>\n",
       "      <th></th>\n",
       "      <th></th>\n",
       "      <th></th>\n",
       "      <th></th>\n",
       "      <th></th>\n",
       "      <th></th>\n",
       "      <th></th>\n",
       "      <th></th>\n",
       "      <th></th>\n",
       "      <th></th>\n",
       "      <th></th>\n",
       "      <th></th>\n",
       "      <th></th>\n",
       "      <th></th>\n",
       "      <th></th>\n",
       "      <th></th>\n",
       "      <th></th>\n",
       "      <th></th>\n",
       "      <th></th>\n",
       "    </tr>\n",
       "  </thead>\n",
       "  <tbody>\n",
       "    <tr>\n",
       "      <td>0000131d486b69eb77ab6e9e7cca9f4c</td>\n",
       "      <td>3</td>\n",
       "      <td>0.0</td>\n",
       "      <td>0.000000</td>\n",
       "      <td>0</td>\n",
       "      <td>1</td>\n",
       "      <td>0</td>\n",
       "      <td>0</td>\n",
       "      <td>0</td>\n",
       "      <td>1</td>\n",
       "      <td>0</td>\n",
       "      <td>...</td>\n",
       "      <td>0.0</td>\n",
       "      <td>0.0</td>\n",
       "      <td>0.0</td>\n",
       "      <td>0.0</td>\n",
       "      <td>0.0</td>\n",
       "      <td>0.0</td>\n",
       "      <td>0.0</td>\n",
       "      <td>0.0</td>\n",
       "      <td>0.0</td>\n",
       "      <td>8.871019</td>\n",
       "    </tr>\n",
       "    <tr>\n",
       "      <td>00002724a19c5f6a54ae8d60a378997e</td>\n",
       "      <td>1</td>\n",
       "      <td>0.0</td>\n",
       "      <td>0.000000</td>\n",
       "      <td>1</td>\n",
       "      <td>0</td>\n",
       "      <td>0</td>\n",
       "      <td>0</td>\n",
       "      <td>1</td>\n",
       "      <td>0</td>\n",
       "      <td>0</td>\n",
       "      <td>...</td>\n",
       "      <td>0.0</td>\n",
       "      <td>0.0</td>\n",
       "      <td>0.0</td>\n",
       "      <td>0.0</td>\n",
       "      <td>0.0</td>\n",
       "      <td>0.0</td>\n",
       "      <td>0.0</td>\n",
       "      <td>0.0</td>\n",
       "      <td>0.0</td>\n",
       "      <td>0.000000</td>\n",
       "    </tr>\n",
       "    <tr>\n",
       "      <td>000042288ba964aa04d14869bd56efb6</td>\n",
       "      <td>5</td>\n",
       "      <td>0.0</td>\n",
       "      <td>0.000000</td>\n",
       "      <td>0</td>\n",
       "      <td>0</td>\n",
       "      <td>0</td>\n",
       "      <td>1</td>\n",
       "      <td>0</td>\n",
       "      <td>0</td>\n",
       "      <td>0</td>\n",
       "      <td>...</td>\n",
       "      <td>0.0</td>\n",
       "      <td>0.0</td>\n",
       "      <td>0.0</td>\n",
       "      <td>0.0</td>\n",
       "      <td>0.0</td>\n",
       "      <td>0.0</td>\n",
       "      <td>0.0</td>\n",
       "      <td>0.0</td>\n",
       "      <td>0.0</td>\n",
       "      <td>75.475753</td>\n",
       "    </tr>\n",
       "    <tr>\n",
       "      <td>000049d47b79747ad9927ba1bf5f4126</td>\n",
       "      <td>11</td>\n",
       "      <td>1.0</td>\n",
       "      <td>0.090909</td>\n",
       "      <td>0.363636</td>\n",
       "      <td>0.0909091</td>\n",
       "      <td>0.545455</td>\n",
       "      <td>0</td>\n",
       "      <td>0.347145</td>\n",
       "      <td>0.083383</td>\n",
       "      <td>0.569472</td>\n",
       "      <td>...</td>\n",
       "      <td>0.0</td>\n",
       "      <td>0.0</td>\n",
       "      <td>0.0</td>\n",
       "      <td>0.0</td>\n",
       "      <td>0.0</td>\n",
       "      <td>0.0</td>\n",
       "      <td>0.0</td>\n",
       "      <td>0.0</td>\n",
       "      <td>0.0</td>\n",
       "      <td>333.463457</td>\n",
       "    </tr>\n",
       "    <tr>\n",
       "      <td>00005adc52a78e1630cfb50e4bd0f89e</td>\n",
       "      <td>4</td>\n",
       "      <td>0.0</td>\n",
       "      <td>0.000000</td>\n",
       "      <td>0</td>\n",
       "      <td>0</td>\n",
       "      <td>0</td>\n",
       "      <td>1</td>\n",
       "      <td>0</td>\n",
       "      <td>0</td>\n",
       "      <td>0</td>\n",
       "      <td>...</td>\n",
       "      <td>0.0</td>\n",
       "      <td>0.0</td>\n",
       "      <td>0.0</td>\n",
       "      <td>0.0</td>\n",
       "      <td>0.0</td>\n",
       "      <td>0.0</td>\n",
       "      <td>0.0</td>\n",
       "      <td>0.0</td>\n",
       "      <td>0.0</td>\n",
       "      <td>27.870189</td>\n",
       "    </tr>\n",
       "  </tbody>\n",
       "</table>\n",
       "<p>5 rows × 112 columns</p>\n",
       "</div>"
      ],
      "text/plain": [
       "                                  num_total_rides  num_pool_rides  \\\n",
       "driver_id                                                           \n",
       "0000131d486b69eb77ab6e9e7cca9f4c                3             0.0   \n",
       "00002724a19c5f6a54ae8d60a378997e                1             0.0   \n",
       "000042288ba964aa04d14869bd56efb6                5             0.0   \n",
       "000049d47b79747ad9927ba1bf5f4126               11             1.0   \n",
       "00005adc52a78e1630cfb50e4bd0f89e                4             0.0   \n",
       "\n",
       "                                  % of pool rides  \\\n",
       "driver_id                                           \n",
       "0000131d486b69eb77ab6e9e7cca9f4c         0.000000   \n",
       "00002724a19c5f6a54ae8d60a378997e         0.000000   \n",
       "000042288ba964aa04d14869bd56efb6         0.000000   \n",
       "000049d47b79747ad9927ba1bf5f4126         0.090909   \n",
       "00005adc52a78e1630cfb50e4bd0f89e         0.000000   \n",
       "\n",
       "                                 (0 days 00:00:44.999999, 0 days 10:36:30]_count  \\\n",
       "driver_id                                                                          \n",
       "0000131d486b69eb77ab6e9e7cca9f4c                                               0   \n",
       "00002724a19c5f6a54ae8d60a378997e                                               1   \n",
       "000042288ba964aa04d14869bd56efb6                                               0   \n",
       "000049d47b79747ad9927ba1bf5f4126                                        0.363636   \n",
       "00005adc52a78e1630cfb50e4bd0f89e                                               0   \n",
       "\n",
       "                                 (0 days 10:36:30, 0 days 14:43:06]_count  \\\n",
       "driver_id                                                                   \n",
       "0000131d486b69eb77ab6e9e7cca9f4c                                        1   \n",
       "00002724a19c5f6a54ae8d60a378997e                                        0   \n",
       "000042288ba964aa04d14869bd56efb6                                        0   \n",
       "000049d47b79747ad9927ba1bf5f4126                                0.0909091   \n",
       "00005adc52a78e1630cfb50e4bd0f89e                                        0   \n",
       "\n",
       "                                 (0 days 14:43:06, 0 days 18:45:25]_count  \\\n",
       "driver_id                                                                   \n",
       "0000131d486b69eb77ab6e9e7cca9f4c                                        0   \n",
       "00002724a19c5f6a54ae8d60a378997e                                        0   \n",
       "000042288ba964aa04d14869bd56efb6                                        0   \n",
       "000049d47b79747ad9927ba1bf5f4126                                 0.545455   \n",
       "00005adc52a78e1630cfb50e4bd0f89e                                        0   \n",
       "\n",
       "                                 (0 days 18:45:25, 0 days 23:59:59]_count  \\\n",
       "driver_id                                                                   \n",
       "0000131d486b69eb77ab6e9e7cca9f4c                                        0   \n",
       "00002724a19c5f6a54ae8d60a378997e                                        0   \n",
       "000042288ba964aa04d14869bd56efb6                                        1   \n",
       "000049d47b79747ad9927ba1bf5f4126                                        0   \n",
       "00005adc52a78e1630cfb50e4bd0f89e                                        1   \n",
       "\n",
       "                                 (0 days 00:00:44.999999, 0 days 10:36:30]_sum  \\\n",
       "driver_id                                                                        \n",
       "0000131d486b69eb77ab6e9e7cca9f4c                                             0   \n",
       "00002724a19c5f6a54ae8d60a378997e                                             1   \n",
       "000042288ba964aa04d14869bd56efb6                                             0   \n",
       "000049d47b79747ad9927ba1bf5f4126                                      0.347145   \n",
       "00005adc52a78e1630cfb50e4bd0f89e                                             0   \n",
       "\n",
       "                                 (0 days 10:36:30, 0 days 14:43:06]_sum  \\\n",
       "driver_id                                                                 \n",
       "0000131d486b69eb77ab6e9e7cca9f4c                                      1   \n",
       "00002724a19c5f6a54ae8d60a378997e                                      0   \n",
       "000042288ba964aa04d14869bd56efb6                                      0   \n",
       "000049d47b79747ad9927ba1bf5f4126                               0.083383   \n",
       "00005adc52a78e1630cfb50e4bd0f89e                                      0   \n",
       "\n",
       "                                 (0 days 14:43:06, 0 days 18:45:25]_sum  ...  \\\n",
       "driver_id                                                                ...   \n",
       "0000131d486b69eb77ab6e9e7cca9f4c                                      0  ...   \n",
       "00002724a19c5f6a54ae8d60a378997e                                      0  ...   \n",
       "000042288ba964aa04d14869bd56efb6                                      0  ...   \n",
       "000049d47b79747ad9927ba1bf5f4126                               0.569472  ...   \n",
       "00005adc52a78e1630cfb50e4bd0f89e                                      0  ...   \n",
       "\n",
       "                                 (9509.75, 78107.176](-38.414, -8.521]  \\\n",
       "driver_id                                                                \n",
       "0000131d486b69eb77ab6e9e7cca9f4c                                   0.0   \n",
       "00002724a19c5f6a54ae8d60a378997e                                   0.0   \n",
       "000042288ba964aa04d14869bd56efb6                                   0.0   \n",
       "000049d47b79747ad9927ba1bf5f4126                                   0.0   \n",
       "00005adc52a78e1630cfb50e4bd0f89e                                   0.0   \n",
       "\n",
       "                                  (9509.75, 78107.176](-8.521, 14.323]  \\\n",
       "driver_id                                                                \n",
       "0000131d486b69eb77ab6e9e7cca9f4c                                   0.0   \n",
       "00002724a19c5f6a54ae8d60a378997e                                   0.0   \n",
       "000042288ba964aa04d14869bd56efb6                                   0.0   \n",
       "000049d47b79747ad9927ba1bf5f4126                                   0.0   \n",
       "00005adc52a78e1630cfb50e4bd0f89e                                   0.0   \n",
       "\n",
       "                                  (9509.75, 78107.176](-99.688, -38.414]  \\\n",
       "driver_id                                                                  \n",
       "0000131d486b69eb77ab6e9e7cca9f4c                                     0.0   \n",
       "00002724a19c5f6a54ae8d60a378997e                                     0.0   \n",
       "000042288ba964aa04d14869bd56efb6                                     0.0   \n",
       "000049d47b79747ad9927ba1bf5f4126                                     0.0   \n",
       "00005adc52a78e1630cfb50e4bd0f89e                                     0.0   \n",
       "\n",
       "                                  (9509.75, 78107.176](111.762, 137.56]  \\\n",
       "driver_id                                                                 \n",
       "0000131d486b69eb77ab6e9e7cca9f4c                                    0.0   \n",
       "00002724a19c5f6a54ae8d60a378997e                                    0.0   \n",
       "000042288ba964aa04d14869bd56efb6                                    0.0   \n",
       "000049d47b79747ad9927ba1bf5f4126                                    0.0   \n",
       "00005adc52a78e1630cfb50e4bd0f89e                                    0.0   \n",
       "\n",
       "                                  (9509.75, 78107.176](137.56, 180.0]  \\\n",
       "driver_id                                                               \n",
       "0000131d486b69eb77ab6e9e7cca9f4c                                  0.0   \n",
       "00002724a19c5f6a54ae8d60a378997e                                  0.0   \n",
       "000042288ba964aa04d14869bd56efb6                                  0.0   \n",
       "000049d47b79747ad9927ba1bf5f4126                                  0.0   \n",
       "00005adc52a78e1630cfb50e4bd0f89e                                  0.0   \n",
       "\n",
       "                                  (9509.75, 78107.176](14.323, 38.147]  \\\n",
       "driver_id                                                                \n",
       "0000131d486b69eb77ab6e9e7cca9f4c                                   0.0   \n",
       "00002724a19c5f6a54ae8d60a378997e                                   0.0   \n",
       "000042288ba964aa04d14869bd56efb6                                   0.0   \n",
       "000049d47b79747ad9927ba1bf5f4126                                   0.0   \n",
       "00005adc52a78e1630cfb50e4bd0f89e                                   0.0   \n",
       "\n",
       "                                  (9509.75, 78107.176](38.147, 60.214]  \\\n",
       "driver_id                                                                \n",
       "0000131d486b69eb77ab6e9e7cca9f4c                                   0.0   \n",
       "00002724a19c5f6a54ae8d60a378997e                                   0.0   \n",
       "000042288ba964aa04d14869bd56efb6                                   0.0   \n",
       "000049d47b79747ad9927ba1bf5f4126                                   0.0   \n",
       "00005adc52a78e1630cfb50e4bd0f89e                                   0.0   \n",
       "\n",
       "                                  (9509.75, 78107.176](60.214, 88.383]  \\\n",
       "driver_id                                                                \n",
       "0000131d486b69eb77ab6e9e7cca9f4c                                   0.0   \n",
       "00002724a19c5f6a54ae8d60a378997e                                   0.0   \n",
       "000042288ba964aa04d14869bd56efb6                                   0.0   \n",
       "000049d47b79747ad9927ba1bf5f4126                                   0.0   \n",
       "00005adc52a78e1630cfb50e4bd0f89e                                   0.0   \n",
       "\n",
       "                                  (9509.75, 78107.176](88.383, 111.762]  \\\n",
       "driver_id                                                                 \n",
       "0000131d486b69eb77ab6e9e7cca9f4c                                    0.0   \n",
       "00002724a19c5f6a54ae8d60a378997e                                    0.0   \n",
       "000042288ba964aa04d14869bd56efb6                                    0.0   \n",
       "000049d47b79747ad9927ba1bf5f4126                                    0.0   \n",
       "00005adc52a78e1630cfb50e4bd0f89e                                    0.0   \n",
       "\n",
       "                                  inactive_time  \n",
       "driver_id                                        \n",
       "0000131d486b69eb77ab6e9e7cca9f4c       8.871019  \n",
       "00002724a19c5f6a54ae8d60a378997e       0.000000  \n",
       "000042288ba964aa04d14869bd56efb6      75.475753  \n",
       "000049d47b79747ad9927ba1bf5f4126     333.463457  \n",
       "00005adc52a78e1630cfb50e4bd0f89e      27.870189  \n",
       "\n",
       "[5 rows x 112 columns]"
      ]
     },
     "execution_count": 29,
     "metadata": {},
     "output_type": "execute_result"
    }
   ],
   "source": [
    "df_final_new_decay10.head()"
   ]
  },
  {
   "cell_type": "code",
   "execution_count": null,
   "metadata": {},
   "outputs": [],
   "source": []
  },
  {
   "cell_type": "code",
   "execution_count": null,
   "metadata": {},
   "outputs": [],
   "source": []
  },
  {
   "cell_type": "code",
   "execution_count": null,
   "metadata": {},
   "outputs": [],
   "source": []
  }
 ],
 "metadata": {
  "hide_input": false,
  "kernelspec": {
   "display_name": "Python 3",
   "language": "python",
   "name": "python3"
  },
  "language_info": {
   "codemirror_mode": {
    "name": "ipython",
    "version": 3
   },
   "file_extension": ".py",
   "mimetype": "text/x-python",
   "name": "python",
   "nbconvert_exporter": "python",
   "pygments_lexer": "ipython3",
   "version": "3.7.4"
  }
 },
 "nbformat": 4,
 "nbformat_minor": 2
}
