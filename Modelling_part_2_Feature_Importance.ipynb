{
 "cells": [
  {
   "cell_type": "code",
   "execution_count": 2,
   "metadata": {},
   "outputs": [],
   "source": [
    "import sys\n",
    "from sys import platform\n",
    "if platform  == 'win32':\n",
    "    sys.argv=[\"_\", r\"P:\\rmahajan14\\capstone_data\\data\", r\"P:\\rmahajan14\\capstone_data\\cache\"]\n",
    "if platform == 'linux' or platform == 'linux2':\n",
    "    def full_path(p):\n",
    "        return os.path.abspath(os.path.expanduser(p))\n",
    "    sys.argv=[\"_\", r\"/mnt/d/DiDi_Ride_Data/data\", r\"/mnt/d/DiDi_Ride_Data/Ride_Data_Cache\"]"
   ]
  },
  {
   "cell_type": "code",
   "execution_count": 3,
   "metadata": {},
   "outputs": [],
   "source": [
    "import matplotlib.pyplot as plt\n",
    "import numpy as np\n",
    "%load_ext autoreload\n",
    "%autoreload 2"
   ]
  },
  {
   "cell_type": "code",
   "execution_count": 4,
   "metadata": {},
   "outputs": [],
   "source": [
    "from loader1 import *\n",
    "from utils import *\n",
    "from common import *\n",
    "from experiment2 import *\n",
    "# from sys import platform\n",
    "\n",
    "import warnings\n",
    "warnings.filterwarnings('ignore')"
   ]
  },
  {
   "cell_type": "code",
   "execution_count": 5,
   "metadata": {},
   "outputs": [],
   "source": [
    "import time"
   ]
  },
  {
   "cell_type": "markdown",
   "metadata": {},
   "source": [
    "Basic Coding "
   ]
  },
  {
   "cell_type": "code",
   "execution_count": 6,
   "metadata": {},
   "outputs": [],
   "source": [
    "spatial_type = 'radial'\n",
    "combine_pool = True"
   ]
  },
  {
   "cell_type": "code",
   "execution_count": 7,
   "metadata": {
    "scrolled": false
   },
   "outputs": [
    {
     "name": "stdout",
     "output_type": "stream",
     "text": [
      "../Ride_Data_Cache/merged_orders.msgpack exists\n",
      "orders\n",
      "Decay Calculation\n",
      "No Decay\n",
      "(5909529, 6)\n",
      "(5909529, 4)\n",
      "(1181102, 4)\n",
      "(1181102, 2)\n",
      "(1181102, 3)\n",
      "(945550, 6)\n",
      "(1181102, 6)\n",
      "Dumping to ../Ride_Data_Cache/active_times_pool_True.msgpack\n",
      "Decay Calculation done in 156.77280688285828\n",
      "1e\n",
      "../Ride_Data_Cache/features_orders.msgpack exists\n",
      "(1181102, 12)\n",
      "Features created in 0.8946182727813721\n",
      "1f\n",
      "../Ride_Data_Cache/radial_spatial_df.msgpack exists\n",
      "spatial\n",
      "Spatial Calculation done in 3.5409820079803467\n"
     ]
    }
   ],
   "source": [
    "df_final_no_decay, target_df_no_decay = get_final_df_reg(use_cache=True, decay='No Decay', \n",
    "                                                         spatial_type=spatial_type, combine_pool=combine_pool)"
   ]
  },
  {
   "cell_type": "code",
   "execution_count": 8,
   "metadata": {
    "scrolled": true
   },
   "outputs": [
    {
     "name": "stdout",
     "output_type": "stream",
     "text": [
      "../Ride_Data_Cache/merged_orders.msgpack exists\n",
      "orders\n",
      "Decay Calculation\n",
      "Old Decay\n",
      "Creating the exponential decay\n",
      "Dumping to ../Ride_Data_Cache/idle_times_old_pool_True.msgpack\n",
      "Decay Calculation done in 97.06916189193726\n",
      "1e\n",
      "../Ride_Data_Cache/features_orders.msgpack exists\n",
      "(1181102, 12)\n",
      "Features created in 0.8758330345153809\n",
      "1f\n",
      "../Ride_Data_Cache/radial_spatial_df.msgpack exists\n",
      "spatial\n",
      "Spatial Calculation done in 4.25482964515686\n"
     ]
    }
   ],
   "source": [
    "df_final_old_decay, target_df_old_decay = get_final_df_reg(use_cache=True, decay='Old Decay',\n",
    "                                                           spatial_type=spatial_type,combine_pool=combine_pool)"
   ]
  },
  {
   "cell_type": "code",
   "execution_count": 7,
   "metadata": {
    "scrolled": true
   },
   "outputs": [
    {
     "name": "stdout",
     "output_type": "stream",
     "text": [
      "file path is /mnt/d/DiDi_Ride_Data/Ride_Data_Cache/order_20161101.msgpack\n",
      "file path is /mnt/d/DiDi_Ride_Data/Ride_Data_Cache/order_20161102.msgpack\n",
      "file path is /mnt/d/DiDi_Ride_Data/Ride_Data_Cache/order_20161103.msgpack\n",
      "file path is /mnt/d/DiDi_Ride_Data/Ride_Data_Cache/order_20161104.msgpack\n",
      "file path is /mnt/d/DiDi_Ride_Data/Ride_Data_Cache/order_20161105.msgpack\n",
      "file path is /mnt/d/DiDi_Ride_Data/Ride_Data_Cache/order_20161106.msgpack\n",
      "file path is /mnt/d/DiDi_Ride_Data/Ride_Data_Cache/order_20161107.msgpack\n",
      "file path is /mnt/d/DiDi_Ride_Data/Ride_Data_Cache/order_20161108.msgpack\n",
      "file path is /mnt/d/DiDi_Ride_Data/Ride_Data_Cache/order_20161109.msgpack\n",
      "file path is /mnt/d/DiDi_Ride_Data/Ride_Data_Cache/order_20161110.msgpack\n",
      "file path is /mnt/d/DiDi_Ride_Data/Ride_Data_Cache/order_20161111.msgpack\n",
      "file path is /mnt/d/DiDi_Ride_Data/Ride_Data_Cache/order_20161112.msgpack\n",
      "file path is /mnt/d/DiDi_Ride_Data/Ride_Data_Cache/order_20161113.msgpack\n",
      "file path is /mnt/d/DiDi_Ride_Data/Ride_Data_Cache/order_20161114.msgpack\n",
      "file path is /mnt/d/DiDi_Ride_Data/Ride_Data_Cache/order_20161115.msgpack\n",
      "file path is /mnt/d/DiDi_Ride_Data/Ride_Data_Cache/order_20161116.msgpack\n",
      "file path is /mnt/d/DiDi_Ride_Data/Ride_Data_Cache/order_20161117.msgpack\n",
      "file path is /mnt/d/DiDi_Ride_Data/Ride_Data_Cache/order_20161118.msgpack\n",
      "file path is /mnt/d/DiDi_Ride_Data/Ride_Data_Cache/order_20161119.msgpack\n",
      "file path is /mnt/d/DiDi_Ride_Data/Ride_Data_Cache/order_20161120.msgpack\n",
      "file path is /mnt/d/DiDi_Ride_Data/Ride_Data_Cache/order_20161121.msgpack\n",
      "file path is /mnt/d/DiDi_Ride_Data/Ride_Data_Cache/order_20161122.msgpack\n",
      "file path is /mnt/d/DiDi_Ride_Data/Ride_Data_Cache/order_20161123.msgpack\n",
      "file path is /mnt/d/DiDi_Ride_Data/Ride_Data_Cache/order_20161124.msgpack\n",
      "file path is /mnt/d/DiDi_Ride_Data/Ride_Data_Cache/order_20161125.msgpack\n",
      "file path is /mnt/d/DiDi_Ride_Data/Ride_Data_Cache/order_20161126.msgpack\n",
      "file path is /mnt/d/DiDi_Ride_Data/Ride_Data_Cache/order_20161127.msgpack\n",
      "file path is /mnt/d/DiDi_Ride_Data/Ride_Data_Cache/order_20161128.msgpack\n",
      "file path is /mnt/d/DiDi_Ride_Data/Ride_Data_Cache/order_20161129.msgpack\n",
      "file path is /mnt/d/DiDi_Ride_Data/Ride_Data_Cache/order_20161130.msgpack\n",
      "Dumping to /mnt/d/DiDi_Ride_Data/Ride_Data_Cache/merged_orders.msgpack\n",
      "orders\n",
      "Decay Calculation\n",
      "New Decay\n",
      "Creating the exponential decay\n",
      "Dumping to /mnt/d/DiDi_Ride_Data/Ride_Data_Cache/idle_times_new_1_pool_True.msgpack\n",
      "Decay Calculation done in 79.1778085231781\n",
      "1e\n",
      "/mnt/d/DiDi_Ride_Data/Ride_Data_Cache/merged_orders.msgpack exists\n",
      "a\n",
      "b\n",
      "Dumping to /mnt/d/DiDi_Ride_Data/Ride_Data_Cache/groupby1.msgpack\n",
      "b\n",
      "Dumping to /mnt/d/DiDi_Ride_Data/Ride_Data_Cache/groupby2.msgpack\n",
      "661.9300360679626\n",
      "c\n",
      "d\n",
      "Dumping to /mnt/d/DiDi_Ride_Data/Ride_Data_Cache/features_orders.msgpack\n",
      "(1181102, 12)\n",
      "Features created in 681.6088330745697\n",
      "1f\n",
      "center is  410490.442183303 3392253.2150809667\n",
      "checking bins name  r_radial 10\n",
      "                                order_id ride_start_timestamp  \\\n",
      "175165  f727597b61fc2f0141aadecf2a3b5ee0  2016-11-01 11:57:05   \n",
      "90347   804a1a47f2b10dc36b7e909d9b977f02  2016-11-01 12:33:05   \n",
      "156956  dd9b252638479fb784b705492bdf1a65  2016-11-01 12:58:45   \n",
      "2327    03014caf7353cb92868d78b143bca071  2016-11-28 00:19:16   \n",
      "64719   504e0d59e3c0ae899a85c5e0551cb2b3  2016-11-28 19:49:07   \n",
      "\n",
      "       ride_stop_timestamp  pickup_longitude  pickup_latitude  \\\n",
      "175165 2016-11-01 12:13:18        104.121480         30.64421   \n",
      "90347  2016-11-01 12:49:04        104.139950         30.64042   \n",
      "156956 2016-11-01 13:42:08        104.110770         30.65950   \n",
      "2327   2016-11-28 00:54:04        104.072258         30.69557   \n",
      "64719  2016-11-28 20:00:58        104.136040         30.66449   \n",
      "\n",
      "        dropoff_longitude  dropoff_latitude  ride_duration  \\\n",
      "175165          104.07986          30.65953      16.216667   \n",
      "90347           104.08466          30.66191      15.983333   \n",
      "156956          104.10318          30.64303      43.383333   \n",
      "2327            104.05166          30.50397      34.800000   \n",
      "64719           104.09766          30.66350      11.850000   \n",
      "\n",
      "                               driver_id        xpickup       ypickup  \\\n",
      "175165  0000131d486b69eb77ab6e9e7cca9f4c  415819.792338  3.390502e+06   \n",
      "90347   0000131d486b69eb77ab6e9e7cca9f4c  417586.447924  3.390068e+06   \n",
      "156956  0000131d486b69eb77ab6e9e7cca9f4c  414806.924203  3.392204e+06   \n",
      "2327    00002724a19c5f6a54ae8d60a378997e  411150.139917  3.396231e+06   \n",
      "64719   000042288ba964aa04d14869bd56efb6  417232.270787  3.392738e+06   \n",
      "\n",
      "             x_diff       y_diff     r_radial  theta_radial  \\\n",
      "175165  5329.350155 -1751.699625  5609.850680    -18.195134   \n",
      "90347   7096.005741 -2185.414316  7424.913010    -17.117686   \n",
      "156956  4316.482020   -49.105758  4316.761333     -0.651788   \n",
      "2327     659.697734  3978.246852  4032.573510     80.584535   \n",
      "64719   6741.828604   485.022867  6759.252925      4.114903   \n",
      "\n",
      "                r_radial_bin  \n",
      "175165  (4945.124, 5824.437]  \n",
      "90347    (7010.799, 9509.75]  \n",
      "156956  (4199.032, 4945.124]  \n",
      "2327    (3511.706, 4199.032]  \n",
      "64719   (5824.437, 7010.799]  \n",
      "checking bins name  theta_radial 10\n",
      "                                order_id ride_start_timestamp  \\\n",
      "175165  f727597b61fc2f0141aadecf2a3b5ee0  2016-11-01 11:57:05   \n",
      "90347   804a1a47f2b10dc36b7e909d9b977f02  2016-11-01 12:33:05   \n",
      "156956  dd9b252638479fb784b705492bdf1a65  2016-11-01 12:58:45   \n",
      "2327    03014caf7353cb92868d78b143bca071  2016-11-28 00:19:16   \n",
      "64719   504e0d59e3c0ae899a85c5e0551cb2b3  2016-11-28 19:49:07   \n",
      "\n",
      "       ride_stop_timestamp  pickup_longitude  pickup_latitude  \\\n",
      "175165 2016-11-01 12:13:18        104.121480         30.64421   \n",
      "90347  2016-11-01 12:49:04        104.139950         30.64042   \n",
      "156956 2016-11-01 13:42:08        104.110770         30.65950   \n",
      "2327   2016-11-28 00:54:04        104.072258         30.69557   \n",
      "64719  2016-11-28 20:00:58        104.136040         30.66449   \n",
      "\n",
      "        dropoff_longitude  dropoff_latitude  ride_duration  \\\n",
      "175165          104.07986          30.65953      16.216667   \n",
      "90347           104.08466          30.66191      15.983333   \n",
      "156956          104.10318          30.64303      43.383333   \n",
      "2327            104.05166          30.50397      34.800000   \n",
      "64719           104.09766          30.66350      11.850000   \n",
      "\n",
      "                               driver_id        xpickup       ypickup  \\\n",
      "175165  0000131d486b69eb77ab6e9e7cca9f4c  415819.792338  3.390502e+06   \n",
      "90347   0000131d486b69eb77ab6e9e7cca9f4c  417586.447924  3.390068e+06   \n",
      "156956  0000131d486b69eb77ab6e9e7cca9f4c  414806.924203  3.392204e+06   \n",
      "2327    00002724a19c5f6a54ae8d60a378997e  411150.139917  3.396231e+06   \n",
      "64719   000042288ba964aa04d14869bd56efb6  417232.270787  3.392738e+06   \n",
      "\n",
      "             x_diff       y_diff     r_radial  theta_radial  \\\n",
      "175165  5329.350155 -1751.699625  5609.850680    -18.195134   \n",
      "90347   7096.005741 -2185.414316  7424.913010    -17.117686   \n",
      "156956  4316.482020   -49.105758  4316.761333     -0.651788   \n",
      "2327     659.697734  3978.246852  4032.573510     80.584535   \n",
      "64719   6741.828604   485.022867  6759.252925      4.114903   \n",
      "\n",
      "                r_radial_bin   theta_radial_bin  \n",
      "175165  (4945.124, 5824.437]  (-38.414, -8.521]  \n",
      "90347    (7010.799, 9509.75]  (-38.414, -8.521]  \n",
      "156956  (4199.032, 4945.124]   (-8.521, 14.323]  \n",
      "2327    (3511.706, 4199.032]   (60.214, 88.383]  \n",
      "64719   (5824.437, 7010.799]   (-8.521, 14.323]  \n",
      "Dumping to /mnt/d/DiDi_Ride_Data/Ride_Data_Cache/radial_spatial_df.msgpack\n",
      "spatial\n",
      "Spatial Calculation done in 88.51662826538086\n",
      "/mnt/d/DiDi_Ride_Data/Ride_Data_Cache/merged_orders.msgpack exists\n",
      "orders\n",
      "Decay Calculation\n",
      "New Decay\n",
      "Creating the exponential decay\n",
      "Dumping to /mnt/d/DiDi_Ride_Data/Ride_Data_Cache/idle_times_new_10_pool_True.msgpack\n",
      "Decay Calculation done in 55.20471930503845\n",
      "1e\n",
      "/mnt/d/DiDi_Ride_Data/Ride_Data_Cache/features_orders.msgpack exists\n",
      "(1181102, 12)\n",
      "Features created in 0.9494853019714355\n",
      "1f\n",
      "/mnt/d/DiDi_Ride_Data/Ride_Data_Cache/radial_spatial_df.msgpack exists\n",
      "spatial\n",
      "Spatial Calculation done in 4.826740264892578\n",
      "/mnt/d/DiDi_Ride_Data/Ride_Data_Cache/merged_orders.msgpack exists\n",
      "orders\n",
      "Decay Calculation\n",
      "New Decay\n",
      "Creating the exponential decay\n",
      "Dumping to /mnt/d/DiDi_Ride_Data/Ride_Data_Cache/idle_times_new_100_pool_True.msgpack\n"
     ]
    },
    {
     "name": "stdout",
     "output_type": "stream",
     "text": [
      "Decay Calculation done in 53.767406702041626\n",
      "1e\n",
      "/mnt/d/DiDi_Ride_Data/Ride_Data_Cache/features_orders.msgpack exists\n",
      "(1181102, 12)\n",
      "Features created in 1.546173095703125\n",
      "1f\n",
      "/mnt/d/DiDi_Ride_Data/Ride_Data_Cache/radial_spatial_df.msgpack exists\n",
      "spatial\n",
      "Spatial Calculation done in 9.477373123168945\n"
     ]
    }
   ],
   "source": [
    "# Using the function create_modified_active_time_through_decay2 \n",
    "# instead of create_modified_active_time_through_decay\n",
    "df_final_new_decay1, target_df_new_decay1 = get_final_df_reg(use_cache=True, decay='New Decay', mult_factor=1, spatial_type=spatial_type, combine_pool=combine_pool)\n",
    "df_final_new_decay10, target_df_new_decay10 = get_final_df_reg(use_cache=True, decay='New Decay', mult_factor=10, spatial_type=spatial_type, combine_pool=combine_pool)\n",
    "df_final_new_decay100, target_df_new_decay100 = get_final_df_reg(use_cache=True, decay='New Decay', mult_factor=100, spatial_type=spatial_type, combine_pool=combine_pool)"
   ]
  },
  {
   "cell_type": "code",
   "execution_count": 10,
   "metadata": {},
   "outputs": [],
   "source": [
    "df_list = [df_final_no_decay, df_final_old_decay, df_final_new_decay1, \n",
    "           df_final_new_decay10, df_final_new_decay100]\n",
    "target_df_list = [target_df_no_decay, target_df_old_decay, target_df_new_decay1, \n",
    "                  target_df_new_decay10, target_df_new_decay100]\n",
    "name_list = ['no_decay', 'old_decay', 'new_decay1', 'new_decay10', 'new_decay100']"
   ]
  },
  {
   "cell_type": "code",
   "execution_count": 11,
   "metadata": {},
   "outputs": [
    {
     "name": "stdout",
     "output_type": "stream",
     "text": [
      "no_decay 1.099989670663499\n",
      "old_decay 0.013292670743085695\n",
      "new_decay1 0.013377337435716813\n",
      "new_decay10 0.017695338759903888\n",
      "new_decay100 0.021590006620935364\n"
     ]
    }
   ],
   "source": [
    "for name, target in zip(name_list, target_df_list):\n",
    "    print(name, 100*target[target.target > 1].shape[0]/target.shape[0])"
   ]
  },
  {
   "cell_type": "code",
   "execution_count": null,
   "metadata": {},
   "outputs": [],
   "source": [
    " target_df_new_decay100[target_df_new_decay100.target > 1].head(10)"
   ]
  },
  {
   "cell_type": "markdown",
   "metadata": {},
   "source": [
    "### Modelling Code "
   ]
  },
  {
   "cell_type": "markdown",
   "metadata": {},
   "source": [
    "We have till now coded the following models \n",
    "\n",
    "1. Linear Regression \n",
    "2. Linear Regression with L1 Regularization\n",
    "3. Linear Regression with L2 Regularization\n",
    "4. Random Forest Regressor "
   ]
  },
  {
   "cell_type": "markdown",
   "metadata": {},
   "source": [
    "Now we split the data in a ratio of 75:25"
   ]
  },
  {
   "cell_type": "code",
   "execution_count": 11,
   "metadata": {},
   "outputs": [],
   "source": [
    "from sklearn.model_selection import train_test_split\n",
    "from sklearn.preprocessing import OneHotEncoder, StandardScaler\n",
    "from sklearn.linear_model import LinearRegression, RidgeCV, LassoCV, ElasticNet\n",
    "from sklearn.ensemble import RandomForestRegressor"
   ]
  },
  {
   "cell_type": "code",
   "execution_count": 12,
   "metadata": {},
   "outputs": [],
   "source": [
    "def build_model(df, target_df, name, seed=0):\n",
    "    # regression forest\n",
    "    print(f'building regression model for {name}')\n",
    "    X = df    \n",
    "    xtrain, xtest, ytrain, ytest = train_test_split(X, target_df['target'], random_state=seed)\n",
    "\n",
    "    sc = StandardScaler()\n",
    "\n",
    "    xtrain_sc = sc.fit_transform(xtrain)\n",
    "\n",
    "    rr = RandomForestRegressor(random_state=seed, n_jobs=-1)\n",
    "    rr.fit(xtrain_sc, ytrain)\n",
    "\n",
    "    xtest_sc = sc.transform(xtest)\n",
    "    \n",
    "    print(rr.score(xtest_sc, ytest))\n",
    "    \n",
    "    return rr, rr.score(xtest_sc, ytest)"
   ]
  },
  {
   "cell_type": "code",
   "execution_count": null,
   "metadata": {},
   "outputs": [],
   "source": [
    "df_list = [df_final_no_decay, df_final_old_decay, df_final_new_decay1, \n",
    "           df_final_new_decay10, df_final_new_decay100, df_final_new_decay_surv]\n",
    "target_df_list = [target_df_no_decay, target_df_old_decay, target_df_new_decay1, \n",
    "                  target_df_new_decay10, target_df_new_decay100, target_df_new_decay_surv]\n",
    "name_list = ['no_decay', 'old_decay', 'new_decay1', 'new_decay10', 'new_decay100', 'survival']"
   ]
  },
  {
   "cell_type": "code",
   "execution_count": 14,
   "metadata": {},
   "outputs": [
    {
     "name": "stdout",
     "output_type": "stream",
     "text": [
      "building regression model for no_decay\n",
      "0.4649685077681313\n",
      "building regression model for old_decay\n",
      "0.6724090752882014\n",
      "building regression model for new_decay1\n",
      "0.6634822551987518\n",
      "building regression model for new_decay10\n",
      "0.7425964330381697\n",
      "building regression model for new_decay100\n",
      "0.7948263998299887\n"
     ]
    }
   ],
   "source": [
    "result = {}\n",
    "model = {}\n",
    "for df, target_df, name in zip(df_list, target_df_list, name_list):\n",
    "    model[name], result[name] = build_model(df, target_df, name)"
   ]
  },
  {
   "cell_type": "code",
   "execution_count": 15,
   "metadata": {},
   "outputs": [
    {
     "data": {
      "text/plain": [
       "{'no_decay': 0.4649685077681313,\n",
       " 'old_decay': 0.6724090752882014,\n",
       " 'new_decay1': 0.6634822551987518,\n",
       " 'new_decay10': 0.7425964330381697,\n",
       " 'new_decay100': 0.7948263998299887}"
      ]
     },
     "execution_count": 15,
     "metadata": {},
     "output_type": "execute_result"
    }
   ],
   "source": [
    "result"
   ]
  },
  {
   "cell_type": "code",
   "execution_count": null,
   "metadata": {},
   "outputs": [],
   "source": [
    "# list(new_df.columns)"
   ]
  },
  {
   "cell_type": "code",
   "execution_count": 17,
   "metadata": {},
   "outputs": [],
   "source": [
    "columns = df_final_new_decay100.columns"
   ]
  },
  {
   "cell_type": "code",
   "execution_count": 19,
   "metadata": {},
   "outputs": [],
   "source": [
    "importances = forest.feature_importances_"
   ]
  },
  {
   "cell_type": "code",
   "execution_count": 34,
   "metadata": {},
   "outputs": [],
   "source": [
    "import numpy as np"
   ]
  },
  {
   "cell_type": "code",
   "execution_count": 124,
   "metadata": {},
   "outputs": [],
   "source": [
    "\n",
    "\n",
    "def feature_importance(df, model, k = 10):\n",
    "    columns = df.columns\n",
    "    new_col = []\n",
    "    for col in columns:\n",
    "        if 'days' in col:\n",
    "            new_col += ['temporal']\n",
    "        elif '.' in col:\n",
    "            new_col += ['spatial']\n",
    "        else:\n",
    "            new_col += [col]\n",
    "    forest = model\n",
    "    X = df\n",
    "    importances = forest.feature_importances_\n",
    "    std = np.std([tree.feature_importances_ for tree in forest.estimators_],axis=0)\n",
    "    indices = np.argsort(importances)[::-1]\n",
    "    # Print the feature ranking\n",
    "    print(\"Feature ranking:\")\n",
    "\n",
    "# for f in range(X.shape[1]):\n",
    "#     print(\"%d. feature %d (%f)\" % (f + 1, indices[f], importances[indices[f]]))\n",
    "\n",
    "    for i in indices[0:k]:\n",
    "        print(columns[i], importances[i])\n",
    "\n",
    "    # # Plot the feature importances of the forest\n",
    "    fig, ax = plt.subplots(figsize=(24, 10)) \n",
    "    bar_x = range(k)\n",
    "    bar_height = np.log(10 ** 4 * importances[indices[0:k]])\n",
    "    bar_tick_label = [f'F{x}' for x in range(1, k+1)]\n",
    "    val = [new_col[x] for x in indices[0:k]]\n",
    "#     breakpoint()\n",
    "#     print(new_col[indices[0:k]])\n",
    "    bar_label = val\n",
    "    \n",
    "    bar_plot = plt.bar(bar_x,bar_height)#,tick_label=bar_tick_label, labelsize=20)\n",
    "    \n",
    "    def autolabel(rects):\n",
    "        for idx,rect in enumerate(bar_plot):\n",
    "            height = rect.get_height()\n",
    "#             print(height)\n",
    "            ax.text(rect.get_x() + rect.get_width()/2., 0.5, #0.5*height,\n",
    "                    bar_label[idx].title(), color='white',\n",
    "                    ha='center', va='bottom', rotation=90, fontsize=25)\n",
    "#             print()\n",
    "        \n",
    "    autolabel(bar_plot)\n",
    "    \n",
    "#     ax.bar(range(k), np.log(10 ** 4 * importances[indices:k]]))\n",
    "#     plt.title(\"Feature importances\")\n",
    "#     print()\n",
    "#     ax.bar(range(k), np.log(10 ** 4 * importances[indices[0:k]]),\n",
    "#             yerr=std[indices[0:k]], align=\"center\")\n",
    "#     plt.xticks(range(k), columns[indices[0:k]], rotation=90)\n",
    "#     plt.xlim([-1, k])\n",
    "    plt.ylim(0,10)\n",
    "#     plt.figsize(20,10)\n",
    "    plt.xticks([])\n",
    "\n",
    "    plt.ylabel('Scaled Log of Feature Importance', fontsize=25)\n",
    "\n",
    "#     plt.title('Feature Importance', fontsize=30)\n",
    "\n",
    "    plt.savefig(\"Feature_Importance.png\", bbox_inches='tight')\n",
    "    plt.show()"
   ]
  },
  {
   "cell_type": "code",
   "execution_count": 125,
   "metadata": {},
   "outputs": [
    {
     "name": "stdout",
     "output_type": "stream",
     "text": [
      "Feature ranking:\n",
      "num_total_rides 0.6424526463671741\n",
      "inactive_time 0.12443557957214348\n",
      "% of pool rides 0.028914372092708425\n",
      "(0 days 00:00:44.999999, 0 days 10:36:30]_count 0.012748310888819062\n",
      "(0 days 18:45:25, 0 days 23:59:59]_sum 0.009874574016017759\n",
      "(0 days 14:43:06, 0 days 18:45:25]_sum 0.008140735708655263\n",
      "(0 days 00:00:44.999999, 0 days 10:36:30]_sum 0.007061750780898936\n",
      "(9509.75, 78107.176](-180.001, -99.688] 0.006584356216630291\n",
      "(0 days 10:36:30, 0 days 14:43:06]_sum 0.00638144276892111\n",
      "(9509.75, 78107.176](-99.688, -38.414] 0.0037454332670955517\n"
     ]
    },
    {
     "data": {
      "image/png": "[encoded data removed]",
      "text/plain": [
       "<Figure size 1728x720 with 1 Axes>"
      ]
     },
     "metadata": {
      "needs_background": "light"
     },
     "output_type": "display_data"
    }
   ],
   "source": [
    "feature_importance(df_final_new_decay100, model['new_decay100'], k=10)"
   ]
  },
  {
   "cell_type": "code",
   "execution_count": null,
   "metadata": {},
   "outputs": [],
   "source": []
  },
  {
   "cell_type": "code",
   "execution_count": 104,
   "metadata": {},
   "outputs": [
    {
     "name": "stdout",
     "output_type": "stream",
     "text": [
      "Feature ranking:\n",
      "num_total_rides 0.5628969203472598\n",
      "inactive_time 0.17494781197831116\n",
      "% of pool rides 0.02176238580515264\n",
      "(0 days 00:00:44.999999, 0 days 10:36:30]_count 0.01699379600808195\n",
      "(0 days 00:00:44.999999, 0 days 10:36:30]_sum 0.01030695590282176\n",
      "(0 days 18:45:25, 0 days 23:59:59]_sum 0.010210041061632813\n",
      "(0 days 14:43:06, 0 days 18:45:25]_sum 0.008226843522201713\n",
      "(0 days 10:36:30, 0 days 14:43:06]_sum 0.006200373399551233\n",
      "(9509.75, 78107.176](-180.001, -99.688] 0.005330204743020752\n",
      "(0 days 14:43:06, 0 days 18:45:25]_count 0.0033492916761574372\n"
     ]
    },
    {
     "data": {
      "image/png": "[encoded data removed]",
      "text/plain": [
       "<Figure size 432x288 with 1 Axes>"
      ]
     },
     "metadata": {
      "needs_background": "light"
     },
     "output_type": "display_data"
    }
   ],
   "source": [
    "feature_importance(df_final_new_decay10, model['new_decay10'], k=10)"
   ]
  },
  {
   "cell_type": "code",
   "execution_count": null,
   "metadata": {},
   "outputs": [],
   "source": []
  },
  {
   "cell_type": "code",
   "execution_count": null,
   "metadata": {},
   "outputs": [],
   "source": [
    "forest = model['new_decay100']\n",
    "X = df_final_new_decay100\n",
    "importances = forest.feature_importances_\n",
    "std = np.std([tree.feature_importances_ for tree in forest.estimators_],\n",
    "             axis=0)\n",
    "indices = np.argsort(importances)[::-1]\n",
    "print(importances)\n",
    "\n",
    "print(indices)\n",
    "# Print the feature ranking\n",
    "print(\"Feature ranking:\")\n",
    "\n",
    "# for f in range(X.shape[1]):\n",
    "#     print(\"%d. feature %d (%f)\" % (f + 1, indices[f], importances[indices[f]]))\n",
    "\n",
    "for i in indices:\n",
    "    print(columns[i], importances[i])\n",
    "\n",
    "# Plot the feature importances of the forest\n",
    "plt.figure()\n",
    "plt.title(\"Feature importances\")\n",
    "plt.bar(range(X.shape[1]), importances[indices],\n",
    "       color=\"r\", yerr=std[indices], align=\"center\")\n",
    "plt.xticks(range(X.shape[1]), indices)\n",
    "plt.xlim([-1, X.shape[1]])\n",
    "plt.show()"
   ]
  },
  {
   "cell_type": "code",
   "execution_count": null,
   "metadata": {},
   "outputs": [],
   "source": []
  },
  {
   "cell_type": "code",
   "execution_count": null,
   "metadata": {},
   "outputs": [],
   "source": []
  },
  {
   "cell_type": "markdown",
   "metadata": {},
   "source": [
    "### Param Tuning"
   ]
  },
  {
   "cell_type": "code",
   "execution_count": 35,
   "metadata": {},
   "outputs": [],
   "source": [
    "def get_test_train(X, target_df, seed):\n",
    "    X = df    \n",
    "    xtrain, xtest, ytrain, ytest = train_test_split(X, target_df['target'], random_state=seed)\n",
    "\n",
    "    sc = StandardScaler()\n",
    "\n",
    "    xtrain_sc = sc.fit_transform(xtrain)\n",
    "    \n",
    "    xtest_sc = sc.transform(xtest)\n",
    "    \n",
    "    return xtrain_sc, xtest_sc, ytrain, ytest\n",
    "\n",
    "def build_model(xtrain_sc, \n",
    "                xtest_sc, \n",
    "                ytrain,\n",
    "                ytest, \n",
    "                name,\n",
    "                seed=0,\n",
    "                n_estimators=100,\n",
    "                max_depth=None,\n",
    "                min_samples_split=2,\n",
    "                max_features='auto'):\n",
    "    \n",
    "    # regression forest\n",
    "     \n",
    "    params = {'n_estimators': n_estimators,\n",
    "             'max_depth': max_depth,\n",
    "             'min_samples_split': min_samples_split,\n",
    "             'max_features': max_features} \n",
    "\n",
    "    rr = RandomForestRegressor(random_state=seed, n_jobs=-1, **params)\n",
    "    rr.fit(xtrain_sc, ytrain)\n",
    "\n",
    "    print(rr.score(xtest_sc, ytest))\n",
    "    \n",
    "    return rr, rr.score(xtest_sc, ytest)"
   ]
  },
  {
   "cell_type": "code",
   "execution_count": 36,
   "metadata": {},
   "outputs": [],
   "source": [
    "# Param tuning\n",
    "params = {'n_estimators': [10, 50, 100, 150, 200],\n",
    "         'max_depth': [5, 10, 20, 25, 50],\n",
    "         'min_samples_split': [2, 4, 8, 16, 32],\n",
    "         'max_features': ['sqrt', 'log2']}"
   ]
  },
  {
   "cell_type": "code",
   "execution_count": 30,
   "metadata": {},
   "outputs": [],
   "source": [
    "df_list = [df_final_new_decay100]\n",
    "target_df_list = [target_df_new_decay100]\n",
    "name_list = ['new_decay100']"
   ]
  },
  {
   "cell_type": "code",
   "execution_count": 26,
   "metadata": {
    "scrolled": true
   },
   "outputs": [],
   "source": [
    "xtrain_sc, xtest_sc, ytrain, ytest = get_test_train(df_final_new_decay100, target_df_new_decay100, 0)"
   ]
  },
  {
   "cell_type": "code",
   "execution_count": null,
   "metadata": {
    "scrolled": true
   },
   "outputs": [
    {
     "name": "stdout",
     "output_type": "stream",
     "text": [
      "n_estimators = 10\n",
      "0.794427381704192\n",
      "n_estimators = 50\n"
     ]
    }
   ],
   "source": [
    "# num estimators\n",
    "for n in params['n_estimators']:\n",
    "    print(f\"n_estimators = {n}\")\n",
    "    build_model(xtrain_sc, xtest_sc, ytrain, ytest, 'new_decay100', n_estimators=n)"
   ]
  },
  {
   "cell_type": "code",
   "execution_count": null,
   "metadata": {},
   "outputs": [],
   "source": []
  }
 ],
 "metadata": {
  "hide_input": false,
  "kernelspec": {
   "display_name": "Python 3",
   "language": "python",
   "name": "python3"
  },
  "language_info": {
   "codemirror_mode": {
    "name": "ipython",
    "version": 3
   },
   "file_extension": ".py",
   "mimetype": "text/x-python",
   "name": "python",
   "nbconvert_exporter": "python",
   "pygments_lexer": "ipython3",
   "version": "3.6.8"
  }
 },
 "nbformat": 4,
 "nbformat_minor": 2
}
