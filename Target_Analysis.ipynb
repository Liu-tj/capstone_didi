{
 "cells": [
  {
   "cell_type": "code",
   "execution_count": 1,
   "metadata": {},
   "outputs": [],
   "source": [
    "import sys\n",
    "from sys import platform\n",
    "if platform  == 'win32':\n",
    "    sys.argv=[\"_\", r\"P:\\rmahajan14\\capstone_data\\data\", r\"P:\\rmahajan14\\capstone_data\\cache\"]\n",
    "if platform == 'linux' or platform == 'linux2':\n",
    "    def full_path(p):\n",
    "        return os.path.abspath(os.path.expanduser(p))\n",
    "    sys.argv=[\"_\", r\"/mnt/d/DiDi_Ride_Data/data\", r\"/mnt/d/DiDi_Ride_Data/Ride_Data_Cache\"]"
   ]
  },
  {
   "cell_type": "code",
   "execution_count": 2,
   "metadata": {},
   "outputs": [],
   "source": [
    "import matplotlib.pyplot as plt\n",
    "import numpy as np\n",
    "%load_ext autoreload\n",
    "%autoreload 2"
   ]
  },
  {
   "cell_type": "code",
   "execution_count": 3,
   "metadata": {},
   "outputs": [],
   "source": [
    "from loader1 import *\n",
    "from utils import *\n",
    "from common import *\n",
    "from experiment2 import *\n",
    "# from sys import platform\n",
    "\n",
    "import warnings\n",
    "warnings.filterwarnings('ignore')"
   ]
  },
  {
   "cell_type": "code",
   "execution_count": 4,
   "metadata": {},
   "outputs": [],
   "source": [
    "import time"
   ]
  },
  {
   "cell_type": "markdown",
   "metadata": {},
   "source": [
    "Basic Coding "
   ]
  },
  {
   "cell_type": "code",
   "execution_count": 5,
   "metadata": {},
   "outputs": [],
   "source": [
    "spatial_type = 'radial'\n",
    "combine_pool = True"
   ]
  },
  {
   "cell_type": "code",
   "execution_count": 14,
   "metadata": {
    "scrolled": false
   },
   "outputs": [
    {
     "name": "stdout",
     "output_type": "stream",
     "text": [
      "../Ride_Data_Cache/merged_orders.msgpack exists\n",
      "orders\n",
      "Decay Calculation\n",
      "No Decay\n",
      "Dumping to ../Ride_Data_Cache/active_times_pool_True.msgpack\n",
      "Decay Calculation done in 157.94339108467102\n",
      "1e\n",
      "../Ride_Data_Cache/features_orders.msgpack exists\n",
      "Features created in 0.7697837352752686\n",
      "1f\n",
      "../Ride_Data_Cache/radial_spatial_df.msgpack exists\n",
      "spatial\n",
      "Spatial Calculation done in 3.53960919380188\n"
     ]
    }
   ],
   "source": [
    "df_final_no_decay, target_df_no_decay = get_final_df_reg(use_cache=True, decay='No Decay', \n",
    "                                                         spatial_type=spatial_type, combine_pool=combine_pool)"
   ]
  },
  {
   "cell_type": "code",
   "execution_count": 15,
   "metadata": {
    "scrolled": true
   },
   "outputs": [
    {
     "name": "stdout",
     "output_type": "stream",
     "text": [
      "../Ride_Data_Cache/merged_orders.msgpack exists\n",
      "orders\n",
      "Decay Calculation\n",
      "Old Decay\n",
      "Creating the exponential decay\n",
      "Dumping to ../Ride_Data_Cache/idle_times_old_pool_True.msgpack\n",
      "Decay Calculation done in 80.89270806312561\n",
      "1e\n",
      "../Ride_Data_Cache/features_orders.msgpack exists\n",
      "Features created in 0.7354192733764648\n",
      "1f\n",
      "../Ride_Data_Cache/radial_spatial_df.msgpack exists\n",
      "spatial\n",
      "Spatial Calculation done in 3.5862350463867188\n"
     ]
    }
   ],
   "source": [
    "df_final_old_decay, target_df_old_decay = get_final_df_reg(use_cache=True, decay='Old Decay',\n",
    "                                                           spatial_type=spatial_type,combine_pool=combine_pool)"
   ]
  },
  {
   "cell_type": "code",
   "execution_count": 16,
   "metadata": {
    "scrolled": true
   },
   "outputs": [
    {
     "name": "stdout",
     "output_type": "stream",
     "text": [
      "../Ride_Data_Cache/merged_orders.msgpack exists\n",
      "orders\n",
      "Decay Calculation\n",
      "New Decay\n",
      "Creating the exponential decay\n",
      "Dumping to ../Ride_Data_Cache/idle_times_new_1_pool_True.msgpack\n",
      "Decay Calculation done in 83.97497582435608\n",
      "1e\n",
      "../Ride_Data_Cache/features_orders.msgpack exists\n",
      "Features created in 0.8196830749511719\n",
      "1f\n",
      "../Ride_Data_Cache/radial_spatial_df.msgpack exists\n",
      "spatial\n",
      "Spatial Calculation done in 4.19228196144104\n",
      "../Ride_Data_Cache/merged_orders.msgpack exists\n",
      "orders\n",
      "Decay Calculation\n",
      "New Decay\n",
      "Creating the exponential decay\n",
      "Dumping to ../Ride_Data_Cache/idle_times_new_10_pool_True.msgpack\n",
      "Decay Calculation done in 86.13810801506042\n",
      "1e\n",
      "../Ride_Data_Cache/features_orders.msgpack exists\n",
      "Features created in 0.7940101623535156\n",
      "1f\n",
      "../Ride_Data_Cache/radial_spatial_df.msgpack exists\n",
      "spatial\n",
      "Spatial Calculation done in 4.480083227157593\n",
      "../Ride_Data_Cache/merged_orders.msgpack exists\n",
      "orders\n",
      "Decay Calculation\n",
      "New Decay\n",
      "Creating the exponential decay\n",
      "Dumping to ../Ride_Data_Cache/idle_times_new_100_pool_True.msgpack\n",
      "Decay Calculation done in 84.77354907989502\n",
      "1e\n",
      "../Ride_Data_Cache/features_orders.msgpack exists\n",
      "Features created in 0.7941267490386963\n",
      "1f\n",
      "../Ride_Data_Cache/radial_spatial_df.msgpack exists\n",
      "spatial\n",
      "Spatial Calculation done in 3.405467987060547\n"
     ]
    }
   ],
   "source": [
    "# Using the function create_modified_active_time_through_decay2 \n",
    "# instead of create_modified_active_time_through_decay\n",
    "df_final_new_decay1, target_df_new_decay1 = get_final_df_reg(use_cache=True, decay='New Decay', mult_factor=1, spatial_type=spatial_type, combine_pool=combine_pool)\n",
    "df_final_new_decay10, target_df_new_decay10 = get_final_df_reg(use_cache=True, decay='New Decay', mult_factor=10, spatial_type=spatial_type, combine_pool=combine_pool)\n",
    "df_final_new_decay100, target_df_new_decay100 = get_final_df_reg(use_cache=True, decay='New Decay', mult_factor=100, spatial_type=spatial_type, combine_pool=combine_pool)"
   ]
  },
  {
   "cell_type": "code",
   "execution_count": null,
   "metadata": {},
   "outputs": [],
   "source": [
    "# new_df = df_final_new_decay100[df_final_new_decay100['num_pool_rides'] == 0]"
   ]
  },
  {
   "cell_type": "code",
   "execution_count": 19,
   "metadata": {},
   "outputs": [
    {
     "data": {
      "text/html": [
       "<div>\n",
       "<style scoped>\n",
       "    .dataframe tbody tr th:only-of-type {\n",
       "        vertical-align: middle;\n",
       "    }\n",
       "\n",
       "    .dataframe tbody tr th {\n",
       "        vertical-align: top;\n",
       "    }\n",
       "\n",
       "    .dataframe thead th {\n",
       "        text-align: right;\n",
       "    }\n",
       "</style>\n",
       "<table border=\"1\" class=\"dataframe\">\n",
       "  <thead>\n",
       "    <tr style=\"text-align: right;\">\n",
       "      <th></th>\n",
       "      <th>driver_id</th>\n",
       "      <th>ride_duration</th>\n",
       "      <th>modified_active_time</th>\n",
       "      <th>inactive_time</th>\n",
       "      <th>target</th>\n",
       "    </tr>\n",
       "  </thead>\n",
       "  <tbody>\n",
       "    <tr>\n",
       "      <td>0</td>\n",
       "      <td>0000131d486b69eb77ab6e9e7cca9f4c</td>\n",
       "      <td>75.583333</td>\n",
       "      <td>98.127329</td>\n",
       "      <td>6.922671</td>\n",
       "      <td>0.770258</td>\n",
       "    </tr>\n",
       "    <tr>\n",
       "      <td>1</td>\n",
       "      <td>00002724a19c5f6a54ae8d60a378997e</td>\n",
       "      <td>34.800000</td>\n",
       "      <td>34.800000</td>\n",
       "      <td>0.000000</td>\n",
       "      <td>1.000000</td>\n",
       "    </tr>\n",
       "  </tbody>\n",
       "</table>\n",
       "</div>"
      ],
      "text/plain": [
       "                          driver_id  ride_duration  modified_active_time  \\\n",
       "0  0000131d486b69eb77ab6e9e7cca9f4c      75.583333             98.127329   \n",
       "1  00002724a19c5f6a54ae8d60a378997e      34.800000             34.800000   \n",
       "\n",
       "   inactive_time    target  \n",
       "0       6.922671  0.770258  \n",
       "1       0.000000  1.000000  "
      ]
     },
     "execution_count": 19,
     "metadata": {},
     "output_type": "execute_result"
    }
   ],
   "source": [
    "target_df_new_decay10.head(2)"
   ]
  },
  {
   "cell_type": "code",
   "execution_count": null,
   "metadata": {},
   "outputs": [],
   "source": [
    "# df_final_new_decay100.sort_values('num_pool_rides', ascending=False).head(5)"
   ]
  },
  {
   "cell_type": "code",
   "execution_count": null,
   "metadata": {},
   "outputs": [],
   "source": [
    "# start = '2016-11-01'\n",
    "# end = '2016-11-30'\n",
    "# orders = merge_order_df(start=start, end=end, use_cache=True)"
   ]
  },
  {
   "cell_type": "code",
   "execution_count": null,
   "metadata": {},
   "outputs": [],
   "source": [
    "\n",
    "# orders[['ride_start_timestamp', 'ride_stop_timestamp']][orders.driver_id == '3d5914545a97b002450e7769d7e51df3'].sort_values('ride_start_timestamp')"
   ]
  },
  {
   "cell_type": "code",
   "execution_count": null,
   "metadata": {},
   "outputs": [],
   "source": []
  },
  {
   "cell_type": "code",
   "execution_count": null,
   "metadata": {},
   "outputs": [],
   "source": [
    "# new_target_df = target_df_new_decay100[target_df_new_decay100.driver_id.isin(list(new_df.index))]"
   ]
  },
  {
   "cell_type": "code",
   "execution_count": null,
   "metadata": {},
   "outputs": [],
   "source": [
    "# new_target_df.head(2)"
   ]
  },
  {
   "cell_type": "code",
   "execution_count": null,
   "metadata": {},
   "outputs": [],
   "source": [
    "# new_df.head(2)"
   ]
  },
  {
   "cell_type": "code",
   "execution_count": null,
   "metadata": {},
   "outputs": [],
   "source": [
    "# new_target_df.shape, new_df.shape"
   ]
  },
  {
   "cell_type": "code",
   "execution_count": null,
   "metadata": {},
   "outputs": [],
   "source": [
    "# new_target_df[new_target_df.target > 1].shape"
   ]
  },
  {
   "cell_type": "code",
   "execution_count": null,
   "metadata": {},
   "outputs": [],
   "source": []
  },
  {
   "cell_type": "code",
   "execution_count": 20,
   "metadata": {
    "scrolled": true
   },
   "outputs": [
    {
     "name": "stdout",
     "output_type": "stream",
     "text": [
      "../Ride_Data_Cache/merged_orders.msgpack exists\n",
      "orders\n",
      "Decay Calculation\n",
      "Survival\n",
      "Creating the Survival Functions\n",
      "Dumping to ../Ride_Data_Cache/survival_probability_df_pool_True.msgpack\n",
      "Decay Calculation done in 88.94033575057983\n",
      "1e\n",
      "../Ride_Data_Cache/features_orders.msgpack exists\n",
      "Features created in 0.7728550434112549\n",
      "1f\n",
      "../Ride_Data_Cache/radial_spatial_df.msgpack exists\n",
      "spatial\n",
      "Spatial Calculation done in 3.93611478805542\n"
     ]
    }
   ],
   "source": [
    "# Using the function create_modified_active_time_through_decay2 \n",
    "# instead of create_modified_active_time_through_decay\n",
    "df_final_new_decay_surv, target_df_new_decay_surv = get_final_df_reg(use_cache=True, decay='Survival', \n",
    "                                                                     spatial_type=spatial_type, combine_pool=combine_pool)"
   ]
  },
  {
   "cell_type": "code",
   "execution_count": 21,
   "metadata": {},
   "outputs": [],
   "source": [
    "df_list = [df_final_no_decay, df_final_old_decay, df_final_new_decay1, \n",
    "           df_final_new_decay10, df_final_new_decay100, df_final_new_decay_surv]\n",
    "target_df_list = [target_df_no_decay, target_df_old_decay, target_df_new_decay1, \n",
    "                  target_df_new_decay10, target_df_new_decay100, target_df_new_decay_surv]\n",
    "name_list = ['no_decay', 'old_decay', 'new_decay1', 'new_decay10', 'new_decay100', 'survival']"
   ]
  },
  {
   "cell_type": "code",
   "execution_count": 22,
   "metadata": {},
   "outputs": [
    {
     "name": "stdout",
     "output_type": "stream",
     "text": [
      "no_decay 3.5576097576669925\n",
      "old_decay 1.668103178218308\n",
      "new_decay1 1.7314338643063851\n",
      "new_decay10 2.6098508003542453\n",
      "new_decay100 3.1153109553620264\n",
      "survival 0.0\n"
     ]
    }
   ],
   "source": [
    "for name, target in zip(name_list, target_df_list):\n",
    "    print(name, 100*target[target.target > 1].shape[0]/target.shape[0])"
   ]
  },
  {
   "cell_type": "markdown",
   "metadata": {},
   "source": [
    "Now to debug why greater than 0%"
   ]
  },
  {
   "cell_type": "code",
   "execution_count": null,
   "metadata": {},
   "outputs": [],
   "source": [
    "# start = '2016-11-01'\n",
    "# end = '2016-11-30'\n",
    "# orders = merge_order_df(start=start, end=end, use_cache=True)"
   ]
  },
  {
   "cell_type": "code",
   "execution_count": null,
   "metadata": {},
   "outputs": [],
   "source": [
    "# tmp = orders[['driver_id', 'ride_start_timestamp', 'ride_stop_timestamp', 'ride_duration']][orders.driver_id == '0001860739024029fa3da2cad0ed4de2']"
   ]
  },
  {
   "cell_type": "code",
   "execution_count": null,
   "metadata": {},
   "outputs": [],
   "source": [
    "# tmp['ride_duration'].sum()"
   ]
  },
  {
   "cell_type": "code",
   "execution_count": null,
   "metadata": {},
   "outputs": [],
   "source": [
    "# tmp.sort_values('ride_start_timestamp').head(10)"
   ]
  },
  {
   "cell_type": "code",
   "execution_count": null,
   "metadata": {},
   "outputs": [],
   "source": [
    "# actual_ride_duration = 53 + 32 + 31 + 58 + 48 + 27 + 22\n",
    "# actual_ride_duration"
   ]
  },
  {
   "cell_type": "code",
   "execution_count": null,
   "metadata": {},
   "outputs": [],
   "source": [
    "# Printing results for 0001860739024029fa3da2cad0ed4de2\n",
    "\n",
    "# target_df = create_modified_active_time_through_decay2(orders, use_cache=False, save_file=False, mult_factor=100)"
   ]
  },
  {
   "cell_type": "markdown",
   "metadata": {},
   "source": [
    "We can see that ride duration is summed 3 times which have overlapping periods due to which it becomes greater than 1. Also as you can see above, the actual inactive time in row 33721 should be 28 but we make it 95 which cuts 60 minutes from the drives active time further increasing the error"
   ]
  },
  {
   "cell_type": "code",
   "execution_count": null,
   "metadata": {},
   "outputs": [],
   "source": [
    "# target_df[target_df.ride_duration > target_df.modified_active_time].head(10)"
   ]
  },
  {
   "cell_type": "code",
   "execution_count": null,
   "metadata": {},
   "outputs": [],
   "source": [
    "# val = ['0001860739024029fa3da2cad0ed4de2', '000211a97ba2b768ef941593bf1ae1a5', '0009cc512604d27cc3e819ab6b954fca', '3d5914545a97b002450e7769d7e51df3']"
   ]
  },
  {
   "cell_type": "code",
   "execution_count": null,
   "metadata": {},
   "outputs": [],
   "source": [
    "# order_filter = orders[orders.driver_id.isin(val)]"
   ]
  },
  {
   "cell_type": "code",
   "execution_count": null,
   "metadata": {},
   "outputs": [],
   "source": [
    "# order_filter.head(10)"
   ]
  },
  {
   "cell_type": "markdown",
   "metadata": {},
   "source": [
    "Now to see those who are active for more than 20 hours "
   ]
  },
  {
   "cell_type": "code",
   "execution_count": null,
   "metadata": {},
   "outputs": [],
   "source": [
    "# target_df.sort_values('modified_active_time', ascending=False).head(5)"
   ]
  },
  {
   "cell_type": "code",
   "execution_count": null,
   "metadata": {
    "scrolled": true
   },
   "outputs": [],
   "source": [
    "# Printing results for d18747ec3c039917014c1b397b528d97\n",
    "\n",
    "# target_df_new = create_modified_active_time_through_decay2(orders, use_cache=False, save_file=False, mult_factor=100)"
   ]
  },
  {
   "cell_type": "code",
   "execution_count": null,
   "metadata": {},
   "outputs": [],
   "source": [
    "\n",
    "\n",
    "\n",
    "# orders[['ride_start_timestamp', 'ride_stop_timestamp', 'ride_duration']][orders.driver_id == 'd18747ec3c039917014c1b397b528d97'].sort_values('ride_start_timestamp')"
   ]
  },
  {
   "cell_type": "markdown",
   "metadata": {},
   "source": [
    "In essence we are always saying a driver will be active between rides for 10 minutes at least "
   ]
  },
  {
   "cell_type": "markdown",
   "metadata": {},
   "source": [
    "### Modelling Code "
   ]
  },
  {
   "cell_type": "markdown",
   "metadata": {},
   "source": [
    "We have till now coded the following models \n",
    "\n",
    "1. Linear Regression \n",
    "2. Linear Regression with L1 Regularization\n",
    "3. Linear Regression with L2 Regularization\n",
    "4. Random Forest Regressor "
   ]
  },
  {
   "cell_type": "markdown",
   "metadata": {},
   "source": [
    "Now we split the data in a ratio of 75:25"
   ]
  },
  {
   "cell_type": "code",
   "execution_count": 23,
   "metadata": {},
   "outputs": [],
   "source": [
    "from sklearn.model_selection import train_test_split\n",
    "from sklearn.preprocessing import OneHotEncoder, StandardScaler\n",
    "from sklearn.linear_model import LinearRegression, RidgeCV, LassoCV, ElasticNet\n",
    "from sklearn.ensemble import RandomForestRegressor"
   ]
  },
  {
   "cell_type": "code",
   "execution_count": 24,
   "metadata": {},
   "outputs": [],
   "source": [
    "def build_model(df, target_df, name, seed=0):\n",
    "    # regression forest\n",
    "    print(f'building regression model for {name}')\n",
    "    X = df    \n",
    "    xtrain, xtest, ytrain, ytest = train_test_split(X, target_df['target'], random_state=seed)\n",
    "\n",
    "    sc = StandardScaler()\n",
    "\n",
    "    xtrain_sc = sc.fit_transform(xtrain)\n",
    "\n",
    "    rr = RandomForestRegressor(random_state=seed)\n",
    "    rr.fit(xtrain_sc, ytrain)\n",
    "\n",
    "    xtest_sc = sc.transform(xtest)\n",
    "    \n",
    "    print(rr.score(xtest_sc, ytest))\n",
    "    \n",
    "    return rr, rr.score(xtest_sc, ytest)"
   ]
  },
  {
   "cell_type": "code",
   "execution_count": null,
   "metadata": {},
   "outputs": [],
   "source": [
    "# df_final_new_decay_surv.shape, target_df_new_decay_surv.shape\n",
    "# df_final_no_decay.shape, target_df_no_decay.shape"
   ]
  },
  {
   "cell_type": "code",
   "execution_count": 25,
   "metadata": {},
   "outputs": [],
   "source": [
    "df_list = [df_final_no_decay, df_final_old_decay, df_final_new_decay1, \n",
    "           df_final_new_decay10, df_final_new_decay100, df_final_new_decay_surv]\n",
    "target_df_list = [target_df_no_decay, target_df_old_decay, target_df_new_decay1, \n",
    "                  target_df_new_decay10, target_df_new_decay100, target_df_new_decay_surv]\n",
    "name_list = ['no_decay', 'old_decay', 'new_decay1', 'new_decay10', 'new_decay100', 'survival']"
   ]
  },
  {
   "cell_type": "code",
   "execution_count": null,
   "metadata": {},
   "outputs": [],
   "source": [
    "# df_list = [new_df]\n",
    "# target_df_list = [new_target_df]\n",
    "# name_list = ['No_Pool']"
   ]
  },
  {
   "cell_type": "code",
   "execution_count": 26,
   "metadata": {},
   "outputs": [
    {
     "name": "stdout",
     "output_type": "stream",
     "text": [
      "building regression model for no_decay\n",
      "0.48343639417427986\n",
      "building regression model for old_decay\n",
      "0.6722583950028619\n",
      "building regression model for new_decay1\n",
      "0.6636007411090458\n",
      "building regression model for new_decay10\n",
      "0.7451740088638229\n",
      "building regression model for new_decay100\n",
      "0.7831783074492021\n",
      "building regression model for survival\n",
      "0.8868303495124121\n"
     ]
    }
   ],
   "source": [
    "result = {}\n",
    "model = {}\n",
    "for df, target_df, name in zip(df_list, target_df_list, name_list):\n",
    "    model[name], result[name] = build_model(df, target_df, name)"
   ]
  },
  {
   "cell_type": "code",
   "execution_count": null,
   "metadata": {},
   "outputs": [],
   "source": [
    "# df_list = [df_final_new_decay100]\n",
    "# target_df_list = [target_df_new_decay100]\n",
    "# name_list = ['Decay100']"
   ]
  },
  {
   "cell_type": "code",
   "execution_count": null,
   "metadata": {},
   "outputs": [],
   "source": [
    "# for df, target_df, name in zip(df_list, target_df_list, name_list):\n",
    "#     model[name], result[name] = build_model(df, target_df, name)"
   ]
  },
  {
   "cell_type": "code",
   "execution_count": null,
   "metadata": {},
   "outputs": [],
   "source": [
    "# result"
   ]
  },
  {
   "cell_type": "code",
   "execution_count": 27,
   "metadata": {},
   "outputs": [
    {
     "data": {
      "text/plain": [
       "{'no_decay': 0.48343639417427986,\n",
       " 'old_decay': 0.6722583950028619,\n",
       " 'new_decay1': 0.6636007411090458,\n",
       " 'new_decay10': 0.7451740088638229,\n",
       " 'new_decay100': 0.7831783074492021,\n",
       " 'survival': 0.8868303495124121}"
      ]
     },
     "execution_count": 27,
     "metadata": {},
     "output_type": "execute_result"
    }
   ],
   "source": [
    "result"
   ]
  },
  {
   "cell_type": "code",
   "execution_count": null,
   "metadata": {},
   "outputs": [],
   "source": [
    "# list(new_df.columns)"
   ]
  },
  {
   "cell_type": "code",
   "execution_count": 29,
   "metadata": {},
   "outputs": [
    {
     "name": "stdout",
     "output_type": "stream",
     "text": [
      "Feature ranking:\n",
      "1. feature 111 (0.403077)\n",
      "2. feature 2 (0.275223)\n",
      "3. feature 0 (0.116423)\n",
      "4. feature 3 (0.009938)\n",
      "5. feature 10 (0.009307)\n",
      "6. feature 9 (0.008606)\n",
      "7. feature 7 (0.007390)\n",
      "8. feature 8 (0.006858)\n",
      "9. feature 101 (0.006047)\n",
      "10. feature 104 (0.003481)\n",
      "11. feature 105 (0.003107)\n",
      "12. feature 110 (0.002966)\n",
      "13. feature 106 (0.002801)\n",
      "14. feature 5 (0.002767)\n",
      "15. feature 57 (0.002407)\n",
      "16. feature 84 (0.002325)\n",
      "17. feature 6 (0.002299)\n",
      "18. feature 88 (0.002236)\n",
      "19. feature 12 (0.002235)\n",
      "20. feature 81 (0.002199)\n",
      "21. feature 109 (0.002182)\n",
      "22. feature 49 (0.002140)\n",
      "23. feature 4 (0.002110)\n",
      "24. feature 39 (0.002103)\n",
      "25. feature 80 (0.002094)\n",
      "26. feature 94 (0.002093)\n",
      "27. feature 47 (0.001959)\n",
      "28. feature 78 (0.001942)\n",
      "29. feature 69 (0.001934)\n",
      "30. feature 92 (0.001929)\n",
      "31. feature 79 (0.001872)\n",
      "32. feature 23 (0.001837)\n",
      "33. feature 53 (0.001816)\n",
      "34. feature 90 (0.001796)\n",
      "35. feature 26 (0.001793)\n",
      "36. feature 35 (0.001716)\n",
      "37. feature 91 (0.001702)\n",
      "38. feature 86 (0.001696)\n",
      "39. feature 65 (0.001689)\n",
      "40. feature 33 (0.001681)\n",
      "41. feature 82 (0.001659)\n",
      "42. feature 63 (0.001658)\n",
      "43. feature 71 (0.001658)\n",
      "44. feature 67 (0.001651)\n",
      "45. feature 16 (0.001636)\n",
      "46. feature 11 (0.001631)\n",
      "47. feature 108 (0.001615)\n",
      "48. feature 22 (0.001591)\n",
      "49. feature 55 (0.001583)\n",
      "50. feature 45 (0.001582)\n",
      "51. feature 38 (0.001562)\n",
      "52. feature 70 (0.001552)\n",
      "53. feature 43 (0.001538)\n",
      "54. feature 25 (0.001536)\n",
      "55. feature 93 (0.001515)\n",
      "56. feature 21 (0.001508)\n",
      "57. feature 76 (0.001501)\n",
      "58. feature 85 (0.001486)\n",
      "59. feature 52 (0.001466)\n",
      "60. feature 107 (0.001464)\n",
      "61. feature 24 (0.001444)\n",
      "62. feature 68 (0.001427)\n",
      "63. feature 37 (0.001426)\n",
      "64. feature 15 (0.001408)\n",
      "65. feature 13 (0.001405)\n",
      "66. feature 74 (0.001403)\n",
      "67. feature 34 (0.001372)\n",
      "68. feature 58 (0.001331)\n",
      "69. feature 28 (0.001330)\n",
      "70. feature 64 (0.001314)\n",
      "71. feature 17 (0.001303)\n",
      "72. feature 61 (0.001283)\n",
      "73. feature 96 (0.001279)\n",
      "74. feature 59 (0.001278)\n",
      "75. feature 73 (0.001276)\n",
      "76. feature 102 (0.001273)\n",
      "77. feature 18 (0.001271)\n",
      "78. feature 51 (0.001271)\n",
      "79. feature 56 (0.001267)\n",
      "80. feature 50 (0.001262)\n",
      "81. feature 41 (0.001256)\n",
      "82. feature 48 (0.001255)\n",
      "83. feature 103 (0.001254)\n",
      "84. feature 27 (0.001244)\n",
      "85. feature 32 (0.001229)\n",
      "86. feature 62 (0.001154)\n",
      "87. feature 44 (0.001137)\n",
      "88. feature 46 (0.001135)\n",
      "89. feature 29 (0.001131)\n",
      "90. feature 98 (0.001131)\n",
      "91. feature 100 (0.001118)\n",
      "92. feature 75 (0.001115)\n",
      "93. feature 99 (0.001097)\n",
      "94. feature 66 (0.001090)\n",
      "95. feature 42 (0.001080)\n",
      "96. feature 40 (0.001078)\n",
      "97. feature 19 (0.001059)\n",
      "98. feature 83 (0.001048)\n",
      "99. feature 60 (0.001020)\n",
      "100. feature 97 (0.001018)\n",
      "101. feature 54 (0.001008)\n",
      "102. feature 31 (0.000977)\n",
      "103. feature 36 (0.000966)\n",
      "104. feature 14 (0.000957)\n",
      "105. feature 30 (0.000874)\n",
      "106. feature 87 (0.000856)\n",
      "107. feature 20 (0.000814)\n",
      "108. feature 77 (0.000810)\n",
      "109. feature 95 (0.000721)\n",
      "110. feature 72 (0.000717)\n",
      "111. feature 89 (0.000698)\n",
      "112. feature 1 (0.000164)\n"
     ]
    },
    {
     "data": {
      "image/png": "[encoded data removed]",
      "text/plain": [
       "<Figure size 432x288 with 1 Axes>"
      ]
     },
     "metadata": {
      "needs_background": "light"
     },
     "output_type": "display_data"
    }
   ],
   "source": [
    "forest = model['new_decay100']\n",
    "X = df_final_new_decay100\n",
    "importances = forest.feature_importances_\n",
    "std = np.std([tree.feature_importances_ for tree in forest.estimators_],\n",
    "             axis=0)\n",
    "indices = np.argsort(importances)[::-1]\n",
    "\n",
    "# Print the feature ranking\n",
    "print(\"Feature ranking:\")\n",
    "\n",
    "for f in range(X.shape[1]):\n",
    "    print(\"%d. feature %d (%f)\" % (f + 1, indices[f], importances[indices[f]]))\n",
    "\n",
    "# Plot the feature importances of the forest\n",
    "plt.figure()\n",
    "plt.title(\"Feature importances\")\n",
    "plt.bar(range(X.shape[1]), importances[indices],\n",
    "       color=\"r\", yerr=std[indices], align=\"center\")\n",
    "plt.xticks(range(X.shape[1]), indices)\n",
    "plt.xlim([-1, X.shape[1]])\n",
    "plt.show()"
   ]
  },
  {
   "cell_type": "code",
   "execution_count": 31,
   "metadata": {},
   "outputs": [
    {
     "name": "stdout",
     "output_type": "stream",
     "text": [
      "Feature ranking:\n",
      "1. feature 0 (0.872962)\n",
      "2. feature 111 (0.021058)\n",
      "3. feature 2 (0.012496)\n",
      "4. feature 9 (0.005070)\n",
      "5. feature 8 (0.004108)\n",
      "6. feature 7 (0.003399)\n",
      "7. feature 10 (0.002985)\n",
      "8. feature 5 (0.001560)\n",
      "9. feature 101 (0.001542)\n",
      "10. feature 4 (0.001450)\n",
      "11. feature 12 (0.001205)\n",
      "12. feature 57 (0.001197)\n",
      "13. feature 88 (0.001121)\n",
      "14. feature 94 (0.001120)\n",
      "15. feature 49 (0.001111)\n",
      "16. feature 80 (0.001094)\n",
      "17. feature 39 (0.001053)\n",
      "18. feature 92 (0.001009)\n",
      "19. feature 26 (0.000994)\n",
      "20. feature 79 (0.000987)\n",
      "21. feature 23 (0.000972)\n",
      "22. feature 78 (0.000969)\n",
      "23. feature 1 (0.000957)\n",
      "24. feature 47 (0.000949)\n",
      "25. feature 35 (0.000941)\n",
      "26. feature 53 (0.000934)\n",
      "27. feature 90 (0.000930)\n",
      "28. feature 16 (0.000917)\n",
      "29. feature 3 (0.000917)\n",
      "30. feature 91 (0.000908)\n",
      "31. feature 104 (0.000902)\n",
      "32. feature 22 (0.000872)\n",
      "33. feature 25 (0.000864)\n",
      "34. feature 33 (0.000862)\n",
      "35. feature 11 (0.000859)\n",
      "36. feature 110 (0.000855)\n",
      "37. feature 6 (0.000849)\n",
      "38. feature 67 (0.000848)\n",
      "39. feature 65 (0.000845)\n",
      "40. feature 45 (0.000844)\n",
      "41. feature 63 (0.000843)\n",
      "42. feature 21 (0.000835)\n",
      "43. feature 55 (0.000834)\n",
      "44. feature 105 (0.000823)\n",
      "45. feature 43 (0.000814)\n",
      "46. feature 69 (0.000803)\n",
      "47. feature 70 (0.000792)\n",
      "48. feature 15 (0.000785)\n",
      "49. feature 38 (0.000780)\n",
      "50. feature 24 (0.000774)\n",
      "51. feature 13 (0.000774)\n",
      "52. feature 96 (0.000759)\n",
      "53. feature 106 (0.000755)\n",
      "54. feature 52 (0.000740)\n",
      "55. feature 34 (0.000739)\n",
      "56. feature 93 (0.000735)\n",
      "57. feature 37 (0.000734)\n",
      "58. feature 28 (0.000722)\n",
      "59. feature 68 (0.000719)\n",
      "60. feature 58 (0.000700)\n",
      "61. feature 73 (0.000689)\n",
      "62. feature 56 (0.000689)\n",
      "63. feature 48 (0.000684)\n",
      "64. feature 85 (0.000684)\n",
      "65. feature 27 (0.000684)\n",
      "66. feature 46 (0.000683)\n",
      "67. feature 17 (0.000679)\n",
      "68. feature 76 (0.000679)\n",
      "69. feature 50 (0.000658)\n",
      "70. feature 41 (0.000648)\n",
      "71. feature 109 (0.000645)\n",
      "72. feature 62 (0.000635)\n",
      "73. feature 32 (0.000633)\n",
      "74. feature 82 (0.000625)\n",
      "75. feature 40 (0.000619)\n",
      "76. feature 99 (0.000612)\n",
      "77. feature 84 (0.000611)\n",
      "78. feature 64 (0.000608)\n",
      "79. feature 18 (0.000607)\n",
      "80. feature 86 (0.000600)\n",
      "81. feature 75 (0.000590)\n",
      "82. feature 81 (0.000584)\n",
      "83. feature 19 (0.000583)\n",
      "84. feature 66 (0.000583)\n",
      "85. feature 59 (0.000580)\n",
      "86. feature 31 (0.000579)\n",
      "87. feature 100 (0.000579)\n",
      "88. feature 51 (0.000564)\n",
      "89. feature 98 (0.000564)\n",
      "90. feature 42 (0.000563)\n",
      "91. feature 44 (0.000544)\n",
      "92. feature 97 (0.000543)\n",
      "93. feature 54 (0.000539)\n",
      "94. feature 61 (0.000528)\n",
      "95. feature 107 (0.000527)\n",
      "96. feature 36 (0.000525)\n",
      "97. feature 29 (0.000516)\n",
      "98. feature 14 (0.000515)\n",
      "99. feature 83 (0.000502)\n",
      "100. feature 71 (0.000498)\n",
      "101. feature 74 (0.000484)\n",
      "102. feature 30 (0.000478)\n",
      "103. feature 60 (0.000477)\n",
      "104. feature 108 (0.000475)\n",
      "105. feature 20 (0.000473)\n",
      "106. feature 95 (0.000436)\n",
      "107. feature 77 (0.000411)\n",
      "108. feature 102 (0.000379)\n",
      "109. feature 87 (0.000377)\n",
      "110. feature 89 (0.000366)\n",
      "111. feature 72 (0.000360)\n",
      "112. feature 103 (0.000332)\n"
     ]
    },
    {
     "data": {
      "image/png": "[encoded data removed]",
      "text/plain": [
       "<Figure size 432x288 with 1 Axes>"
      ]
     },
     "metadata": {
      "needs_background": "light"
     },
     "output_type": "display_data"
    }
   ],
   "source": [
    "forest = model['survival']\n",
    "X = df_final_new_decay_surv\n",
    "importances = forest.feature_importances_\n",
    "std = np.std([tree.feature_importances_ for tree in forest.estimators_],\n",
    "             axis=0)\n",
    "indices = np.argsort(importances)[::-1]\n",
    "\n",
    "# Print the feature ranking\n",
    "print(\"Feature ranking:\")\n",
    "\n",
    "for f in range(X.shape[1]):\n",
    "    print(\"%d. feature %d (%f)\" % (f + 1, indices[f], importances[indices[f]]))\n",
    "\n",
    "# Plot the feature importances of the forest\n",
    "plt.figure()\n",
    "plt.title(\"Feature importances\")\n",
    "plt.bar(range(X.shape[1]), importances[indices],\n",
    "       color=\"r\", yerr=std[indices], align=\"center\")\n",
    "plt.xticks(range(X.shape[1]), indices)\n",
    "plt.xlim([-1, X.shape[1]])\n",
    "plt.show()"
   ]
  },
  {
   "cell_type": "code",
   "execution_count": 32,
   "metadata": {},
   "outputs": [
    {
     "data": {
      "text/html": [
       "<div>\n",
       "<style scoped>\n",
       "    .dataframe tbody tr th:only-of-type {\n",
       "        vertical-align: middle;\n",
       "    }\n",
       "\n",
       "    .dataframe tbody tr th {\n",
       "        vertical-align: top;\n",
       "    }\n",
       "\n",
       "    .dataframe thead th {\n",
       "        text-align: right;\n",
       "    }\n",
       "</style>\n",
       "<table border=\"1\" class=\"dataframe\">\n",
       "  <thead>\n",
       "    <tr style=\"text-align: right;\">\n",
       "      <th></th>\n",
       "      <th>driver_id</th>\n",
       "      <th>ride_duration</th>\n",
       "      <th>modified_active_time</th>\n",
       "      <th>inactive_time</th>\n",
       "      <th>target</th>\n",
       "    </tr>\n",
       "  </thead>\n",
       "  <tbody>\n",
       "    <tr>\n",
       "      <td>14</td>\n",
       "      <td>0000dbe2f9b7a09864e39eb56a415726</td>\n",
       "      <td>538.916667</td>\n",
       "      <td>528.172057</td>\n",
       "      <td>119.711276</td>\n",
       "      <td>1.020343</td>\n",
       "    </tr>\n",
       "    <tr>\n",
       "      <td>22</td>\n",
       "      <td>0001860739024029fa3da2cad0ed4de2</td>\n",
       "      <td>337.833333</td>\n",
       "      <td>246.726882</td>\n",
       "      <td>596.006451</td>\n",
       "      <td>1.369260</td>\n",
       "    </tr>\n",
       "  </tbody>\n",
       "</table>\n",
       "</div>"
      ],
      "text/plain": [
       "                           driver_id  ride_duration  modified_active_time  \\\n",
       "14  0000dbe2f9b7a09864e39eb56a415726     538.916667            528.172057   \n",
       "22  0001860739024029fa3da2cad0ed4de2     337.833333            246.726882   \n",
       "\n",
       "    inactive_time    target  \n",
       "14     119.711276  1.020343  \n",
       "22     596.006451  1.369260  "
      ]
     },
     "execution_count": 32,
     "metadata": {},
     "output_type": "execute_result"
    }
   ],
   "source": [
    "target_df_new_decay100[target_df_new_decay100.target > 1].head(2)"
   ]
  },
  {
   "cell_type": "code",
   "execution_count": null,
   "metadata": {},
   "outputs": [],
   "source": [
    "# col = [x.shape[1] for x in df_list]\n",
    "# col"
   ]
  },
  {
   "cell_type": "code",
   "execution_count": null,
   "metadata": {},
   "outputs": [],
   "source": [
    "# set(df_list[1].columns).difference(df_list[0].columns)"
   ]
  },
  {
   "cell_type": "code",
   "execution_count": null,
   "metadata": {},
   "outputs": [],
   "source": [
    "# df_final_old_decay.head()"
   ]
  },
  {
   "cell_type": "code",
   "execution_count": null,
   "metadata": {},
   "outputs": [],
   "source": [
    "# df_final_new_decay10.head()"
   ]
  },
  {
   "cell_type": "code",
   "execution_count": null,
   "metadata": {},
   "outputs": [],
   "source": []
  },
  {
   "cell_type": "code",
   "execution_count": null,
   "metadata": {},
   "outputs": [],
   "source": []
  },
  {
   "cell_type": "code",
   "execution_count": null,
   "metadata": {},
   "outputs": [],
   "source": []
  }
 ],
 "metadata": {
  "hide_input": false,
  "kernelspec": {
   "display_name": "Python 3",
   "language": "python",
   "name": "python3"
  },
  "language_info": {
   "codemirror_mode": {
    "name": "ipython",
    "version": 3
   },
   "file_extension": ".py",
   "mimetype": "text/x-python",
   "name": "python",
   "nbconvert_exporter": "python",
   "pygments_lexer": "ipython3",
   "version": "3.7.4"
  }
 },
 "nbformat": 4,
 "nbformat_minor": 2
}
